{
 "cells": [
  {
   "cell_type": "markdown",
   "metadata": {},
   "source": [
    "# Python Data Analysis\n",
    "\n",
    "\n",
    "Agenda:\n",
    "\n",
    "1) Anaconda/Jupyter environment set up\n",
    "\n",
    "2) Basic python syntax\n",
    "\n",
    "3) Pandas\n",
    "\n",
    "4) Data analysis example using CER data"
   ]
  },
  {
   "cell_type": "markdown",
   "metadata": {},
   "source": [
    "### Why use python? How does it fit into our tech stack?\n",
    "\n",
    "\n",
    "Python is very good for doing more advanced data analysis. Most of the work you will see today can be done in excel, or other data analysis tools. However python allows for the automation of common analysis operations we do everyday at the CER.\n",
    "\n",
    "\n",
    "* SQL: Used at the CER for data management (creating databases, tables, views, queries, etc), and data analysis with queries/joins.\n",
    "\n",
    "* Python: Used at the CER for more advanced/reproducible data analysis, modelling, web scraping, process automation, and visualizations. Python is general purpose, unlike SQL\n",
    "\n",
    "* R...\n",
    "\n",
    "* Power Query: used for quick and easy (and reproducable) data analysis without any code.\n",
    "\n",
    "* Tableau: used to visualize the outputs from SQL, python, and power query.\n",
    "\n",
    "\n",
    "\n",
    "What cool things can be done in python that cant be done using other technology?\n",
    "\n",
    "* web scraping\n",
    "\n",
    "* Task scheduling, automating emails, file systems, and database inserts/updates\n",
    "\n",
    "* Modelling, machine learning, econometrics\n",
    "\n",
    "* Algorithms, advanced data structures, optimization\n",
    "\n",
    "* RegP: Sections of the CER act/regulations contain \"rules\" that can be written into a custom algorithm for scenario testing.\n",
    "\n"
   ]
  },
  {
   "cell_type": "markdown",
   "metadata": {},
   "source": [
    "## Jupyter Notebooks\n",
    "\n",
    "\n",
    "\n",
    "Jupyter notebooks is a code environment that can both python and r (not in the same notebook). It is good for learning because we can isolate code into individual cells, and see what happens after each block of code is run. \n",
    "\n",
    "You can write all your code in Jupyter Notebooks no problem, but more advanced coding and algorithms may require a more sophisticated integrated development environment (IDE). Common IDE's used at the CER include: Sypder, PyCharm, and visual studio code."
   ]
  },
  {
   "cell_type": "markdown",
   "metadata": {},
   "source": [
    "## Packages"
   ]
  },
  {
   "cell_type": "markdown",
   "metadata": {},
   "source": [
    "When we start Python, there are only a few base function and objects loaded. We almost always need to load some extra functionality into Python by loading packages. I like to start off each script by importing the needed packages (sometimes called modules or libraries) at the top of the script. \n",
    "\n",
    "The main package that we use at the CER, and the main package for all data analysis is called Pandas. This package comes standard with the Anaconda districution of Python.\n",
    "\n",
    "Pandas extends the functionality of base python. Pandas is the foundation for pretty much all tabular data work in python, including medelling, econometrics, and machine learning."
   ]
  },
  {
   "cell_type": "code",
   "execution_count": 3,
   "metadata": {},
   "outputs": [
    {
     "data": {
      "text/plain": [
       "'0.25.1'"
      ]
     },
     "execution_count": 3,
     "metadata": {},
     "output_type": "execute_result"
    }
   ],
   "source": [
    "import pandas as pd #packages can be renamed by the user on import. Pandas has a convention (pd)\n",
    "pd.__version__\n",
    "#all the functionality of pandas can now be accessed by using \"pd\"\n",
    "\n",
    "#if we werent using anaconda, this block of code would give an import error, because pandas is not part of vanilla python"
   ]
  },
  {
   "cell_type": "code",
   "execution_count": 5,
   "metadata": {},
   "outputs": [
    {
     "data": {
      "text/plain": [
       "'3.7.4 (default, Aug  9 2019, 18:34:13) [MSC v.1915 64 bit (AMD64)]'"
      ]
     },
     "execution_count": 5,
     "metadata": {},
     "output_type": "execute_result"
    }
   ],
   "source": [
    "import sys\n",
    "import os\n",
    "# these packages are part of vanilla python\n",
    "sys.version"
   ]
  },
  {
   "cell_type": "code",
   "execution_count": 6,
   "metadata": {},
   "outputs": [],
   "source": [
    "## So all output comes through from Ipython\n",
    "from IPython.core.interactiveshell import InteractiveShell\n",
    "InteractiveShell.ast_node_interactivity = \"all\""
   ]
  },
  {
   "cell_type": "markdown",
   "metadata": {},
   "source": [
    "## Check your Working Directory"
   ]
  },
  {
   "cell_type": "markdown",
   "metadata": {},
   "source": [
    "Python uses the concept of a working directory (exactly like many other programs). Everytime we start Python, it is started 'somewhere' on our computer (filesystem). Where python is started depends on environment variables in your operating system and how you started Python. I like to set the working directory for my session to be wherever my project files are. I will typically organize a directory like the structure below, then set the working directory to the top level:\n",
    "\n",
    "`python_cer --->\n",
    "        --> 2020lqdptrlmgs.xlsx\n",
    "        --> connection.json\n",
    "        --> Python Data Analysis.ipynb\n",
    "        --> Etc...`\n",
    "        \n",
    "So in this case, I would set my working directory to be the file location for python_cer. There should be one jupyter notebook, and one data file for this session. You need to modify the working directory to be wherever you have downloaded the files to on your computer (on your filesystem). If you downloaded them to your 'documents' folder and named the folder 'python_session' (and your name is Grant), the file path might be this:\n",
    "\n",
    "`c:\\users\\grant\\documents\\python_cer`\n",
    "\n",
    "Figure out where you have downloaded the folder to, and change the code below to assign the correct working directory. We use the os package to change the working directory.\n",
    "\n",
    "\n",
    "The working directory is important, and a common source of errors. Having the wrong working directory is like selecting the wrong table in SQL...\n"
   ]
  },
  {
   "cell_type": "code",
   "execution_count": 9,
   "metadata": {},
   "outputs": [
    {
     "name": "stdout",
     "output_type": "stream",
     "text": [
      "The current working direcotry is: C:\\Users\\mossgran\\Documents\\python_cer\n"
     ]
    }
   ],
   "source": [
    "print('The current working direcotry is: '+os.getcwd())\n",
    "#os.chdir(r'C:\\Users\\mossgran\\Documents')\n",
    "#print('The new working directory is: '+os.getcwd())\n",
    "#os.chdir(r'C:\\Users\\mossgran\\Documents\\python_cer')\n",
    "#print('Working directory is changed back to: '+os.getcwd())"
   ]
  },
  {
   "cell_type": "code",
   "execution_count": 10,
   "metadata": {},
   "outputs": [
    {
     "data": {
      "text/plain": [
       "['.ipynb_checkpoints',\n",
       " '2020lqdptrlmgs.xlsx',\n",
       " 'connection.json',\n",
       " 'new notebook.ipynb',\n",
       " 'Python Data Analysis.ipynb']"
      ]
     },
     "execution_count": 10,
     "metadata": {},
     "output_type": "execute_result"
    }
   ],
   "source": [
    "os.listdir()"
   ]
  },
  {
   "cell_type": "markdown",
   "metadata": {},
   "source": [
    "## Base Python Objects"
   ]
  },
  {
   "cell_type": "markdown",
   "metadata": {},
   "source": [
    "Python is object oriented. What does this mean? Everything in python is an object, and each object has different properties/methods. For example, someones name would be a string object in python \"grant moss\" and a specific function (method) can be called on that object to capitalize the name: \"Grant Moss\"."
   ]
  },
  {
   "cell_type": "markdown",
   "metadata": {},
   "source": [
    "Base Python includes such computer language fundamentals as strings, numbers (both integer and floating point), and boolean types (True, False). \n",
    "\n",
    "Because Python is object oriented, each instance of a base Python class (like a variable that references a string) inherits the methods of that class. In the case of strings, these include case and search methods.\n",
    "\n",
    "For an in-depth review of Python's object-orientation, read the chapter of the excellent free online book *A Byte of Python* here: https://python.swaroopch.com/oop.html\n",
    "\n",
    "We will now discuss numeric values, string values (called string literals), and boolean values. "
   ]
  },
  {
   "cell_type": "code",
   "execution_count": 12,
   "metadata": {},
   "outputs": [
    {
     "name": "stdout",
     "output_type": "stream",
     "text": [
      "x is: <class 'int'>\n",
      "y is: <class 'float'>\n",
      "x is now: <class 'str'>\n"
     ]
    }
   ],
   "source": [
    "#numeric values\n",
    "x = 4 #everything to the right of the assignment \"=\" is evaluated first, and then assigned to the variable on the left\n",
    "y = 4.4\n",
    "print('x is: '+str(type(x)))\n",
    "print('y is: '+str(type(y)))\n",
    "\n",
    "#types can be changed. This changes the properties of the data\n",
    "x = str(x)\n",
    "print('x is now: '+str(type(x)))\n",
    "\n",
    "#python automatically determines the data type of a variable. This makes python easy to write, but we need to be careful.."
   ]
  },
  {
   "cell_type": "markdown",
   "metadata": {},
   "source": [
    "### Assignment verses conditionals"
   ]
  },
  {
   "cell_type": "code",
   "execution_count": 14,
   "metadata": {},
   "outputs": [
    {
     "data": {
      "text/plain": [
       "False"
      ]
     },
     "execution_count": 14,
     "metadata": {},
     "output_type": "execute_result"
    }
   ],
   "source": [
    "x = 4 # this assigns x as a variable with the value of 4\n",
    "x == 5 # This checks if x is equal to 4"
   ]
  },
  {
   "cell_type": "code",
   "execution_count": 418,
   "metadata": {},
   "outputs": [],
   "source": [
    "# a variable must be assigned before it can be used for anything. Python runs as a script from top to bottom.\n",
    "#b # you will get this error if there is a typo in a variable name"
   ]
  },
  {
   "cell_type": "markdown",
   "metadata": {},
   "source": [
    "### Other conditionals\n",
    "\n",
    "* != not equal to (the same as <> in SQL)\n",
    "* \">\" greater than\n",
    "* \"<\" less than\n",
    "* \">=\" greater than or equal to\n",
    "* \"<=\" less than or equal to"
   ]
  },
  {
   "cell_type": "code",
   "execution_count": 15,
   "metadata": {},
   "outputs": [
    {
     "data": {
      "text/plain": [
       "False"
      ]
     },
     "execution_count": 15,
     "metadata": {},
     "output_type": "execute_result"
    },
    {
     "data": {
      "text/plain": [
       "False"
      ]
     },
     "execution_count": 15,
     "metadata": {},
     "output_type": "execute_result"
    },
    {
     "data": {
      "text/plain": [
       "False"
      ]
     },
     "execution_count": 15,
     "metadata": {},
     "output_type": "execute_result"
    },
    {
     "data": {
      "text/plain": [
       "True"
      ]
     },
     "execution_count": 15,
     "metadata": {},
     "output_type": "execute_result"
    },
    {
     "data": {
      "text/plain": [
       "True"
      ]
     },
     "execution_count": 15,
     "metadata": {},
     "output_type": "execute_result"
    }
   ],
   "source": [
    "x != 4\n",
    "x > 4\n",
    "x < 4\n",
    "x >= 4\n",
    "x <= 4"
   ]
  },
  {
   "cell_type": "code",
   "execution_count": 16,
   "metadata": {},
   "outputs": [
    {
     "name": "stdout",
     "output_type": "stream",
     "text": [
      "<class 'bool'>\n"
     ]
    }
   ],
   "source": [
    "## Boolean values: result of a comparison\n",
    "z = 3 > 4\n",
    "print(type(z))\n",
    "\n",
    "## Assign references to values\n",
    "z1 = True\n",
    "z2 = False"
   ]
  },
  {
   "cell_type": "code",
   "execution_count": 17,
   "metadata": {},
   "outputs": [
    {
     "data": {
      "text/plain": [
       "False"
      ]
     },
     "execution_count": 17,
     "metadata": {},
     "output_type": "execute_result"
    }
   ],
   "source": [
    "z"
   ]
  },
  {
   "cell_type": "code",
   "execution_count": 18,
   "metadata": {},
   "outputs": [
    {
     "data": {
      "text/plain": [
       "True"
      ]
     },
     "execution_count": 18,
     "metadata": {},
     "output_type": "execute_result"
    }
   ],
   "source": [
    "not z"
   ]
  },
  {
   "cell_type": "markdown",
   "metadata": {},
   "source": [
    "## And/Or\n",
    "### Similiar to SQL"
   ]
  },
  {
   "cell_type": "code",
   "execution_count": 20,
   "metadata": {},
   "outputs": [
    {
     "data": {
      "text/plain": [
       "True"
      ]
     },
     "execution_count": 20,
     "metadata": {},
     "output_type": "execute_result"
    },
    {
     "data": {
      "text/plain": [
       "False"
      ]
     },
     "execution_count": 20,
     "metadata": {},
     "output_type": "execute_result"
    },
    {
     "data": {
      "text/plain": [
       "False"
      ]
     },
     "execution_count": 20,
     "metadata": {},
     "output_type": "execute_result"
    },
    {
     "data": {
      "text/plain": [
       "True"
      ]
     },
     "execution_count": 20,
     "metadata": {},
     "output_type": "execute_result"
    }
   ],
   "source": [
    "True or False #only one side needs to be true. Conditionals are placed on either side of the \"and/or\"\n",
    "True and False\n",
    "(3 == 3) and (4==8)\n",
    "(3 == 3) or (4==8)"
   ]
  },
  {
   "cell_type": "code",
   "execution_count": 21,
   "metadata": {},
   "outputs": [
    {
     "data": {
      "text/plain": [
       "'75064'"
      ]
     },
     "execution_count": 21,
     "metadata": {},
     "output_type": "execute_result"
    },
    {
     "data": {
      "text/plain": [
       "str"
      ]
     },
     "execution_count": 21,
     "metadata": {},
     "output_type": "execute_result"
    }
   ],
   "source": [
    "#strings\n",
    "## String conversion\n",
    "zip_code = str(75064)\n",
    "zip_code = '75064'\n",
    "zip_code\n",
    "type(zip_code)"
   ]
  },
  {
   "cell_type": "code",
   "execution_count": 22,
   "metadata": {},
   "outputs": [
    {
     "data": {
      "text/plain": [
       "'7'"
      ]
     },
     "execution_count": 22,
     "metadata": {},
     "output_type": "execute_result"
    },
    {
     "data": {
      "text/plain": [
       "'5'"
      ]
     },
     "execution_count": 22,
     "metadata": {},
     "output_type": "execute_result"
    }
   ],
   "source": [
    "## First character\n",
    "zip_code[0] #python starts counting from zero\n",
    "## Second character\n",
    "zip_code[1]"
   ]
  },
  {
   "cell_type": "markdown",
   "metadata": {},
   "source": [
    "Zero based indexing\n",
    "\n",
    "[0,1,2,3,4]\\\n",
    "[7,5,0,6,4]"
   ]
  },
  {
   "cell_type": "code",
   "execution_count": 24,
   "metadata": {},
   "outputs": [
    {
     "data": {
      "text/plain": [
       "'Jo'"
      ]
     },
     "execution_count": 24,
     "metadata": {},
     "output_type": "execute_result"
    },
    {
     "data": {
      "text/plain": [
       "'th'"
      ]
     },
     "execution_count": 24,
     "metadata": {},
     "output_type": "execute_result"
    },
    {
     "data": {
      "text/plain": [
       "'john smith'"
      ]
     },
     "execution_count": 24,
     "metadata": {},
     "output_type": "execute_result"
    }
   ],
   "source": [
    "fname = 'John Smith'\n",
    "\n",
    "fname[0:2] # First two letters\n",
    "fname[-2:] # Last two letters\n",
    "\n",
    "fname.lower()"
   ]
  },
  {
   "cell_type": "code",
   "execution_count": 26,
   "metadata": {},
   "outputs": [],
   "source": [
    "#zip_code[0] = '0' #this wont work! Strings are immutable and cant be modified in place.\n",
    "#immutable python objects mean that they cant be changed after they are created."
   ]
  },
  {
   "cell_type": "code",
   "execution_count": 27,
   "metadata": {},
   "outputs": [
    {
     "data": {
      "text/plain": [
       "'05064'"
      ]
     },
     "execution_count": 27,
     "metadata": {},
     "output_type": "execute_result"
    }
   ],
   "source": [
    "zip_code1 = ''\n",
    "for index,z in enumerate(zip_code):\n",
    "    if index == 0:\n",
    "        zip_code1 = zip_code1+'0'\n",
    "    else:\n",
    "        zip_code1 = zip_code1+z\n",
    "\n",
    "zip_code1\n",
    "zip_code = zip_code1"
   ]
  },
  {
   "cell_type": "code",
   "execution_count": 29,
   "metadata": {},
   "outputs": [
    {
     "name": "stdout",
     "output_type": "stream",
     "text": [
      "0\n",
      "5\n",
      "0\n",
      "6\n",
      "4\n"
     ]
    }
   ],
   "source": [
    "## String literals are iterable\n",
    "for t in zip_code:\n",
    "    print(t)"
   ]
  },
  {
   "cell_type": "code",
   "execution_count": 31,
   "metadata": {},
   "outputs": [
    {
     "name": "stdout",
     "output_type": "stream",
     "text": [
      "0 0\n",
      "1 5\n",
      "2 0\n",
      "3 6\n",
      "4 4\n"
     ]
    }
   ],
   "source": [
    "for index,i in enumerate(zip_code): #enumerate works on other data structures and types as well\n",
    "    print(index,i)"
   ]
  },
  {
   "cell_type": "code",
   "execution_count": 32,
   "metadata": {},
   "outputs": [
    {
     "data": {
      "text/plain": [
       "'CRUDE OIL EXPORTS -> 100,000 -> B/D -> 6/23/2020'"
      ]
     },
     "execution_count": 32,
     "metadata": {},
     "output_type": "execute_result"
    },
    {
     "data": {
      "text/plain": [
       "'Crude oil exports -> 100,000 -> b/d -> 6/23/2020'"
      ]
     },
     "execution_count": 32,
     "metadata": {},
     "output_type": "execute_result"
    },
    {
     "data": {
      "text/plain": [
       "'crude oil exports -> 100,000 -> b/d -> 6/23/2020'"
      ]
     },
     "execution_count": 32,
     "metadata": {},
     "output_type": "execute_result"
    },
    {
     "data": {
      "text/plain": [
       "'Crude Oil Exports -> 100,000 -> B/D -> 6/23/2020'"
      ]
     },
     "execution_count": 32,
     "metadata": {},
     "output_type": "execute_result"
    }
   ],
   "source": [
    "## Modifying Strings\n",
    "string1 = 'Crude oil exports -> 100,000 -> b/d -> 6/23/2020'\n",
    "string1.upper()\n",
    "string1.capitalize()\n",
    "string1.lower()\n",
    "string1.title()"
   ]
  },
  {
   "cell_type": "code",
   "execution_count": 35,
   "metadata": {},
   "outputs": [
    {
     "data": {
      "text/plain": [
       "6"
      ]
     },
     "execution_count": 35,
     "metadata": {},
     "output_type": "execute_result"
    },
    {
     "data": {
      "text/plain": [
       "True"
      ]
     },
     "execution_count": 35,
     "metadata": {},
     "output_type": "execute_result"
    },
    {
     "data": {
      "text/plain": [
       "False"
      ]
     },
     "execution_count": 35,
     "metadata": {},
     "output_type": "execute_result"
    }
   ],
   "source": [
    "string1.find('oil')\n",
    "string1.startswith('Crude')\n",
    "string1.endswith('Crude')"
   ]
  },
  {
   "cell_type": "code",
   "execution_count": 36,
   "metadata": {},
   "outputs": [
    {
     "data": {
      "text/plain": [
       "['Crude oil exports ', ' 100,000 ', ' b/d ', ' 6/23/2020']"
      ]
     },
     "execution_count": 36,
     "metadata": {},
     "output_type": "execute_result"
    }
   ],
   "source": [
    "## Split based on spaces\n",
    "string1_list = string1.split(\"->\")\n",
    "string1_list"
   ]
  },
  {
   "cell_type": "code",
   "execution_count": 37,
   "metadata": {},
   "outputs": [
    {
     "data": {
      "text/plain": [
       "['Crude oil exports', '100,000', 'b/d', '6/23/2020']"
      ]
     },
     "execution_count": 37,
     "metadata": {},
     "output_type": "execute_result"
    }
   ],
   "source": [
    "#list comprehension\n",
    "string1_list = [x.strip() for x in string1_list]\n",
    "string1_list"
   ]
  },
  {
   "cell_type": "code",
   "execution_count": 38,
   "metadata": {},
   "outputs": [
    {
     "data": {
      "text/plain": [
       "'Crude oil exports_100,000_b/d_6/23/2020'"
      ]
     },
     "execution_count": 38,
     "metadata": {},
     "output_type": "execute_result"
    }
   ],
   "source": [
    "## Join with a new separator\n",
    "\"_\".join(string1_list)"
   ]
  },
  {
   "cell_type": "markdown",
   "metadata": {},
   "source": [
    "## Dates and Times"
   ]
  },
  {
   "cell_type": "code",
   "execution_count": 40,
   "metadata": {},
   "outputs": [
    {
     "data": {
      "text/plain": [
       "datetime.date(2020, 9, 8)"
      ]
     },
     "execution_count": 40,
     "metadata": {},
     "output_type": "execute_result"
    },
    {
     "data": {
      "text/plain": [
       "datetime.date"
      ]
     },
     "execution_count": 40,
     "metadata": {},
     "output_type": "execute_result"
    }
   ],
   "source": [
    "## Get todays date\n",
    "import datetime\n",
    "date_today = datetime.date.today()\n",
    "date_today\n",
    "type(date_today)"
   ]
  },
  {
   "cell_type": "code",
   "execution_count": 42,
   "metadata": {},
   "outputs": [
    {
     "data": {
      "text/plain": [
       "2020"
      ]
     },
     "execution_count": 42,
     "metadata": {},
     "output_type": "execute_result"
    },
    {
     "data": {
      "text/plain": [
       "9"
      ]
     },
     "execution_count": 42,
     "metadata": {},
     "output_type": "execute_result"
    },
    {
     "data": {
      "text/plain": [
       "8"
      ]
     },
     "execution_count": 42,
     "metadata": {},
     "output_type": "execute_result"
    }
   ],
   "source": [
    "date_today.year\n",
    "date_today.month\n",
    "date_today.day"
   ]
  },
  {
   "cell_type": "markdown",
   "metadata": {},
   "source": [
    "### strftime and strptime\n",
    "\n",
    "Convert strings to dates and dates to string"
   ]
  },
  {
   "cell_type": "code",
   "execution_count": 46,
   "metadata": {},
   "outputs": [
    {
     "data": {
      "text/plain": [
       "datetime.datetime(2016, 5, 16, 0, 0)"
      ]
     },
     "execution_count": 46,
     "metadata": {},
     "output_type": "execute_result"
    }
   ],
   "source": [
    "string_date = '2016-05-16'\n",
    "date = datetime.datetime.strptime(string_date,'%Y-%m-%d')\n",
    "date"
   ]
  },
  {
   "cell_type": "code",
   "execution_count": 47,
   "metadata": {},
   "outputs": [],
   "source": [
    "#https://strftime.org/"
   ]
  },
  {
   "cell_type": "code",
   "execution_count": 48,
   "metadata": {},
   "outputs": [
    {
     "data": {
      "text/plain": [
       "datetime.datetime(2016, 5, 16, 0, 0)"
      ]
     },
     "execution_count": 48,
     "metadata": {},
     "output_type": "execute_result"
    }
   ],
   "source": [
    "#dateutil extends the functionality of python's date object\n",
    "#relativedelta allows for adding and subtracting time from a python date\n",
    "import dateutil.relativedelta as relativedelta\n",
    "date"
   ]
  },
  {
   "cell_type": "code",
   "execution_count": 49,
   "metadata": {},
   "outputs": [
    {
     "data": {
      "text/plain": [
       "datetime.datetime(2016, 5, 17, 0, 0)"
      ]
     },
     "execution_count": 49,
     "metadata": {},
     "output_type": "execute_result"
    },
    {
     "data": {
      "text/plain": [
       "datetime.datetime(2016, 6, 16, 0, 0)"
      ]
     },
     "execution_count": 49,
     "metadata": {},
     "output_type": "execute_result"
    },
    {
     "data": {
      "text/plain": [
       "datetime.datetime(2017, 5, 16, 0, 0)"
      ]
     },
     "execution_count": 49,
     "metadata": {},
     "output_type": "execute_result"
    }
   ],
   "source": [
    "date_plus1day = date + relativedelta.relativedelta(days=1)\n",
    "date_plus1month = date + relativedelta.relativedelta(months=1)\n",
    "date_plus1year = date + relativedelta.relativedelta(years=1)\n",
    "date_plus1day\n",
    "date_plus1month\n",
    "date_plus1year"
   ]
  },
  {
   "cell_type": "markdown",
   "metadata": {},
   "source": [
    "## Data Structures (containers or collections)"
   ]
  },
  {
   "cell_type": "markdown",
   "metadata": {},
   "source": [
    "What if we want to organize multiple python objects into a single object? We call this a 'collection' of objects. An example might be a list of customer_ids, or a list of addresses...  \n",
    "There are multiple collections (or containers) in Python we can use. We will go over the basics here:\n",
    "\n",
    "* Tuple\n",
    " * Immutable, fixed length sequence\n",
    "* Lists\n",
    " * Mutable sequence of objects\n",
    "* Sets\n",
    " * Unique collection of objects\n",
    "* Dicts (dictionaries)\n",
    " * List of objects with a \"key\""
   ]
  },
  {
   "cell_type": "code",
   "execution_count": 51,
   "metadata": {},
   "outputs": [
    {
     "data": {
      "text/plain": [
       "['orange', 'yellow', 'red']"
      ]
     },
     "execution_count": 51,
     "metadata": {},
     "output_type": "execute_result"
    },
    {
     "data": {
      "text/plain": [
       "list"
      ]
     },
     "execution_count": 51,
     "metadata": {},
     "output_type": "execute_result"
    }
   ],
   "source": [
    "colList = [\"orange\",\"yellow\",\"red\"]\n",
    "colList\n",
    "type(colList)"
   ]
  },
  {
   "cell_type": "code",
   "execution_count": 52,
   "metadata": {},
   "outputs": [
    {
     "data": {
      "text/plain": [
       "'orange'"
      ]
     },
     "execution_count": 52,
     "metadata": {},
     "output_type": "execute_result"
    },
    {
     "data": {
      "text/plain": [
       "['orange', 'yellow']"
      ]
     },
     "execution_count": 52,
     "metadata": {},
     "output_type": "execute_result"
    },
    {
     "data": {
      "text/plain": [
       "'red'"
      ]
     },
     "execution_count": 52,
     "metadata": {},
     "output_type": "execute_result"
    }
   ],
   "source": [
    "## First Element\n",
    "colList[0]\n",
    "## First and Second Element\n",
    "colList[0:2]\n",
    "## Last element\n",
    "colList[-1]"
   ]
  },
  {
   "cell_type": "code",
   "execution_count": 53,
   "metadata": {},
   "outputs": [
    {
     "data": {
      "text/plain": [
       "['a', 'b', 'c', 'd', 'e']"
      ]
     },
     "execution_count": 53,
     "metadata": {},
     "output_type": "execute_result"
    }
   ],
   "source": [
    "list2 = [\"a\",\"b\",\"c\"]\n",
    "list2.extend([\"d\",\"e\"])\n",
    "list2"
   ]
  },
  {
   "cell_type": "code",
   "execution_count": 54,
   "metadata": {},
   "outputs": [
    {
     "data": {
      "text/plain": [
       "['a', 'b', 'c', 'd']"
      ]
     },
     "execution_count": 54,
     "metadata": {},
     "output_type": "execute_result"
    }
   ],
   "source": [
    "### List functions\n",
    "## Append an element\n",
    "list2 = [\"a\",\"b\",\"c\"]\n",
    "list2.append(\"d\")\n",
    "list2"
   ]
  },
  {
   "cell_type": "code",
   "execution_count": 55,
   "metadata": {},
   "outputs": [
    {
     "data": {
      "text/plain": [
       "[1, 2, 3, 'a', 'b', 'c', 'd']"
      ]
     },
     "execution_count": 55,
     "metadata": {},
     "output_type": "execute_result"
    }
   ],
   "source": [
    "list3 = [1,2,3]+list2 #add list together\n",
    "list3"
   ]
  },
  {
   "cell_type": "markdown",
   "metadata": {},
   "source": [
    "### Dictionaries\n",
    "\n",
    "A dictionary, or dict, is a collection of objects that have been mapped to a key (a collection of key-value pairs). Dicts are inherently unordered, so we subset using the key."
   ]
  },
  {
   "cell_type": "code",
   "execution_count": 56,
   "metadata": {},
   "outputs": [],
   "source": [
    "#### Dicts\n",
    "d1 = {'id':[1,2,3,4],\n",
    "      'commodity':[\"Crude Oil\",\"Natural Gas\",\"NGLs\",\"Electricity\"]}"
   ]
  },
  {
   "cell_type": "code",
   "execution_count": 57,
   "metadata": {},
   "outputs": [
    {
     "data": {
      "text/plain": [
       "[1, 2, 3, 4]"
      ]
     },
     "execution_count": 57,
     "metadata": {},
     "output_type": "execute_result"
    }
   ],
   "source": [
    "d1['id']"
   ]
  },
  {
   "cell_type": "code",
   "execution_count": 58,
   "metadata": {},
   "outputs": [
    {
     "data": {
      "text/plain": [
       "dict_keys(['id', 'commodity'])"
      ]
     },
     "execution_count": 58,
     "metadata": {},
     "output_type": "execute_result"
    }
   ],
   "source": [
    "d1.keys()"
   ]
  },
  {
   "cell_type": "code",
   "execution_count": 59,
   "metadata": {},
   "outputs": [
    {
     "data": {
      "text/plain": [
       "dict_values([[1, 2, 3, 4], ['Crude Oil', 'Natural Gas', 'NGLs', 'Electricity']])"
      ]
     },
     "execution_count": 59,
     "metadata": {},
     "output_type": "execute_result"
    }
   ],
   "source": [
    "d1.values()"
   ]
  },
  {
   "cell_type": "code",
   "execution_count": 61,
   "metadata": {},
   "outputs": [
    {
     "name": "stdout",
     "output_type": "stream",
     "text": [
      "[1, 2, 3, 4]\n",
      "['Crude Oil', 'Natural Gas', 'NGLs', 'Electricity']\n"
     ]
    }
   ],
   "source": [
    "for key,value in d1.items():\n",
    "    print(value)"
   ]
  },
  {
   "cell_type": "markdown",
   "metadata": {},
   "source": [
    "## Python logic control"
   ]
  },
  {
   "cell_type": "markdown",
   "metadata": {},
   "source": [
    "### If-Else flows\n",
    "\n",
    "The `if` statement checks a condition. If true, it executes the first code block. Additional if conditions can be checked with `elif`. If none of these are true, the `else` block is executed. "
   ]
  },
  {
   "cell_type": "code",
   "execution_count": 63,
   "metadata": {},
   "outputs": [
    {
     "name": "stdout",
     "output_type": "stream",
     "text": [
      "good job.\n"
     ]
    }
   ],
   "source": [
    "the_answer = 42\n",
    "\n",
    "if the_answer == 42:\n",
    "    print (\"good job.\")\n",
    "elif the_answer == 0:\n",
    "    print (\"nice try.\")\n",
    "else:\n",
    "    print (\"better luck next time.\")"
   ]
  },
  {
   "cell_type": "code",
   "execution_count": 65,
   "metadata": {},
   "outputs": [
    {
     "name": "stdout",
     "output_type": "stream",
     "text": [
      "Still Positive...i = 5\n",
      "4\n",
      "Still Positive...i = 4\n",
      "3\n",
      "Still Positive...i = 3\n",
      "2\n",
      "Still Positive...i = 2\n",
      "1\n",
      "Still Positive...i = 1\n",
      "0\n"
     ]
    }
   ],
   "source": [
    "## While Loops\n",
    "counter = 5\n",
    "while counter > 0: # is the statement true?\n",
    "    print(\"Still Positive...i = \" + str(counter))\n",
    "    counter = counter - 1\n",
    "    print(counter)"
   ]
  },
  {
   "cell_type": "code",
   "execution_count": 66,
   "metadata": {},
   "outputs": [
    {
     "name": "stdout",
     "output_type": "stream",
     "text": [
      "0\n",
      "Next!\n",
      "1\n",
      "Next!\n",
      "2\n",
      "Next!\n",
      "3\n",
      "Next!\n",
      "4\n",
      "Next!\n",
      "5\n",
      "Next!\n",
      "6\n",
      "Next!\n",
      "7\n",
      "Next!\n",
      "8\n",
      "Next!\n",
      "9\n",
      "Next!\n"
     ]
    }
   ],
   "source": [
    "#### Control flow\n",
    "## For Loops\n",
    "for i in range(10): #for i in \"itterable\"\n",
    "    print(i)\n",
    "    print('Next!')"
   ]
  },
  {
   "cell_type": "code",
   "execution_count": 67,
   "metadata": {},
   "outputs": [
    {
     "data": {
      "text/plain": [
       "range(0, 10)"
      ]
     },
     "execution_count": 67,
     "metadata": {},
     "output_type": "execute_result"
    }
   ],
   "source": [
    "range(0,10)"
   ]
  },
  {
   "cell_type": "markdown",
   "metadata": {},
   "source": [
    "## List comprehension"
   ]
  },
  {
   "cell_type": "code",
   "execution_count": 68,
   "metadata": {},
   "outputs": [
    {
     "data": {
      "text/plain": [
       "[0, 1, 4, 9, 16, 25, 36, 49, 64, 81]"
      ]
     },
     "execution_count": 68,
     "metadata": {},
     "output_type": "execute_result"
    }
   ],
   "source": [
    "[i*i for i in range(10)]"
   ]
  },
  {
   "cell_type": "code",
   "execution_count": 70,
   "metadata": {},
   "outputs": [
    {
     "data": {
      "text/plain": [
       "[36, 49, 64, 81]"
      ]
     },
     "execution_count": 70,
     "metadata": {},
     "output_type": "execute_result"
    }
   ],
   "source": [
    "[i*i for i in range(10) if i > 5]"
   ]
  },
  {
   "cell_type": "markdown",
   "metadata": {},
   "source": [
    "## Functions\n",
    "\n",
    "We should avoid writing the same code many times. *Computers are good at iteration :)*  \n",
    "Thus, we can wrap code into functions for reuse.  \n",
    "\n",
    "* Functions in Python:\n",
    " * Use `def()` to start\n",
    " * We define the function name, the parameters (inputs)\n",
    " * Whitespace is significant as always\n",
    " * Use `return` statement to return values (multiple allowed)\n",
    "\n",
    "\n",
    "This is the general syntax to define a new function:\n",
    "\n",
    ">`Def new_func(par1,par2,some_other_par=\"default:\"):\n",
    "    _do_some_stuff_\n",
    "    return some_related_stuff`\n",
    "\n",
    "Functions should do one thing. Dont put all your code into one function. Custom functions can be used within other custom functions.\n",
    "\n",
    "\n",
    "Let's try a simple function!"
   ]
  },
  {
   "cell_type": "code",
   "execution_count": 73,
   "metadata": {},
   "outputs": [
    {
     "data": {
      "text/plain": [
       "12"
      ]
     },
     "execution_count": 73,
     "metadata": {},
     "output_type": "execute_result"
    },
    {
     "data": {
      "text/plain": [
       "6.0"
      ]
     },
     "execution_count": 73,
     "metadata": {},
     "output_type": "execute_result"
    },
    {
     "data": {
      "text/plain": [
       "3.0"
      ]
     },
     "execution_count": 73,
     "metadata": {},
     "output_type": "execute_result"
    }
   ],
   "source": [
    "# First Function\n",
    "def mult_by_3(x,weight=1): #required vs optional parameters\n",
    "    result = x*weight*3\n",
    "    return result\n",
    "\n",
    "mult_by_3(4)\n",
    "mult_by_3(4,0.5)\n",
    "mult_by_3(weight=0.25,x=4) #order doesnt matter if variable names are used"
   ]
  },
  {
   "cell_type": "markdown",
   "metadata": {},
   "source": [
    "### Data structure challenge:\n",
    "\n",
    "Given the following list, create a list of boolean values that determines if the first value is larger than or equal to the second:\n",
    "\n",
    "Try solving with both a loop ad list comprehension seperately"
   ]
  },
  {
   "cell_type": "code",
   "execution_count": 459,
   "metadata": {},
   "outputs": [],
   "source": [
    "list5 = [[1,3],[5,2],[24,5],[150,150]]"
   ]
  },
  {
   "cell_type": "code",
   "execution_count": null,
   "metadata": {},
   "outputs": [],
   "source": []
  },
  {
   "cell_type": "code",
   "execution_count": null,
   "metadata": {},
   "outputs": [],
   "source": []
  },
  {
   "cell_type": "code",
   "execution_count": null,
   "metadata": {},
   "outputs": [],
   "source": []
  },
  {
   "cell_type": "code",
   "execution_count": null,
   "metadata": {},
   "outputs": [],
   "source": []
  },
  {
   "cell_type": "code",
   "execution_count": 460,
   "metadata": {},
   "outputs": [
    {
     "data": {
      "text/plain": [
       "[False, True, True, True]"
      ]
     },
     "execution_count": 460,
     "metadata": {},
     "output_type": "execute_result"
    }
   ],
   "source": [
    "bool_list = []\n",
    "for l in list5:\n",
    "    if l[0] >= l[-1]:\n",
    "        bool_list.append(True)\n",
    "    else:\n",
    "        bool_list.append(False)       \n",
    "bool_list"
   ]
  },
  {
   "cell_type": "code",
   "execution_count": 461,
   "metadata": {},
   "outputs": [
    {
     "data": {
      "text/plain": [
       "[False, True, True, True]"
      ]
     },
     "execution_count": 461,
     "metadata": {},
     "output_type": "execute_result"
    }
   ],
   "source": [
    "[True if l[0]>=l[-1] else False for l in list5]"
   ]
  },
  {
   "cell_type": "code",
   "execution_count": 462,
   "metadata": {},
   "outputs": [],
   "source": [
    "# other useful challenges\n",
    "# https://www.practicepython.org/"
   ]
  },
  {
   "cell_type": "markdown",
   "metadata": {},
   "source": [
    "## Pandas\n",
    "\n",
    "The foundation of most python work done at the CER. Pandas is kind of a combination between excel and SQL\n",
    "\n",
    "The first step in Pandas is often to read in our dataset into a DataFrame object. This could come from a CSV, excel file, any database, dictionary (JSON), or many other data formats.\n",
    "\n",
    "\n",
    "- Pandas I/O\n",
    "- DataFrame object\n"
   ]
  },
  {
   "cell_type": "code",
   "execution_count": 74,
   "metadata": {},
   "outputs": [],
   "source": [
    "df = pd.read_excel('2020lqdptrlmgs.xlsx',sheet_name = 'Data') #read from a saved dataset"
   ]
  },
  {
   "cell_type": "code",
   "execution_count": 76,
   "metadata": {},
   "outputs": [
    {
     "data": {
      "text/plain": [
       "pandas.core.frame.DataFrame"
      ]
     },
     "execution_count": 76,
     "metadata": {},
     "output_type": "execute_result"
    }
   ],
   "source": [
    "type(df)"
   ]
  },
  {
   "cell_type": "code",
   "execution_count": 77,
   "metadata": {},
   "outputs": [
    {
     "data": {
      "text/html": [
       "<div>\n",
       "<style scoped>\n",
       "    .dataframe tbody tr th:only-of-type {\n",
       "        vertical-align: middle;\n",
       "    }\n",
       "\n",
       "    .dataframe tbody tr th {\n",
       "        vertical-align: top;\n",
       "    }\n",
       "\n",
       "    .dataframe thead th {\n",
       "        text-align: right;\n",
       "    }\n",
       "</style>\n",
       "<table border=\"1\" class=\"dataframe\">\n",
       "  <thead>\n",
       "    <tr style=\"text-align: right;\">\n",
       "      <th></th>\n",
       "      <th>Region / Région</th>\n",
       "      <th>Date</th>\n",
       "      <th>Spec. propane / propane pur</th>\n",
       "      <th>Total butane / butane - total</th>\n",
       "      <th>Normal butane / butane normal</th>\n",
       "      <th>Iso-butane</th>\n",
       "      <th>Total mix / mélange - total</th>\n",
       "      <th>C2 in mix / mélange - C2</th>\n",
       "      <th>C3 in mix / mélange - C3</th>\n",
       "      <th>C4 in mix / mélange - C4</th>\n",
       "      <th>Other in mix / mélange - autres</th>\n",
       "    </tr>\n",
       "  </thead>\n",
       "  <tbody>\n",
       "    <tr>\n",
       "      <td>0</td>\n",
       "      <td>Canada</td>\n",
       "      <td>2000-01-01</td>\n",
       "      <td>784.036998</td>\n",
       "      <td>362.449492</td>\n",
       "      <td>NaN</td>\n",
       "      <td>NaN</td>\n",
       "      <td>399.786525</td>\n",
       "      <td>0.000000</td>\n",
       "      <td>194.177107</td>\n",
       "      <td>148.029764</td>\n",
       "      <td>57.579654</td>\n",
       "    </tr>\n",
       "    <tr>\n",
       "      <td>1</td>\n",
       "      <td>Canada</td>\n",
       "      <td>2000-02-01</td>\n",
       "      <td>356.524189</td>\n",
       "      <td>227.550475</td>\n",
       "      <td>NaN</td>\n",
       "      <td>NaN</td>\n",
       "      <td>383.860440</td>\n",
       "      <td>0.000000</td>\n",
       "      <td>181.748400</td>\n",
       "      <td>140.397040</td>\n",
       "      <td>61.715000</td>\n",
       "    </tr>\n",
       "    <tr>\n",
       "      <td>2</td>\n",
       "      <td>Canada</td>\n",
       "      <td>2000-03-01</td>\n",
       "      <td>173.564615</td>\n",
       "      <td>138.456572</td>\n",
       "      <td>NaN</td>\n",
       "      <td>NaN</td>\n",
       "      <td>321.312165</td>\n",
       "      <td>0.015462</td>\n",
       "      <td>155.674621</td>\n",
       "      <td>122.755902</td>\n",
       "      <td>42.866180</td>\n",
       "    </tr>\n",
       "    <tr>\n",
       "      <td>3</td>\n",
       "      <td>Canada</td>\n",
       "      <td>2000-04-01</td>\n",
       "      <td>297.382941</td>\n",
       "      <td>214.332134</td>\n",
       "      <td>NaN</td>\n",
       "      <td>NaN</td>\n",
       "      <td>384.313830</td>\n",
       "      <td>42.537402</td>\n",
       "      <td>185.803634</td>\n",
       "      <td>122.041656</td>\n",
       "      <td>33.931138</td>\n",
       "    </tr>\n",
       "    <tr>\n",
       "      <td>4</td>\n",
       "      <td>Canada</td>\n",
       "      <td>2000-05-01</td>\n",
       "      <td>596.065626</td>\n",
       "      <td>355.837875</td>\n",
       "      <td>NaN</td>\n",
       "      <td>NaN</td>\n",
       "      <td>369.390836</td>\n",
       "      <td>32.269491</td>\n",
       "      <td>180.196321</td>\n",
       "      <td>121.011815</td>\n",
       "      <td>35.913209</td>\n",
       "    </tr>\n",
       "  </tbody>\n",
       "</table>\n",
       "</div>"
      ],
      "text/plain": [
       "  Region / Région       Date  Spec. propane / propane pur  \\\n",
       "0          Canada 2000-01-01                   784.036998   \n",
       "1          Canada 2000-02-01                   356.524189   \n",
       "2          Canada 2000-03-01                   173.564615   \n",
       "3          Canada 2000-04-01                   297.382941   \n",
       "4          Canada 2000-05-01                   596.065626   \n",
       "\n",
       "   Total butane / butane - total  Normal butane / butane normal  Iso-butane  \\\n",
       "0                     362.449492                            NaN         NaN   \n",
       "1                     227.550475                            NaN         NaN   \n",
       "2                     138.456572                            NaN         NaN   \n",
       "3                     214.332134                            NaN         NaN   \n",
       "4                     355.837875                            NaN         NaN   \n",
       "\n",
       "   Total mix / mélange - total  C2 in mix / mélange - C2  \\\n",
       "0                   399.786525                  0.000000   \n",
       "1                   383.860440                  0.000000   \n",
       "2                   321.312165                  0.015462   \n",
       "3                   384.313830                 42.537402   \n",
       "4                   369.390836                 32.269491   \n",
       "\n",
       "   C3 in mix / mélange - C3  C4 in mix / mélange - C4  \\\n",
       "0                194.177107                148.029764   \n",
       "1                181.748400                140.397040   \n",
       "2                155.674621                122.755902   \n",
       "3                185.803634                122.041656   \n",
       "4                180.196321                121.011815   \n",
       "\n",
       "   Other in mix / mélange - autres  \n",
       "0                        57.579654  \n",
       "1                        61.715000  \n",
       "2                        42.866180  \n",
       "3                        33.931138  \n",
       "4                        35.913209  "
      ]
     },
     "execution_count": 77,
     "metadata": {},
     "output_type": "execute_result"
    }
   ],
   "source": [
    "df.head()"
   ]
  },
  {
   "cell_type": "markdown",
   "metadata": {},
   "source": [
    "## DataFrame from SQL"
   ]
  },
  {
   "cell_type": "code",
   "execution_count": 78,
   "metadata": {},
   "outputs": [],
   "source": [
    "from sqlalchemy import create_engine\n",
    "from sqlalchemy import MetaData\n",
    "import sqlalchemy\n",
    "#%%\n",
    "\n",
    "def cer_connection():\n",
    "    conn_str = 'mssql+pyodbc:///?odbc_connect=DRIVER%3D%7BSQL+Server+Native+Client+11.0%7D%3BSERVER%3DpSQL22CAP%3BDATABASE%3DEnergyData%3BTrusted_Connection%3Dyes'\n",
    "    engine = create_engine(conn_str)\n",
    "    conn = engine.connect()\n",
    "    return(conn,engine)\n"
   ]
  },
  {
   "cell_type": "code",
   "execution_count": 79,
   "metadata": {},
   "outputs": [],
   "source": [
    "conn, engine = cer_connection()\n",
    "dfsql = pd.read_sql_query('select top (10) * from BakerHughes_Detailed',con=conn)"
   ]
  },
  {
   "cell_type": "code",
   "execution_count": 80,
   "metadata": {},
   "outputs": [
    {
     "data": {
      "text/html": [
       "<div>\n",
       "<style scoped>\n",
       "    .dataframe tbody tr th:only-of-type {\n",
       "        vertical-align: middle;\n",
       "    }\n",
       "\n",
       "    .dataframe tbody tr th {\n",
       "        vertical-align: top;\n",
       "    }\n",
       "\n",
       "    .dataframe thead th {\n",
       "        text-align: right;\n",
       "    }\n",
       "</style>\n",
       "<table border=\"1\" class=\"dataframe\">\n",
       "  <thead>\n",
       "    <tr style=\"text-align: right;\">\n",
       "      <th></th>\n",
       "      <th>PK_BakerHughes_Detailed</th>\n",
       "      <th>Country</th>\n",
       "      <th>County</th>\n",
       "      <th>Basin</th>\n",
       "      <th>DrillFor</th>\n",
       "      <th>Location</th>\n",
       "      <th>Trajectory</th>\n",
       "      <th>WellDepth</th>\n",
       "      <th>Year</th>\n",
       "      <th>Month</th>\n",
       "      <th>Week</th>\n",
       "      <th>RigCount</th>\n",
       "      <th>State/Province</th>\n",
       "      <th>PublishDate</th>\n",
       "    </tr>\n",
       "  </thead>\n",
       "  <tbody>\n",
       "    <tr>\n",
       "      <td>0</td>\n",
       "      <td>1</td>\n",
       "      <td>UNITED STATES</td>\n",
       "      <td>SABINE</td>\n",
       "      <td>Haynesville</td>\n",
       "      <td>Gas</td>\n",
       "      <td>Land</td>\n",
       "      <td>Horizontal</td>\n",
       "      <td>10k-15k</td>\n",
       "      <td>2011</td>\n",
       "      <td>4</td>\n",
       "      <td>13</td>\n",
       "      <td>1</td>\n",
       "      <td>LOUISIANA</td>\n",
       "      <td>2011-04-01</td>\n",
       "    </tr>\n",
       "    <tr>\n",
       "      <td>1</td>\n",
       "      <td>2</td>\n",
       "      <td>UNITED STATES</td>\n",
       "      <td>TERREBONNE</td>\n",
       "      <td>Other</td>\n",
       "      <td>Oil</td>\n",
       "      <td>Inland Waters</td>\n",
       "      <td>Directional</td>\n",
       "      <td>10k-15k</td>\n",
       "      <td>2011</td>\n",
       "      <td>4</td>\n",
       "      <td>13</td>\n",
       "      <td>1</td>\n",
       "      <td>LOUISIANA</td>\n",
       "      <td>2011-04-01</td>\n",
       "    </tr>\n",
       "    <tr>\n",
       "      <td>2</td>\n",
       "      <td>3</td>\n",
       "      <td>UNITED STATES</td>\n",
       "      <td>VERMILION</td>\n",
       "      <td>Other</td>\n",
       "      <td>Gas</td>\n",
       "      <td>Land</td>\n",
       "      <td>Directional</td>\n",
       "      <td>5k-10k</td>\n",
       "      <td>2011</td>\n",
       "      <td>4</td>\n",
       "      <td>13</td>\n",
       "      <td>1</td>\n",
       "      <td>LOUISIANA</td>\n",
       "      <td>2011-04-01</td>\n",
       "    </tr>\n",
       "    <tr>\n",
       "      <td>3</td>\n",
       "      <td>4</td>\n",
       "      <td>UNITED STATES</td>\n",
       "      <td>VERMILION</td>\n",
       "      <td>Other</td>\n",
       "      <td>Gas</td>\n",
       "      <td>Land</td>\n",
       "      <td>Vertical</td>\n",
       "      <td>&gt;15k</td>\n",
       "      <td>2011</td>\n",
       "      <td>4</td>\n",
       "      <td>13</td>\n",
       "      <td>1</td>\n",
       "      <td>LOUISIANA</td>\n",
       "      <td>2011-04-01</td>\n",
       "    </tr>\n",
       "    <tr>\n",
       "      <td>4</td>\n",
       "      <td>5</td>\n",
       "      <td>UNITED STATES</td>\n",
       "      <td>EDDY</td>\n",
       "      <td>Permian</td>\n",
       "      <td>Oil</td>\n",
       "      <td>Land</td>\n",
       "      <td>Horizontal</td>\n",
       "      <td>5k-10k</td>\n",
       "      <td>2011</td>\n",
       "      <td>4</td>\n",
       "      <td>13</td>\n",
       "      <td>1</td>\n",
       "      <td>NEW MEXICO</td>\n",
       "      <td>2011-04-01</td>\n",
       "    </tr>\n",
       "  </tbody>\n",
       "</table>\n",
       "</div>"
      ],
      "text/plain": [
       "   PK_BakerHughes_Detailed        Country      County        Basin DrillFor  \\\n",
       "0                        1  UNITED STATES      SABINE  Haynesville      Gas   \n",
       "1                        2  UNITED STATES  TERREBONNE        Other      Oil   \n",
       "2                        3  UNITED STATES   VERMILION        Other      Gas   \n",
       "3                        4  UNITED STATES   VERMILION        Other      Gas   \n",
       "4                        5  UNITED STATES        EDDY      Permian      Oil   \n",
       "\n",
       "        Location   Trajectory WellDepth  Year  Month  Week  RigCount  \\\n",
       "0           Land   Horizontal   10k-15k  2011      4    13         1   \n",
       "1  Inland Waters  Directional   10k-15k  2011      4    13         1   \n",
       "2           Land  Directional    5k-10k  2011      4    13         1   \n",
       "3           Land     Vertical      >15k  2011      4    13         1   \n",
       "4           Land   Horizontal    5k-10k  2011      4    13         1   \n",
       "\n",
       "  State/Province PublishDate  \n",
       "0      LOUISIANA  2011-04-01  \n",
       "1      LOUISIANA  2011-04-01  \n",
       "2      LOUISIANA  2011-04-01  \n",
       "3      LOUISIANA  2011-04-01  \n",
       "4     NEW MEXICO  2011-04-01  "
      ]
     },
     "execution_count": 80,
     "metadata": {},
     "output_type": "execute_result"
    }
   ],
   "source": [
    "dfsql.head()"
   ]
  },
  {
   "cell_type": "code",
   "execution_count": 81,
   "metadata": {},
   "outputs": [],
   "source": [
    "query = \"SELECT \\\n",
    "[PublishDate], \\\n",
    "year([PublishDate]) as [Year], \\\n",
    "month([PublishDate]) as [Month], \\\n",
    "DATEPART( wk, [PublishDate]) as [Week], \\\n",
    "[Country], \\\n",
    "[DrillFor], \\\n",
    "sum([RigCount]) as [RigCount] \\\n",
    "\\\n",
    "FROM [EnergyData].[dbo].[BakerHughes_Detailed] \\\n",
    "where Country = 'CANADA' and DrillFor = 'Oil'\\\n",
    "\\\n",
    "group by PublishDate, Country, DrillFor\"\n",
    "\n",
    "dfsql = pd.read_sql_query(query,con=conn)"
   ]
  },
  {
   "cell_type": "code",
   "execution_count": 82,
   "metadata": {},
   "outputs": [
    {
     "data": {
      "text/html": [
       "<div>\n",
       "<style scoped>\n",
       "    .dataframe tbody tr th:only-of-type {\n",
       "        vertical-align: middle;\n",
       "    }\n",
       "\n",
       "    .dataframe tbody tr th {\n",
       "        vertical-align: top;\n",
       "    }\n",
       "\n",
       "    .dataframe thead th {\n",
       "        text-align: right;\n",
       "    }\n",
       "</style>\n",
       "<table border=\"1\" class=\"dataframe\">\n",
       "  <thead>\n",
       "    <tr style=\"text-align: right;\">\n",
       "      <th></th>\n",
       "      <th>PublishDate</th>\n",
       "      <th>Year</th>\n",
       "      <th>Month</th>\n",
       "      <th>Week</th>\n",
       "      <th>Country</th>\n",
       "      <th>DrillFor</th>\n",
       "      <th>RigCount</th>\n",
       "    </tr>\n",
       "  </thead>\n",
       "  <tbody>\n",
       "    <tr>\n",
       "      <td>0</td>\n",
       "      <td>2011-02-18</td>\n",
       "      <td>2011</td>\n",
       "      <td>2</td>\n",
       "      <td>8</td>\n",
       "      <td>CANADA</td>\n",
       "      <td>Oil</td>\n",
       "      <td>421</td>\n",
       "    </tr>\n",
       "    <tr>\n",
       "      <td>1</td>\n",
       "      <td>2011-02-25</td>\n",
       "      <td>2011</td>\n",
       "      <td>2</td>\n",
       "      <td>9</td>\n",
       "      <td>CANADA</td>\n",
       "      <td>Oil</td>\n",
       "      <td>426</td>\n",
       "    </tr>\n",
       "    <tr>\n",
       "      <td>2</td>\n",
       "      <td>2011-03-04</td>\n",
       "      <td>2011</td>\n",
       "      <td>3</td>\n",
       "      <td>10</td>\n",
       "      <td>CANADA</td>\n",
       "      <td>Oil</td>\n",
       "      <td>444</td>\n",
       "    </tr>\n",
       "    <tr>\n",
       "      <td>3</td>\n",
       "      <td>2011-05-20</td>\n",
       "      <td>2011</td>\n",
       "      <td>5</td>\n",
       "      <td>21</td>\n",
       "      <td>CANADA</td>\n",
       "      <td>Oil</td>\n",
       "      <td>73</td>\n",
       "    </tr>\n",
       "    <tr>\n",
       "      <td>4</td>\n",
       "      <td>2011-05-27</td>\n",
       "      <td>2011</td>\n",
       "      <td>5</td>\n",
       "      <td>22</td>\n",
       "      <td>CANADA</td>\n",
       "      <td>Oil</td>\n",
       "      <td>102</td>\n",
       "    </tr>\n",
       "  </tbody>\n",
       "</table>\n",
       "</div>"
      ],
      "text/plain": [
       "  PublishDate  Year  Month  Week Country DrillFor  RigCount\n",
       "0  2011-02-18  2011      2     8  CANADA      Oil       421\n",
       "1  2011-02-25  2011      2     9  CANADA      Oil       426\n",
       "2  2011-03-04  2011      3    10  CANADA      Oil       444\n",
       "3  2011-05-20  2011      5    21  CANADA      Oil        73\n",
       "4  2011-05-27  2011      5    22  CANADA      Oil       102"
      ]
     },
     "execution_count": 82,
     "metadata": {},
     "output_type": "execute_result"
    }
   ],
   "source": [
    "dfsql.head()"
   ]
  },
  {
   "cell_type": "code",
   "execution_count": 83,
   "metadata": {},
   "outputs": [],
   "source": [
    "conn.close()"
   ]
  },
  {
   "cell_type": "markdown",
   "metadata": {},
   "source": [
    "Should you have raw connection strings, passwords, and API keys directly in your code?"
   ]
  },
  {
   "cell_type": "code",
   "execution_count": 84,
   "metadata": {},
   "outputs": [
    {
     "data": {
      "text/plain": [
       "'mssql+pyodbc:///?odbc_connect=DRIVER%3D%7BSQL+Server+Native+Client+11.0%7D%3BSERVER%3DpSQL22CAP%3BDATABASE%3DEnergyData%3BTrusted_Connection%3Dyes'"
      ]
     },
     "execution_count": 84,
     "metadata": {},
     "output_type": "execute_result"
    }
   ],
   "source": [
    "import json\n",
    "def open_connection_string(file_name='connection.json'):\n",
    "    with open(file_name) as json_file:\n",
    "        data = json.load(json_file)\n",
    "    return data['conn_str']\n",
    "\n",
    "open_connection_string()"
   ]
  },
  {
   "cell_type": "code",
   "execution_count": 473,
   "metadata": {},
   "outputs": [
    {
     "data": {
      "text/plain": [
       "(738, 11)"
      ]
     },
     "execution_count": 473,
     "metadata": {},
     "output_type": "execute_result"
    }
   ],
   "source": [
    "df.shape #(rows,columns)"
   ]
  },
  {
   "cell_type": "markdown",
   "metadata": {},
   "source": [
    "## DataFrame columns"
   ]
  },
  {
   "cell_type": "code",
   "execution_count": 85,
   "metadata": {},
   "outputs": [
    {
     "data": {
      "text/plain": [
       "Index(['Region / Région', 'Date', 'Spec. propane / propane pur',\n",
       "       'Total butane / butane - total', 'Normal butane / butane normal',\n",
       "       'Iso-butane', 'Total mix / mélange - total', 'C2 in mix / mélange - C2',\n",
       "       'C3 in mix / mélange - C3', 'C4 in mix / mélange - C4',\n",
       "       'Other in mix / mélange - autres'],\n",
       "      dtype='object')"
      ]
     },
     "execution_count": 85,
     "metadata": {},
     "output_type": "execute_result"
    }
   ],
   "source": [
    "df.columns"
   ]
  },
  {
   "cell_type": "code",
   "execution_count": 86,
   "metadata": {},
   "outputs": [],
   "source": [
    "def english_only(col_names):\n",
    "    #TODO: Remove periods and make columns lowercase\n",
    "    return {x:x.split('/')[0].strip() for x in col_names}"
   ]
  },
  {
   "cell_type": "code",
   "execution_count": 87,
   "metadata": {},
   "outputs": [
    {
     "data": {
      "text/plain": [
       "{'Region / Région': 'Region',\n",
       " 'Date': 'Date',\n",
       " 'Spec. propane / propane pur': 'Spec. propane',\n",
       " 'Total butane / butane - total': 'Total butane',\n",
       " 'Normal butane / butane normal': 'Normal butane',\n",
       " 'Iso-butane': 'Iso-butane',\n",
       " 'Total mix / mélange - total': 'Total mix',\n",
       " 'C2 in mix / mélange - C2': 'C2 in mix',\n",
       " 'C3 in mix / mélange - C3': 'C3 in mix',\n",
       " 'C4 in mix / mélange - C4': 'C4 in mix',\n",
       " 'Other in mix / mélange - autres': 'Other in mix'}"
      ]
     },
     "execution_count": 87,
     "metadata": {},
     "output_type": "execute_result"
    }
   ],
   "source": [
    "new_columns = english_only(df.columns)\n",
    "new_columns"
   ]
  },
  {
   "cell_type": "code",
   "execution_count": 88,
   "metadata": {},
   "outputs": [],
   "source": [
    "df = df.rename(columns=new_columns)\n",
    "#same as:\n",
    "#df.rename(columns=new_columns,inplace=True)"
   ]
  },
  {
   "cell_type": "code",
   "execution_count": 89,
   "metadata": {
    "scrolled": true
   },
   "outputs": [
    {
     "data": {
      "text/html": [
       "<div>\n",
       "<style scoped>\n",
       "    .dataframe tbody tr th:only-of-type {\n",
       "        vertical-align: middle;\n",
       "    }\n",
       "\n",
       "    .dataframe tbody tr th {\n",
       "        vertical-align: top;\n",
       "    }\n",
       "\n",
       "    .dataframe thead th {\n",
       "        text-align: right;\n",
       "    }\n",
       "</style>\n",
       "<table border=\"1\" class=\"dataframe\">\n",
       "  <thead>\n",
       "    <tr style=\"text-align: right;\">\n",
       "      <th></th>\n",
       "      <th>Region</th>\n",
       "      <th>Date</th>\n",
       "      <th>Spec. propane</th>\n",
       "      <th>Total butane</th>\n",
       "      <th>Normal butane</th>\n",
       "      <th>Iso-butane</th>\n",
       "      <th>Total mix</th>\n",
       "      <th>C2 in mix</th>\n",
       "      <th>C3 in mix</th>\n",
       "      <th>C4 in mix</th>\n",
       "      <th>Other in mix</th>\n",
       "    </tr>\n",
       "  </thead>\n",
       "  <tbody>\n",
       "    <tr>\n",
       "      <td>0</td>\n",
       "      <td>Canada</td>\n",
       "      <td>2000-01-01</td>\n",
       "      <td>784.036998</td>\n",
       "      <td>362.449492</td>\n",
       "      <td>NaN</td>\n",
       "      <td>NaN</td>\n",
       "      <td>399.786525</td>\n",
       "      <td>0.000000</td>\n",
       "      <td>194.177107</td>\n",
       "      <td>148.029764</td>\n",
       "      <td>57.579654</td>\n",
       "    </tr>\n",
       "    <tr>\n",
       "      <td>1</td>\n",
       "      <td>Canada</td>\n",
       "      <td>2000-02-01</td>\n",
       "      <td>356.524189</td>\n",
       "      <td>227.550475</td>\n",
       "      <td>NaN</td>\n",
       "      <td>NaN</td>\n",
       "      <td>383.860440</td>\n",
       "      <td>0.000000</td>\n",
       "      <td>181.748400</td>\n",
       "      <td>140.397040</td>\n",
       "      <td>61.715000</td>\n",
       "    </tr>\n",
       "    <tr>\n",
       "      <td>2</td>\n",
       "      <td>Canada</td>\n",
       "      <td>2000-03-01</td>\n",
       "      <td>173.564615</td>\n",
       "      <td>138.456572</td>\n",
       "      <td>NaN</td>\n",
       "      <td>NaN</td>\n",
       "      <td>321.312165</td>\n",
       "      <td>0.015462</td>\n",
       "      <td>155.674621</td>\n",
       "      <td>122.755902</td>\n",
       "      <td>42.866180</td>\n",
       "    </tr>\n",
       "    <tr>\n",
       "      <td>3</td>\n",
       "      <td>Canada</td>\n",
       "      <td>2000-04-01</td>\n",
       "      <td>297.382941</td>\n",
       "      <td>214.332134</td>\n",
       "      <td>NaN</td>\n",
       "      <td>NaN</td>\n",
       "      <td>384.313830</td>\n",
       "      <td>42.537402</td>\n",
       "      <td>185.803634</td>\n",
       "      <td>122.041656</td>\n",
       "      <td>33.931138</td>\n",
       "    </tr>\n",
       "    <tr>\n",
       "      <td>4</td>\n",
       "      <td>Canada</td>\n",
       "      <td>2000-05-01</td>\n",
       "      <td>596.065626</td>\n",
       "      <td>355.837875</td>\n",
       "      <td>NaN</td>\n",
       "      <td>NaN</td>\n",
       "      <td>369.390836</td>\n",
       "      <td>32.269491</td>\n",
       "      <td>180.196321</td>\n",
       "      <td>121.011815</td>\n",
       "      <td>35.913209</td>\n",
       "    </tr>\n",
       "  </tbody>\n",
       "</table>\n",
       "</div>"
      ],
      "text/plain": [
       "   Region       Date  Spec. propane  Total butane  Normal butane  Iso-butane  \\\n",
       "0  Canada 2000-01-01     784.036998    362.449492            NaN         NaN   \n",
       "1  Canada 2000-02-01     356.524189    227.550475            NaN         NaN   \n",
       "2  Canada 2000-03-01     173.564615    138.456572            NaN         NaN   \n",
       "3  Canada 2000-04-01     297.382941    214.332134            NaN         NaN   \n",
       "4  Canada 2000-05-01     596.065626    355.837875            NaN         NaN   \n",
       "\n",
       "    Total mix  C2 in mix   C3 in mix   C4 in mix  Other in mix  \n",
       "0  399.786525   0.000000  194.177107  148.029764     57.579654  \n",
       "1  383.860440   0.000000  181.748400  140.397040     61.715000  \n",
       "2  321.312165   0.015462  155.674621  122.755902     42.866180  \n",
       "3  384.313830  42.537402  185.803634  122.041656     33.931138  \n",
       "4  369.390836  32.269491  180.196321  121.011815     35.913209  "
      ]
     },
     "execution_count": 89,
     "metadata": {},
     "output_type": "execute_result"
    }
   ],
   "source": [
    "df.head()"
   ]
  },
  {
   "cell_type": "markdown",
   "metadata": {},
   "source": [
    "## Pandas indexing\n",
    "\n",
    "Usually we want to be able to access certain data in the DataFrame\n",
    "\n",
    "* `.loc[]`    index by label location (end inclusive)\n",
    "* `.iloc[]`   index by integer location, similar to numpy (end exclusive)\n",
    "\n",
    "`.loc[]` is the primary method\n",
    "\n",
    "They both work by passing in the row condition, then the column condition:\n",
    "\n",
    "`.loc[rows,columns]`  \n",
    "`.iloc[rows,columns]`"
   ]
  },
  {
   "cell_type": "code",
   "execution_count": 90,
   "metadata": {},
   "outputs": [
    {
     "data": {
      "text/html": [
       "<div>\n",
       "<style scoped>\n",
       "    .dataframe tbody tr th:only-of-type {\n",
       "        vertical-align: middle;\n",
       "    }\n",
       "\n",
       "    .dataframe tbody tr th {\n",
       "        vertical-align: top;\n",
       "    }\n",
       "\n",
       "    .dataframe thead th {\n",
       "        text-align: right;\n",
       "    }\n",
       "</style>\n",
       "<table border=\"1\" class=\"dataframe\">\n",
       "  <thead>\n",
       "    <tr style=\"text-align: right;\">\n",
       "      <th></th>\n",
       "      <th>Date</th>\n",
       "      <th>Spec. propane</th>\n",
       "    </tr>\n",
       "  </thead>\n",
       "  <tbody>\n",
       "    <tr>\n",
       "      <td>0</td>\n",
       "      <td>2000-01-01</td>\n",
       "      <td>784.036998</td>\n",
       "    </tr>\n",
       "    <tr>\n",
       "      <td>1</td>\n",
       "      <td>2000-02-01</td>\n",
       "      <td>356.524189</td>\n",
       "    </tr>\n",
       "    <tr>\n",
       "      <td>2</td>\n",
       "      <td>2000-03-01</td>\n",
       "      <td>173.564615</td>\n",
       "    </tr>\n",
       "    <tr>\n",
       "      <td>3</td>\n",
       "      <td>2000-04-01</td>\n",
       "      <td>297.382941</td>\n",
       "    </tr>\n",
       "  </tbody>\n",
       "</table>\n",
       "</div>"
      ],
      "text/plain": [
       "        Date  Spec. propane\n",
       "0 2000-01-01     784.036998\n",
       "1 2000-02-01     356.524189\n",
       "2 2000-03-01     173.564615\n",
       "3 2000-04-01     297.382941"
      ]
     },
     "execution_count": 90,
     "metadata": {},
     "output_type": "execute_result"
    }
   ],
   "source": [
    "#select the first three rows\n",
    "df.loc[0:3,\"Date\":\"Spec. propane\"]"
   ]
  },
  {
   "cell_type": "code",
   "execution_count": 91,
   "metadata": {},
   "outputs": [
    {
     "data": {
      "text/plain": [
       "297.38294099999996"
      ]
     },
     "execution_count": 91,
     "metadata": {},
     "output_type": "execute_result"
    }
   ],
   "source": [
    "#select one value\n",
    "df.loc[3,\"Spec. propane\"]"
   ]
  },
  {
   "cell_type": "code",
   "execution_count": 92,
   "metadata": {},
   "outputs": [
    {
     "data": {
      "text/html": [
       "<div>\n",
       "<style scoped>\n",
       "    .dataframe tbody tr th:only-of-type {\n",
       "        vertical-align: middle;\n",
       "    }\n",
       "\n",
       "    .dataframe tbody tr th {\n",
       "        vertical-align: top;\n",
       "    }\n",
       "\n",
       "    .dataframe thead th {\n",
       "        text-align: right;\n",
       "    }\n",
       "</style>\n",
       "<table border=\"1\" class=\"dataframe\">\n",
       "  <thead>\n",
       "    <tr style=\"text-align: right;\">\n",
       "      <th></th>\n",
       "      <th>Date</th>\n",
       "      <th>Region</th>\n",
       "      <th>Spec. propane</th>\n",
       "    </tr>\n",
       "  </thead>\n",
       "  <tbody>\n",
       "    <tr>\n",
       "      <td>0</td>\n",
       "      <td>2000-01-01</td>\n",
       "      <td>Canada</td>\n",
       "      <td>784.036998</td>\n",
       "    </tr>\n",
       "    <tr>\n",
       "      <td>4</td>\n",
       "      <td>2000-05-01</td>\n",
       "      <td>Canada</td>\n",
       "      <td>596.065626</td>\n",
       "    </tr>\n",
       "    <tr>\n",
       "      <td>5</td>\n",
       "      <td>2000-06-01</td>\n",
       "      <td>Canada</td>\n",
       "      <td>729.556358</td>\n",
       "    </tr>\n",
       "    <tr>\n",
       "      <td>6</td>\n",
       "      <td>2000-07-01</td>\n",
       "      <td>Canada</td>\n",
       "      <td>966.371564</td>\n",
       "    </tr>\n",
       "    <tr>\n",
       "      <td>7</td>\n",
       "      <td>2000-08-01</td>\n",
       "      <td>Canada</td>\n",
       "      <td>1153.008789</td>\n",
       "    </tr>\n",
       "    <tr>\n",
       "      <td>...</td>\n",
       "      <td>...</td>\n",
       "      <td>...</td>\n",
       "      <td>...</td>\n",
       "    </tr>\n",
       "    <tr>\n",
       "      <td>238</td>\n",
       "      <td>2019-11-01</td>\n",
       "      <td>Canada</td>\n",
       "      <td>1215.901900</td>\n",
       "    </tr>\n",
       "    <tr>\n",
       "      <td>239</td>\n",
       "      <td>2019-12-01</td>\n",
       "      <td>Canada</td>\n",
       "      <td>1053.405700</td>\n",
       "    </tr>\n",
       "    <tr>\n",
       "      <td>240</td>\n",
       "      <td>2020-01-01</td>\n",
       "      <td>Canada</td>\n",
       "      <td>762.761600</td>\n",
       "    </tr>\n",
       "    <tr>\n",
       "      <td>244</td>\n",
       "      <td>2020-05-01</td>\n",
       "      <td>Canada</td>\n",
       "      <td>659.397600</td>\n",
       "    </tr>\n",
       "    <tr>\n",
       "      <td>245</td>\n",
       "      <td>2020-06-01</td>\n",
       "      <td>Canada</td>\n",
       "      <td>1060.282591</td>\n",
       "    </tr>\n",
       "  </tbody>\n",
       "</table>\n",
       "<p>202 rows × 3 columns</p>\n",
       "</div>"
      ],
      "text/plain": [
       "          Date  Region  Spec. propane\n",
       "0   2000-01-01  Canada     784.036998\n",
       "4   2000-05-01  Canada     596.065626\n",
       "5   2000-06-01  Canada     729.556358\n",
       "6   2000-07-01  Canada     966.371564\n",
       "7   2000-08-01  Canada    1153.008789\n",
       "..         ...     ...            ...\n",
       "238 2019-11-01  Canada    1215.901900\n",
       "239 2019-12-01  Canada    1053.405700\n",
       "240 2020-01-01  Canada     762.761600\n",
       "244 2020-05-01  Canada     659.397600\n",
       "245 2020-06-01  Canada    1060.282591\n",
       "\n",
       "[202 rows x 3 columns]"
      ]
     },
     "execution_count": 92,
     "metadata": {},
     "output_type": "execute_result"
    }
   ],
   "source": [
    "# Indexing with Multiple Boolean condition\n",
    "df.loc[(df['Spec. propane'] > 500) &  #row filter\n",
    "               (df['Region'] == 'Canada'), #row filter )(the comma seperates the row selections from the column selections)\n",
    "               [\"Date\",\"Region\",\"Spec. propane\"]] #column selection\n",
    "# end inclusive"
   ]
  },
  {
   "cell_type": "markdown",
   "metadata": {},
   "source": [
    "## DataFrame: looping through values"
   ]
  },
  {
   "cell_type": "code",
   "execution_count": 93,
   "metadata": {},
   "outputs": [
    {
     "data": {
      "text/plain": [
       "511491.8656600004"
      ]
     },
     "execution_count": 93,
     "metadata": {},
     "output_type": "execute_result"
    }
   ],
   "source": [
    "#Loop through columns:\n",
    "total = 0\n",
    "for val in df['Spec. propane']:\n",
    "    #print(val)\n",
    "    total = total + val\n",
    "total"
   ]
  },
  {
   "cell_type": "code",
   "execution_count": 94,
   "metadata": {},
   "outputs": [
    {
     "data": {
      "text/plain": [
       "511491.8656599999"
      ]
     },
     "execution_count": 94,
     "metadata": {},
     "output_type": "execute_result"
    }
   ],
   "source": [
    "#this is the better way!\n",
    "total = df['Spec. propane'].sum(skipna=True)\n",
    "total"
   ]
  },
  {
   "cell_type": "markdown",
   "metadata": {},
   "source": [
    "## Pandas DataFrame index"
   ]
  },
  {
   "cell_type": "code",
   "execution_count": 95,
   "metadata": {},
   "outputs": [
    {
     "data": {
      "text/plain": [
       "RangeIndex(start=0, stop=738, step=1)"
      ]
     },
     "execution_count": 95,
     "metadata": {},
     "output_type": "execute_result"
    }
   ],
   "source": [
    "df.index"
   ]
  },
  {
   "cell_type": "code",
   "execution_count": 96,
   "metadata": {},
   "outputs": [],
   "source": [
    "df = df.set_index('Date')"
   ]
  },
  {
   "cell_type": "code",
   "execution_count": 98,
   "metadata": {},
   "outputs": [
    {
     "data": {
      "text/html": [
       "<div>\n",
       "<style scoped>\n",
       "    .dataframe tbody tr th:only-of-type {\n",
       "        vertical-align: middle;\n",
       "    }\n",
       "\n",
       "    .dataframe tbody tr th {\n",
       "        vertical-align: top;\n",
       "    }\n",
       "\n",
       "    .dataframe thead th {\n",
       "        text-align: right;\n",
       "    }\n",
       "</style>\n",
       "<table border=\"1\" class=\"dataframe\">\n",
       "  <thead>\n",
       "    <tr style=\"text-align: right;\">\n",
       "      <th></th>\n",
       "      <th>Region</th>\n",
       "      <th>Spec. propane</th>\n",
       "      <th>Total butane</th>\n",
       "      <th>Normal butane</th>\n",
       "      <th>Iso-butane</th>\n",
       "      <th>Total mix</th>\n",
       "      <th>C2 in mix</th>\n",
       "      <th>C3 in mix</th>\n",
       "      <th>C4 in mix</th>\n",
       "      <th>Other in mix</th>\n",
       "    </tr>\n",
       "    <tr>\n",
       "      <th>Date</th>\n",
       "      <th></th>\n",
       "      <th></th>\n",
       "      <th></th>\n",
       "      <th></th>\n",
       "      <th></th>\n",
       "      <th></th>\n",
       "      <th></th>\n",
       "      <th></th>\n",
       "      <th></th>\n",
       "      <th></th>\n",
       "    </tr>\n",
       "  </thead>\n",
       "  <tbody>\n",
       "    <tr>\n",
       "      <td>2000-01-01</td>\n",
       "      <td>Canada</td>\n",
       "      <td>784.036998</td>\n",
       "      <td>362.449492</td>\n",
       "      <td>NaN</td>\n",
       "      <td>NaN</td>\n",
       "      <td>399.786525</td>\n",
       "      <td>0.000000</td>\n",
       "      <td>194.177107</td>\n",
       "      <td>148.029764</td>\n",
       "      <td>57.579654</td>\n",
       "    </tr>\n",
       "    <tr>\n",
       "      <td>2000-02-01</td>\n",
       "      <td>Canada</td>\n",
       "      <td>356.524189</td>\n",
       "      <td>227.550475</td>\n",
       "      <td>NaN</td>\n",
       "      <td>NaN</td>\n",
       "      <td>383.860440</td>\n",
       "      <td>0.000000</td>\n",
       "      <td>181.748400</td>\n",
       "      <td>140.397040</td>\n",
       "      <td>61.715000</td>\n",
       "    </tr>\n",
       "    <tr>\n",
       "      <td>2000-03-01</td>\n",
       "      <td>Canada</td>\n",
       "      <td>173.564615</td>\n",
       "      <td>138.456572</td>\n",
       "      <td>NaN</td>\n",
       "      <td>NaN</td>\n",
       "      <td>321.312165</td>\n",
       "      <td>0.015462</td>\n",
       "      <td>155.674621</td>\n",
       "      <td>122.755902</td>\n",
       "      <td>42.866180</td>\n",
       "    </tr>\n",
       "    <tr>\n",
       "      <td>2000-04-01</td>\n",
       "      <td>Canada</td>\n",
       "      <td>297.382941</td>\n",
       "      <td>214.332134</td>\n",
       "      <td>NaN</td>\n",
       "      <td>NaN</td>\n",
       "      <td>384.313830</td>\n",
       "      <td>42.537402</td>\n",
       "      <td>185.803634</td>\n",
       "      <td>122.041656</td>\n",
       "      <td>33.931138</td>\n",
       "    </tr>\n",
       "    <tr>\n",
       "      <td>2000-05-01</td>\n",
       "      <td>Canada</td>\n",
       "      <td>596.065626</td>\n",
       "      <td>355.837875</td>\n",
       "      <td>NaN</td>\n",
       "      <td>NaN</td>\n",
       "      <td>369.390836</td>\n",
       "      <td>32.269491</td>\n",
       "      <td>180.196321</td>\n",
       "      <td>121.011815</td>\n",
       "      <td>35.913209</td>\n",
       "    </tr>\n",
       "  </tbody>\n",
       "</table>\n",
       "</div>"
      ],
      "text/plain": [
       "            Region  Spec. propane  Total butane  Normal butane  Iso-butane  \\\n",
       "Date                                                                         \n",
       "2000-01-01  Canada     784.036998    362.449492            NaN         NaN   \n",
       "2000-02-01  Canada     356.524189    227.550475            NaN         NaN   \n",
       "2000-03-01  Canada     173.564615    138.456572            NaN         NaN   \n",
       "2000-04-01  Canada     297.382941    214.332134            NaN         NaN   \n",
       "2000-05-01  Canada     596.065626    355.837875            NaN         NaN   \n",
       "\n",
       "             Total mix  C2 in mix   C3 in mix   C4 in mix  Other in mix  \n",
       "Date                                                                     \n",
       "2000-01-01  399.786525   0.000000  194.177107  148.029764     57.579654  \n",
       "2000-02-01  383.860440   0.000000  181.748400  140.397040     61.715000  \n",
       "2000-03-01  321.312165   0.015462  155.674621  122.755902     42.866180  \n",
       "2000-04-01  384.313830  42.537402  185.803634  122.041656     33.931138  \n",
       "2000-05-01  369.390836  32.269491  180.196321  121.011815     35.913209  "
      ]
     },
     "execution_count": 98,
     "metadata": {},
     "output_type": "execute_result"
    }
   ],
   "source": [
    "df.head()"
   ]
  },
  {
   "cell_type": "code",
   "execution_count": 99,
   "metadata": {},
   "outputs": [
    {
     "data": {
      "text/html": [
       "<div>\n",
       "<style scoped>\n",
       "    .dataframe tbody tr th:only-of-type {\n",
       "        vertical-align: middle;\n",
       "    }\n",
       "\n",
       "    .dataframe tbody tr th {\n",
       "        vertical-align: top;\n",
       "    }\n",
       "\n",
       "    .dataframe thead th {\n",
       "        text-align: right;\n",
       "    }\n",
       "</style>\n",
       "<table border=\"1\" class=\"dataframe\">\n",
       "  <thead>\n",
       "    <tr style=\"text-align: right;\">\n",
       "      <th></th>\n",
       "      <th>Date</th>\n",
       "      <th>Region</th>\n",
       "      <th>Spec. propane</th>\n",
       "      <th>Total butane</th>\n",
       "      <th>Normal butane</th>\n",
       "      <th>Iso-butane</th>\n",
       "      <th>Total mix</th>\n",
       "      <th>C2 in mix</th>\n",
       "      <th>C3 in mix</th>\n",
       "      <th>C4 in mix</th>\n",
       "      <th>Other in mix</th>\n",
       "    </tr>\n",
       "  </thead>\n",
       "  <tbody>\n",
       "    <tr>\n",
       "      <td>0</td>\n",
       "      <td>2000-01-01</td>\n",
       "      <td>Canada</td>\n",
       "      <td>784.036998</td>\n",
       "      <td>362.449492</td>\n",
       "      <td>NaN</td>\n",
       "      <td>NaN</td>\n",
       "      <td>399.786525</td>\n",
       "      <td>0.000000</td>\n",
       "      <td>194.177107</td>\n",
       "      <td>148.029764</td>\n",
       "      <td>57.579654</td>\n",
       "    </tr>\n",
       "    <tr>\n",
       "      <td>1</td>\n",
       "      <td>2000-02-01</td>\n",
       "      <td>Canada</td>\n",
       "      <td>356.524189</td>\n",
       "      <td>227.550475</td>\n",
       "      <td>NaN</td>\n",
       "      <td>NaN</td>\n",
       "      <td>383.860440</td>\n",
       "      <td>0.000000</td>\n",
       "      <td>181.748400</td>\n",
       "      <td>140.397040</td>\n",
       "      <td>61.715000</td>\n",
       "    </tr>\n",
       "    <tr>\n",
       "      <td>2</td>\n",
       "      <td>2000-03-01</td>\n",
       "      <td>Canada</td>\n",
       "      <td>173.564615</td>\n",
       "      <td>138.456572</td>\n",
       "      <td>NaN</td>\n",
       "      <td>NaN</td>\n",
       "      <td>321.312165</td>\n",
       "      <td>0.015462</td>\n",
       "      <td>155.674621</td>\n",
       "      <td>122.755902</td>\n",
       "      <td>42.866180</td>\n",
       "    </tr>\n",
       "    <tr>\n",
       "      <td>3</td>\n",
       "      <td>2000-04-01</td>\n",
       "      <td>Canada</td>\n",
       "      <td>297.382941</td>\n",
       "      <td>214.332134</td>\n",
       "      <td>NaN</td>\n",
       "      <td>NaN</td>\n",
       "      <td>384.313830</td>\n",
       "      <td>42.537402</td>\n",
       "      <td>185.803634</td>\n",
       "      <td>122.041656</td>\n",
       "      <td>33.931138</td>\n",
       "    </tr>\n",
       "    <tr>\n",
       "      <td>4</td>\n",
       "      <td>2000-05-01</td>\n",
       "      <td>Canada</td>\n",
       "      <td>596.065626</td>\n",
       "      <td>355.837875</td>\n",
       "      <td>NaN</td>\n",
       "      <td>NaN</td>\n",
       "      <td>369.390836</td>\n",
       "      <td>32.269491</td>\n",
       "      <td>180.196321</td>\n",
       "      <td>121.011815</td>\n",
       "      <td>35.913209</td>\n",
       "    </tr>\n",
       "  </tbody>\n",
       "</table>\n",
       "</div>"
      ],
      "text/plain": [
       "        Date  Region  Spec. propane  Total butane  Normal butane  Iso-butane  \\\n",
       "0 2000-01-01  Canada     784.036998    362.449492            NaN         NaN   \n",
       "1 2000-02-01  Canada     356.524189    227.550475            NaN         NaN   \n",
       "2 2000-03-01  Canada     173.564615    138.456572            NaN         NaN   \n",
       "3 2000-04-01  Canada     297.382941    214.332134            NaN         NaN   \n",
       "4 2000-05-01  Canada     596.065626    355.837875            NaN         NaN   \n",
       "\n",
       "    Total mix  C2 in mix   C3 in mix   C4 in mix  Other in mix  \n",
       "0  399.786525   0.000000  194.177107  148.029764     57.579654  \n",
       "1  383.860440   0.000000  181.748400  140.397040     61.715000  \n",
       "2  321.312165   0.015462  155.674621  122.755902     42.866180  \n",
       "3  384.313830  42.537402  185.803634  122.041656     33.931138  \n",
       "4  369.390836  32.269491  180.196321  121.011815     35.913209  "
      ]
     },
     "execution_count": 99,
     "metadata": {},
     "output_type": "execute_result"
    }
   ],
   "source": [
    "df = df.reset_index()\n",
    "df.head()"
   ]
  },
  {
   "cell_type": "markdown",
   "metadata": {},
   "source": [
    "## Pandas data types"
   ]
  },
  {
   "cell_type": "code",
   "execution_count": 100,
   "metadata": {},
   "outputs": [
    {
     "data": {
      "text/plain": [
       "Date             datetime64[ns]\n",
       "Region                   object\n",
       "Spec. propane           float64\n",
       "Total butane            float64\n",
       "Normal butane           float64\n",
       "Iso-butane              float64\n",
       "Total mix               float64\n",
       "C2 in mix               float64\n",
       "C3 in mix               float64\n",
       "C4 in mix               float64\n",
       "Other in mix            float64\n",
       "dtype: object"
      ]
     },
     "execution_count": 100,
     "metadata": {},
     "output_type": "execute_result"
    }
   ],
   "source": [
    "df.dtypes"
   ]
  },
  {
   "cell_type": "code",
   "execution_count": 101,
   "metadata": {},
   "outputs": [],
   "source": [
    "df['Region'] = df['Region'].astype('object') \n",
    "df['Total butane'] = df['Total butane'].astype('float64')"
   ]
  },
  {
   "cell_type": "code",
   "execution_count": 102,
   "metadata": {},
   "outputs": [],
   "source": [
    "#general type conversions\n",
    "df['Normal butane'] = pd.to_numeric(df['Normal butane'],errors='coerce')\n",
    "df['Date'] = pd.to_datetime(df['Date'],errors='ceorce')"
   ]
  },
  {
   "cell_type": "markdown",
   "metadata": {},
   "source": [
    "## Aside: Using Jupyter Notebooks\n",
    "One of the downsides of using jupyter notebooks is that the cells are usually run one at a time, if you run the same cell twice, then the operations are completed twice. Usually code is run all at once, so watch out for this when using jupyter"
   ]
  },
  {
   "cell_type": "code",
   "execution_count": 103,
   "metadata": {},
   "outputs": [],
   "source": [
    "df2 = df.copy()\n",
    "#why cant you just use: df2 = df ?"
   ]
  },
  {
   "cell_type": "code",
   "execution_count": 109,
   "metadata": {},
   "outputs": [
    {
     "data": {
      "text/html": [
       "<div>\n",
       "<style scoped>\n",
       "    .dataframe tbody tr th:only-of-type {\n",
       "        vertical-align: middle;\n",
       "    }\n",
       "\n",
       "    .dataframe tbody tr th {\n",
       "        vertical-align: top;\n",
       "    }\n",
       "\n",
       "    .dataframe thead th {\n",
       "        text-align: right;\n",
       "    }\n",
       "</style>\n",
       "<table border=\"1\" class=\"dataframe\">\n",
       "  <thead>\n",
       "    <tr style=\"text-align: right;\">\n",
       "      <th></th>\n",
       "      <th>Date</th>\n",
       "      <th>Region</th>\n",
       "      <th>Spec. propane</th>\n",
       "      <th>Total butane</th>\n",
       "      <th>Normal butane</th>\n",
       "      <th>Iso-butane</th>\n",
       "      <th>Total mix</th>\n",
       "      <th>C2 in mix</th>\n",
       "      <th>C3 in mix</th>\n",
       "      <th>C4 in mix</th>\n",
       "      <th>Other in mix</th>\n",
       "    </tr>\n",
       "  </thead>\n",
       "  <tbody>\n",
       "    <tr>\n",
       "      <td>0</td>\n",
       "      <td>2000-01-01</td>\n",
       "      <td>Canada</td>\n",
       "      <td>1568.073996</td>\n",
       "      <td>362.449492</td>\n",
       "      <td>NaN</td>\n",
       "      <td>NaN</td>\n",
       "      <td>399.786525</td>\n",
       "      <td>0.000000</td>\n",
       "      <td>194.177107</td>\n",
       "      <td>148.029764</td>\n",
       "      <td>57.579654</td>\n",
       "    </tr>\n",
       "    <tr>\n",
       "      <td>1</td>\n",
       "      <td>2000-02-01</td>\n",
       "      <td>Canada</td>\n",
       "      <td>713.048378</td>\n",
       "      <td>227.550475</td>\n",
       "      <td>NaN</td>\n",
       "      <td>NaN</td>\n",
       "      <td>383.860440</td>\n",
       "      <td>0.000000</td>\n",
       "      <td>181.748400</td>\n",
       "      <td>140.397040</td>\n",
       "      <td>61.715000</td>\n",
       "    </tr>\n",
       "    <tr>\n",
       "      <td>2</td>\n",
       "      <td>2000-03-01</td>\n",
       "      <td>Canada</td>\n",
       "      <td>347.129230</td>\n",
       "      <td>138.456572</td>\n",
       "      <td>NaN</td>\n",
       "      <td>NaN</td>\n",
       "      <td>321.312165</td>\n",
       "      <td>0.015462</td>\n",
       "      <td>155.674621</td>\n",
       "      <td>122.755902</td>\n",
       "      <td>42.866180</td>\n",
       "    </tr>\n",
       "    <tr>\n",
       "      <td>3</td>\n",
       "      <td>2000-04-01</td>\n",
       "      <td>Canada</td>\n",
       "      <td>594.765882</td>\n",
       "      <td>214.332134</td>\n",
       "      <td>NaN</td>\n",
       "      <td>NaN</td>\n",
       "      <td>384.313830</td>\n",
       "      <td>42.537402</td>\n",
       "      <td>185.803634</td>\n",
       "      <td>122.041656</td>\n",
       "      <td>33.931138</td>\n",
       "    </tr>\n",
       "    <tr>\n",
       "      <td>4</td>\n",
       "      <td>2000-05-01</td>\n",
       "      <td>Canada</td>\n",
       "      <td>1192.131252</td>\n",
       "      <td>355.837875</td>\n",
       "      <td>NaN</td>\n",
       "      <td>NaN</td>\n",
       "      <td>369.390836</td>\n",
       "      <td>32.269491</td>\n",
       "      <td>180.196321</td>\n",
       "      <td>121.011815</td>\n",
       "      <td>35.913209</td>\n",
       "    </tr>\n",
       "  </tbody>\n",
       "</table>\n",
       "</div>"
      ],
      "text/plain": [
       "        Date  Region  Spec. propane  Total butane  Normal butane  Iso-butane  \\\n",
       "0 2000-01-01  Canada    1568.073996    362.449492            NaN         NaN   \n",
       "1 2000-02-01  Canada     713.048378    227.550475            NaN         NaN   \n",
       "2 2000-03-01  Canada     347.129230    138.456572            NaN         NaN   \n",
       "3 2000-04-01  Canada     594.765882    214.332134            NaN         NaN   \n",
       "4 2000-05-01  Canada    1192.131252    355.837875            NaN         NaN   \n",
       "\n",
       "    Total mix  C2 in mix   C3 in mix   C4 in mix  Other in mix  \n",
       "0  399.786525   0.000000  194.177107  148.029764     57.579654  \n",
       "1  383.860440   0.000000  181.748400  140.397040     61.715000  \n",
       "2  321.312165   0.015462  155.674621  122.755902     42.866180  \n",
       "3  384.313830  42.537402  185.803634  122.041656     33.931138  \n",
       "4  369.390836  32.269491  180.196321  121.011815     35.913209  "
      ]
     },
     "execution_count": 109,
     "metadata": {},
     "output_type": "execute_result"
    }
   ],
   "source": [
    "df2 = df.copy()\n",
    "df2['Spec. propane'] = df2['Spec. propane']*2\n",
    "df2.head()"
   ]
  },
  {
   "cell_type": "markdown",
   "metadata": {},
   "source": [
    "As you start writtimg more code in a Jupyter Notebook, look for ways to combine cells, and convert blocks of cells into single functions!"
   ]
  },
  {
   "cell_type": "code",
   "execution_count": 110,
   "metadata": {},
   "outputs": [
    {
     "data": {
      "text/plain": [
       "0     2000-01-01\n",
       "1     2000-02-01\n",
       "2     2000-03-01\n",
       "3     2000-04-01\n",
       "4     2000-05-01\n",
       "         ...    \n",
       "733   2020-02-01\n",
       "734   2020-03-01\n",
       "735   2020-04-01\n",
       "736   2020-05-01\n",
       "737   2020-06-01\n",
       "Name: Date, Length: 738, dtype: datetime64[ns]"
      ]
     },
     "execution_count": 110,
     "metadata": {},
     "output_type": "execute_result"
    },
    {
     "data": {
      "text/plain": [
       "0     2000-01-01\n",
       "1     2000-02-01\n",
       "2     2000-03-01\n",
       "3     2000-04-01\n",
       "4     2000-05-01\n",
       "         ...    \n",
       "733   2020-02-01\n",
       "734   2020-03-01\n",
       "735   2020-04-01\n",
       "736   2020-05-01\n",
       "737   2020-06-01\n",
       "Name: Date, Length: 738, dtype: datetime64[ns]"
      ]
     },
     "execution_count": 110,
     "metadata": {},
     "output_type": "execute_result"
    }
   ],
   "source": [
    "#Access columns\n",
    "df['Date']\n",
    "#We can access columns through variable names\n",
    "col = 'Date'\n",
    "df[col]"
   ]
  },
  {
   "cell_type": "code",
   "execution_count": 111,
   "metadata": {},
   "outputs": [],
   "source": [
    "#add a new column\n",
    "df['LPG'] = df['Spec. propane']+df['Total butane']"
   ]
  },
  {
   "cell_type": "code",
   "execution_count": 112,
   "metadata": {},
   "outputs": [
    {
     "data": {
      "text/html": [
       "<div>\n",
       "<style scoped>\n",
       "    .dataframe tbody tr th:only-of-type {\n",
       "        vertical-align: middle;\n",
       "    }\n",
       "\n",
       "    .dataframe tbody tr th {\n",
       "        vertical-align: top;\n",
       "    }\n",
       "\n",
       "    .dataframe thead th {\n",
       "        text-align: right;\n",
       "    }\n",
       "</style>\n",
       "<table border=\"1\" class=\"dataframe\">\n",
       "  <thead>\n",
       "    <tr style=\"text-align: right;\">\n",
       "      <th></th>\n",
       "      <th>Date</th>\n",
       "      <th>Region</th>\n",
       "      <th>Spec. propane</th>\n",
       "      <th>Total butane</th>\n",
       "      <th>Normal butane</th>\n",
       "      <th>Iso-butane</th>\n",
       "      <th>Total mix</th>\n",
       "      <th>C2 in mix</th>\n",
       "      <th>C3 in mix</th>\n",
       "      <th>C4 in mix</th>\n",
       "      <th>Other in mix</th>\n",
       "      <th>LPG</th>\n",
       "    </tr>\n",
       "  </thead>\n",
       "  <tbody>\n",
       "    <tr>\n",
       "      <td>0</td>\n",
       "      <td>2000-01-01</td>\n",
       "      <td>Canada</td>\n",
       "      <td>784.036998</td>\n",
       "      <td>362.449492</td>\n",
       "      <td>NaN</td>\n",
       "      <td>NaN</td>\n",
       "      <td>399.786525</td>\n",
       "      <td>0.000000</td>\n",
       "      <td>194.177107</td>\n",
       "      <td>148.029764</td>\n",
       "      <td>57.579654</td>\n",
       "      <td>1146.486490</td>\n",
       "    </tr>\n",
       "    <tr>\n",
       "      <td>1</td>\n",
       "      <td>2000-02-01</td>\n",
       "      <td>Canada</td>\n",
       "      <td>356.524189</td>\n",
       "      <td>227.550475</td>\n",
       "      <td>NaN</td>\n",
       "      <td>NaN</td>\n",
       "      <td>383.860440</td>\n",
       "      <td>0.000000</td>\n",
       "      <td>181.748400</td>\n",
       "      <td>140.397040</td>\n",
       "      <td>61.715000</td>\n",
       "      <td>584.074664</td>\n",
       "    </tr>\n",
       "    <tr>\n",
       "      <td>2</td>\n",
       "      <td>2000-03-01</td>\n",
       "      <td>Canada</td>\n",
       "      <td>173.564615</td>\n",
       "      <td>138.456572</td>\n",
       "      <td>NaN</td>\n",
       "      <td>NaN</td>\n",
       "      <td>321.312165</td>\n",
       "      <td>0.015462</td>\n",
       "      <td>155.674621</td>\n",
       "      <td>122.755902</td>\n",
       "      <td>42.866180</td>\n",
       "      <td>312.021187</td>\n",
       "    </tr>\n",
       "    <tr>\n",
       "      <td>3</td>\n",
       "      <td>2000-04-01</td>\n",
       "      <td>Canada</td>\n",
       "      <td>297.382941</td>\n",
       "      <td>214.332134</td>\n",
       "      <td>NaN</td>\n",
       "      <td>NaN</td>\n",
       "      <td>384.313830</td>\n",
       "      <td>42.537402</td>\n",
       "      <td>185.803634</td>\n",
       "      <td>122.041656</td>\n",
       "      <td>33.931138</td>\n",
       "      <td>511.715075</td>\n",
       "    </tr>\n",
       "    <tr>\n",
       "      <td>4</td>\n",
       "      <td>2000-05-01</td>\n",
       "      <td>Canada</td>\n",
       "      <td>596.065626</td>\n",
       "      <td>355.837875</td>\n",
       "      <td>NaN</td>\n",
       "      <td>NaN</td>\n",
       "      <td>369.390836</td>\n",
       "      <td>32.269491</td>\n",
       "      <td>180.196321</td>\n",
       "      <td>121.011815</td>\n",
       "      <td>35.913209</td>\n",
       "      <td>951.903501</td>\n",
       "    </tr>\n",
       "  </tbody>\n",
       "</table>\n",
       "</div>"
      ],
      "text/plain": [
       "        Date  Region  Spec. propane  Total butane  Normal butane  Iso-butane  \\\n",
       "0 2000-01-01  Canada     784.036998    362.449492            NaN         NaN   \n",
       "1 2000-02-01  Canada     356.524189    227.550475            NaN         NaN   \n",
       "2 2000-03-01  Canada     173.564615    138.456572            NaN         NaN   \n",
       "3 2000-04-01  Canada     297.382941    214.332134            NaN         NaN   \n",
       "4 2000-05-01  Canada     596.065626    355.837875            NaN         NaN   \n",
       "\n",
       "    Total mix  C2 in mix   C3 in mix   C4 in mix  Other in mix          LPG  \n",
       "0  399.786525   0.000000  194.177107  148.029764     57.579654  1146.486490  \n",
       "1  383.860440   0.000000  181.748400  140.397040     61.715000   584.074664  \n",
       "2  321.312165   0.015462  155.674621  122.755902     42.866180   312.021187  \n",
       "3  384.313830  42.537402  185.803634  122.041656     33.931138   511.715075  \n",
       "4  369.390836  32.269491  180.196321  121.011815     35.913209   951.903501  "
      ]
     },
     "execution_count": 112,
     "metadata": {},
     "output_type": "execute_result"
    }
   ],
   "source": [
    "df.head()"
   ]
  },
  {
   "cell_type": "code",
   "execution_count": 113,
   "metadata": {},
   "outputs": [],
   "source": [
    "del df['LPG']"
   ]
  },
  {
   "cell_type": "code",
   "execution_count": 114,
   "metadata": {},
   "outputs": [],
   "source": [
    "def change_units(df):\n",
    "    for col in df:\n",
    "        if col not in ['Region','Date']:\n",
    "            df[col] = (df[col]*1000)*6.2898 #note, we are accessing the column with a variable name\n",
    "    return df"
   ]
  },
  {
   "cell_type": "code",
   "execution_count": 115,
   "metadata": {},
   "outputs": [],
   "source": [
    "df_bbl = change_units(df)"
   ]
  },
  {
   "cell_type": "code",
   "execution_count": 116,
   "metadata": {},
   "outputs": [
    {
     "data": {
      "text/html": [
       "<div>\n",
       "<style scoped>\n",
       "    .dataframe tbody tr th:only-of-type {\n",
       "        vertical-align: middle;\n",
       "    }\n",
       "\n",
       "    .dataframe tbody tr th {\n",
       "        vertical-align: top;\n",
       "    }\n",
       "\n",
       "    .dataframe thead th {\n",
       "        text-align: right;\n",
       "    }\n",
       "</style>\n",
       "<table border=\"1\" class=\"dataframe\">\n",
       "  <thead>\n",
       "    <tr style=\"text-align: right;\">\n",
       "      <th></th>\n",
       "      <th>Date</th>\n",
       "      <th>Region</th>\n",
       "      <th>Spec. propane</th>\n",
       "      <th>Total butane</th>\n",
       "      <th>Normal butane</th>\n",
       "      <th>Iso-butane</th>\n",
       "      <th>Total mix</th>\n",
       "      <th>C2 in mix</th>\n",
       "      <th>C3 in mix</th>\n",
       "      <th>C4 in mix</th>\n",
       "      <th>Other in mix</th>\n",
       "    </tr>\n",
       "  </thead>\n",
       "  <tbody>\n",
       "    <tr>\n",
       "      <td>0</td>\n",
       "      <td>2000-01-01</td>\n",
       "      <td>Canada</td>\n",
       "      <td>4.931436e+06</td>\n",
       "      <td>2.279735e+06</td>\n",
       "      <td>NaN</td>\n",
       "      <td>NaN</td>\n",
       "      <td>2.514577e+06</td>\n",
       "      <td>0.000000</td>\n",
       "      <td>1.221335e+06</td>\n",
       "      <td>931077.606777</td>\n",
       "      <td>362164.508358</td>\n",
       "    </tr>\n",
       "    <tr>\n",
       "      <td>1</td>\n",
       "      <td>2000-02-01</td>\n",
       "      <td>Canada</td>\n",
       "      <td>2.242466e+06</td>\n",
       "      <td>1.431247e+06</td>\n",
       "      <td>NaN</td>\n",
       "      <td>NaN</td>\n",
       "      <td>2.414405e+06</td>\n",
       "      <td>0.000000</td>\n",
       "      <td>1.143161e+06</td>\n",
       "      <td>883069.302192</td>\n",
       "      <td>388175.007000</td>\n",
       "    </tr>\n",
       "    <tr>\n",
       "      <td>2</td>\n",
       "      <td>2000-03-01</td>\n",
       "      <td>Canada</td>\n",
       "      <td>1.091687e+06</td>\n",
       "      <td>8.708641e+05</td>\n",
       "      <td>NaN</td>\n",
       "      <td>NaN</td>\n",
       "      <td>2.020989e+06</td>\n",
       "      <td>97.252888</td>\n",
       "      <td>9.791622e+05</td>\n",
       "      <td>772110.075230</td>\n",
       "      <td>269619.698335</td>\n",
       "    </tr>\n",
       "    <tr>\n",
       "      <td>3</td>\n",
       "      <td>2000-04-01</td>\n",
       "      <td>Canada</td>\n",
       "      <td>1.870479e+06</td>\n",
       "      <td>1.348106e+06</td>\n",
       "      <td>NaN</td>\n",
       "      <td>NaN</td>\n",
       "      <td>2.417257e+06</td>\n",
       "      <td>267551.748584</td>\n",
       "      <td>1.168668e+06</td>\n",
       "      <td>767617.610425</td>\n",
       "      <td>213420.074623</td>\n",
       "    </tr>\n",
       "    <tr>\n",
       "      <td>4</td>\n",
       "      <td>2000-05-01</td>\n",
       "      <td>Canada</td>\n",
       "      <td>3.749134e+06</td>\n",
       "      <td>2.238149e+06</td>\n",
       "      <td>NaN</td>\n",
       "      <td>NaN</td>\n",
       "      <td>2.323394e+06</td>\n",
       "      <td>202968.642731</td>\n",
       "      <td>1.133399e+06</td>\n",
       "      <td>761140.115748</td>\n",
       "      <td>225886.900333</td>\n",
       "    </tr>\n",
       "  </tbody>\n",
       "</table>\n",
       "</div>"
      ],
      "text/plain": [
       "        Date  Region  Spec. propane  Total butane  Normal butane  Iso-butane  \\\n",
       "0 2000-01-01  Canada   4.931436e+06  2.279735e+06            NaN         NaN   \n",
       "1 2000-02-01  Canada   2.242466e+06  1.431247e+06            NaN         NaN   \n",
       "2 2000-03-01  Canada   1.091687e+06  8.708641e+05            NaN         NaN   \n",
       "3 2000-04-01  Canada   1.870479e+06  1.348106e+06            NaN         NaN   \n",
       "4 2000-05-01  Canada   3.749134e+06  2.238149e+06            NaN         NaN   \n",
       "\n",
       "      Total mix      C2 in mix     C3 in mix      C4 in mix   Other in mix  \n",
       "0  2.514577e+06       0.000000  1.221335e+06  931077.606777  362164.508358  \n",
       "1  2.414405e+06       0.000000  1.143161e+06  883069.302192  388175.007000  \n",
       "2  2.020989e+06      97.252888  9.791622e+05  772110.075230  269619.698335  \n",
       "3  2.417257e+06  267551.748584  1.168668e+06  767617.610425  213420.074623  \n",
       "4  2.323394e+06  202968.642731  1.133399e+06  761140.115748  225886.900333  "
      ]
     },
     "execution_count": 116,
     "metadata": {},
     "output_type": "execute_result"
    }
   ],
   "source": [
    "df_bbl.head()"
   ]
  },
  {
   "cell_type": "markdown",
   "metadata": {},
   "source": [
    "## Filter dataframes"
   ]
  },
  {
   "cell_type": "code",
   "execution_count": 117,
   "metadata": {},
   "outputs": [],
   "source": [
    "df_large = df[df['Spec. propane']>10000]"
   ]
  },
  {
   "cell_type": "code",
   "execution_count": 118,
   "metadata": {},
   "outputs": [
    {
     "data": {
      "text/html": [
       "<div>\n",
       "<style scoped>\n",
       "    .dataframe tbody tr th:only-of-type {\n",
       "        vertical-align: middle;\n",
       "    }\n",
       "\n",
       "    .dataframe tbody tr th {\n",
       "        vertical-align: top;\n",
       "    }\n",
       "\n",
       "    .dataframe thead th {\n",
       "        text-align: right;\n",
       "    }\n",
       "</style>\n",
       "<table border=\"1\" class=\"dataframe\">\n",
       "  <thead>\n",
       "    <tr style=\"text-align: right;\">\n",
       "      <th></th>\n",
       "      <th>Date</th>\n",
       "      <th>Region</th>\n",
       "      <th>Spec. propane</th>\n",
       "      <th>Total butane</th>\n",
       "      <th>Normal butane</th>\n",
       "      <th>Iso-butane</th>\n",
       "      <th>Total mix</th>\n",
       "      <th>C2 in mix</th>\n",
       "      <th>C3 in mix</th>\n",
       "      <th>C4 in mix</th>\n",
       "      <th>Other in mix</th>\n",
       "    </tr>\n",
       "  </thead>\n",
       "  <tbody>\n",
       "    <tr>\n",
       "      <td>0</td>\n",
       "      <td>2000-01-01</td>\n",
       "      <td>Canada</td>\n",
       "      <td>4.931436e+06</td>\n",
       "      <td>2.279735e+06</td>\n",
       "      <td>NaN</td>\n",
       "      <td>NaN</td>\n",
       "      <td>2.514577e+06</td>\n",
       "      <td>0.000000</td>\n",
       "      <td>1.221335e+06</td>\n",
       "      <td>931077.606777</td>\n",
       "      <td>362164.508358</td>\n",
       "    </tr>\n",
       "    <tr>\n",
       "      <td>1</td>\n",
       "      <td>2000-02-01</td>\n",
       "      <td>Canada</td>\n",
       "      <td>2.242466e+06</td>\n",
       "      <td>1.431247e+06</td>\n",
       "      <td>NaN</td>\n",
       "      <td>NaN</td>\n",
       "      <td>2.414405e+06</td>\n",
       "      <td>0.000000</td>\n",
       "      <td>1.143161e+06</td>\n",
       "      <td>883069.302192</td>\n",
       "      <td>388175.007000</td>\n",
       "    </tr>\n",
       "    <tr>\n",
       "      <td>2</td>\n",
       "      <td>2000-03-01</td>\n",
       "      <td>Canada</td>\n",
       "      <td>1.091687e+06</td>\n",
       "      <td>8.708641e+05</td>\n",
       "      <td>NaN</td>\n",
       "      <td>NaN</td>\n",
       "      <td>2.020989e+06</td>\n",
       "      <td>97.252888</td>\n",
       "      <td>9.791622e+05</td>\n",
       "      <td>772110.075230</td>\n",
       "      <td>269619.698335</td>\n",
       "    </tr>\n",
       "    <tr>\n",
       "      <td>3</td>\n",
       "      <td>2000-04-01</td>\n",
       "      <td>Canada</td>\n",
       "      <td>1.870479e+06</td>\n",
       "      <td>1.348106e+06</td>\n",
       "      <td>NaN</td>\n",
       "      <td>NaN</td>\n",
       "      <td>2.417257e+06</td>\n",
       "      <td>267551.748584</td>\n",
       "      <td>1.168668e+06</td>\n",
       "      <td>767617.610425</td>\n",
       "      <td>213420.074623</td>\n",
       "    </tr>\n",
       "    <tr>\n",
       "      <td>4</td>\n",
       "      <td>2000-05-01</td>\n",
       "      <td>Canada</td>\n",
       "      <td>3.749134e+06</td>\n",
       "      <td>2.238149e+06</td>\n",
       "      <td>NaN</td>\n",
       "      <td>NaN</td>\n",
       "      <td>2.323394e+06</td>\n",
       "      <td>202968.642731</td>\n",
       "      <td>1.133399e+06</td>\n",
       "      <td>761140.115748</td>\n",
       "      <td>225886.900333</td>\n",
       "    </tr>\n",
       "  </tbody>\n",
       "</table>\n",
       "</div>"
      ],
      "text/plain": [
       "        Date  Region  Spec. propane  Total butane  Normal butane  Iso-butane  \\\n",
       "0 2000-01-01  Canada   4.931436e+06  2.279735e+06            NaN         NaN   \n",
       "1 2000-02-01  Canada   2.242466e+06  1.431247e+06            NaN         NaN   \n",
       "2 2000-03-01  Canada   1.091687e+06  8.708641e+05            NaN         NaN   \n",
       "3 2000-04-01  Canada   1.870479e+06  1.348106e+06            NaN         NaN   \n",
       "4 2000-05-01  Canada   3.749134e+06  2.238149e+06            NaN         NaN   \n",
       "\n",
       "      Total mix      C2 in mix     C3 in mix      C4 in mix   Other in mix  \n",
       "0  2.514577e+06       0.000000  1.221335e+06  931077.606777  362164.508358  \n",
       "1  2.414405e+06       0.000000  1.143161e+06  883069.302192  388175.007000  \n",
       "2  2.020989e+06      97.252888  9.791622e+05  772110.075230  269619.698335  \n",
       "3  2.417257e+06  267551.748584  1.168668e+06  767617.610425  213420.074623  \n",
       "4  2.323394e+06  202968.642731  1.133399e+06  761140.115748  225886.900333  "
      ]
     },
     "execution_count": 118,
     "metadata": {},
     "output_type": "execute_result"
    }
   ],
   "source": [
    "df_large.head()"
   ]
  },
  {
   "cell_type": "markdown",
   "metadata": {},
   "source": [
    "## Flat data"
   ]
  },
  {
   "cell_type": "code",
   "execution_count": 502,
   "metadata": {},
   "outputs": [
    {
     "data": {
      "text/plain": [
       "array(['Canada', 'Eastern Canada / Est Canadien',\n",
       "       'Western Canada / Ouest Canadien'], dtype=object)"
      ]
     },
     "execution_count": 502,
     "metadata": {},
     "output_type": "execute_result"
    }
   ],
   "source": [
    "region_names = df['Region'].unique() #same as select distinct in SQL\n",
    "region_names"
   ]
  },
  {
   "cell_type": "code",
   "execution_count": 503,
   "metadata": {},
   "outputs": [
    {
     "data": {
      "text/plain": [
       "{'Canada': 'Canada',\n",
       " 'Eastern Canada / Est Canadien': 'Eastern Canada',\n",
       " 'Western Canada / Ouest Canadien': 'Western Canada'}"
      ]
     },
     "execution_count": 503,
     "metadata": {},
     "output_type": "execute_result"
    }
   ],
   "source": [
    "new_regions = english_only(region_names)\n",
    "new_regions"
   ]
  },
  {
   "cell_type": "code",
   "execution_count": 504,
   "metadata": {},
   "outputs": [
    {
     "data": {
      "text/plain": [
       "array(['Canada', 'Eastern Canada', 'Western Canada'], dtype=object)"
      ]
     },
     "execution_count": 504,
     "metadata": {},
     "output_type": "execute_result"
    }
   ],
   "source": [
    "df['Region'] = df['Region'].replace(new_regions)\n",
    "#could also do the following: df['Region'] = [x.split('/')[0].strip() for x in df['Region']]\n",
    "df['Region'].unique()"
   ]
  },
  {
   "cell_type": "code",
   "execution_count": 505,
   "metadata": {},
   "outputs": [
    {
     "name": "stdout",
     "output_type": "stream",
     "text": [
      "(246, 11)\n",
      "(246, 11)\n",
      "(246, 11)\n"
     ]
    }
   ],
   "source": [
    "for r in df['Region'].unique():\n",
    "    df_region = df[df['Region']==r]\n",
    "    print(df_region.shape)\n",
    "\n",
    "#three seperate datasets, one on top of the other. Pandas can handle this easily. Excel cant..."
   ]
  },
  {
   "cell_type": "code",
   "execution_count": 506,
   "metadata": {},
   "outputs": [],
   "source": [
    "#why would we want to do this? We probably dont. There are better ways to access data groups, see below...\n",
    "regions = {region_name:df[df['Region']==region_name].copy() for region_name in df['Region'].unique()}"
   ]
  },
  {
   "cell_type": "code",
   "execution_count": 507,
   "metadata": {},
   "outputs": [],
   "source": [
    "for key, value in regions.items():\n",
    "    value = value.set_index('Date')"
   ]
  },
  {
   "cell_type": "code",
   "execution_count": 508,
   "metadata": {},
   "outputs": [
    {
     "data": {
      "text/html": [
       "<div>\n",
       "<style scoped>\n",
       "    .dataframe tbody tr th:only-of-type {\n",
       "        vertical-align: middle;\n",
       "    }\n",
       "\n",
       "    .dataframe tbody tr th {\n",
       "        vertical-align: top;\n",
       "    }\n",
       "\n",
       "    .dataframe thead th {\n",
       "        text-align: right;\n",
       "    }\n",
       "</style>\n",
       "<table border=\"1\" class=\"dataframe\">\n",
       "  <thead>\n",
       "    <tr style=\"text-align: right;\">\n",
       "      <th></th>\n",
       "      <th>Date</th>\n",
       "      <th>Region</th>\n",
       "      <th>Spec. propane</th>\n",
       "      <th>Total butane</th>\n",
       "      <th>Normal butane</th>\n",
       "      <th>Iso-butane</th>\n",
       "      <th>Total mix</th>\n",
       "      <th>C2 in mix</th>\n",
       "      <th>C3 in mix</th>\n",
       "      <th>C4 in mix</th>\n",
       "      <th>Other in mix</th>\n",
       "    </tr>\n",
       "  </thead>\n",
       "  <tbody>\n",
       "    <tr>\n",
       "      <td>0</td>\n",
       "      <td>2000-01-01</td>\n",
       "      <td>Canada</td>\n",
       "      <td>4.931436e+06</td>\n",
       "      <td>2.279735e+06</td>\n",
       "      <td>NaN</td>\n",
       "      <td>NaN</td>\n",
       "      <td>2.514577e+06</td>\n",
       "      <td>0.000000</td>\n",
       "      <td>1.221335e+06</td>\n",
       "      <td>931077.606777</td>\n",
       "      <td>362164.508358</td>\n",
       "    </tr>\n",
       "    <tr>\n",
       "      <td>1</td>\n",
       "      <td>2000-02-01</td>\n",
       "      <td>Canada</td>\n",
       "      <td>2.242466e+06</td>\n",
       "      <td>1.431247e+06</td>\n",
       "      <td>NaN</td>\n",
       "      <td>NaN</td>\n",
       "      <td>2.414405e+06</td>\n",
       "      <td>0.000000</td>\n",
       "      <td>1.143161e+06</td>\n",
       "      <td>883069.302192</td>\n",
       "      <td>388175.007000</td>\n",
       "    </tr>\n",
       "    <tr>\n",
       "      <td>2</td>\n",
       "      <td>2000-03-01</td>\n",
       "      <td>Canada</td>\n",
       "      <td>1.091687e+06</td>\n",
       "      <td>8.708641e+05</td>\n",
       "      <td>NaN</td>\n",
       "      <td>NaN</td>\n",
       "      <td>2.020989e+06</td>\n",
       "      <td>97.252888</td>\n",
       "      <td>9.791622e+05</td>\n",
       "      <td>772110.075230</td>\n",
       "      <td>269619.698335</td>\n",
       "    </tr>\n",
       "    <tr>\n",
       "      <td>3</td>\n",
       "      <td>2000-04-01</td>\n",
       "      <td>Canada</td>\n",
       "      <td>1.870479e+06</td>\n",
       "      <td>1.348106e+06</td>\n",
       "      <td>NaN</td>\n",
       "      <td>NaN</td>\n",
       "      <td>2.417257e+06</td>\n",
       "      <td>267551.748584</td>\n",
       "      <td>1.168668e+06</td>\n",
       "      <td>767617.610425</td>\n",
       "      <td>213420.074623</td>\n",
       "    </tr>\n",
       "    <tr>\n",
       "      <td>4</td>\n",
       "      <td>2000-05-01</td>\n",
       "      <td>Canada</td>\n",
       "      <td>3.749134e+06</td>\n",
       "      <td>2.238149e+06</td>\n",
       "      <td>NaN</td>\n",
       "      <td>NaN</td>\n",
       "      <td>2.323394e+06</td>\n",
       "      <td>202968.642731</td>\n",
       "      <td>1.133399e+06</td>\n",
       "      <td>761140.115748</td>\n",
       "      <td>225886.900333</td>\n",
       "    </tr>\n",
       "  </tbody>\n",
       "</table>\n",
       "</div>"
      ],
      "text/plain": [
       "        Date  Region  Spec. propane  Total butane  Normal butane  Iso-butane  \\\n",
       "0 2000-01-01  Canada   4.931436e+06  2.279735e+06            NaN         NaN   \n",
       "1 2000-02-01  Canada   2.242466e+06  1.431247e+06            NaN         NaN   \n",
       "2 2000-03-01  Canada   1.091687e+06  8.708641e+05            NaN         NaN   \n",
       "3 2000-04-01  Canada   1.870479e+06  1.348106e+06            NaN         NaN   \n",
       "4 2000-05-01  Canada   3.749134e+06  2.238149e+06            NaN         NaN   \n",
       "\n",
       "      Total mix      C2 in mix     C3 in mix      C4 in mix   Other in mix  \n",
       "0  2.514577e+06       0.000000  1.221335e+06  931077.606777  362164.508358  \n",
       "1  2.414405e+06       0.000000  1.143161e+06  883069.302192  388175.007000  \n",
       "2  2.020989e+06      97.252888  9.791622e+05  772110.075230  269619.698335  \n",
       "3  2.417257e+06  267551.748584  1.168668e+06  767617.610425  213420.074623  \n",
       "4  2.323394e+06  202968.642731  1.133399e+06  761140.115748  225886.900333  "
      ]
     },
     "execution_count": 508,
     "metadata": {},
     "output_type": "execute_result"
    }
   ],
   "source": [
    "regions['Canada'].head()"
   ]
  },
  {
   "cell_type": "code",
   "execution_count": 509,
   "metadata": {},
   "outputs": [],
   "source": [
    "#regions\n",
    "#DataFrames can be contained inside any other data structure. Try to use this to your advantage"
   ]
  },
  {
   "cell_type": "markdown",
   "metadata": {},
   "source": [
    "## Split apply combine\n",
    "https://pandas.pydata.org/pandas-docs/stable/user_guide/groupby.html\n",
    "\n",
    "1) Splitting the data into groups based on some criteria.\n",
    "\n",
    "2) Applying a function to each group independently.\n",
    "\n",
    "3) Combining the results into a data structure."
   ]
  },
  {
   "cell_type": "code",
   "execution_count": 510,
   "metadata": {},
   "outputs": [],
   "source": [
    "grouped = df.groupby('Region') \n",
    "grouped_sum = df.groupby('Region').sum() #split: Region, Apply: Sum, Combine: Region\n",
    "#grouped_avg = df.groupby('Region').avg()"
   ]
  },
  {
   "cell_type": "code",
   "execution_count": 511,
   "metadata": {},
   "outputs": [
    {
     "data": {
      "text/html": [
       "<div>\n",
       "<style scoped>\n",
       "    .dataframe tbody tr th:only-of-type {\n",
       "        vertical-align: middle;\n",
       "    }\n",
       "\n",
       "    .dataframe tbody tr th {\n",
       "        vertical-align: top;\n",
       "    }\n",
       "\n",
       "    .dataframe thead th {\n",
       "        text-align: right;\n",
       "    }\n",
       "</style>\n",
       "<table border=\"1\" class=\"dataframe\">\n",
       "  <thead>\n",
       "    <tr style=\"text-align: right;\">\n",
       "      <th></th>\n",
       "      <th>Spec. propane</th>\n",
       "      <th>Total butane</th>\n",
       "      <th>Normal butane</th>\n",
       "      <th>Iso-butane</th>\n",
       "      <th>Total mix</th>\n",
       "      <th>C2 in mix</th>\n",
       "      <th>C3 in mix</th>\n",
       "      <th>C4 in mix</th>\n",
       "      <th>Other in mix</th>\n",
       "    </tr>\n",
       "    <tr>\n",
       "      <th>Region</th>\n",
       "      <th></th>\n",
       "      <th></th>\n",
       "      <th></th>\n",
       "      <th></th>\n",
       "      <th></th>\n",
       "      <th></th>\n",
       "      <th></th>\n",
       "      <th></th>\n",
       "      <th></th>\n",
       "    </tr>\n",
       "  </thead>\n",
       "  <tbody>\n",
       "    <tr>\n",
       "      <td>Canada</td>\n",
       "      <td>1.608591e+09</td>\n",
       "      <td>1.014522e+09</td>\n",
       "      <td>0.000000e+00</td>\n",
       "      <td>0.000000e+00</td>\n",
       "      <td>1.030642e+09</td>\n",
       "      <td>1.110643e+08</td>\n",
       "      <td>4.907900e+08</td>\n",
       "      <td>3.214580e+08</td>\n",
       "      <td>1.073295e+08</td>\n",
       "    </tr>\n",
       "    <tr>\n",
       "      <td>Eastern Canada</td>\n",
       "      <td>6.830610e+08</td>\n",
       "      <td>3.841216e+08</td>\n",
       "      <td>3.318509e+08</td>\n",
       "      <td>5.227069e+07</td>\n",
       "      <td>3.397393e+08</td>\n",
       "      <td>2.510784e+07</td>\n",
       "      <td>1.663478e+08</td>\n",
       "      <td>1.148196e+08</td>\n",
       "      <td>3.346402e+07</td>\n",
       "    </tr>\n",
       "    <tr>\n",
       "      <td>Western Canada</td>\n",
       "      <td>9.255298e+08</td>\n",
       "      <td>6.304002e+08</td>\n",
       "      <td>0.000000e+00</td>\n",
       "      <td>0.000000e+00</td>\n",
       "      <td>6.909024e+08</td>\n",
       "      <td>8.595642e+07</td>\n",
       "      <td>3.244422e+08</td>\n",
       "      <td>2.066383e+08</td>\n",
       "      <td>7.386543e+07</td>\n",
       "    </tr>\n",
       "  </tbody>\n",
       "</table>\n",
       "</div>"
      ],
      "text/plain": [
       "                Spec. propane  Total butane  Normal butane    Iso-butane  \\\n",
       "Region                                                                     \n",
       "Canada           1.608591e+09  1.014522e+09   0.000000e+00  0.000000e+00   \n",
       "Eastern Canada   6.830610e+08  3.841216e+08   3.318509e+08  5.227069e+07   \n",
       "Western Canada   9.255298e+08  6.304002e+08   0.000000e+00  0.000000e+00   \n",
       "\n",
       "                   Total mix     C2 in mix     C3 in mix     C4 in mix  \\\n",
       "Region                                                                   \n",
       "Canada          1.030642e+09  1.110643e+08  4.907900e+08  3.214580e+08   \n",
       "Eastern Canada  3.397393e+08  2.510784e+07  1.663478e+08  1.148196e+08   \n",
       "Western Canada  6.909024e+08  8.595642e+07  3.244422e+08  2.066383e+08   \n",
       "\n",
       "                Other in mix  \n",
       "Region                        \n",
       "Canada          1.073295e+08  \n",
       "Eastern Canada  3.346402e+07  \n",
       "Western Canada  7.386543e+07  "
      ]
     },
     "execution_count": 511,
     "metadata": {},
     "output_type": "execute_result"
    }
   ],
   "source": [
    "grouped_sum"
   ]
  },
  {
   "cell_type": "code",
   "execution_count": 512,
   "metadata": {},
   "outputs": [
    {
     "data": {
      "text/html": [
       "<div>\n",
       "<style scoped>\n",
       "    .dataframe tbody tr th:only-of-type {\n",
       "        vertical-align: middle;\n",
       "    }\n",
       "\n",
       "    .dataframe tbody tr th {\n",
       "        vertical-align: top;\n",
       "    }\n",
       "\n",
       "    .dataframe thead th {\n",
       "        text-align: right;\n",
       "    }\n",
       "</style>\n",
       "<table border=\"1\" class=\"dataframe\">\n",
       "  <thead>\n",
       "    <tr style=\"text-align: right;\">\n",
       "      <th></th>\n",
       "      <th>Date</th>\n",
       "      <th>Region</th>\n",
       "      <th>Spec. propane</th>\n",
       "      <th>Total butane</th>\n",
       "      <th>Normal butane</th>\n",
       "      <th>Iso-butane</th>\n",
       "      <th>Total mix</th>\n",
       "      <th>C2 in mix</th>\n",
       "      <th>C3 in mix</th>\n",
       "      <th>C4 in mix</th>\n",
       "      <th>Other in mix</th>\n",
       "    </tr>\n",
       "  </thead>\n",
       "  <tbody>\n",
       "    <tr>\n",
       "      <td>0</td>\n",
       "      <td>2000-01-01</td>\n",
       "      <td>Canada</td>\n",
       "      <td>4.931436e+06</td>\n",
       "      <td>2.279735e+06</td>\n",
       "      <td>NaN</td>\n",
       "      <td>NaN</td>\n",
       "      <td>2.514577e+06</td>\n",
       "      <td>0.000000</td>\n",
       "      <td>1.221335e+06</td>\n",
       "      <td>9.310776e+05</td>\n",
       "      <td>362164.508358</td>\n",
       "    </tr>\n",
       "    <tr>\n",
       "      <td>1</td>\n",
       "      <td>2000-02-01</td>\n",
       "      <td>Canada</td>\n",
       "      <td>2.242466e+06</td>\n",
       "      <td>1.431247e+06</td>\n",
       "      <td>NaN</td>\n",
       "      <td>NaN</td>\n",
       "      <td>2.414405e+06</td>\n",
       "      <td>0.000000</td>\n",
       "      <td>1.143161e+06</td>\n",
       "      <td>8.830693e+05</td>\n",
       "      <td>388175.007000</td>\n",
       "    </tr>\n",
       "    <tr>\n",
       "      <td>2</td>\n",
       "      <td>2000-03-01</td>\n",
       "      <td>Canada</td>\n",
       "      <td>1.091687e+06</td>\n",
       "      <td>8.708641e+05</td>\n",
       "      <td>NaN</td>\n",
       "      <td>NaN</td>\n",
       "      <td>2.020989e+06</td>\n",
       "      <td>97.252888</td>\n",
       "      <td>9.791622e+05</td>\n",
       "      <td>7.721101e+05</td>\n",
       "      <td>269619.698335</td>\n",
       "    </tr>\n",
       "    <tr>\n",
       "      <td>3</td>\n",
       "      <td>2000-04-01</td>\n",
       "      <td>Canada</td>\n",
       "      <td>1.870479e+06</td>\n",
       "      <td>1.348106e+06</td>\n",
       "      <td>NaN</td>\n",
       "      <td>NaN</td>\n",
       "      <td>2.417257e+06</td>\n",
       "      <td>267551.748584</td>\n",
       "      <td>1.168668e+06</td>\n",
       "      <td>7.676176e+05</td>\n",
       "      <td>213420.074623</td>\n",
       "    </tr>\n",
       "    <tr>\n",
       "      <td>4</td>\n",
       "      <td>2000-05-01</td>\n",
       "      <td>Canada</td>\n",
       "      <td>3.749134e+06</td>\n",
       "      <td>2.238149e+06</td>\n",
       "      <td>NaN</td>\n",
       "      <td>NaN</td>\n",
       "      <td>2.323394e+06</td>\n",
       "      <td>202968.642731</td>\n",
       "      <td>1.133399e+06</td>\n",
       "      <td>7.611401e+05</td>\n",
       "      <td>225886.900333</td>\n",
       "    </tr>\n",
       "    <tr>\n",
       "      <td>...</td>\n",
       "      <td>...</td>\n",
       "      <td>...</td>\n",
       "      <td>...</td>\n",
       "      <td>...</td>\n",
       "      <td>...</td>\n",
       "      <td>...</td>\n",
       "      <td>...</td>\n",
       "      <td>...</td>\n",
       "      <td>...</td>\n",
       "      <td>...</td>\n",
       "      <td>...</td>\n",
       "    </tr>\n",
       "    <tr>\n",
       "      <td>241</td>\n",
       "      <td>2020-02-01</td>\n",
       "      <td>Canada</td>\n",
       "      <td>2.859761e+06</td>\n",
       "      <td>1.872114e+06</td>\n",
       "      <td>NaN</td>\n",
       "      <td>NaN</td>\n",
       "      <td>4.065850e+06</td>\n",
       "      <td>770519.177687</td>\n",
       "      <td>1.625785e+06</td>\n",
       "      <td>1.120423e+06</td>\n",
       "      <td>549122.907173</td>\n",
       "    </tr>\n",
       "    <tr>\n",
       "      <td>242</td>\n",
       "      <td>2020-03-01</td>\n",
       "      <td>Canada</td>\n",
       "      <td>2.487150e+06</td>\n",
       "      <td>1.776794e+06</td>\n",
       "      <td>NaN</td>\n",
       "      <td>NaN</td>\n",
       "      <td>3.471635e+06</td>\n",
       "      <td>493531.936463</td>\n",
       "      <td>1.533361e+06</td>\n",
       "      <td>1.026061e+06</td>\n",
       "      <td>418681.608939</td>\n",
       "    </tr>\n",
       "    <tr>\n",
       "      <td>243</td>\n",
       "      <td>2020-04-01</td>\n",
       "      <td>Canada</td>\n",
       "      <td>2.593480e+06</td>\n",
       "      <td>2.226965e+06</td>\n",
       "      <td>NaN</td>\n",
       "      <td>NaN</td>\n",
       "      <td>3.703944e+06</td>\n",
       "      <td>589901.928485</td>\n",
       "      <td>1.598192e+06</td>\n",
       "      <td>1.061124e+06</td>\n",
       "      <td>454726.414750</td>\n",
       "    </tr>\n",
       "    <tr>\n",
       "      <td>244</td>\n",
       "      <td>2020-05-01</td>\n",
       "      <td>Canada</td>\n",
       "      <td>4.147479e+06</td>\n",
       "      <td>4.089418e+06</td>\n",
       "      <td>NaN</td>\n",
       "      <td>NaN</td>\n",
       "      <td>4.505108e+06</td>\n",
       "      <td>798749.724011</td>\n",
       "      <td>1.851259e+06</td>\n",
       "      <td>1.241534e+06</td>\n",
       "      <td>613565.346870</td>\n",
       "    </tr>\n",
       "    <tr>\n",
       "      <td>245</td>\n",
       "      <td>2020-06-01</td>\n",
       "      <td>Canada</td>\n",
       "      <td>6.668965e+06</td>\n",
       "      <td>5.392711e+06</td>\n",
       "      <td>NaN</td>\n",
       "      <td>NaN</td>\n",
       "      <td>4.221580e+06</td>\n",
       "      <td>553813.966375</td>\n",
       "      <td>1.819747e+06</td>\n",
       "      <td>1.262461e+06</td>\n",
       "      <td>585558.085395</td>\n",
       "    </tr>\n",
       "  </tbody>\n",
       "</table>\n",
       "<p>246 rows × 11 columns</p>\n",
       "</div>"
      ],
      "text/plain": [
       "          Date  Region  Spec. propane  Total butane  Normal butane  \\\n",
       "0   2000-01-01  Canada   4.931436e+06  2.279735e+06            NaN   \n",
       "1   2000-02-01  Canada   2.242466e+06  1.431247e+06            NaN   \n",
       "2   2000-03-01  Canada   1.091687e+06  8.708641e+05            NaN   \n",
       "3   2000-04-01  Canada   1.870479e+06  1.348106e+06            NaN   \n",
       "4   2000-05-01  Canada   3.749134e+06  2.238149e+06            NaN   \n",
       "..         ...     ...            ...           ...            ...   \n",
       "241 2020-02-01  Canada   2.859761e+06  1.872114e+06            NaN   \n",
       "242 2020-03-01  Canada   2.487150e+06  1.776794e+06            NaN   \n",
       "243 2020-04-01  Canada   2.593480e+06  2.226965e+06            NaN   \n",
       "244 2020-05-01  Canada   4.147479e+06  4.089418e+06            NaN   \n",
       "245 2020-06-01  Canada   6.668965e+06  5.392711e+06            NaN   \n",
       "\n",
       "     Iso-butane     Total mix      C2 in mix     C3 in mix     C4 in mix  \\\n",
       "0           NaN  2.514577e+06       0.000000  1.221335e+06  9.310776e+05   \n",
       "1           NaN  2.414405e+06       0.000000  1.143161e+06  8.830693e+05   \n",
       "2           NaN  2.020989e+06      97.252888  9.791622e+05  7.721101e+05   \n",
       "3           NaN  2.417257e+06  267551.748584  1.168668e+06  7.676176e+05   \n",
       "4           NaN  2.323394e+06  202968.642731  1.133399e+06  7.611401e+05   \n",
       "..          ...           ...            ...           ...           ...   \n",
       "241         NaN  4.065850e+06  770519.177687  1.625785e+06  1.120423e+06   \n",
       "242         NaN  3.471635e+06  493531.936463  1.533361e+06  1.026061e+06   \n",
       "243         NaN  3.703944e+06  589901.928485  1.598192e+06  1.061124e+06   \n",
       "244         NaN  4.505108e+06  798749.724011  1.851259e+06  1.241534e+06   \n",
       "245         NaN  4.221580e+06  553813.966375  1.819747e+06  1.262461e+06   \n",
       "\n",
       "      Other in mix  \n",
       "0    362164.508358  \n",
       "1    388175.007000  \n",
       "2    269619.698335  \n",
       "3    213420.074623  \n",
       "4    225886.900333  \n",
       "..             ...  \n",
       "241  549122.907173  \n",
       "242  418681.608939  \n",
       "243  454726.414750  \n",
       "244  613565.346870  \n",
       "245  585558.085395  \n",
       "\n",
       "[246 rows x 11 columns]"
      ]
     },
     "execution_count": 512,
     "metadata": {},
     "output_type": "execute_result"
    }
   ],
   "source": [
    "grouped.get_group('Canada')"
   ]
  },
  {
   "cell_type": "code",
   "execution_count": 513,
   "metadata": {},
   "outputs": [],
   "source": [
    "new_group = []\n",
    "for name,group in grouped:\n",
    "    #print(name)\n",
    "    #print(group)\n",
    "    group = group.copy()\n",
    "    group['propane injection'] = group['Spec. propane'] - group['Spec. propane'].shift(1)\n",
    "    new_group.append(group)\n",
    "df = pd.concat(new_group, ignore_index=True)"
   ]
  },
  {
   "cell_type": "code",
   "execution_count": 514,
   "metadata": {},
   "outputs": [
    {
     "data": {
      "text/html": [
       "<div>\n",
       "<style scoped>\n",
       "    .dataframe tbody tr th:only-of-type {\n",
       "        vertical-align: middle;\n",
       "    }\n",
       "\n",
       "    .dataframe tbody tr th {\n",
       "        vertical-align: top;\n",
       "    }\n",
       "\n",
       "    .dataframe thead th {\n",
       "        text-align: right;\n",
       "    }\n",
       "</style>\n",
       "<table border=\"1\" class=\"dataframe\">\n",
       "  <thead>\n",
       "    <tr style=\"text-align: right;\">\n",
       "      <th></th>\n",
       "      <th>Date</th>\n",
       "      <th>Region</th>\n",
       "      <th>Spec. propane</th>\n",
       "      <th>Total butane</th>\n",
       "      <th>Normal butane</th>\n",
       "      <th>Iso-butane</th>\n",
       "      <th>Total mix</th>\n",
       "      <th>C2 in mix</th>\n",
       "      <th>C3 in mix</th>\n",
       "      <th>C4 in mix</th>\n",
       "      <th>Other in mix</th>\n",
       "      <th>propane injection</th>\n",
       "    </tr>\n",
       "  </thead>\n",
       "  <tbody>\n",
       "    <tr>\n",
       "      <td>0</td>\n",
       "      <td>2000-01-01</td>\n",
       "      <td>Canada</td>\n",
       "      <td>4.931436e+06</td>\n",
       "      <td>2.279735e+06</td>\n",
       "      <td>NaN</td>\n",
       "      <td>NaN</td>\n",
       "      <td>2.514577e+06</td>\n",
       "      <td>0.000000</td>\n",
       "      <td>1.221335e+06</td>\n",
       "      <td>931077.606777</td>\n",
       "      <td>362164.508358</td>\n",
       "      <td>NaN</td>\n",
       "    </tr>\n",
       "    <tr>\n",
       "      <td>1</td>\n",
       "      <td>2000-02-01</td>\n",
       "      <td>Canada</td>\n",
       "      <td>2.242466e+06</td>\n",
       "      <td>1.431247e+06</td>\n",
       "      <td>NaN</td>\n",
       "      <td>NaN</td>\n",
       "      <td>2.414405e+06</td>\n",
       "      <td>0.000000</td>\n",
       "      <td>1.143161e+06</td>\n",
       "      <td>883069.302192</td>\n",
       "      <td>388175.007000</td>\n",
       "      <td>-2.688970e+06</td>\n",
       "    </tr>\n",
       "    <tr>\n",
       "      <td>2</td>\n",
       "      <td>2000-03-01</td>\n",
       "      <td>Canada</td>\n",
       "      <td>1.091687e+06</td>\n",
       "      <td>8.708641e+05</td>\n",
       "      <td>NaN</td>\n",
       "      <td>NaN</td>\n",
       "      <td>2.020989e+06</td>\n",
       "      <td>97.252888</td>\n",
       "      <td>9.791622e+05</td>\n",
       "      <td>772110.075230</td>\n",
       "      <td>269619.698335</td>\n",
       "      <td>-1.150779e+06</td>\n",
       "    </tr>\n",
       "    <tr>\n",
       "      <td>3</td>\n",
       "      <td>2000-04-01</td>\n",
       "      <td>Canada</td>\n",
       "      <td>1.870479e+06</td>\n",
       "      <td>1.348106e+06</td>\n",
       "      <td>NaN</td>\n",
       "      <td>NaN</td>\n",
       "      <td>2.417257e+06</td>\n",
       "      <td>267551.748584</td>\n",
       "      <td>1.168668e+06</td>\n",
       "      <td>767617.610425</td>\n",
       "      <td>213420.074623</td>\n",
       "      <td>7.787925e+05</td>\n",
       "    </tr>\n",
       "    <tr>\n",
       "      <td>4</td>\n",
       "      <td>2000-05-01</td>\n",
       "      <td>Canada</td>\n",
       "      <td>3.749134e+06</td>\n",
       "      <td>2.238149e+06</td>\n",
       "      <td>NaN</td>\n",
       "      <td>NaN</td>\n",
       "      <td>2.323394e+06</td>\n",
       "      <td>202968.642731</td>\n",
       "      <td>1.133399e+06</td>\n",
       "      <td>761140.115748</td>\n",
       "      <td>225886.900333</td>\n",
       "      <td>1.878654e+06</td>\n",
       "    </tr>\n",
       "  </tbody>\n",
       "</table>\n",
       "</div>"
      ],
      "text/plain": [
       "        Date  Region  Spec. propane  Total butane  Normal butane  Iso-butane  \\\n",
       "0 2000-01-01  Canada   4.931436e+06  2.279735e+06            NaN         NaN   \n",
       "1 2000-02-01  Canada   2.242466e+06  1.431247e+06            NaN         NaN   \n",
       "2 2000-03-01  Canada   1.091687e+06  8.708641e+05            NaN         NaN   \n",
       "3 2000-04-01  Canada   1.870479e+06  1.348106e+06            NaN         NaN   \n",
       "4 2000-05-01  Canada   3.749134e+06  2.238149e+06            NaN         NaN   \n",
       "\n",
       "      Total mix      C2 in mix     C3 in mix      C4 in mix   Other in mix  \\\n",
       "0  2.514577e+06       0.000000  1.221335e+06  931077.606777  362164.508358   \n",
       "1  2.414405e+06       0.000000  1.143161e+06  883069.302192  388175.007000   \n",
       "2  2.020989e+06      97.252888  9.791622e+05  772110.075230  269619.698335   \n",
       "3  2.417257e+06  267551.748584  1.168668e+06  767617.610425  213420.074623   \n",
       "4  2.323394e+06  202968.642731  1.133399e+06  761140.115748  225886.900333   \n",
       "\n",
       "   propane injection  \n",
       "0                NaN  \n",
       "1      -2.688970e+06  \n",
       "2      -1.150779e+06  \n",
       "3       7.787925e+05  \n",
       "4       1.878654e+06  "
      ]
     },
     "execution_count": 514,
     "metadata": {},
     "output_type": "execute_result"
    }
   ],
   "source": [
    "df.head()"
   ]
  },
  {
   "cell_type": "code",
   "execution_count": 515,
   "metadata": {},
   "outputs": [],
   "source": [
    "#another way\n",
    "new_group = []\n",
    "for r in df['Region'].unique():\n",
    "    df_r = df[df['Region']==r].copy()\n",
    "    #df_r.to_csv(r+'.csv',index=False)\n",
    "    df_r['propane injection'] = df_r['Spec. propane'] - df_r['Spec. propane'].shift(1)\n",
    "    new_group.append(df_r)\n",
    "df = pd.concat(new_group, ignore_index=True)"
   ]
  },
  {
   "cell_type": "code",
   "execution_count": 516,
   "metadata": {},
   "outputs": [
    {
     "data": {
      "text/html": [
       "<div>\n",
       "<style scoped>\n",
       "    .dataframe tbody tr th:only-of-type {\n",
       "        vertical-align: middle;\n",
       "    }\n",
       "\n",
       "    .dataframe tbody tr th {\n",
       "        vertical-align: top;\n",
       "    }\n",
       "\n",
       "    .dataframe thead th {\n",
       "        text-align: right;\n",
       "    }\n",
       "</style>\n",
       "<table border=\"1\" class=\"dataframe\">\n",
       "  <thead>\n",
       "    <tr style=\"text-align: right;\">\n",
       "      <th></th>\n",
       "      <th>Date</th>\n",
       "      <th>Region</th>\n",
       "      <th>Spec. propane</th>\n",
       "      <th>Total butane</th>\n",
       "      <th>Normal butane</th>\n",
       "      <th>Iso-butane</th>\n",
       "      <th>Total mix</th>\n",
       "      <th>C2 in mix</th>\n",
       "      <th>C3 in mix</th>\n",
       "      <th>C4 in mix</th>\n",
       "      <th>Other in mix</th>\n",
       "      <th>propane injection</th>\n",
       "    </tr>\n",
       "  </thead>\n",
       "  <tbody>\n",
       "    <tr>\n",
       "      <td>0</td>\n",
       "      <td>2000-01-01</td>\n",
       "      <td>Canada</td>\n",
       "      <td>4.931436e+06</td>\n",
       "      <td>2.279735e+06</td>\n",
       "      <td>NaN</td>\n",
       "      <td>NaN</td>\n",
       "      <td>2.514577e+06</td>\n",
       "      <td>0.000000</td>\n",
       "      <td>1.221335e+06</td>\n",
       "      <td>931077.606777</td>\n",
       "      <td>362164.508358</td>\n",
       "      <td>NaN</td>\n",
       "    </tr>\n",
       "    <tr>\n",
       "      <td>1</td>\n",
       "      <td>2000-02-01</td>\n",
       "      <td>Canada</td>\n",
       "      <td>2.242466e+06</td>\n",
       "      <td>1.431247e+06</td>\n",
       "      <td>NaN</td>\n",
       "      <td>NaN</td>\n",
       "      <td>2.414405e+06</td>\n",
       "      <td>0.000000</td>\n",
       "      <td>1.143161e+06</td>\n",
       "      <td>883069.302192</td>\n",
       "      <td>388175.007000</td>\n",
       "      <td>-2.688970e+06</td>\n",
       "    </tr>\n",
       "    <tr>\n",
       "      <td>2</td>\n",
       "      <td>2000-03-01</td>\n",
       "      <td>Canada</td>\n",
       "      <td>1.091687e+06</td>\n",
       "      <td>8.708641e+05</td>\n",
       "      <td>NaN</td>\n",
       "      <td>NaN</td>\n",
       "      <td>2.020989e+06</td>\n",
       "      <td>97.252888</td>\n",
       "      <td>9.791622e+05</td>\n",
       "      <td>772110.075230</td>\n",
       "      <td>269619.698335</td>\n",
       "      <td>-1.150779e+06</td>\n",
       "    </tr>\n",
       "    <tr>\n",
       "      <td>3</td>\n",
       "      <td>2000-04-01</td>\n",
       "      <td>Canada</td>\n",
       "      <td>1.870479e+06</td>\n",
       "      <td>1.348106e+06</td>\n",
       "      <td>NaN</td>\n",
       "      <td>NaN</td>\n",
       "      <td>2.417257e+06</td>\n",
       "      <td>267551.748584</td>\n",
       "      <td>1.168668e+06</td>\n",
       "      <td>767617.610425</td>\n",
       "      <td>213420.074623</td>\n",
       "      <td>7.787925e+05</td>\n",
       "    </tr>\n",
       "    <tr>\n",
       "      <td>4</td>\n",
       "      <td>2000-05-01</td>\n",
       "      <td>Canada</td>\n",
       "      <td>3.749134e+06</td>\n",
       "      <td>2.238149e+06</td>\n",
       "      <td>NaN</td>\n",
       "      <td>NaN</td>\n",
       "      <td>2.323394e+06</td>\n",
       "      <td>202968.642731</td>\n",
       "      <td>1.133399e+06</td>\n",
       "      <td>761140.115748</td>\n",
       "      <td>225886.900333</td>\n",
       "      <td>1.878654e+06</td>\n",
       "    </tr>\n",
       "  </tbody>\n",
       "</table>\n",
       "</div>"
      ],
      "text/plain": [
       "        Date  Region  Spec. propane  Total butane  Normal butane  Iso-butane  \\\n",
       "0 2000-01-01  Canada   4.931436e+06  2.279735e+06            NaN         NaN   \n",
       "1 2000-02-01  Canada   2.242466e+06  1.431247e+06            NaN         NaN   \n",
       "2 2000-03-01  Canada   1.091687e+06  8.708641e+05            NaN         NaN   \n",
       "3 2000-04-01  Canada   1.870479e+06  1.348106e+06            NaN         NaN   \n",
       "4 2000-05-01  Canada   3.749134e+06  2.238149e+06            NaN         NaN   \n",
       "\n",
       "      Total mix      C2 in mix     C3 in mix      C4 in mix   Other in mix  \\\n",
       "0  2.514577e+06       0.000000  1.221335e+06  931077.606777  362164.508358   \n",
       "1  2.414405e+06       0.000000  1.143161e+06  883069.302192  388175.007000   \n",
       "2  2.020989e+06      97.252888  9.791622e+05  772110.075230  269619.698335   \n",
       "3  2.417257e+06  267551.748584  1.168668e+06  767617.610425  213420.074623   \n",
       "4  2.323394e+06  202968.642731  1.133399e+06  761140.115748  225886.900333   \n",
       "\n",
       "   propane injection  \n",
       "0                NaN  \n",
       "1      -2.688970e+06  \n",
       "2      -1.150779e+06  \n",
       "3       7.787925e+05  \n",
       "4       1.878654e+06  "
      ]
     },
     "execution_count": 516,
     "metadata": {},
     "output_type": "execute_result"
    }
   ],
   "source": [
    "df.head()"
   ]
  },
  {
   "cell_type": "markdown",
   "metadata": {},
   "source": [
    "## Pandas: Data output"
   ]
  },
  {
   "cell_type": "code",
   "execution_count": 517,
   "metadata": {},
   "outputs": [],
   "source": [
    "#Pandas dataframes can be spit out into common data file formats:\n",
    "\n",
    "for r in df['Region'].unique():\n",
    "    df_r = df[df['Region']==r].copy()\n",
    "    df_r.to_csv(r+'.csv',index=False)"
   ]
  },
  {
   "cell_type": "markdown",
   "metadata": {},
   "source": [
    "## Data Manipulation - Merging & Melting\n",
    "\n",
    "Think about our data for a second. How can we compare eastern Canada and western Canada values?"
   ]
  },
  {
   "cell_type": "code",
   "execution_count": 518,
   "metadata": {},
   "outputs": [],
   "source": [
    "east,west = df[df['Region']=='Eastern Canada'].copy(),df[df['Region']=='Western Canada'].copy()\n",
    "#same as:\n",
    "#east = df[df['Region']=='Eastern Canada'].copy()\n",
    "#west = df[df['Region']=='Western Canada'].copy()"
   ]
  },
  {
   "cell_type": "code",
   "execution_count": 519,
   "metadata": {},
   "outputs": [
    {
     "data": {
      "text/html": [
       "<div>\n",
       "<style scoped>\n",
       "    .dataframe tbody tr th:only-of-type {\n",
       "        vertical-align: middle;\n",
       "    }\n",
       "\n",
       "    .dataframe tbody tr th {\n",
       "        vertical-align: top;\n",
       "    }\n",
       "\n",
       "    .dataframe thead th {\n",
       "        text-align: right;\n",
       "    }\n",
       "</style>\n",
       "<table border=\"1\" class=\"dataframe\">\n",
       "  <thead>\n",
       "    <tr style=\"text-align: right;\">\n",
       "      <th></th>\n",
       "      <th>Date</th>\n",
       "      <th>Region</th>\n",
       "      <th>Spec. propane</th>\n",
       "      <th>Total butane</th>\n",
       "      <th>Normal butane</th>\n",
       "      <th>Iso-butane</th>\n",
       "      <th>Total mix</th>\n",
       "      <th>C2 in mix</th>\n",
       "      <th>C3 in mix</th>\n",
       "      <th>C4 in mix</th>\n",
       "      <th>Other in mix</th>\n",
       "      <th>propane injection</th>\n",
       "    </tr>\n",
       "  </thead>\n",
       "  <tbody>\n",
       "    <tr>\n",
       "      <td>246</td>\n",
       "      <td>2000-01-01</td>\n",
       "      <td>Eastern Canada</td>\n",
       "      <td>2.871685e+06</td>\n",
       "      <td>1.302332e+06</td>\n",
       "      <td>981753.49039</td>\n",
       "      <td>320578.5264</td>\n",
       "      <td>1.153386e+06</td>\n",
       "      <td>0.000000</td>\n",
       "      <td>529348.985250</td>\n",
       "      <td>464984.230307</td>\n",
       "      <td>159052.701729</td>\n",
       "      <td>NaN</td>\n",
       "    </tr>\n",
       "    <tr>\n",
       "      <td>247</td>\n",
       "      <td>2000-02-01</td>\n",
       "      <td>Eastern Canada</td>\n",
       "      <td>1.283278e+06</td>\n",
       "      <td>1.069435e+06</td>\n",
       "      <td>786274.06044</td>\n",
       "      <td>283160.5062</td>\n",
       "      <td>1.073156e+06</td>\n",
       "      <td>0.000000</td>\n",
       "      <td>492538.136112</td>\n",
       "      <td>430826.895576</td>\n",
       "      <td>149790.580632</td>\n",
       "      <td>-1.588407e+06</td>\n",
       "    </tr>\n",
       "    <tr>\n",
       "      <td>248</td>\n",
       "      <td>2000-03-01</td>\n",
       "      <td>Eastern Canada</td>\n",
       "      <td>5.108204e+05</td>\n",
       "      <td>5.521142e+05</td>\n",
       "      <td>384327.53634</td>\n",
       "      <td>167786.7048</td>\n",
       "      <td>1.197596e+06</td>\n",
       "      <td>0.000000</td>\n",
       "      <td>549084.675001</td>\n",
       "      <td>475905.140230</td>\n",
       "      <td>172605.835715</td>\n",
       "      <td>-7.724573e+05</td>\n",
       "    </tr>\n",
       "    <tr>\n",
       "      <td>249</td>\n",
       "      <td>2000-04-01</td>\n",
       "      <td>Eastern Canada</td>\n",
       "      <td>6.373913e+05</td>\n",
       "      <td>7.857728e+05</td>\n",
       "      <td>496121.18358</td>\n",
       "      <td>289651.5798</td>\n",
       "      <td>1.308955e+06</td>\n",
       "      <td>103568.794044</td>\n",
       "      <td>631972.457577</td>\n",
       "      <td>450554.818053</td>\n",
       "      <td>122858.672520</td>\n",
       "      <td>1.265709e+05</td>\n",
       "    </tr>\n",
       "    <tr>\n",
       "      <td>250</td>\n",
       "      <td>2000-05-01</td>\n",
       "      <td>Eastern Canada</td>\n",
       "      <td>1.879963e+06</td>\n",
       "      <td>1.357250e+06</td>\n",
       "      <td>976937.39682</td>\n",
       "      <td>380312.7570</td>\n",
       "      <td>1.147013e+06</td>\n",
       "      <td>97956.695589</td>\n",
       "      <td>550238.429432</td>\n",
       "      <td>395317.208747</td>\n",
       "      <td>103500.852505</td>\n",
       "      <td>1.242572e+06</td>\n",
       "    </tr>\n",
       "  </tbody>\n",
       "</table>\n",
       "</div>"
      ],
      "text/plain": [
       "          Date          Region  Spec. propane  Total butane  Normal butane  \\\n",
       "246 2000-01-01  Eastern Canada   2.871685e+06  1.302332e+06   981753.49039   \n",
       "247 2000-02-01  Eastern Canada   1.283278e+06  1.069435e+06   786274.06044   \n",
       "248 2000-03-01  Eastern Canada   5.108204e+05  5.521142e+05   384327.53634   \n",
       "249 2000-04-01  Eastern Canada   6.373913e+05  7.857728e+05   496121.18358   \n",
       "250 2000-05-01  Eastern Canada   1.879963e+06  1.357250e+06   976937.39682   \n",
       "\n",
       "      Iso-butane     Total mix      C2 in mix      C3 in mix      C4 in mix  \\\n",
       "246  320578.5264  1.153386e+06       0.000000  529348.985250  464984.230307   \n",
       "247  283160.5062  1.073156e+06       0.000000  492538.136112  430826.895576   \n",
       "248  167786.7048  1.197596e+06       0.000000  549084.675001  475905.140230   \n",
       "249  289651.5798  1.308955e+06  103568.794044  631972.457577  450554.818053   \n",
       "250  380312.7570  1.147013e+06   97956.695589  550238.429432  395317.208747   \n",
       "\n",
       "      Other in mix  propane injection  \n",
       "246  159052.701729                NaN  \n",
       "247  149790.580632      -1.588407e+06  \n",
       "248  172605.835715      -7.724573e+05  \n",
       "249  122858.672520       1.265709e+05  \n",
       "250  103500.852505       1.242572e+06  "
      ]
     },
     "execution_count": 519,
     "metadata": {},
     "output_type": "execute_result"
    }
   ],
   "source": [
    "east.head()"
   ]
  },
  {
   "cell_type": "code",
   "execution_count": 520,
   "metadata": {},
   "outputs": [],
   "source": [
    "# use pd.melt to create flat data\n",
    "# this data transformation can be better for certain types of vizualization and is better for databases\n",
    "east = pd.melt(east,id_vars=['Date','Region'])\n",
    "west = pd.melt(west,id_vars=['Date','Region'])"
   ]
  },
  {
   "cell_type": "code",
   "execution_count": 521,
   "metadata": {},
   "outputs": [
    {
     "data": {
      "text/html": [
       "<div>\n",
       "<style scoped>\n",
       "    .dataframe tbody tr th:only-of-type {\n",
       "        vertical-align: middle;\n",
       "    }\n",
       "\n",
       "    .dataframe tbody tr th {\n",
       "        vertical-align: top;\n",
       "    }\n",
       "\n",
       "    .dataframe thead th {\n",
       "        text-align: right;\n",
       "    }\n",
       "</style>\n",
       "<table border=\"1\" class=\"dataframe\">\n",
       "  <thead>\n",
       "    <tr style=\"text-align: right;\">\n",
       "      <th></th>\n",
       "      <th>Date</th>\n",
       "      <th>Region</th>\n",
       "      <th>variable</th>\n",
       "      <th>value</th>\n",
       "    </tr>\n",
       "  </thead>\n",
       "  <tbody>\n",
       "    <tr>\n",
       "      <td>0</td>\n",
       "      <td>2000-01-01</td>\n",
       "      <td>Eastern Canada</td>\n",
       "      <td>Spec. propane</td>\n",
       "      <td>2.871685e+06</td>\n",
       "    </tr>\n",
       "    <tr>\n",
       "      <td>1</td>\n",
       "      <td>2000-02-01</td>\n",
       "      <td>Eastern Canada</td>\n",
       "      <td>Spec. propane</td>\n",
       "      <td>1.283278e+06</td>\n",
       "    </tr>\n",
       "    <tr>\n",
       "      <td>2</td>\n",
       "      <td>2000-03-01</td>\n",
       "      <td>Eastern Canada</td>\n",
       "      <td>Spec. propane</td>\n",
       "      <td>5.108204e+05</td>\n",
       "    </tr>\n",
       "    <tr>\n",
       "      <td>3</td>\n",
       "      <td>2000-04-01</td>\n",
       "      <td>Eastern Canada</td>\n",
       "      <td>Spec. propane</td>\n",
       "      <td>6.373913e+05</td>\n",
       "    </tr>\n",
       "    <tr>\n",
       "      <td>4</td>\n",
       "      <td>2000-05-01</td>\n",
       "      <td>Eastern Canada</td>\n",
       "      <td>Spec. propane</td>\n",
       "      <td>1.879963e+06</td>\n",
       "    </tr>\n",
       "  </tbody>\n",
       "</table>\n",
       "</div>"
      ],
      "text/plain": [
       "        Date          Region       variable         value\n",
       "0 2000-01-01  Eastern Canada  Spec. propane  2.871685e+06\n",
       "1 2000-02-01  Eastern Canada  Spec. propane  1.283278e+06\n",
       "2 2000-03-01  Eastern Canada  Spec. propane  5.108204e+05\n",
       "3 2000-04-01  Eastern Canada  Spec. propane  6.373913e+05\n",
       "4 2000-05-01  Eastern Canada  Spec. propane  1.879963e+06"
      ]
     },
     "execution_count": 521,
     "metadata": {},
     "output_type": "execute_result"
    },
    {
     "data": {
      "text/plain": [
       "array(['Spec. propane', 'Total butane', 'Normal butane', 'Iso-butane',\n",
       "       'Total mix', 'C2 in mix', 'C3 in mix', 'C4 in mix', 'Other in mix',\n",
       "       'propane injection'], dtype=object)"
      ]
     },
     "execution_count": 521,
     "metadata": {},
     "output_type": "execute_result"
    }
   ],
   "source": [
    "# Now we can create columns/analysis that applies to all the LPG products, not just one at a time\n",
    "east.head()\n",
    "east['variable'].unique()"
   ]
  },
  {
   "cell_type": "code",
   "execution_count": 522,
   "metadata": {},
   "outputs": [
    {
     "data": {
      "text/html": [
       "<div>\n",
       "<style scoped>\n",
       "    .dataframe tbody tr th:only-of-type {\n",
       "        vertical-align: middle;\n",
       "    }\n",
       "\n",
       "    .dataframe tbody tr th {\n",
       "        vertical-align: top;\n",
       "    }\n",
       "\n",
       "    .dataframe thead th {\n",
       "        text-align: right;\n",
       "    }\n",
       "</style>\n",
       "<table border=\"1\" class=\"dataframe\">\n",
       "  <thead>\n",
       "    <tr style=\"text-align: right;\">\n",
       "      <th></th>\n",
       "      <th>Date</th>\n",
       "      <th>Region_east</th>\n",
       "      <th>variable</th>\n",
       "      <th>value_east</th>\n",
       "      <th>Region_west</th>\n",
       "      <th>value_west</th>\n",
       "      <th>West - East</th>\n",
       "    </tr>\n",
       "  </thead>\n",
       "  <tbody>\n",
       "    <tr>\n",
       "      <td>0</td>\n",
       "      <td>2000-01-01</td>\n",
       "      <td>Eastern Canada</td>\n",
       "      <td>Spec. propane</td>\n",
       "      <td>2.871685e+06</td>\n",
       "      <td>Western Canada</td>\n",
       "      <td>2.059751e+06</td>\n",
       "      <td>-811933.941100</td>\n",
       "    </tr>\n",
       "    <tr>\n",
       "      <td>1</td>\n",
       "      <td>2000-02-01</td>\n",
       "      <td>Eastern Canada</td>\n",
       "      <td>Spec. propane</td>\n",
       "      <td>1.283278e+06</td>\n",
       "      <td>Western Canada</td>\n",
       "      <td>9.591881e+05</td>\n",
       "      <td>-324089.561948</td>\n",
       "    </tr>\n",
       "    <tr>\n",
       "      <td>2</td>\n",
       "      <td>2000-03-01</td>\n",
       "      <td>Eastern Canada</td>\n",
       "      <td>Spec. propane</td>\n",
       "      <td>5.108204e+05</td>\n",
       "      <td>Western Canada</td>\n",
       "      <td>5.808663e+05</td>\n",
       "      <td>70045.823067</td>\n",
       "    </tr>\n",
       "    <tr>\n",
       "      <td>3</td>\n",
       "      <td>2000-04-01</td>\n",
       "      <td>Eastern Canada</td>\n",
       "      <td>Spec. propane</td>\n",
       "      <td>6.373913e+05</td>\n",
       "      <td>Western Canada</td>\n",
       "      <td>1.233088e+06</td>\n",
       "      <td>595696.523222</td>\n",
       "    </tr>\n",
       "    <tr>\n",
       "      <td>4</td>\n",
       "      <td>2000-05-01</td>\n",
       "      <td>Eastern Canada</td>\n",
       "      <td>Spec. propane</td>\n",
       "      <td>1.879963e+06</td>\n",
       "      <td>Western Canada</td>\n",
       "      <td>1.869170e+06</td>\n",
       "      <td>-10793.133265</td>\n",
       "    </tr>\n",
       "  </tbody>\n",
       "</table>\n",
       "</div>"
      ],
      "text/plain": [
       "        Date     Region_east       variable    value_east     Region_west  \\\n",
       "0 2000-01-01  Eastern Canada  Spec. propane  2.871685e+06  Western Canada   \n",
       "1 2000-02-01  Eastern Canada  Spec. propane  1.283278e+06  Western Canada   \n",
       "2 2000-03-01  Eastern Canada  Spec. propane  5.108204e+05  Western Canada   \n",
       "3 2000-04-01  Eastern Canada  Spec. propane  6.373913e+05  Western Canada   \n",
       "4 2000-05-01  Eastern Canada  Spec. propane  1.879963e+06  Western Canada   \n",
       "\n",
       "     value_west    West - East  \n",
       "0  2.059751e+06 -811933.941100  \n",
       "1  9.591881e+05 -324089.561948  \n",
       "2  5.808663e+05   70045.823067  \n",
       "3  1.233088e+06  595696.523222  \n",
       "4  1.869170e+06  -10793.133265  "
      ]
     },
     "execution_count": 522,
     "metadata": {},
     "output_type": "execute_result"
    }
   ],
   "source": [
    "#use merge to line up data. Same as a join in sql server\n",
    "merged = east.merge(west,left_on=['Date','variable'],right_on=['Date','variable'],suffixes=('_east', '_west'))\n",
    "merged['West - East'] = merged['value_west'] - merged['value_east']\n",
    "merged.head()"
   ]
  },
  {
   "cell_type": "markdown",
   "metadata": {},
   "source": [
    "### Aside: Tidy data\n",
    "https://vita.had.co.nz/papers/tidy-data.pdf\n",
    "\n",
    "1. Each variable forms a column.\n",
    "2. Each observation forms a row.\n",
    "3. Each type of observational unit forms a table.\n",
    "\n",
    "\n",
    "This paper will save you years of work"
   ]
  },
  {
   "cell_type": "markdown",
   "metadata": {},
   "source": [
    "## Matplotlib / Exploratory data analysis"
   ]
  },
  {
   "cell_type": "code",
   "execution_count": 523,
   "metadata": {},
   "outputs": [
    {
     "data": {
      "text/plain": [
       "Date                 False\n",
       "Region               False\n",
       "Spec. propane        False\n",
       "Total butane         False\n",
       "Normal butane         True\n",
       "Iso-butane            True\n",
       "Total mix            False\n",
       "C2 in mix            False\n",
       "C3 in mix            False\n",
       "C4 in mix            False\n",
       "Other in mix         False\n",
       "propane injection     True\n",
       "dtype: bool"
      ]
     },
     "execution_count": 523,
     "metadata": {},
     "output_type": "execute_result"
    }
   ],
   "source": [
    "# which columns have missing data\n",
    "df[df['Region']=='Canada'].isnull().any(axis=0) #any missing columnwise"
   ]
  },
  {
   "cell_type": "code",
   "execution_count": 524,
   "metadata": {},
   "outputs": [
    {
     "data": {
      "text/plain": [
       "Date                   0\n",
       "Region                 0\n",
       "Spec. propane          0\n",
       "Total butane           0\n",
       "Normal butane        246\n",
       "Iso-butane           246\n",
       "Total mix              0\n",
       "C2 in mix              0\n",
       "C3 in mix              0\n",
       "C4 in mix              0\n",
       "Other in mix           0\n",
       "propane injection      1\n",
       "dtype: int64"
      ]
     },
     "execution_count": 524,
     "metadata": {},
     "output_type": "execute_result"
    }
   ],
   "source": [
    "# How many missing per column?\n",
    "df[df['Region']=='Canada'].isnull().sum(axis=0)"
   ]
  },
  {
   "cell_type": "code",
   "execution_count": 525,
   "metadata": {},
   "outputs": [],
   "source": [
    "# Drop rows with missing data\n",
    "# df_patient.dropna(axis=0)"
   ]
  },
  {
   "cell_type": "code",
   "execution_count": 526,
   "metadata": {},
   "outputs": [
    {
     "name": "stdout",
     "output_type": "stream",
     "text": [
      "Canada\n"
     ]
    },
    {
     "data": {
      "image/png": "[encoded data removed]",
      "text/plain": [
       "<Figure size 432x288 with 1 Axes>"
      ]
     },
     "metadata": {
      "needs_background": "light"
     },
     "output_type": "display_data"
    }
   ],
   "source": [
    "#pandas has some basic graphing built in\n",
    "def histogram_region(region):\n",
    "    df[df['Region']==region]['propane injection'].hist()\n",
    "    print(region)\n",
    "\n",
    "histogram_region('Canada')"
   ]
  },
  {
   "cell_type": "code",
   "execution_count": 527,
   "metadata": {},
   "outputs": [
    {
     "data": {
      "text/plain": [
       "count    2.450000e+02\n",
       "mean     7.091957e+03\n",
       "std      1.524949e+06\n",
       "min     -3.506738e+06\n",
       "25%     -1.188275e+06\n",
       "50%      3.129553e+05\n",
       "75%      1.205024e+06\n",
       "max      2.881569e+06\n",
       "Name: propane injection, dtype: float64"
      ]
     },
     "execution_count": 527,
     "metadata": {},
     "output_type": "execute_result"
    },
    {
     "data": {
      "text/html": [
       "<div>\n",
       "<style scoped>\n",
       "    .dataframe tbody tr th:only-of-type {\n",
       "        vertical-align: middle;\n",
       "    }\n",
       "\n",
       "    .dataframe tbody tr th {\n",
       "        vertical-align: top;\n",
       "    }\n",
       "\n",
       "    .dataframe thead th {\n",
       "        text-align: right;\n",
       "    }\n",
       "</style>\n",
       "<table border=\"1\" class=\"dataframe\">\n",
       "  <thead>\n",
       "    <tr style=\"text-align: right;\">\n",
       "      <th></th>\n",
       "      <th>Spec. propane</th>\n",
       "      <th>Total butane</th>\n",
       "      <th>Normal butane</th>\n",
       "      <th>Iso-butane</th>\n",
       "      <th>Total mix</th>\n",
       "      <th>C2 in mix</th>\n",
       "      <th>C3 in mix</th>\n",
       "      <th>C4 in mix</th>\n",
       "      <th>Other in mix</th>\n",
       "      <th>propane injection</th>\n",
       "    </tr>\n",
       "  </thead>\n",
       "  <tbody>\n",
       "    <tr>\n",
       "      <td>count</td>\n",
       "      <td>2.460000e+02</td>\n",
       "      <td>2.460000e+02</td>\n",
       "      <td>0.0</td>\n",
       "      <td>0.0</td>\n",
       "      <td>2.460000e+02</td>\n",
       "      <td>2.460000e+02</td>\n",
       "      <td>2.460000e+02</td>\n",
       "      <td>2.460000e+02</td>\n",
       "      <td>246.000000</td>\n",
       "      <td>2.450000e+02</td>\n",
       "    </tr>\n",
       "    <tr>\n",
       "      <td>mean</td>\n",
       "      <td>6.538987e+06</td>\n",
       "      <td>4.124072e+06</td>\n",
       "      <td>NaN</td>\n",
       "      <td>NaN</td>\n",
       "      <td>4.189600e+06</td>\n",
       "      <td>4.514807e+05</td>\n",
       "      <td>1.995081e+06</td>\n",
       "      <td>1.306740e+06</td>\n",
       "      <td>436298.589953</td>\n",
       "      <td>7.091957e+03</td>\n",
       "    </tr>\n",
       "    <tr>\n",
       "      <td>std</td>\n",
       "      <td>2.990115e+06</td>\n",
       "      <td>1.632511e+06</td>\n",
       "      <td>NaN</td>\n",
       "      <td>NaN</td>\n",
       "      <td>1.119407e+06</td>\n",
       "      <td>1.695562e+05</td>\n",
       "      <td>5.601395e+05</td>\n",
       "      <td>3.793950e+05</td>\n",
       "      <td>122830.640323</td>\n",
       "      <td>1.524949e+06</td>\n",
       "    </tr>\n",
       "    <tr>\n",
       "      <td>min</td>\n",
       "      <td>7.830424e+05</td>\n",
       "      <td>8.708641e+05</td>\n",
       "      <td>NaN</td>\n",
       "      <td>NaN</td>\n",
       "      <td>2.020989e+06</td>\n",
       "      <td>0.000000e+00</td>\n",
       "      <td>9.791622e+05</td>\n",
       "      <td>6.553771e+05</td>\n",
       "      <td>181569.797098</td>\n",
       "      <td>-3.506738e+06</td>\n",
       "    </tr>\n",
       "    <tr>\n",
       "      <td>25%</td>\n",
       "      <td>4.108757e+06</td>\n",
       "      <td>2.962156e+06</td>\n",
       "      <td>NaN</td>\n",
       "      <td>NaN</td>\n",
       "      <td>3.366134e+06</td>\n",
       "      <td>3.329656e+05</td>\n",
       "      <td>1.554303e+06</td>\n",
       "      <td>1.014076e+06</td>\n",
       "      <td>343903.610644</td>\n",
       "      <td>-1.188275e+06</td>\n",
       "    </tr>\n",
       "    <tr>\n",
       "      <td>50%</td>\n",
       "      <td>6.577026e+06</td>\n",
       "      <td>4.028230e+06</td>\n",
       "      <td>NaN</td>\n",
       "      <td>NaN</td>\n",
       "      <td>4.099133e+06</td>\n",
       "      <td>4.434201e+05</td>\n",
       "      <td>1.935704e+06</td>\n",
       "      <td>1.261215e+06</td>\n",
       "      <td>429579.003471</td>\n",
       "      <td>3.129553e+05</td>\n",
       "    </tr>\n",
       "    <tr>\n",
       "      <td>75%</td>\n",
       "      <td>9.038121e+06</td>\n",
       "      <td>5.120460e+06</td>\n",
       "      <td>NaN</td>\n",
       "      <td>NaN</td>\n",
       "      <td>4.876605e+06</td>\n",
       "      <td>5.515298e+05</td>\n",
       "      <td>2.358861e+06</td>\n",
       "      <td>1.544354e+06</td>\n",
       "      <td>520149.922873</td>\n",
       "      <td>1.205024e+06</td>\n",
       "    </tr>\n",
       "    <tr>\n",
       "      <td>max</td>\n",
       "      <td>1.210208e+07</td>\n",
       "      <td>9.571377e+06</td>\n",
       "      <td>NaN</td>\n",
       "      <td>NaN</td>\n",
       "      <td>7.530774e+06</td>\n",
       "      <td>1.174764e+06</td>\n",
       "      <td>3.752394e+06</td>\n",
       "      <td>2.488855e+06</td>\n",
       "      <td>750052.548894</td>\n",
       "      <td>2.881569e+06</td>\n",
       "    </tr>\n",
       "  </tbody>\n",
       "</table>\n",
       "</div>"
      ],
      "text/plain": [
       "       Spec. propane  Total butane  Normal butane  Iso-butane     Total mix  \\\n",
       "count   2.460000e+02  2.460000e+02            0.0         0.0  2.460000e+02   \n",
       "mean    6.538987e+06  4.124072e+06            NaN         NaN  4.189600e+06   \n",
       "std     2.990115e+06  1.632511e+06            NaN         NaN  1.119407e+06   \n",
       "min     7.830424e+05  8.708641e+05            NaN         NaN  2.020989e+06   \n",
       "25%     4.108757e+06  2.962156e+06            NaN         NaN  3.366134e+06   \n",
       "50%     6.577026e+06  4.028230e+06            NaN         NaN  4.099133e+06   \n",
       "75%     9.038121e+06  5.120460e+06            NaN         NaN  4.876605e+06   \n",
       "max     1.210208e+07  9.571377e+06            NaN         NaN  7.530774e+06   \n",
       "\n",
       "          C2 in mix     C3 in mix     C4 in mix   Other in mix  \\\n",
       "count  2.460000e+02  2.460000e+02  2.460000e+02     246.000000   \n",
       "mean   4.514807e+05  1.995081e+06  1.306740e+06  436298.589953   \n",
       "std    1.695562e+05  5.601395e+05  3.793950e+05  122830.640323   \n",
       "min    0.000000e+00  9.791622e+05  6.553771e+05  181569.797098   \n",
       "25%    3.329656e+05  1.554303e+06  1.014076e+06  343903.610644   \n",
       "50%    4.434201e+05  1.935704e+06  1.261215e+06  429579.003471   \n",
       "75%    5.515298e+05  2.358861e+06  1.544354e+06  520149.922873   \n",
       "max    1.174764e+06  3.752394e+06  2.488855e+06  750052.548894   \n",
       "\n",
       "       propane injection  \n",
       "count       2.450000e+02  \n",
       "mean        7.091957e+03  \n",
       "std         1.524949e+06  \n",
       "min        -3.506738e+06  \n",
       "25%        -1.188275e+06  \n",
       "50%         3.129553e+05  \n",
       "75%         1.205024e+06  \n",
       "max         2.881569e+06  "
      ]
     },
     "execution_count": 527,
     "metadata": {},
     "output_type": "execute_result"
    }
   ],
   "source": [
    "#describe: Can be used on one column or the entire dataset\n",
    "df[df['Region']=='Canada']['propane injection'].describe()\n",
    "df[df['Region']=='Canada'].describe()"
   ]
  },
  {
   "cell_type": "code",
   "execution_count": 528,
   "metadata": {},
   "outputs": [],
   "source": [
    "#matplotlib offers better customization compared to basic pandas charts\n",
    "import matplotlib.pyplot as plt\n",
    "from pandas.plotting import register_matplotlib_converters\n",
    "register_matplotlib_converters()"
   ]
  },
  {
   "cell_type": "code",
   "execution_count": 529,
   "metadata": {},
   "outputs": [
    {
     "data": {
      "text/plain": [
       "[<matplotlib.lines.Line2D at 0x13339636f08>,\n",
       " <matplotlib.lines.Line2D at 0x1333a7779c8>,\n",
       " <matplotlib.lines.Line2D at 0x133394d13c8>,\n",
       " <matplotlib.lines.Line2D at 0x133394d1c08>,\n",
       " <matplotlib.lines.Line2D at 0x133394d1088>,\n",
       " <matplotlib.lines.Line2D at 0x13339533e48>,\n",
       " <matplotlib.lines.Line2D at 0x13339533608>,\n",
       " <matplotlib.lines.Line2D at 0x13339533988>,\n",
       " <matplotlib.lines.Line2D at 0x133394d1508>,\n",
       " <matplotlib.lines.Line2D at 0x133394d1208>]"
      ]
     },
     "execution_count": 529,
     "metadata": {},
     "output_type": "execute_result"
    },
    {
     "data": {
      "text/plain": [
       "<matplotlib.legend.Legend at 0x1333a777bc8>"
      ]
     },
     "execution_count": 529,
     "metadata": {},
     "output_type": "execute_result"
    },
    {
     "data": {
      "image/png": "[encoded data removed]",
      "text/plain": [
       "<Figure size 1080x360 with 1 Axes>"
      ]
     },
     "metadata": {
      "needs_background": "light"
     },
     "output_type": "display_data"
    }
   ],
   "source": [
    "fig, ax = plt.subplots(figsize=(15, 5))\n",
    "df_plot = df[df['Region']=='Canada'].copy().set_index('Date')\n",
    "del df_plot['Region']\n",
    "ax.plot(df_plot)\n",
    "ax.legend(df_plot.columns)"
   ]
  },
  {
   "cell_type": "code",
   "execution_count": 530,
   "metadata": {},
   "outputs": [
    {
     "data": {
      "text/plain": [
       "[<matplotlib.lines.Line2D at 0x1333a76fa88>]"
      ]
     },
     "execution_count": 530,
     "metadata": {},
     "output_type": "execute_result"
    },
    {
     "data": {
      "text/plain": [
       "[<matplotlib.lines.Line2D at 0x1333968d508>]"
      ]
     },
     "execution_count": 530,
     "metadata": {},
     "output_type": "execute_result"
    },
    {
     "data": {
      "text/plain": [
       "[<matplotlib.lines.Line2D at 0x13339759d88>]"
      ]
     },
     "execution_count": 530,
     "metadata": {},
     "output_type": "execute_result"
    },
    {
     "data": {
      "text/plain": [
       "[<matplotlib.lines.Line2D at 0x13339759e88>]"
      ]
     },
     "execution_count": 530,
     "metadata": {},
     "output_type": "execute_result"
    },
    {
     "data": {
      "text/plain": [
       "[<matplotlib.lines.Line2D at 0x1333a771948>]"
      ]
     },
     "execution_count": 530,
     "metadata": {},
     "output_type": "execute_result"
    },
    {
     "data": {
      "text/plain": [
       "[<matplotlib.lines.Line2D at 0x1333a771d08>]"
      ]
     },
     "execution_count": 530,
     "metadata": {},
     "output_type": "execute_result"
    },
    {
     "data": {
      "text/plain": [
       "[<matplotlib.lines.Line2D at 0x1333a77d948>]"
      ]
     },
     "execution_count": 530,
     "metadata": {},
     "output_type": "execute_result"
    },
    {
     "data": {
      "text/plain": [
       "[<matplotlib.lines.Line2D at 0x1333a77d848>]"
      ]
     },
     "execution_count": 530,
     "metadata": {},
     "output_type": "execute_result"
    },
    {
     "data": {
      "text/plain": [
       "[<matplotlib.lines.Line2D at 0x1333a7715c8>]"
      ]
     },
     "execution_count": 530,
     "metadata": {},
     "output_type": "execute_result"
    },
    {
     "data": {
      "text/plain": [
       "[<matplotlib.lines.Line2D at 0x133393dec08>]"
      ]
     },
     "execution_count": 530,
     "metadata": {},
     "output_type": "execute_result"
    },
    {
     "name": "stderr",
     "output_type": "stream",
     "text": [
      "No handles with labels found to put in legend.\n"
     ]
    },
    {
     "data": {
      "text/plain": [
       "<matplotlib.legend.Legend at 0x133397513c8>"
      ]
     },
     "execution_count": 530,
     "metadata": {},
     "output_type": "execute_result"
    },
    {
     "data": {
      "image/png": "[encoded data removed]",
      "text/plain": [
       "<Figure size 1080x360 with 1 Axes>"
      ]
     },
     "metadata": {
      "needs_background": "light"
     },
     "output_type": "display_data"
    }
   ],
   "source": [
    "## Iterate through the columns to draw each\n",
    "fig, ax = plt.subplots(figsize=(15, 5))\n",
    "for i in range(df_plot.shape[1]):\n",
    "    #if...\n",
    "    ax.plot(df_plot.iloc[:,i])\n",
    "ax.legend()"
   ]
  },
  {
   "cell_type": "code",
   "execution_count": 531,
   "metadata": {},
   "outputs": [
    {
     "data": {
      "text/plain": [
       "[<matplotlib.lines.Line2D at 0x1333a798448>]"
      ]
     },
     "execution_count": 531,
     "metadata": {},
     "output_type": "execute_result"
    },
    {
     "data": {
      "text/plain": [
       "[<matplotlib.lines.Line2D at 0x133387fad08>]"
      ]
     },
     "execution_count": 531,
     "metadata": {},
     "output_type": "execute_result"
    },
    {
     "data": {
      "text/plain": [
       "<matplotlib.legend.Legend at 0x1333abc2f48>"
      ]
     },
     "execution_count": 531,
     "metadata": {},
     "output_type": "execute_result"
    },
    {
     "data": {
      "image/png": "[encoded data removed]",
      "text/plain": [
       "<Figure size 1080x432 with 1 Axes>"
      ]
     },
     "metadata": {
      "needs_background": "light"
     },
     "output_type": "display_data"
    }
   ],
   "source": [
    "CER = ['#054169','#FFBE4B','#5FBEE6','#559B37','#FF821E','#871455','#FFFFFF','#8c8c96','#42464B']\n",
    "\n",
    "fig, ax = plt.subplots(figsize=(15, 6))\n",
    "\n",
    "i = 0\n",
    "for r in df['Region'].unique():\n",
    "    if r != 'Canada':\n",
    "        ax.plot(df[df['Region']==r]['Date'], df[df['Region']==r]['Spec. propane'],label=r+' Spec. propane',color=CER[i])\n",
    "    i = i+1\n",
    "ax.legend()\n",
    "\n",
    "#Note, we didnt need to merge eastern and western canada spec propane columns to make this happen (but this would work as well)"
   ]
  },
  {
   "cell_type": "markdown",
   "metadata": {},
   "source": [
    "## Data Analysis Example: How can you get the five year average propane injections for a given region (Eastern Canada) ?\n",
    "\n",
    "Note - with heating commodities, the five year average is used to compare the current years statistics with the previous five years. So the current five year average would include 2015 - 2019 (inclusive)\n",
    "\n",
    "\n",
    "If you cant remember the exact code/functions to use, start writing down the steps that could make this happen."
   ]
  },
  {
   "cell_type": "code",
   "execution_count": 532,
   "metadata": {},
   "outputs": [],
   "source": [
    "region = 'Eastern Canada'"
   ]
  },
  {
   "cell_type": "code",
   "execution_count": 533,
   "metadata": {},
   "outputs": [
    {
     "data": {
      "text/plain": [
       "Timestamp('2020-06-01 00:00:00')"
      ]
     },
     "execution_count": 533,
     "metadata": {},
     "output_type": "execute_result"
    }
   ],
   "source": [
    "df5 = df[df['Region']==region][['Date','propane injection']]\n",
    "#df5['Year'] = [x.year for x in df5['Date']]\n",
    "max_date = df5['Date'].max() \n",
    "max_date"
   ]
  },
  {
   "cell_type": "code",
   "execution_count": 534,
   "metadata": {},
   "outputs": [
    {
     "data": {
      "text/plain": [
       "2019"
      ]
     },
     "execution_count": 534,
     "metadata": {},
     "output_type": "execute_result"
    }
   ],
   "source": [
    "max_year = max_date - relativedelta.relativedelta(years = 1)\n",
    "max_year = max_year.year\n",
    "max_year"
   ]
  },
  {
   "cell_type": "code",
   "execution_count": 535,
   "metadata": {},
   "outputs": [
    {
     "data": {
      "text/plain": [
       "2015"
      ]
     },
     "execution_count": 535,
     "metadata": {},
     "output_type": "execute_result"
    }
   ],
   "source": [
    "min_year = max_year - 4\n",
    "min_year"
   ]
  },
  {
   "cell_type": "code",
   "execution_count": 536,
   "metadata": {},
   "outputs": [],
   "source": [
    "df5 = df5[(df5['Date'].dt.year <= max_year) & (df5['Date'].dt.year >= min_year)]"
   ]
  },
  {
   "cell_type": "code",
   "execution_count": 537,
   "metadata": {},
   "outputs": [
    {
     "data": {
      "text/html": [
       "<div>\n",
       "<style scoped>\n",
       "    .dataframe tbody tr th:only-of-type {\n",
       "        vertical-align: middle;\n",
       "    }\n",
       "\n",
       "    .dataframe tbody tr th {\n",
       "        vertical-align: top;\n",
       "    }\n",
       "\n",
       "    .dataframe thead th {\n",
       "        text-align: right;\n",
       "    }\n",
       "</style>\n",
       "<table border=\"1\" class=\"dataframe\">\n",
       "  <thead>\n",
       "    <tr style=\"text-align: right;\">\n",
       "      <th></th>\n",
       "      <th>Date</th>\n",
       "      <th>propane injection</th>\n",
       "    </tr>\n",
       "  </thead>\n",
       "  <tbody>\n",
       "    <tr>\n",
       "      <td>426</td>\n",
       "      <td>2015-01-01</td>\n",
       "      <td>-8.225171e+05</td>\n",
       "    </tr>\n",
       "    <tr>\n",
       "      <td>427</td>\n",
       "      <td>2015-02-01</td>\n",
       "      <td>-7.610092e+05</td>\n",
       "    </tr>\n",
       "    <tr>\n",
       "      <td>428</td>\n",
       "      <td>2015-03-01</td>\n",
       "      <td>-1.226914e+06</td>\n",
       "    </tr>\n",
       "    <tr>\n",
       "      <td>429</td>\n",
       "      <td>2015-04-01</td>\n",
       "      <td>-3.646008e+05</td>\n",
       "    </tr>\n",
       "    <tr>\n",
       "      <td>430</td>\n",
       "      <td>2015-05-01</td>\n",
       "      <td>6.318796e+05</td>\n",
       "    </tr>\n",
       "  </tbody>\n",
       "</table>\n",
       "</div>"
      ],
      "text/plain": [
       "          Date  propane injection\n",
       "426 2015-01-01      -8.225171e+05\n",
       "427 2015-02-01      -7.610092e+05\n",
       "428 2015-03-01      -1.226914e+06\n",
       "429 2015-04-01      -3.646008e+05\n",
       "430 2015-05-01       6.318796e+05"
      ]
     },
     "execution_count": 537,
     "metadata": {},
     "output_type": "execute_result"
    },
    {
     "data": {
      "text/html": [
       "<div>\n",
       "<style scoped>\n",
       "    .dataframe tbody tr th:only-of-type {\n",
       "        vertical-align: middle;\n",
       "    }\n",
       "\n",
       "    .dataframe tbody tr th {\n",
       "        vertical-align: top;\n",
       "    }\n",
       "\n",
       "    .dataframe thead th {\n",
       "        text-align: right;\n",
       "    }\n",
       "</style>\n",
       "<table border=\"1\" class=\"dataframe\">\n",
       "  <thead>\n",
       "    <tr style=\"text-align: right;\">\n",
       "      <th></th>\n",
       "      <th>Date</th>\n",
       "      <th>propane injection</th>\n",
       "    </tr>\n",
       "  </thead>\n",
       "  <tbody>\n",
       "    <tr>\n",
       "      <td>481</td>\n",
       "      <td>2019-08-01</td>\n",
       "      <td>841944.45126</td>\n",
       "    </tr>\n",
       "    <tr>\n",
       "      <td>482</td>\n",
       "      <td>2019-09-01</td>\n",
       "      <td>569740.14768</td>\n",
       "    </tr>\n",
       "    <tr>\n",
       "      <td>483</td>\n",
       "      <td>2019-10-01</td>\n",
       "      <td>341411.60196</td>\n",
       "    </tr>\n",
       "    <tr>\n",
       "      <td>484</td>\n",
       "      <td>2019-11-01</td>\n",
       "      <td>-354374.25078</td>\n",
       "    </tr>\n",
       "    <tr>\n",
       "      <td>485</td>\n",
       "      <td>2019-12-01</td>\n",
       "      <td>-425030.71908</td>\n",
       "    </tr>\n",
       "  </tbody>\n",
       "</table>\n",
       "</div>"
      ],
      "text/plain": [
       "          Date  propane injection\n",
       "481 2019-08-01       841944.45126\n",
       "482 2019-09-01       569740.14768\n",
       "483 2019-10-01       341411.60196\n",
       "484 2019-11-01      -354374.25078\n",
       "485 2019-12-01      -425030.71908"
      ]
     },
     "execution_count": 537,
     "metadata": {},
     "output_type": "execute_result"
    }
   ],
   "source": [
    "df5.head()\n",
    "df5.tail()"
   ]
  },
  {
   "cell_type": "code",
   "execution_count": 538,
   "metadata": {},
   "outputs": [
    {
     "data": {
      "text/html": [
       "<div>\n",
       "<style scoped>\n",
       "    .dataframe tbody tr th:only-of-type {\n",
       "        vertical-align: middle;\n",
       "    }\n",
       "\n",
       "    .dataframe tbody tr th {\n",
       "        vertical-align: top;\n",
       "    }\n",
       "\n",
       "    .dataframe thead th {\n",
       "        text-align: right;\n",
       "    }\n",
       "</style>\n",
       "<table border=\"1\" class=\"dataframe\">\n",
       "  <thead>\n",
       "    <tr style=\"text-align: right;\">\n",
       "      <th></th>\n",
       "      <th>propane injection</th>\n",
       "    </tr>\n",
       "    <tr>\n",
       "      <th>Date</th>\n",
       "      <th></th>\n",
       "    </tr>\n",
       "  </thead>\n",
       "  <tbody>\n",
       "    <tr>\n",
       "      <td>1</td>\n",
       "      <td>-8.370005e+05</td>\n",
       "    </tr>\n",
       "    <tr>\n",
       "      <td>2</td>\n",
       "      <td>-1.157486e+06</td>\n",
       "    </tr>\n",
       "    <tr>\n",
       "      <td>3</td>\n",
       "      <td>-8.716660e+05</td>\n",
       "    </tr>\n",
       "    <tr>\n",
       "      <td>4</td>\n",
       "      <td>-2.075801e+05</td>\n",
       "    </tr>\n",
       "    <tr>\n",
       "      <td>5</td>\n",
       "      <td>3.723268e+05</td>\n",
       "    </tr>\n",
       "    <tr>\n",
       "      <td>6</td>\n",
       "      <td>5.875379e+05</td>\n",
       "    </tr>\n",
       "    <tr>\n",
       "      <td>7</td>\n",
       "      <td>5.149443e+05</td>\n",
       "    </tr>\n",
       "    <tr>\n",
       "      <td>8</td>\n",
       "      <td>7.396664e+05</td>\n",
       "    </tr>\n",
       "    <tr>\n",
       "      <td>9</td>\n",
       "      <td>4.232434e+05</td>\n",
       "    </tr>\n",
       "    <tr>\n",
       "      <td>10</td>\n",
       "      <td>2.904851e+05</td>\n",
       "    </tr>\n",
       "    <tr>\n",
       "      <td>11</td>\n",
       "      <td>1.047359e+05</td>\n",
       "    </tr>\n",
       "    <tr>\n",
       "      <td>12</td>\n",
       "      <td>-5.109353e+05</td>\n",
       "    </tr>\n",
       "  </tbody>\n",
       "</table>\n",
       "</div>"
      ],
      "text/plain": [
       "      propane injection\n",
       "Date                   \n",
       "1         -8.370005e+05\n",
       "2         -1.157486e+06\n",
       "3         -8.716660e+05\n",
       "4         -2.075801e+05\n",
       "5          3.723268e+05\n",
       "6          5.875379e+05\n",
       "7          5.149443e+05\n",
       "8          7.396664e+05\n",
       "9          4.232434e+05\n",
       "10         2.904851e+05\n",
       "11         1.047359e+05\n",
       "12        -5.109353e+05"
      ]
     },
     "execution_count": 538,
     "metadata": {},
     "output_type": "execute_result"
    }
   ],
   "source": [
    "df5 = df5.groupby(df['Date'].dt.month).mean()\n",
    "df5"
   ]
  },
  {
   "cell_type": "code",
   "execution_count": 539,
   "metadata": {},
   "outputs": [],
   "source": [
    "import os.path\n",
    "def five_year_avg(df, region='Eastern Canada', save=True):\n",
    "    \n",
    "    #isolate the data for the given region\n",
    "    df5 = df[df['Region']==region][['Date','propane injection']]\n",
    "    #get the max and min years for the analysis\n",
    "    max_date = df5['Date'].max()\n",
    "    max_year = max_date - relativedelta.relativedelta(years = 1)\n",
    "    max_year = max_year.year\n",
    "    min_year = max_year - 5\n",
    "    #filter the dataframe on two conditions using the \"AND\" operator\n",
    "    df5 = df5[(df5['Date'].dt.year <= max_year) & (df5['Date'].dt.year > min_year)]\n",
    "    df5 = df5.groupby(df['Date'].dt.month).mean()\n",
    "    #new code to compare the 2020 injections/withdrawls from the average\n",
    "    \n",
    "    current_year = max(df[df['Region']==region]['Date'].dt.year)\n",
    "    df_now = df[(df['Region']==region) & (df['Date'].dt.year == current_year)].copy()\n",
    "    df_now['Month'] = df_now['Date'].dt.month\n",
    "    df_now = df_now[['Month','propane injection']]\n",
    "    \n",
    "    df5 = df5.merge(df_now,how='left',left_on='Date',right_on='Month',suffixes=('_avg','_now'))\n",
    "    del df5['Month']\n",
    "    \n",
    "    if save and not os.path.isfile(region+'.csv'):\n",
    "        df5.to_csv(region+'.csv')\n",
    "    \n",
    "    print(region)\n",
    "    df5.plot()\n",
    "    return df5"
   ]
  },
  {
   "cell_type": "code",
   "execution_count": 540,
   "metadata": {},
   "outputs": [
    {
     "name": "stdout",
     "output_type": "stream",
     "text": [
      "Eastern Canada\n"
     ]
    },
    {
     "data": {
      "image/png": "[encoded data removed]",
      "text/plain": [
       "<Figure size 432x288 with 1 Axes>"
      ]
     },
     "metadata": {
      "needs_background": "light"
     },
     "output_type": "display_data"
    }
   ],
   "source": [
    "df5 = five_year_avg(df,region = 'Eastern Canada')"
   ]
  },
  {
   "cell_type": "markdown",
   "metadata": {},
   "source": [
    "## Appendix: data scraping\n",
    "\n",
    "We do alot of data scraping at the CER. This is how we populate the CERSEI database.\n",
    "\n",
    "Some websites are easier to scrape than others...\n",
    "\n",
    "How can we scape the LPG data?"
   ]
  },
  {
   "cell_type": "code",
   "execution_count": 541,
   "metadata": {},
   "outputs": [],
   "source": [
    "link = 'https://www.cer-rec.gc.ca/nrg/sttstc/ntrlgslqds/stt/2020lqdptrlmgs.xlsx'\n",
    "df_scrape = pd.read_excel(link,sheet_name='Data')\n",
    "#can anyone see an issue with this link?"
   ]
  },
  {
   "cell_type": "code",
   "execution_count": 542,
   "metadata": {},
   "outputs": [
    {
     "data": {
      "text/html": [
       "<div>\n",
       "<style scoped>\n",
       "    .dataframe tbody tr th:only-of-type {\n",
       "        vertical-align: middle;\n",
       "    }\n",
       "\n",
       "    .dataframe tbody tr th {\n",
       "        vertical-align: top;\n",
       "    }\n",
       "\n",
       "    .dataframe thead th {\n",
       "        text-align: right;\n",
       "    }\n",
       "</style>\n",
       "<table border=\"1\" class=\"dataframe\">\n",
       "  <thead>\n",
       "    <tr style=\"text-align: right;\">\n",
       "      <th></th>\n",
       "      <th>Region / Région</th>\n",
       "      <th>Date</th>\n",
       "      <th>Spec. propane / propane pur</th>\n",
       "      <th>Total butane / butane - total</th>\n",
       "      <th>Normal butane / butane normal</th>\n",
       "      <th>Iso-butane</th>\n",
       "      <th>Total mix / mélange - total</th>\n",
       "      <th>C2 in mix / mélange - C2</th>\n",
       "      <th>C3 in mix / mélange - C3</th>\n",
       "      <th>C4 in mix / mélange - C4</th>\n",
       "      <th>Other in mix / mélange - autres</th>\n",
       "    </tr>\n",
       "  </thead>\n",
       "  <tbody>\n",
       "    <tr>\n",
       "      <td>0</td>\n",
       "      <td>Canada</td>\n",
       "      <td>2000-01-01</td>\n",
       "      <td>784.036998</td>\n",
       "      <td>362.449492</td>\n",
       "      <td>NaN</td>\n",
       "      <td>NaN</td>\n",
       "      <td>399.786525</td>\n",
       "      <td>0.000000</td>\n",
       "      <td>194.177107</td>\n",
       "      <td>148.029764</td>\n",
       "      <td>57.579654</td>\n",
       "    </tr>\n",
       "    <tr>\n",
       "      <td>1</td>\n",
       "      <td>Canada</td>\n",
       "      <td>2001-01-01</td>\n",
       "      <td>848.936964</td>\n",
       "      <td>513.878972</td>\n",
       "      <td>NaN</td>\n",
       "      <td>NaN</td>\n",
       "      <td>472.678081</td>\n",
       "      <td>56.520102</td>\n",
       "      <td>222.075131</td>\n",
       "      <td>145.734845</td>\n",
       "      <td>48.348003</td>\n",
       "    </tr>\n",
       "    <tr>\n",
       "      <td>2</td>\n",
       "      <td>Canada</td>\n",
       "      <td>2002-01-01</td>\n",
       "      <td>1544.610900</td>\n",
       "      <td>334.045380</td>\n",
       "      <td>NaN</td>\n",
       "      <td>NaN</td>\n",
       "      <td>859.541956</td>\n",
       "      <td>110.893424</td>\n",
       "      <td>394.577674</td>\n",
       "      <td>277.100469</td>\n",
       "      <td>76.970389</td>\n",
       "    </tr>\n",
       "    <tr>\n",
       "      <td>3</td>\n",
       "      <td>Canada</td>\n",
       "      <td>2003-01-01</td>\n",
       "      <td>668.760300</td>\n",
       "      <td>560.628400</td>\n",
       "      <td>NaN</td>\n",
       "      <td>NaN</td>\n",
       "      <td>734.617046</td>\n",
       "      <td>77.716033</td>\n",
       "      <td>347.581806</td>\n",
       "      <td>239.562783</td>\n",
       "      <td>69.756423</td>\n",
       "    </tr>\n",
       "    <tr>\n",
       "      <td>4</td>\n",
       "      <td>Canada</td>\n",
       "      <td>2004-01-01</td>\n",
       "      <td>1532.155700</td>\n",
       "      <td>364.256100</td>\n",
       "      <td>NaN</td>\n",
       "      <td>NaN</td>\n",
       "      <td>616.168875</td>\n",
       "      <td>81.334226</td>\n",
       "      <td>282.091245</td>\n",
       "      <td>190.497905</td>\n",
       "      <td>62.245499</td>\n",
       "    </tr>\n",
       "  </tbody>\n",
       "</table>\n",
       "</div>"
      ],
      "text/plain": [
       "  Region / Région       Date  Spec. propane / propane pur  \\\n",
       "0          Canada 2000-01-01                   784.036998   \n",
       "1          Canada 2001-01-01                   848.936964   \n",
       "2          Canada 2002-01-01                  1544.610900   \n",
       "3          Canada 2003-01-01                   668.760300   \n",
       "4          Canada 2004-01-01                  1532.155700   \n",
       "\n",
       "   Total butane / butane - total  Normal butane / butane normal  Iso-butane  \\\n",
       "0                     362.449492                            NaN         NaN   \n",
       "1                     513.878972                            NaN         NaN   \n",
       "2                     334.045380                            NaN         NaN   \n",
       "3                     560.628400                            NaN         NaN   \n",
       "4                     364.256100                            NaN         NaN   \n",
       "\n",
       "   Total mix / mélange - total  C2 in mix / mélange - C2  \\\n",
       "0                   399.786525                  0.000000   \n",
       "1                   472.678081                 56.520102   \n",
       "2                   859.541956                110.893424   \n",
       "3                   734.617046                 77.716033   \n",
       "4                   616.168875                 81.334226   \n",
       "\n",
       "   C3 in mix / mélange - C3  C4 in mix / mélange - C4  \\\n",
       "0                194.177107                148.029764   \n",
       "1                222.075131                145.734845   \n",
       "2                394.577674                277.100469   \n",
       "3                347.581806                239.562783   \n",
       "4                282.091245                190.497905   \n",
       "\n",
       "   Other in mix / mélange - autres  \n",
       "0                        57.579654  \n",
       "1                        48.348003  \n",
       "2                        76.970389  \n",
       "3                        69.756423  \n",
       "4                        62.245499  "
      ]
     },
     "execution_count": 542,
     "metadata": {},
     "output_type": "execute_result"
    }
   ],
   "source": [
    "df_scrape.head()"
   ]
  },
  {
   "cell_type": "code",
   "execution_count": 543,
   "metadata": {},
   "outputs": [
    {
     "data": {
      "text/plain": [
       "'lqdptrlmgs.xlsx'"
      ]
     },
     "execution_count": 543,
     "metadata": {},
     "output_type": "execute_result"
    },
    {
     "data": {
      "text/plain": [
       "2020"
      ]
     },
     "execution_count": 543,
     "metadata": {},
     "output_type": "execute_result"
    },
    {
     "data": {
      "text/plain": [
       "'https://www.cer-rec.gc.ca/nrg/sttstc/ntrlgslqds/stt/2020lqdptrlmgs.xlsx'"
      ]
     },
     "execution_count": 543,
     "metadata": {},
     "output_type": "execute_result"
    }
   ],
   "source": [
    "dynamic_link = link.split('/')\n",
    "dynamic_link[-1][4:]\n",
    "\n",
    "now = datetime.date.today()\n",
    "now.year\n",
    "\n",
    "dynamic_link[-1] = str(now.year)+dynamic_link[-1][4:]\n",
    "dynamic_link = '/'.join(dynamic_link)\n",
    "dynamic_link"
   ]
  },
  {
   "cell_type": "code",
   "execution_count": 544,
   "metadata": {},
   "outputs": [],
   "source": [
    "#other modules used for webscraping\n",
    "import selenium\n",
    "from bs4 import BeautifulSoup\n",
    "import requests"
   ]
  },
  {
   "cell_type": "markdown",
   "metadata": {},
   "source": [
    "# How can we consolidate this data analysis example?\n",
    "\n",
    "Modular code..."
   ]
  },
  {
   "cell_type": "code",
   "execution_count": 545,
   "metadata": {},
   "outputs": [],
   "source": [
    "def english_only(arr):\n",
    "    return {x:x.split('/')[0].strip() for x in arr}\n",
    "    \n",
    "    \n",
    "def scrape_data(link='https://www.cer-rec.gc.ca/nrg/sttstc/ntrlgslqds/stt/2020lqdptrlmgs.xlsx'):\n",
    "    dynamic_link = link.split('/')\n",
    "    dynamic_link[-1][4:]\n",
    "\n",
    "    now = datetime.date.today()\n",
    "    now.year\n",
    "    dynamic_link[-1] = str(now.year)+dynamic_link[-1][4:]\n",
    "    dynamic_link = '/'.join(dynamic_link)\n",
    "    df = pd.read_excel(link,sheet_name='Data')\n",
    "    \n",
    "    return df\n",
    "\n",
    "\n",
    "def process_data(df = scrape_data()):\n",
    "    \n",
    "    new_columns = english_only(df.columns)\n",
    "    df = df.rename(columns=new_columns)\n",
    "    \n",
    "    new_regions = english_only(df['Region'].unique())\n",
    "    df['Region'] = df['Region'].replace(new_regions)\n",
    "    \n",
    "    return df\n",
    "    \n",
    "\n",
    "def calculate_injections(df):\n",
    "    \n",
    "    new_group = []\n",
    "    for r in df['Region'].unique():\n",
    "        df_r = df[df['Region']==r].copy()\n",
    "        df_r = df_r.sort_values(by=['Date'])\n",
    "        df_r['propane injection'] = df_r['Spec. propane'] - df_r['Spec. propane'].shift(1)\n",
    "        new_group.append(df_r)\n",
    "    df = pd.concat(new_group, ignore_index=True)\n",
    "    \n",
    "    return df\n",
    "\n",
    "\n",
    "def five_year_avg(region='Eastern Canada', save=True):\n",
    "    df = process_data()\n",
    "    df = calculate_injections(df)\n",
    "    #isolate the data for the given region\n",
    "    df5 = df[df['Region']==region][['Date','propane injection']].copy()\n",
    "    #get the max and min years for the analysis\n",
    "    max_date = df5['Date'].max()\n",
    "    max_year = max_date - relativedelta.relativedelta(years = 1)\n",
    "    max_year = max_year.year\n",
    "    min_year = max_year - 4\n",
    "    #filter the dataframe on two conditions using the \"AND\" operator\n",
    "    df5 = df5[(df5['Date'].dt.year <= max_year) & (df5['Date'].dt.year >= min_year)]\n",
    "    df5 = df5.groupby(df['Date'].dt.month).mean()\n",
    "    #new code to compare the 2020 injections/withdrawls from the average\n",
    "    \n",
    "    current_year = max(df[df['Region']==region]['Date'].dt.year)\n",
    "    df_now = df[(df['Region']==region) & (df['Date'].dt.year == current_year)].copy()\n",
    "    df_now['Month'] = df_now['Date'].dt.month\n",
    "    df_now = df_now[['Month','propane injection']]\n",
    "    \n",
    "    df5 = df5.merge(df_now,how='left',left_on='Date',right_on='Month',suffixes=('_avg','_now'))\n",
    "    del df5['Month']\n",
    "    \n",
    "    if save and not os.path.isfile(region+'.csv'):\n",
    "        df5.to_csv(region+'.csv')\n",
    "    \n",
    "    print(region+' '+str(current_year))\n",
    "    df5.plot()"
   ]
  },
  {
   "cell_type": "code",
   "execution_count": 546,
   "metadata": {},
   "outputs": [
    {
     "name": "stdout",
     "output_type": "stream",
     "text": [
      "Eastern Canada 2020\n"
     ]
    },
    {
     "data": {
      "image/png": "[encoded data removed]",
      "text/plain": [
       "<Figure size 432x288 with 1 Axes>"
      ]
     },
     "metadata": {
      "needs_background": "light"
     },
     "output_type": "display_data"
    }
   ],
   "source": [
    "five_year_avg(region='Eastern Canada',save=False)"
   ]
  },
  {
   "cell_type": "markdown",
   "metadata": {},
   "source": [
    "### Homework...\n",
    "\n",
    "How can we modify the code so that the product (Spec. propane, total butane) can be passed into the functions to change which product is displayed in the graph?"
   ]
  },
  {
   "cell_type": "markdown",
   "metadata": {},
   "source": [
    "### Final Notes:\n",
    "\n",
    "1) This is a process. Once you get over the \"hump\" you'll start to find that writing python for your job is easier and faster than using excell for complicated problems.\n",
    "\n",
    "2) Even if you aern't comfortable with the basics yet, start forcing yourself to do projects in python as opposed to excel.\n",
    "\n",
    "3) If you feel like putting your fist through the computer screen, that means you are learning..."
   ]
  },
  {
   "cell_type": "code",
   "execution_count": null,
   "metadata": {},
   "outputs": [],
   "source": []
  }
 ],
 "metadata": {
  "kernelspec": {
   "display_name": "Python 3",
   "language": "python",
   "name": "python3"
  },
  "language_info": {
   "codemirror_mode": {
    "name": "ipython",
    "version": 3
   },
   "file_extension": ".py",
   "mimetype": "text/x-python",
   "name": "python",
   "nbconvert_exporter": "python",
   "pygments_lexer": "ipython3",
   "version": "3.7.4"
  }
 },
 "nbformat": 4,
 "nbformat_minor": 4
}
