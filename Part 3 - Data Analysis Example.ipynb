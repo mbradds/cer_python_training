{
 "cells": [
  {
   "cell_type": "markdown",
   "metadata": {},
   "source": [
    "## Data Analysis Example: How can you get the five year average propane injections for a given region (Eastern Canada) ?\n",
    "\n",
    "Note - with heating commodities, the five year average is used to compare the current years statistics with the previous five years. So the current five year average would include 2015 - 2019 (inclusive)\n",
    "\n",
    "\n",
    "If you cant remember the exact code/functions to use, start writing down the steps that could make this happen."
   ]
  },
  {
   "cell_type": "markdown",
   "metadata": {},
   "source": [
    "First step: Import all the modules we need"
   ]
  },
  {
   "cell_type": "code",
   "execution_count": 78,
   "metadata": {},
   "outputs": [],
   "source": [
    "import pandas as pd\n",
    "import dateutil.relativedelta as relativedelta\n",
    "import datetime"
   ]
  },
  {
   "cell_type": "code",
   "execution_count": 79,
   "metadata": {},
   "outputs": [],
   "source": [
    "df = pd.read_excel('2020lqdptrlmgs.xlsx',sheet_name = 'Data') #read from a saved dataset"
   ]
  },
  {
   "cell_type": "code",
   "execution_count": 80,
   "metadata": {},
   "outputs": [
    {
     "data": {
      "text/html": [
       "<div>\n",
       "<style scoped>\n",
       "    .dataframe tbody tr th:only-of-type {\n",
       "        vertical-align: middle;\n",
       "    }\n",
       "\n",
       "    .dataframe tbody tr th {\n",
       "        vertical-align: top;\n",
       "    }\n",
       "\n",
       "    .dataframe thead th {\n",
       "        text-align: right;\n",
       "    }\n",
       "</style>\n",
       "<table border=\"1\" class=\"dataframe\">\n",
       "  <thead>\n",
       "    <tr style=\"text-align: right;\">\n",
       "      <th></th>\n",
       "      <th>Region / Région</th>\n",
       "      <th>Date</th>\n",
       "      <th>Spec. propane / propane pur</th>\n",
       "      <th>Total butane / butane - total</th>\n",
       "      <th>Normal butane / butane normal</th>\n",
       "      <th>Iso-butane</th>\n",
       "      <th>Total mix / mélange - total</th>\n",
       "      <th>C2 in mix / mélange - C2</th>\n",
       "      <th>C3 in mix / mélange - C3</th>\n",
       "      <th>C4 in mix / mélange - C4</th>\n",
       "      <th>Other in mix / mélange - autres</th>\n",
       "    </tr>\n",
       "  </thead>\n",
       "  <tbody>\n",
       "    <tr>\n",
       "      <th>0</th>\n",
       "      <td>Canada</td>\n",
       "      <td>2000-01-01</td>\n",
       "      <td>784.036998</td>\n",
       "      <td>362.449492</td>\n",
       "      <td>NaN</td>\n",
       "      <td>NaN</td>\n",
       "      <td>399.786525</td>\n",
       "      <td>0.000000</td>\n",
       "      <td>194.177107</td>\n",
       "      <td>148.029764</td>\n",
       "      <td>57.579654</td>\n",
       "    </tr>\n",
       "    <tr>\n",
       "      <th>1</th>\n",
       "      <td>Canada</td>\n",
       "      <td>2000-02-01</td>\n",
       "      <td>356.524189</td>\n",
       "      <td>227.550475</td>\n",
       "      <td>NaN</td>\n",
       "      <td>NaN</td>\n",
       "      <td>383.860440</td>\n",
       "      <td>0.000000</td>\n",
       "      <td>181.748400</td>\n",
       "      <td>140.397040</td>\n",
       "      <td>61.715000</td>\n",
       "    </tr>\n",
       "    <tr>\n",
       "      <th>2</th>\n",
       "      <td>Canada</td>\n",
       "      <td>2000-03-01</td>\n",
       "      <td>173.564615</td>\n",
       "      <td>138.456572</td>\n",
       "      <td>NaN</td>\n",
       "      <td>NaN</td>\n",
       "      <td>321.312165</td>\n",
       "      <td>0.015462</td>\n",
       "      <td>155.674621</td>\n",
       "      <td>122.755902</td>\n",
       "      <td>42.866180</td>\n",
       "    </tr>\n",
       "    <tr>\n",
       "      <th>3</th>\n",
       "      <td>Canada</td>\n",
       "      <td>2000-04-01</td>\n",
       "      <td>297.382941</td>\n",
       "      <td>214.332134</td>\n",
       "      <td>NaN</td>\n",
       "      <td>NaN</td>\n",
       "      <td>384.313830</td>\n",
       "      <td>42.537402</td>\n",
       "      <td>185.803634</td>\n",
       "      <td>122.041656</td>\n",
       "      <td>33.931138</td>\n",
       "    </tr>\n",
       "    <tr>\n",
       "      <th>4</th>\n",
       "      <td>Canada</td>\n",
       "      <td>2000-05-01</td>\n",
       "      <td>596.065626</td>\n",
       "      <td>355.837875</td>\n",
       "      <td>NaN</td>\n",
       "      <td>NaN</td>\n",
       "      <td>369.390836</td>\n",
       "      <td>32.269491</td>\n",
       "      <td>180.196321</td>\n",
       "      <td>121.011815</td>\n",
       "      <td>35.913209</td>\n",
       "    </tr>\n",
       "  </tbody>\n",
       "</table>\n",
       "</div>"
      ],
      "text/plain": [
       "  Region / Région       Date  Spec. propane / propane pur  \\\n",
       "0          Canada 2000-01-01                   784.036998   \n",
       "1          Canada 2000-02-01                   356.524189   \n",
       "2          Canada 2000-03-01                   173.564615   \n",
       "3          Canada 2000-04-01                   297.382941   \n",
       "4          Canada 2000-05-01                   596.065626   \n",
       "\n",
       "   Total butane / butane - total  Normal butane / butane normal  Iso-butane  \\\n",
       "0                     362.449492                            NaN         NaN   \n",
       "1                     227.550475                            NaN         NaN   \n",
       "2                     138.456572                            NaN         NaN   \n",
       "3                     214.332134                            NaN         NaN   \n",
       "4                     355.837875                            NaN         NaN   \n",
       "\n",
       "   Total mix / mélange - total  C2 in mix / mélange - C2  \\\n",
       "0                   399.786525                  0.000000   \n",
       "1                   383.860440                  0.000000   \n",
       "2                   321.312165                  0.015462   \n",
       "3                   384.313830                 42.537402   \n",
       "4                   369.390836                 32.269491   \n",
       "\n",
       "   C3 in mix / mélange - C3  C4 in mix / mélange - C4  \\\n",
       "0                194.177107                148.029764   \n",
       "1                181.748400                140.397040   \n",
       "2                155.674621                122.755902   \n",
       "3                185.803634                122.041656   \n",
       "4                180.196321                121.011815   \n",
       "\n",
       "   Other in mix / mélange - autres  \n",
       "0                        57.579654  \n",
       "1                        61.715000  \n",
       "2                        42.866180  \n",
       "3                        33.931138  \n",
       "4                        35.913209  "
      ]
     },
     "execution_count": 80,
     "metadata": {},
     "output_type": "execute_result"
    }
   ],
   "source": [
    "df.head()"
   ]
  },
  {
   "cell_type": "code",
   "execution_count": 81,
   "metadata": {},
   "outputs": [],
   "source": [
    "# previously defined functions\n",
    "def english_only(col_names):\n",
    "    return {x:x.split('/')[0].strip() for x in col_names}\n",
    "\n",
    "\n",
    "def change_units(df):\n",
    "    for col in df:\n",
    "        if col not in ['Region','Date']:\n",
    "            df[col] = (df[col]*1000)*6.2898 #note, we are accessing the column with a variable name\n",
    "    return df\n",
    "\n",
    "\n",
    "def calculate_injections(df):\n",
    "    grouped = df.groupby('Region')\n",
    "    new_group = []\n",
    "    for name, group in grouped:\n",
    "        group = group.copy()\n",
    "        group['propane injection'] = group['Spec. propane'] - group['Spec. propane'].shift(1)\n",
    "        new_group.append(group)\n",
    "    df = pd.concat(new_group, ignore_index=True)\n",
    "    return df"
   ]
  },
  {
   "cell_type": "code",
   "execution_count": 82,
   "metadata": {},
   "outputs": [],
   "source": [
    "# step 1: data cleaning/preperation\n",
    "df = df.rename(columns=english_only(df.columns))\n",
    "df['Region'] = df['Region'] = df['Region'].replace(english_only(df['Region'].unique()))\n",
    "df = calculate_injections(df)\n",
    "# df_bbl = change_units(df)"
   ]
  },
  {
   "cell_type": "code",
   "execution_count": 83,
   "metadata": {},
   "outputs": [
    {
     "data": {
      "text/html": [
       "<div>\n",
       "<style scoped>\n",
       "    .dataframe tbody tr th:only-of-type {\n",
       "        vertical-align: middle;\n",
       "    }\n",
       "\n",
       "    .dataframe tbody tr th {\n",
       "        vertical-align: top;\n",
       "    }\n",
       "\n",
       "    .dataframe thead th {\n",
       "        text-align: right;\n",
       "    }\n",
       "</style>\n",
       "<table border=\"1\" class=\"dataframe\">\n",
       "  <thead>\n",
       "    <tr style=\"text-align: right;\">\n",
       "      <th></th>\n",
       "      <th>Region</th>\n",
       "      <th>Date</th>\n",
       "      <th>Spec. propane</th>\n",
       "      <th>Total butane</th>\n",
       "      <th>Normal butane</th>\n",
       "      <th>Iso-butane</th>\n",
       "      <th>Total mix</th>\n",
       "      <th>C2 in mix</th>\n",
       "      <th>C3 in mix</th>\n",
       "      <th>C4 in mix</th>\n",
       "      <th>Other in mix</th>\n",
       "      <th>propane injection</th>\n",
       "    </tr>\n",
       "  </thead>\n",
       "  <tbody>\n",
       "    <tr>\n",
       "      <th>0</th>\n",
       "      <td>Canada</td>\n",
       "      <td>2000-01-01</td>\n",
       "      <td>784.036998</td>\n",
       "      <td>362.449492</td>\n",
       "      <td>NaN</td>\n",
       "      <td>NaN</td>\n",
       "      <td>399.786525</td>\n",
       "      <td>0.000000</td>\n",
       "      <td>194.177107</td>\n",
       "      <td>148.029764</td>\n",
       "      <td>57.579654</td>\n",
       "      <td>NaN</td>\n",
       "    </tr>\n",
       "    <tr>\n",
       "      <th>1</th>\n",
       "      <td>Canada</td>\n",
       "      <td>2000-02-01</td>\n",
       "      <td>356.524189</td>\n",
       "      <td>227.550475</td>\n",
       "      <td>NaN</td>\n",
       "      <td>NaN</td>\n",
       "      <td>383.860440</td>\n",
       "      <td>0.000000</td>\n",
       "      <td>181.748400</td>\n",
       "      <td>140.397040</td>\n",
       "      <td>61.715000</td>\n",
       "      <td>-427.512809</td>\n",
       "    </tr>\n",
       "    <tr>\n",
       "      <th>2</th>\n",
       "      <td>Canada</td>\n",
       "      <td>2000-03-01</td>\n",
       "      <td>173.564615</td>\n",
       "      <td>138.456572</td>\n",
       "      <td>NaN</td>\n",
       "      <td>NaN</td>\n",
       "      <td>321.312165</td>\n",
       "      <td>0.015462</td>\n",
       "      <td>155.674621</td>\n",
       "      <td>122.755902</td>\n",
       "      <td>42.866180</td>\n",
       "      <td>-182.959574</td>\n",
       "    </tr>\n",
       "    <tr>\n",
       "      <th>3</th>\n",
       "      <td>Canada</td>\n",
       "      <td>2000-04-01</td>\n",
       "      <td>297.382941</td>\n",
       "      <td>214.332134</td>\n",
       "      <td>NaN</td>\n",
       "      <td>NaN</td>\n",
       "      <td>384.313830</td>\n",
       "      <td>42.537402</td>\n",
       "      <td>185.803634</td>\n",
       "      <td>122.041656</td>\n",
       "      <td>33.931138</td>\n",
       "      <td>123.818326</td>\n",
       "    </tr>\n",
       "    <tr>\n",
       "      <th>4</th>\n",
       "      <td>Canada</td>\n",
       "      <td>2000-05-01</td>\n",
       "      <td>596.065626</td>\n",
       "      <td>355.837875</td>\n",
       "      <td>NaN</td>\n",
       "      <td>NaN</td>\n",
       "      <td>369.390836</td>\n",
       "      <td>32.269491</td>\n",
       "      <td>180.196321</td>\n",
       "      <td>121.011815</td>\n",
       "      <td>35.913209</td>\n",
       "      <td>298.682685</td>\n",
       "    </tr>\n",
       "  </tbody>\n",
       "</table>\n",
       "</div>"
      ],
      "text/plain": [
       "   Region       Date  Spec. propane  Total butane  Normal butane  Iso-butane  \\\n",
       "0  Canada 2000-01-01     784.036998    362.449492            NaN         NaN   \n",
       "1  Canada 2000-02-01     356.524189    227.550475            NaN         NaN   \n",
       "2  Canada 2000-03-01     173.564615    138.456572            NaN         NaN   \n",
       "3  Canada 2000-04-01     297.382941    214.332134            NaN         NaN   \n",
       "4  Canada 2000-05-01     596.065626    355.837875            NaN         NaN   \n",
       "\n",
       "    Total mix  C2 in mix   C3 in mix   C4 in mix  Other in mix  \\\n",
       "0  399.786525   0.000000  194.177107  148.029764     57.579654   \n",
       "1  383.860440   0.000000  181.748400  140.397040     61.715000   \n",
       "2  321.312165   0.015462  155.674621  122.755902     42.866180   \n",
       "3  384.313830  42.537402  185.803634  122.041656     33.931138   \n",
       "4  369.390836  32.269491  180.196321  121.011815     35.913209   \n",
       "\n",
       "   propane injection  \n",
       "0                NaN  \n",
       "1        -427.512809  \n",
       "2        -182.959574  \n",
       "3         123.818326  \n",
       "4         298.682685  "
      ]
     },
     "execution_count": 83,
     "metadata": {},
     "output_type": "execute_result"
    }
   ],
   "source": [
    "df.head()"
   ]
  },
  {
   "cell_type": "code",
   "execution_count": 84,
   "metadata": {},
   "outputs": [],
   "source": [
    "region = 'Eastern Canada'"
   ]
  },
  {
   "cell_type": "code",
   "execution_count": 85,
   "metadata": {},
   "outputs": [
    {
     "data": {
      "text/plain": [
       "Timestamp('2020-06-01 00:00:00')"
      ]
     },
     "execution_count": 85,
     "metadata": {},
     "output_type": "execute_result"
    }
   ],
   "source": [
    "df5 = df[df['Region']==region][['Date','propane injection']]\n",
    "#df5['Year'] = [x.year for x in df5['Date']]\n",
    "max_date = df5['Date'].max() \n",
    "max_date"
   ]
  },
  {
   "cell_type": "code",
   "execution_count": 86,
   "metadata": {},
   "outputs": [
    {
     "data": {
      "text/plain": [
       "2019"
      ]
     },
     "execution_count": 86,
     "metadata": {},
     "output_type": "execute_result"
    }
   ],
   "source": [
    "max_year = max_date - relativedelta.relativedelta(years = 1)\n",
    "max_year = max_year.year\n",
    "max_year"
   ]
  },
  {
   "cell_type": "code",
   "execution_count": 87,
   "metadata": {},
   "outputs": [
    {
     "data": {
      "text/plain": [
       "2015"
      ]
     },
     "execution_count": 87,
     "metadata": {},
     "output_type": "execute_result"
    }
   ],
   "source": [
    "min_year = max_year - 4\n",
    "min_year"
   ]
  },
  {
   "cell_type": "code",
   "execution_count": 88,
   "metadata": {},
   "outputs": [],
   "source": [
    "df5 = df5[(df5['Date'].dt.year <= max_year) & (df5['Date'].dt.year >= min_year)]"
   ]
  },
  {
   "cell_type": "code",
   "execution_count": 89,
   "metadata": {},
   "outputs": [
    {
     "data": {
      "text/html": [
       "<div>\n",
       "<style scoped>\n",
       "    .dataframe tbody tr th:only-of-type {\n",
       "        vertical-align: middle;\n",
       "    }\n",
       "\n",
       "    .dataframe tbody tr th {\n",
       "        vertical-align: top;\n",
       "    }\n",
       "\n",
       "    .dataframe thead th {\n",
       "        text-align: right;\n",
       "    }\n",
       "</style>\n",
       "<table border=\"1\" class=\"dataframe\">\n",
       "  <thead>\n",
       "    <tr style=\"text-align: right;\">\n",
       "      <th></th>\n",
       "      <th>Date</th>\n",
       "      <th>propane injection</th>\n",
       "    </tr>\n",
       "  </thead>\n",
       "  <tbody>\n",
       "    <tr>\n",
       "      <th>481</th>\n",
       "      <td>2019-08-01</td>\n",
       "      <td>133.8587</td>\n",
       "    </tr>\n",
       "    <tr>\n",
       "      <th>482</th>\n",
       "      <td>2019-09-01</td>\n",
       "      <td>90.5816</td>\n",
       "    </tr>\n",
       "    <tr>\n",
       "      <th>483</th>\n",
       "      <td>2019-10-01</td>\n",
       "      <td>54.2802</td>\n",
       "    </tr>\n",
       "    <tr>\n",
       "      <th>484</th>\n",
       "      <td>2019-11-01</td>\n",
       "      <td>-56.3411</td>\n",
       "    </tr>\n",
       "    <tr>\n",
       "      <th>485</th>\n",
       "      <td>2019-12-01</td>\n",
       "      <td>-67.5746</td>\n",
       "    </tr>\n",
       "  </tbody>\n",
       "</table>\n",
       "</div>"
      ],
      "text/plain": [
       "          Date  propane injection\n",
       "481 2019-08-01           133.8587\n",
       "482 2019-09-01            90.5816\n",
       "483 2019-10-01            54.2802\n",
       "484 2019-11-01           -56.3411\n",
       "485 2019-12-01           -67.5746"
      ]
     },
     "execution_count": 89,
     "metadata": {},
     "output_type": "execute_result"
    }
   ],
   "source": [
    "df5.head()\n",
    "df5.tail()"
   ]
  },
  {
   "cell_type": "code",
   "execution_count": 90,
   "metadata": {},
   "outputs": [
    {
     "data": {
      "text/html": [
       "<div>\n",
       "<style scoped>\n",
       "    .dataframe tbody tr th:only-of-type {\n",
       "        vertical-align: middle;\n",
       "    }\n",
       "\n",
       "    .dataframe tbody tr th {\n",
       "        vertical-align: top;\n",
       "    }\n",
       "\n",
       "    .dataframe thead th {\n",
       "        text-align: right;\n",
       "    }\n",
       "</style>\n",
       "<table border=\"1\" class=\"dataframe\">\n",
       "  <thead>\n",
       "    <tr style=\"text-align: right;\">\n",
       "      <th></th>\n",
       "      <th>propane injection</th>\n",
       "    </tr>\n",
       "    <tr>\n",
       "      <th>Date</th>\n",
       "      <th></th>\n",
       "    </tr>\n",
       "  </thead>\n",
       "  <tbody>\n",
       "    <tr>\n",
       "      <th>1</th>\n",
       "      <td>-133.07268</td>\n",
       "    </tr>\n",
       "    <tr>\n",
       "      <th>2</th>\n",
       "      <td>-184.02582</td>\n",
       "    </tr>\n",
       "    <tr>\n",
       "      <th>3</th>\n",
       "      <td>-138.58406</td>\n",
       "    </tr>\n",
       "    <tr>\n",
       "      <th>4</th>\n",
       "      <td>-33.00266</td>\n",
       "    </tr>\n",
       "    <tr>\n",
       "      <th>5</th>\n",
       "      <td>59.19534</td>\n",
       "    </tr>\n",
       "    <tr>\n",
       "      <th>6</th>\n",
       "      <td>93.41122</td>\n",
       "    </tr>\n",
       "    <tr>\n",
       "      <th>7</th>\n",
       "      <td>81.86974</td>\n",
       "    </tr>\n",
       "    <tr>\n",
       "      <th>8</th>\n",
       "      <td>117.59776</td>\n",
       "    </tr>\n",
       "    <tr>\n",
       "      <th>9</th>\n",
       "      <td>67.29044</td>\n",
       "    </tr>\n",
       "    <tr>\n",
       "      <th>10</th>\n",
       "      <td>46.18352</td>\n",
       "    </tr>\n",
       "    <tr>\n",
       "      <th>11</th>\n",
       "      <td>16.65170</td>\n",
       "    </tr>\n",
       "    <tr>\n",
       "      <th>12</th>\n",
       "      <td>-81.23236</td>\n",
       "    </tr>\n",
       "  </tbody>\n",
       "</table>\n",
       "</div>"
      ],
      "text/plain": [
       "      propane injection\n",
       "Date                   \n",
       "1            -133.07268\n",
       "2            -184.02582\n",
       "3            -138.58406\n",
       "4             -33.00266\n",
       "5              59.19534\n",
       "6              93.41122\n",
       "7              81.86974\n",
       "8             117.59776\n",
       "9              67.29044\n",
       "10             46.18352\n",
       "11             16.65170\n",
       "12            -81.23236"
      ]
     },
     "execution_count": 90,
     "metadata": {},
     "output_type": "execute_result"
    }
   ],
   "source": [
    "df5 = df5.groupby(df['Date'].dt.month).mean()\n",
    "df5"
   ]
  },
  {
   "cell_type": "code",
   "execution_count": 104,
   "metadata": {},
   "outputs": [],
   "source": [
    "import os.path\n",
    "def five_year_avg(df, region='Eastern Canada', save=True):\n",
    "    \n",
    "    #isolate the data for the given region\n",
    "    df5 = df[df['Region']==region][['Date','propane injection']].copy()\n",
    "    #get the max and min years for the analysis\n",
    "    max_date = df5['Date'].max()\n",
    "    max_year = max_date - relativedelta.relativedelta(years = 1)\n",
    "    max_year = max_year.year\n",
    "    min_year = max_year - 5\n",
    "    #filter the dataframe on two conditions using the \"AND\" operator\n",
    "    df5 = df5[(df5['Date'].dt.year <= max_year) & (df5['Date'].dt.year > min_year)]\n",
    "    df5 = df5.groupby(df['Date'].dt.month).mean()\n",
    "    #new code to compare the 2020 injections/withdrawls from the average\n",
    "    \n",
    "    current_year = max(df[df['Region']==region]['Date'].dt.year)\n",
    "    df_now = df[(df['Region']==region) & (df['Date'].dt.year == current_year)].copy()\n",
    "    df_now['Month'] = df_now['Date'].dt.month\n",
    "    df_now = df_now[['Month','propane injection']]\n",
    "    \n",
    "    df5 = df5.merge(df_now,how='left',left_on='Date',right_on='Month',suffixes=('_avg','_now'))\n",
    "    del df5['Month']\n",
    "    \n",
    "    if save and not os.path.isfile(region+'.csv'):\n",
    "        df5.to_csv(region+'.csv')\n",
    "    \n",
    "    print(region)\n",
    "    df5.plot()\n",
    "    return df5"
   ]
  },
  {
   "cell_type": "code",
   "execution_count": 105,
   "metadata": {},
   "outputs": [
    {
     "name": "stdout",
     "output_type": "stream",
     "text": [
      "Eastern Canada\n"
     ]
    },
    {
     "data": {
      "image/png": "[encoded data removed]",
      "text/plain": [
       "<Figure size 432x288 with 1 Axes>"
      ]
     },
     "metadata": {
      "needs_background": "light"
     },
     "output_type": "display_data"
    }
   ],
   "source": [
    "df5 = five_year_avg(df,region = 'Eastern Canada')"
   ]
  },
  {
   "cell_type": "markdown",
   "metadata": {},
   "source": [
    "## Appendix: data scraping\n",
    "\n",
    "We do alot of data scraping at the CER. This is how we populate the CERSEI database.\n",
    "\n",
    "Some websites are easier to scrape than others...\n",
    "\n",
    "How can we scape the LPG data?"
   ]
  },
  {
   "cell_type": "code",
   "execution_count": 93,
   "metadata": {},
   "outputs": [],
   "source": [
    "import ssl\n",
    "ssl._create_default_https_context = ssl._create_unverified_context"
   ]
  },
  {
   "cell_type": "code",
   "execution_count": 94,
   "metadata": {},
   "outputs": [],
   "source": [
    "link = 'https://www.cer-rec.gc.ca/en/data-analysis/energy-commodities/natural-gas-liquids/statistics/2021lqdptrlmgs.xlsx'\n",
    "df_scrape = pd.read_excel(link,sheet_name='Data')\n",
    "#can anyone see an issue with this link?"
   ]
  },
  {
   "cell_type": "code",
   "execution_count": 106,
   "metadata": {},
   "outputs": [
    {
     "data": {
      "text/html": [
       "<div>\n",
       "<style scoped>\n",
       "    .dataframe tbody tr th:only-of-type {\n",
       "        vertical-align: middle;\n",
       "    }\n",
       "\n",
       "    .dataframe tbody tr th {\n",
       "        vertical-align: top;\n",
       "    }\n",
       "\n",
       "    .dataframe thead th {\n",
       "        text-align: right;\n",
       "    }\n",
       "</style>\n",
       "<table border=\"1\" class=\"dataframe\">\n",
       "  <thead>\n",
       "    <tr style=\"text-align: right;\">\n",
       "      <th></th>\n",
       "      <th>Region / Région</th>\n",
       "      <th>Date</th>\n",
       "      <th>Spec. propane / propane pur</th>\n",
       "      <th>Total butane / butane - total</th>\n",
       "      <th>Normal butane / butane normal</th>\n",
       "      <th>Iso-butane</th>\n",
       "      <th>Total mix / mélange - total</th>\n",
       "      <th>C2 in mix / mélange - C2</th>\n",
       "      <th>C3 in mix / mélange - C3</th>\n",
       "      <th>C4 in mix / mélange - C4</th>\n",
       "      <th>Other in mix / mélange - autres</th>\n",
       "    </tr>\n",
       "  </thead>\n",
       "  <tbody>\n",
       "    <tr>\n",
       "      <th>754</th>\n",
       "      <td>Western Canada / Ouest Canadien</td>\n",
       "      <td>2016-09-01</td>\n",
       "      <td>919.9590</td>\n",
       "      <td>567.4040</td>\n",
       "      <td>NaN</td>\n",
       "      <td>NaN</td>\n",
       "      <td>630.7130</td>\n",
       "      <td>67.721690</td>\n",
       "      <td>311.65272</td>\n",
       "      <td>176.47694</td>\n",
       "      <td>74.861650</td>\n",
       "    </tr>\n",
       "    <tr>\n",
       "      <th>755</th>\n",
       "      <td>Western Canada / Ouest Canadien</td>\n",
       "      <td>2017-09-01</td>\n",
       "      <td>1117.3860</td>\n",
       "      <td>538.2440</td>\n",
       "      <td>NaN</td>\n",
       "      <td>NaN</td>\n",
       "      <td>332.3560</td>\n",
       "      <td>43.486420</td>\n",
       "      <td>154.06416</td>\n",
       "      <td>90.78572</td>\n",
       "      <td>44.019700</td>\n",
       "    </tr>\n",
       "    <tr>\n",
       "      <th>756</th>\n",
       "      <td>Western Canada / Ouest Canadien</td>\n",
       "      <td>2018-09-01</td>\n",
       "      <td>1244.5660</td>\n",
       "      <td>1066.0660</td>\n",
       "      <td>NaN</td>\n",
       "      <td>NaN</td>\n",
       "      <td>712.4176</td>\n",
       "      <td>120.884700</td>\n",
       "      <td>303.85485</td>\n",
       "      <td>202.75780</td>\n",
       "      <td>84.920250</td>\n",
       "    </tr>\n",
       "    <tr>\n",
       "      <th>757</th>\n",
       "      <td>Western Canada / Ouest Canadien</td>\n",
       "      <td>2019-09-01</td>\n",
       "      <td>835.5891</td>\n",
       "      <td>607.0191</td>\n",
       "      <td>NaN</td>\n",
       "      <td>NaN</td>\n",
       "      <td>350.5071</td>\n",
       "      <td>60.083235</td>\n",
       "      <td>152.10913</td>\n",
       "      <td>95.55356</td>\n",
       "      <td>42.761175</td>\n",
       "    </tr>\n",
       "    <tr>\n",
       "      <th>758</th>\n",
       "      <td>Western Canada / Ouest Canadien</td>\n",
       "      <td>2020-09-01</td>\n",
       "      <td>1477.3688</td>\n",
       "      <td>910.7599</td>\n",
       "      <td>NaN</td>\n",
       "      <td>NaN</td>\n",
       "      <td>783.0129</td>\n",
       "      <td>129.324405</td>\n",
       "      <td>331.25324</td>\n",
       "      <td>221.64724</td>\n",
       "      <td>100.788015</td>\n",
       "    </tr>\n",
       "  </tbody>\n",
       "</table>\n",
       "</div>"
      ],
      "text/plain": [
       "                     Region / Région       Date  Spec. propane / propane pur  \\\n",
       "754  Western Canada / Ouest Canadien 2016-09-01                     919.9590   \n",
       "755  Western Canada / Ouest Canadien 2017-09-01                    1117.3860   \n",
       "756  Western Canada / Ouest Canadien 2018-09-01                    1244.5660   \n",
       "757  Western Canada / Ouest Canadien 2019-09-01                     835.5891   \n",
       "758  Western Canada / Ouest Canadien 2020-09-01                    1477.3688   \n",
       "\n",
       "     Total butane / butane - total  Normal butane / butane normal  Iso-butane  \\\n",
       "754                       567.4040                            NaN         NaN   \n",
       "755                       538.2440                            NaN         NaN   \n",
       "756                      1066.0660                            NaN         NaN   \n",
       "757                       607.0191                            NaN         NaN   \n",
       "758                       910.7599                            NaN         NaN   \n",
       "\n",
       "     Total mix / mélange - total  C2 in mix / mélange - C2  \\\n",
       "754                     630.7130                 67.721690   \n",
       "755                     332.3560                 43.486420   \n",
       "756                     712.4176                120.884700   \n",
       "757                     350.5071                 60.083235   \n",
       "758                     783.0129                129.324405   \n",
       "\n",
       "     C3 in mix / mélange - C3  C4 in mix / mélange - C4  \\\n",
       "754                 311.65272                 176.47694   \n",
       "755                 154.06416                  90.78572   \n",
       "756                 303.85485                 202.75780   \n",
       "757                 152.10913                  95.55356   \n",
       "758                 331.25324                 221.64724   \n",
       "\n",
       "     Other in mix / mélange - autres  \n",
       "754                        74.861650  \n",
       "755                        44.019700  \n",
       "756                        84.920250  \n",
       "757                        42.761175  \n",
       "758                       100.788015  "
      ]
     },
     "execution_count": 106,
     "metadata": {},
     "output_type": "execute_result"
    }
   ],
   "source": [
    "df_scrape.tail()"
   ]
  },
  {
   "cell_type": "code",
   "execution_count": 107,
   "metadata": {},
   "outputs": [
    {
     "data": {
      "text/plain": [
       "'https://www.cer-rec.gc.ca/en/data-analysis/energy-commodities/natural-gas-liquids/statistics/2021lqdptrlmgs.xlsx'"
      ]
     },
     "execution_count": 107,
     "metadata": {},
     "output_type": "execute_result"
    }
   ],
   "source": [
    "dynamic_link = link.split('/')\n",
    "dynamic_link[-1][4:]\n",
    "\n",
    "now = datetime.date.today()\n",
    "now.year\n",
    "\n",
    "dynamic_link[-1] = str(now.year)+dynamic_link[-1][4:]\n",
    "dynamic_link = '/'.join(dynamic_link)\n",
    "dynamic_link"
   ]
  },
  {
   "cell_type": "code",
   "execution_count": 108,
   "metadata": {},
   "outputs": [],
   "source": [
    "#other modules used for webscraping\n",
    "# import selenium\n",
    "# from bs4 import BeautifulSoup\n",
    "# import requests"
   ]
  },
  {
   "cell_type": "markdown",
   "metadata": {},
   "source": [
    "# How can we consolidate this data analysis example?\n",
    "\n",
    "Modular code..."
   ]
  },
  {
   "cell_type": "code",
   "execution_count": 109,
   "metadata": {},
   "outputs": [],
   "source": [
    "def english_only(arr):\n",
    "    return {x:x.split('/')[0].strip() for x in arr}\n",
    "    \n",
    "    \n",
    "def scrape_data(link='https://www.cer-rec.gc.ca/en/data-analysis/energy-commodities/natural-gas-liquids/statistics/2021lqdptrlmgs.xlsx'):\n",
    "    dynamic_link = link.split('/')\n",
    "    dynamic_link[-1][4:]\n",
    "\n",
    "    now = datetime.date.today()\n",
    "    now.year\n",
    "    dynamic_link[-1] = str(now.year)+dynamic_link[-1][4:]\n",
    "    dynamic_link = '/'.join(dynamic_link)\n",
    "    df = pd.read_excel(link,sheet_name='Data')\n",
    "    return df\n",
    "\n",
    "\n",
    "def process_data(df = scrape_data()):\n",
    "    new_columns = english_only(df.columns)\n",
    "    df = df.rename(columns=new_columns)\n",
    "    \n",
    "    new_regions = english_only(df['Region'].unique())\n",
    "    df['Region'] = df['Region'].replace(new_regions)\n",
    "    return df\n",
    "    \n",
    "\n",
    "def calculate_injections(df):\n",
    "    new_group = []\n",
    "    for r in df['Region'].unique():\n",
    "        df_r = df[df['Region']==r].copy()\n",
    "        df_r = df_r.sort_values(by=['Date'])\n",
    "        df_r['propane injection'] = df_r['Spec. propane'] - df_r['Spec. propane'].shift(1)\n",
    "        new_group.append(df_r)\n",
    "    df = pd.concat(new_group, ignore_index=True)\n",
    "    return df\n",
    "\n",
    "\n",
    "# this is the main function\n",
    "def five_year_avg(region='Eastern Canada', save=True):\n",
    "    df = process_data()\n",
    "    df = calculate_injections(df)\n",
    "    #isolate the data for the given region\n",
    "    df5 = df[df['Region']==region][['Date','propane injection']].copy()\n",
    "    #get the max and min years for the analysis\n",
    "    max_date = df5['Date'].max()\n",
    "    max_year = max_date - relativedelta.relativedelta(years = 1)\n",
    "    max_year = max_year.year\n",
    "    min_year = max_year - 4\n",
    "    #filter the dataframe on two conditions using the \"AND\" operator\n",
    "    df5 = df5[(df5['Date'].dt.year <= max_year) & (df5['Date'].dt.year >= min_year)]\n",
    "    df5 = df5.groupby(df['Date'].dt.month).mean()\n",
    "    #new code to compare the 2020 injections/withdrawls from the average\n",
    "    \n",
    "    current_year = max(df[df['Region']==region]['Date'].dt.year)\n",
    "    df_now = df[(df['Region']==region) & (df['Date'].dt.year == current_year)].copy()\n",
    "    df_now['Month'] = df_now['Date'].dt.month\n",
    "    df_now = df_now[['Month','propane injection']]\n",
    "    \n",
    "    df5 = df5.merge(df_now,how='left',left_on='Date',right_on='Month',suffixes=('_avg','_now'))\n",
    "    del df5['Month']\n",
    "    \n",
    "    if save and not os.path.isfile(region+'.csv'):\n",
    "        df5.to_csv(region+'.csv')\n",
    "    \n",
    "    print(region+' '+str(current_year))\n",
    "    df5.plot()"
   ]
  },
  {
   "cell_type": "code",
   "execution_count": 111,
   "metadata": {},
   "outputs": [
    {
     "name": "stdout",
     "output_type": "stream",
     "text": [
      "Western Canada 2021\n"
     ]
    },
    {
     "data": {
      "image/png": "[encoded data removed]",
      "text/plain": [
       "<Figure size 432x288 with 1 Axes>"
      ]
     },
     "metadata": {
      "needs_background": "light"
     },
     "output_type": "display_data"
    }
   ],
   "source": [
    "five_year_avg(region='Western Canada',save=False)"
   ]
  },
  {
   "cell_type": "markdown",
   "metadata": {},
   "source": [
    "### Homework...\n",
    "\n",
    "How can we modify the code so that the product (Spec. propane, total butane) can be passed into the functions to change which product is displayed in the graph?"
   ]
  },
  {
   "cell_type": "markdown",
   "metadata": {},
   "source": [
    "### Final Notes:\n",
    "\n",
    "1) This is a process. Once you get over the \"hump\" you'll start to find that writing python for your job is easier and faster than using excell for complicated problems.\n",
    "\n",
    "2) Even if you aern't comfortable with the basics yet, start forcing yourself to do projects in python as opposed to excel.\n",
    "\n",
    "3) If you feel like putting your fist through the computer screen, that means you are learning..."
   ]
  },
  {
   "cell_type": "code",
   "execution_count": null,
   "metadata": {},
   "outputs": [],
   "source": []
  }
 ],
 "metadata": {
  "kernelspec": {
   "display_name": "Python 3",
   "language": "python",
   "name": "python3"
  },
  "language_info": {
   "codemirror_mode": {
    "name": "ipython",
    "version": 3
   },
   "file_extension": ".py",
   "mimetype": "text/x-python",
   "name": "python",
   "nbconvert_exporter": "python",
   "pygments_lexer": "ipython3",
   "version": "3.8.5"
  }
 },
 "nbformat": 4,
 "nbformat_minor": 4
}
