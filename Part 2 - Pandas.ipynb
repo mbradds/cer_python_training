{
 "cells": [
  {
   "cell_type": "markdown",
   "metadata": {},
   "source": [
    "# Pandas\n",
    "\n",
    "The foundation of most python work done at the CER. Pandas is kind of a combination between excel and SQL\n",
    "\n",
    "The first step in Pandas is often to read in our dataset into a DataFrame object. This could come from a CSV, excel file, any database, dictionary (JSON), or many other data formats.\n",
    "\n",
    "\n",
    "- Pandas I/O\n",
    "- DataFrame object\n"
   ]
  },
  {
   "cell_type": "markdown",
   "metadata": {},
   "source": [
    "First step: Import pandas. We can give a custom name to all our imports. \"pd\" is the common convention you will see everywhere. All the pandas functionality will be contained in the \"pd\" object"
   ]
  },
  {
   "cell_type": "code",
   "execution_count": 166,
   "metadata": {},
   "outputs": [],
   "source": [
    "import pandas as pd\n",
    "import dateutil.relativedelta as relativedelta"
   ]
  },
  {
   "cell_type": "code",
   "execution_count": 167,
   "metadata": {},
   "outputs": [],
   "source": [
    "df = pd.read_excel('2020lqdptrlmgs.xlsx',sheet_name = 'Data') #read from a saved dataset"
   ]
  },
  {
   "cell_type": "code",
   "execution_count": 168,
   "metadata": {},
   "outputs": [
    {
     "data": {
      "text/plain": [
       "pandas.core.frame.DataFrame"
      ]
     },
     "execution_count": 168,
     "metadata": {},
     "output_type": "execute_result"
    }
   ],
   "source": [
    "type(df)"
   ]
  },
  {
   "cell_type": "code",
   "execution_count": 169,
   "metadata": {},
   "outputs": [
    {
     "data": {
      "text/html": [
       "<div>\n",
       "<style scoped>\n",
       "    .dataframe tbody tr th:only-of-type {\n",
       "        vertical-align: middle;\n",
       "    }\n",
       "\n",
       "    .dataframe tbody tr th {\n",
       "        vertical-align: top;\n",
       "    }\n",
       "\n",
       "    .dataframe thead th {\n",
       "        text-align: right;\n",
       "    }\n",
       "</style>\n",
       "<table border=\"1\" class=\"dataframe\">\n",
       "  <thead>\n",
       "    <tr style=\"text-align: right;\">\n",
       "      <th></th>\n",
       "      <th>Region / Région</th>\n",
       "      <th>Date</th>\n",
       "      <th>Spec. propane / propane pur</th>\n",
       "      <th>Total butane / butane - total</th>\n",
       "      <th>Normal butane / butane normal</th>\n",
       "      <th>Iso-butane</th>\n",
       "      <th>Total mix / mélange - total</th>\n",
       "      <th>C2 in mix / mélange - C2</th>\n",
       "      <th>C3 in mix / mélange - C3</th>\n",
       "      <th>C4 in mix / mélange - C4</th>\n",
       "      <th>Other in mix / mélange - autres</th>\n",
       "    </tr>\n",
       "  </thead>\n",
       "  <tbody>\n",
       "    <tr>\n",
       "      <th>0</th>\n",
       "      <td>Canada</td>\n",
       "      <td>2000-01-01</td>\n",
       "      <td>784.036998</td>\n",
       "      <td>362.449492</td>\n",
       "      <td>NaN</td>\n",
       "      <td>NaN</td>\n",
       "      <td>399.786525</td>\n",
       "      <td>0.000000</td>\n",
       "      <td>194.177107</td>\n",
       "      <td>148.029764</td>\n",
       "      <td>57.579654</td>\n",
       "    </tr>\n",
       "    <tr>\n",
       "      <th>1</th>\n",
       "      <td>Canada</td>\n",
       "      <td>2000-02-01</td>\n",
       "      <td>356.524189</td>\n",
       "      <td>227.550475</td>\n",
       "      <td>NaN</td>\n",
       "      <td>NaN</td>\n",
       "      <td>383.860440</td>\n",
       "      <td>0.000000</td>\n",
       "      <td>181.748400</td>\n",
       "      <td>140.397040</td>\n",
       "      <td>61.715000</td>\n",
       "    </tr>\n",
       "    <tr>\n",
       "      <th>2</th>\n",
       "      <td>Canada</td>\n",
       "      <td>2000-03-01</td>\n",
       "      <td>173.564615</td>\n",
       "      <td>138.456572</td>\n",
       "      <td>NaN</td>\n",
       "      <td>NaN</td>\n",
       "      <td>321.312165</td>\n",
       "      <td>0.015462</td>\n",
       "      <td>155.674621</td>\n",
       "      <td>122.755902</td>\n",
       "      <td>42.866180</td>\n",
       "    </tr>\n",
       "    <tr>\n",
       "      <th>3</th>\n",
       "      <td>Canada</td>\n",
       "      <td>2000-04-01</td>\n",
       "      <td>297.382941</td>\n",
       "      <td>214.332134</td>\n",
       "      <td>NaN</td>\n",
       "      <td>NaN</td>\n",
       "      <td>384.313830</td>\n",
       "      <td>42.537402</td>\n",
       "      <td>185.803634</td>\n",
       "      <td>122.041656</td>\n",
       "      <td>33.931138</td>\n",
       "    </tr>\n",
       "    <tr>\n",
       "      <th>4</th>\n",
       "      <td>Canada</td>\n",
       "      <td>2000-05-01</td>\n",
       "      <td>596.065626</td>\n",
       "      <td>355.837875</td>\n",
       "      <td>NaN</td>\n",
       "      <td>NaN</td>\n",
       "      <td>369.390836</td>\n",
       "      <td>32.269491</td>\n",
       "      <td>180.196321</td>\n",
       "      <td>121.011815</td>\n",
       "      <td>35.913209</td>\n",
       "    </tr>\n",
       "  </tbody>\n",
       "</table>\n",
       "</div>"
      ],
      "text/plain": [
       "  Region / Région       Date  Spec. propane / propane pur  \\\n",
       "0          Canada 2000-01-01                   784.036998   \n",
       "1          Canada 2000-02-01                   356.524189   \n",
       "2          Canada 2000-03-01                   173.564615   \n",
       "3          Canada 2000-04-01                   297.382941   \n",
       "4          Canada 2000-05-01                   596.065626   \n",
       "\n",
       "   Total butane / butane - total  Normal butane / butane normal  Iso-butane  \\\n",
       "0                     362.449492                            NaN         NaN   \n",
       "1                     227.550475                            NaN         NaN   \n",
       "2                     138.456572                            NaN         NaN   \n",
       "3                     214.332134                            NaN         NaN   \n",
       "4                     355.837875                            NaN         NaN   \n",
       "\n",
       "   Total mix / mélange - total  C2 in mix / mélange - C2  \\\n",
       "0                   399.786525                  0.000000   \n",
       "1                   383.860440                  0.000000   \n",
       "2                   321.312165                  0.015462   \n",
       "3                   384.313830                 42.537402   \n",
       "4                   369.390836                 32.269491   \n",
       "\n",
       "   C3 in mix / mélange - C3  C4 in mix / mélange - C4  \\\n",
       "0                194.177107                148.029764   \n",
       "1                181.748400                140.397040   \n",
       "2                155.674621                122.755902   \n",
       "3                185.803634                122.041656   \n",
       "4                180.196321                121.011815   \n",
       "\n",
       "   Other in mix / mélange - autres  \n",
       "0                        57.579654  \n",
       "1                        61.715000  \n",
       "2                        42.866180  \n",
       "3                        33.931138  \n",
       "4                        35.913209  "
      ]
     },
     "execution_count": 169,
     "metadata": {},
     "output_type": "execute_result"
    }
   ],
   "source": [
    "df.head()"
   ]
  },
  {
   "cell_type": "markdown",
   "metadata": {},
   "source": [
    "## DataFrame from SQL"
   ]
  },
  {
   "cell_type": "code",
   "execution_count": 170,
   "metadata": {},
   "outputs": [],
   "source": [
    "from sqlalchemy import create_engine\n",
    "from sqlalchemy import MetaData\n",
    "import sqlalchemy\n",
    "#%%\n",
    "\n",
    "def cer_connection():\n",
    "    conn_str = 'enter database connection string'\n",
    "    engine = create_engine(conn_str)\n",
    "    conn = engine.connect()\n",
    "    return(conn,engine)\n"
   ]
  },
  {
   "cell_type": "code",
   "execution_count": 171,
   "metadata": {},
   "outputs": [
    {
     "name": "stdout",
     "output_type": "stream",
     "text": [
      "cant connect to database!\n"
     ]
    }
   ],
   "source": [
    "try:\n",
    "    conn, engine = cer_connection()\n",
    "    dfsql = pd.read_sql_query('select top (10) * from BakerHughes_Detailed',con=conn)\n",
    "    dfsql.head()\n",
    "except:\n",
    "    print('cant connect to database!')"
   ]
  },
  {
   "cell_type": "code",
   "execution_count": 172,
   "metadata": {},
   "outputs": [],
   "source": [
    "query = \"SELECT \\\n",
    "[PublishDate], \\\n",
    "year([PublishDate]) as [Year], \\\n",
    "month([PublishDate]) as [Month], \\\n",
    "DATEPART( wk, [PublishDate]) as [Week], \\\n",
    "[Country], \\\n",
    "[DrillFor], \\\n",
    "sum([RigCount]) as [RigCount] \\\n",
    "\\\n",
    "FROM [EnergyData].[dbo].[BakerHughes_Detailed] \\\n",
    "where Country = 'CANADA' and DrillFor = 'Oil'\\\n",
    "\\\n",
    "group by PublishDate, Country, DrillFor\""
   ]
  },
  {
   "cell_type": "code",
   "execution_count": 173,
   "metadata": {},
   "outputs": [
    {
     "name": "stdout",
     "output_type": "stream",
     "text": [
      "cant connect to database!\n"
     ]
    }
   ],
   "source": [
    "try: \n",
    "    dfsql = pd.read_sql_query(query,con=conn)\n",
    "    dfsql.head()\n",
    "    conn.close()\n",
    "except:\n",
    "    print('cant connect to database!')"
   ]
  },
  {
   "cell_type": "markdown",
   "metadata": {},
   "source": [
    "Should you have raw connection strings, passwords, and API keys directly in your code?"
   ]
  },
  {
   "cell_type": "code",
   "execution_count": 174,
   "metadata": {},
   "outputs": [],
   "source": [
    "import json\n",
    "def open_connection_string(file_name='connection.json'):\n",
    "    with open(file_name) as json_file:\n",
    "        data = json.load(json_file)\n",
    "    return data['conn_str']\n",
    "\n",
    "try:\n",
    "    open_connection_string()\n",
    "except:\n",
    "    print('cant open json file!')"
   ]
  },
  {
   "cell_type": "code",
   "execution_count": 175,
   "metadata": {},
   "outputs": [
    {
     "data": {
      "text/plain": [
       "(738, 11)"
      ]
     },
     "execution_count": 175,
     "metadata": {},
     "output_type": "execute_result"
    }
   ],
   "source": [
    "df.shape #(rows,columns)"
   ]
  },
  {
   "cell_type": "markdown",
   "metadata": {},
   "source": [
    "## DataFrame columns"
   ]
  },
  {
   "cell_type": "code",
   "execution_count": 176,
   "metadata": {},
   "outputs": [
    {
     "data": {
      "text/plain": [
       "Index(['Region / Région', 'Date', 'Spec. propane / propane pur',\n",
       "       'Total butane / butane - total', 'Normal butane / butane normal',\n",
       "       'Iso-butane', 'Total mix / mélange - total', 'C2 in mix / mélange - C2',\n",
       "       'C3 in mix / mélange - C3', 'C4 in mix / mélange - C4',\n",
       "       'Other in mix / mélange - autres'],\n",
       "      dtype='object')"
      ]
     },
     "execution_count": 176,
     "metadata": {},
     "output_type": "execute_result"
    }
   ],
   "source": [
    "df.columns"
   ]
  },
  {
   "cell_type": "code",
   "execution_count": 177,
   "metadata": {},
   "outputs": [],
   "source": [
    "def english_only(col_names):\n",
    "    #TODO: Remove periods and make columns lowercase\n",
    "    return {x:x.split('/')[0].strip() for x in col_names}"
   ]
  },
  {
   "cell_type": "code",
   "execution_count": 178,
   "metadata": {},
   "outputs": [
    {
     "data": {
      "text/plain": [
       "{'Region / Région': 'Region',\n",
       " 'Date': 'Date',\n",
       " 'Spec. propane / propane pur': 'Spec. propane',\n",
       " 'Total butane / butane - total': 'Total butane',\n",
       " 'Normal butane / butane normal': 'Normal butane',\n",
       " 'Iso-butane': 'Iso-butane',\n",
       " 'Total mix / mélange - total': 'Total mix',\n",
       " 'C2 in mix / mélange - C2': 'C2 in mix',\n",
       " 'C3 in mix / mélange - C3': 'C3 in mix',\n",
       " 'C4 in mix / mélange - C4': 'C4 in mix',\n",
       " 'Other in mix / mélange - autres': 'Other in mix'}"
      ]
     },
     "execution_count": 178,
     "metadata": {},
     "output_type": "execute_result"
    }
   ],
   "source": [
    "new_columns = english_only(df.columns)\n",
    "new_columns"
   ]
  },
  {
   "cell_type": "code",
   "execution_count": 179,
   "metadata": {},
   "outputs": [],
   "source": [
    "df = df.rename(columns=new_columns)\n",
    "#same as:\n",
    "#df.rename(columns=new_columns,inplace=True)"
   ]
  },
  {
   "cell_type": "code",
   "execution_count": 180,
   "metadata": {
    "scrolled": true
   },
   "outputs": [
    {
     "data": {
      "text/html": [
       "<div>\n",
       "<style scoped>\n",
       "    .dataframe tbody tr th:only-of-type {\n",
       "        vertical-align: middle;\n",
       "    }\n",
       "\n",
       "    .dataframe tbody tr th {\n",
       "        vertical-align: top;\n",
       "    }\n",
       "\n",
       "    .dataframe thead th {\n",
       "        text-align: right;\n",
       "    }\n",
       "</style>\n",
       "<table border=\"1\" class=\"dataframe\">\n",
       "  <thead>\n",
       "    <tr style=\"text-align: right;\">\n",
       "      <th></th>\n",
       "      <th>Region</th>\n",
       "      <th>Date</th>\n",
       "      <th>Spec. propane</th>\n",
       "      <th>Total butane</th>\n",
       "      <th>Normal butane</th>\n",
       "      <th>Iso-butane</th>\n",
       "      <th>Total mix</th>\n",
       "      <th>C2 in mix</th>\n",
       "      <th>C3 in mix</th>\n",
       "      <th>C4 in mix</th>\n",
       "      <th>Other in mix</th>\n",
       "    </tr>\n",
       "  </thead>\n",
       "  <tbody>\n",
       "    <tr>\n",
       "      <th>0</th>\n",
       "      <td>Canada</td>\n",
       "      <td>2000-01-01</td>\n",
       "      <td>784.036998</td>\n",
       "      <td>362.449492</td>\n",
       "      <td>NaN</td>\n",
       "      <td>NaN</td>\n",
       "      <td>399.786525</td>\n",
       "      <td>0.000000</td>\n",
       "      <td>194.177107</td>\n",
       "      <td>148.029764</td>\n",
       "      <td>57.579654</td>\n",
       "    </tr>\n",
       "    <tr>\n",
       "      <th>1</th>\n",
       "      <td>Canada</td>\n",
       "      <td>2000-02-01</td>\n",
       "      <td>356.524189</td>\n",
       "      <td>227.550475</td>\n",
       "      <td>NaN</td>\n",
       "      <td>NaN</td>\n",
       "      <td>383.860440</td>\n",
       "      <td>0.000000</td>\n",
       "      <td>181.748400</td>\n",
       "      <td>140.397040</td>\n",
       "      <td>61.715000</td>\n",
       "    </tr>\n",
       "    <tr>\n",
       "      <th>2</th>\n",
       "      <td>Canada</td>\n",
       "      <td>2000-03-01</td>\n",
       "      <td>173.564615</td>\n",
       "      <td>138.456572</td>\n",
       "      <td>NaN</td>\n",
       "      <td>NaN</td>\n",
       "      <td>321.312165</td>\n",
       "      <td>0.015462</td>\n",
       "      <td>155.674621</td>\n",
       "      <td>122.755902</td>\n",
       "      <td>42.866180</td>\n",
       "    </tr>\n",
       "    <tr>\n",
       "      <th>3</th>\n",
       "      <td>Canada</td>\n",
       "      <td>2000-04-01</td>\n",
       "      <td>297.382941</td>\n",
       "      <td>214.332134</td>\n",
       "      <td>NaN</td>\n",
       "      <td>NaN</td>\n",
       "      <td>384.313830</td>\n",
       "      <td>42.537402</td>\n",
       "      <td>185.803634</td>\n",
       "      <td>122.041656</td>\n",
       "      <td>33.931138</td>\n",
       "    </tr>\n",
       "    <tr>\n",
       "      <th>4</th>\n",
       "      <td>Canada</td>\n",
       "      <td>2000-05-01</td>\n",
       "      <td>596.065626</td>\n",
       "      <td>355.837875</td>\n",
       "      <td>NaN</td>\n",
       "      <td>NaN</td>\n",
       "      <td>369.390836</td>\n",
       "      <td>32.269491</td>\n",
       "      <td>180.196321</td>\n",
       "      <td>121.011815</td>\n",
       "      <td>35.913209</td>\n",
       "    </tr>\n",
       "  </tbody>\n",
       "</table>\n",
       "</div>"
      ],
      "text/plain": [
       "   Region       Date  Spec. propane  Total butane  Normal butane  Iso-butane  \\\n",
       "0  Canada 2000-01-01     784.036998    362.449492            NaN         NaN   \n",
       "1  Canada 2000-02-01     356.524189    227.550475            NaN         NaN   \n",
       "2  Canada 2000-03-01     173.564615    138.456572            NaN         NaN   \n",
       "3  Canada 2000-04-01     297.382941    214.332134            NaN         NaN   \n",
       "4  Canada 2000-05-01     596.065626    355.837875            NaN         NaN   \n",
       "\n",
       "    Total mix  C2 in mix   C3 in mix   C4 in mix  Other in mix  \n",
       "0  399.786525   0.000000  194.177107  148.029764     57.579654  \n",
       "1  383.860440   0.000000  181.748400  140.397040     61.715000  \n",
       "2  321.312165   0.015462  155.674621  122.755902     42.866180  \n",
       "3  384.313830  42.537402  185.803634  122.041656     33.931138  \n",
       "4  369.390836  32.269491  180.196321  121.011815     35.913209  "
      ]
     },
     "execution_count": 180,
     "metadata": {},
     "output_type": "execute_result"
    }
   ],
   "source": [
    "df.head()"
   ]
  },
  {
   "cell_type": "markdown",
   "metadata": {},
   "source": [
    "## Pandas indexing\n",
    "\n",
    "Usually we want to be able to access certain data in the DataFrame\n",
    "\n",
    "* `.loc[]`    index by label location (end inclusive)\n",
    "* `.iloc[]`   index by integer location, similar to numpy (end exclusive)\n",
    "\n",
    "`.loc[]` is the primary method\n",
    "\n",
    "They both work by passing in the row condition, then the column condition:\n",
    "\n",
    "`.loc[rows,columns]`  \n",
    "`.iloc[rows,columns]`"
   ]
  },
  {
   "cell_type": "code",
   "execution_count": 181,
   "metadata": {},
   "outputs": [
    {
     "data": {
      "text/html": [
       "<div>\n",
       "<style scoped>\n",
       "    .dataframe tbody tr th:only-of-type {\n",
       "        vertical-align: middle;\n",
       "    }\n",
       "\n",
       "    .dataframe tbody tr th {\n",
       "        vertical-align: top;\n",
       "    }\n",
       "\n",
       "    .dataframe thead th {\n",
       "        text-align: right;\n",
       "    }\n",
       "</style>\n",
       "<table border=\"1\" class=\"dataframe\">\n",
       "  <thead>\n",
       "    <tr style=\"text-align: right;\">\n",
       "      <th></th>\n",
       "      <th>Date</th>\n",
       "      <th>Spec. propane</th>\n",
       "    </tr>\n",
       "  </thead>\n",
       "  <tbody>\n",
       "    <tr>\n",
       "      <th>0</th>\n",
       "      <td>2000-01-01</td>\n",
       "      <td>784.036998</td>\n",
       "    </tr>\n",
       "    <tr>\n",
       "      <th>1</th>\n",
       "      <td>2000-02-01</td>\n",
       "      <td>356.524189</td>\n",
       "    </tr>\n",
       "    <tr>\n",
       "      <th>2</th>\n",
       "      <td>2000-03-01</td>\n",
       "      <td>173.564615</td>\n",
       "    </tr>\n",
       "    <tr>\n",
       "      <th>3</th>\n",
       "      <td>2000-04-01</td>\n",
       "      <td>297.382941</td>\n",
       "    </tr>\n",
       "  </tbody>\n",
       "</table>\n",
       "</div>"
      ],
      "text/plain": [
       "        Date  Spec. propane\n",
       "0 2000-01-01     784.036998\n",
       "1 2000-02-01     356.524189\n",
       "2 2000-03-01     173.564615\n",
       "3 2000-04-01     297.382941"
      ]
     },
     "execution_count": 181,
     "metadata": {},
     "output_type": "execute_result"
    }
   ],
   "source": [
    "#select the first three rows\n",
    "df.loc[0:3,\"Date\":\"Spec. propane\"]"
   ]
  },
  {
   "cell_type": "code",
   "execution_count": 182,
   "metadata": {},
   "outputs": [
    {
     "data": {
      "text/plain": [
       "297.38294099999996"
      ]
     },
     "execution_count": 182,
     "metadata": {},
     "output_type": "execute_result"
    }
   ],
   "source": [
    "#select one value\n",
    "df.loc[3,\"Spec. propane\"]"
   ]
  },
  {
   "cell_type": "code",
   "execution_count": 183,
   "metadata": {},
   "outputs": [
    {
     "data": {
      "text/html": [
       "<div>\n",
       "<style scoped>\n",
       "    .dataframe tbody tr th:only-of-type {\n",
       "        vertical-align: middle;\n",
       "    }\n",
       "\n",
       "    .dataframe tbody tr th {\n",
       "        vertical-align: top;\n",
       "    }\n",
       "\n",
       "    .dataframe thead th {\n",
       "        text-align: right;\n",
       "    }\n",
       "</style>\n",
       "<table border=\"1\" class=\"dataframe\">\n",
       "  <thead>\n",
       "    <tr style=\"text-align: right;\">\n",
       "      <th></th>\n",
       "      <th>Date</th>\n",
       "      <th>Region</th>\n",
       "      <th>Spec. propane</th>\n",
       "    </tr>\n",
       "  </thead>\n",
       "  <tbody>\n",
       "    <tr>\n",
       "      <th>0</th>\n",
       "      <td>2000-01-01</td>\n",
       "      <td>Canada</td>\n",
       "      <td>784.036998</td>\n",
       "    </tr>\n",
       "    <tr>\n",
       "      <th>4</th>\n",
       "      <td>2000-05-01</td>\n",
       "      <td>Canada</td>\n",
       "      <td>596.065626</td>\n",
       "    </tr>\n",
       "    <tr>\n",
       "      <th>5</th>\n",
       "      <td>2000-06-01</td>\n",
       "      <td>Canada</td>\n",
       "      <td>729.556358</td>\n",
       "    </tr>\n",
       "    <tr>\n",
       "      <th>6</th>\n",
       "      <td>2000-07-01</td>\n",
       "      <td>Canada</td>\n",
       "      <td>966.371564</td>\n",
       "    </tr>\n",
       "    <tr>\n",
       "      <th>7</th>\n",
       "      <td>2000-08-01</td>\n",
       "      <td>Canada</td>\n",
       "      <td>1153.008789</td>\n",
       "    </tr>\n",
       "    <tr>\n",
       "      <th>...</th>\n",
       "      <td>...</td>\n",
       "      <td>...</td>\n",
       "      <td>...</td>\n",
       "    </tr>\n",
       "    <tr>\n",
       "      <th>238</th>\n",
       "      <td>2019-11-01</td>\n",
       "      <td>Canada</td>\n",
       "      <td>1215.901900</td>\n",
       "    </tr>\n",
       "    <tr>\n",
       "      <th>239</th>\n",
       "      <td>2019-12-01</td>\n",
       "      <td>Canada</td>\n",
       "      <td>1053.405700</td>\n",
       "    </tr>\n",
       "    <tr>\n",
       "      <th>240</th>\n",
       "      <td>2020-01-01</td>\n",
       "      <td>Canada</td>\n",
       "      <td>762.761600</td>\n",
       "    </tr>\n",
       "    <tr>\n",
       "      <th>244</th>\n",
       "      <td>2020-05-01</td>\n",
       "      <td>Canada</td>\n",
       "      <td>659.397600</td>\n",
       "    </tr>\n",
       "    <tr>\n",
       "      <th>245</th>\n",
       "      <td>2020-06-01</td>\n",
       "      <td>Canada</td>\n",
       "      <td>1060.282591</td>\n",
       "    </tr>\n",
       "  </tbody>\n",
       "</table>\n",
       "<p>202 rows × 3 columns</p>\n",
       "</div>"
      ],
      "text/plain": [
       "          Date  Region  Spec. propane\n",
       "0   2000-01-01  Canada     784.036998\n",
       "4   2000-05-01  Canada     596.065626\n",
       "5   2000-06-01  Canada     729.556358\n",
       "6   2000-07-01  Canada     966.371564\n",
       "7   2000-08-01  Canada    1153.008789\n",
       "..         ...     ...            ...\n",
       "238 2019-11-01  Canada    1215.901900\n",
       "239 2019-12-01  Canada    1053.405700\n",
       "240 2020-01-01  Canada     762.761600\n",
       "244 2020-05-01  Canada     659.397600\n",
       "245 2020-06-01  Canada    1060.282591\n",
       "\n",
       "[202 rows x 3 columns]"
      ]
     },
     "execution_count": 183,
     "metadata": {},
     "output_type": "execute_result"
    }
   ],
   "source": [
    "# Indexing with Multiple Boolean condition\n",
    "df.loc[(df['Spec. propane'] > 500) &  #row filter\n",
    "               (df['Region'] == 'Canada'), #row filter )(the comma seperates the row selections from the column selections)\n",
    "               [\"Date\",\"Region\",\"Spec. propane\"]] #column selection\n",
    "# end inclusive"
   ]
  },
  {
   "cell_type": "markdown",
   "metadata": {},
   "source": [
    "## DataFrame: looping through values"
   ]
  },
  {
   "cell_type": "code",
   "execution_count": 184,
   "metadata": {},
   "outputs": [
    {
     "data": {
      "text/plain": [
       "511491.8656600004"
      ]
     },
     "execution_count": 184,
     "metadata": {},
     "output_type": "execute_result"
    }
   ],
   "source": [
    "#Loop through columns:\n",
    "total = 0\n",
    "for val in df['Spec. propane']:\n",
    "    #print(val)\n",
    "    total = total + val\n",
    "total"
   ]
  },
  {
   "cell_type": "code",
   "execution_count": 185,
   "metadata": {},
   "outputs": [
    {
     "data": {
      "text/plain": [
       "511491.8656599999"
      ]
     },
     "execution_count": 185,
     "metadata": {},
     "output_type": "execute_result"
    }
   ],
   "source": [
    "#this is the better way!\n",
    "total = df['Spec. propane'].sum(skipna=True)\n",
    "total"
   ]
  },
  {
   "cell_type": "markdown",
   "metadata": {},
   "source": [
    "## Pandas DataFrame index"
   ]
  },
  {
   "cell_type": "code",
   "execution_count": 186,
   "metadata": {},
   "outputs": [
    {
     "data": {
      "text/plain": [
       "RangeIndex(start=0, stop=738, step=1)"
      ]
     },
     "execution_count": 186,
     "metadata": {},
     "output_type": "execute_result"
    }
   ],
   "source": [
    "df.index"
   ]
  },
  {
   "cell_type": "code",
   "execution_count": 187,
   "metadata": {},
   "outputs": [],
   "source": [
    "Thedf = df.set_index('Date')"
   ]
  },
  {
   "cell_type": "code",
   "execution_count": 188,
   "metadata": {},
   "outputs": [
    {
     "data": {
      "text/html": [
       "<div>\n",
       "<style scoped>\n",
       "    .dataframe tbody tr th:only-of-type {\n",
       "        vertical-align: middle;\n",
       "    }\n",
       "\n",
       "    .dataframe tbody tr th {\n",
       "        vertical-align: top;\n",
       "    }\n",
       "\n",
       "    .dataframe thead th {\n",
       "        text-align: right;\n",
       "    }\n",
       "</style>\n",
       "<table border=\"1\" class=\"dataframe\">\n",
       "  <thead>\n",
       "    <tr style=\"text-align: right;\">\n",
       "      <th></th>\n",
       "      <th>Region</th>\n",
       "      <th>Date</th>\n",
       "      <th>Spec. propane</th>\n",
       "      <th>Total butane</th>\n",
       "      <th>Normal butane</th>\n",
       "      <th>Iso-butane</th>\n",
       "      <th>Total mix</th>\n",
       "      <th>C2 in mix</th>\n",
       "      <th>C3 in mix</th>\n",
       "      <th>C4 in mix</th>\n",
       "      <th>Other in mix</th>\n",
       "    </tr>\n",
       "  </thead>\n",
       "  <tbody>\n",
       "    <tr>\n",
       "      <th>0</th>\n",
       "      <td>Canada</td>\n",
       "      <td>2000-01-01</td>\n",
       "      <td>784.036998</td>\n",
       "      <td>362.449492</td>\n",
       "      <td>NaN</td>\n",
       "      <td>NaN</td>\n",
       "      <td>399.786525</td>\n",
       "      <td>0.000000</td>\n",
       "      <td>194.177107</td>\n",
       "      <td>148.029764</td>\n",
       "      <td>57.579654</td>\n",
       "    </tr>\n",
       "    <tr>\n",
       "      <th>1</th>\n",
       "      <td>Canada</td>\n",
       "      <td>2000-02-01</td>\n",
       "      <td>356.524189</td>\n",
       "      <td>227.550475</td>\n",
       "      <td>NaN</td>\n",
       "      <td>NaN</td>\n",
       "      <td>383.860440</td>\n",
       "      <td>0.000000</td>\n",
       "      <td>181.748400</td>\n",
       "      <td>140.397040</td>\n",
       "      <td>61.715000</td>\n",
       "    </tr>\n",
       "    <tr>\n",
       "      <th>2</th>\n",
       "      <td>Canada</td>\n",
       "      <td>2000-03-01</td>\n",
       "      <td>173.564615</td>\n",
       "      <td>138.456572</td>\n",
       "      <td>NaN</td>\n",
       "      <td>NaN</td>\n",
       "      <td>321.312165</td>\n",
       "      <td>0.015462</td>\n",
       "      <td>155.674621</td>\n",
       "      <td>122.755902</td>\n",
       "      <td>42.866180</td>\n",
       "    </tr>\n",
       "    <tr>\n",
       "      <th>3</th>\n",
       "      <td>Canada</td>\n",
       "      <td>2000-04-01</td>\n",
       "      <td>297.382941</td>\n",
       "      <td>214.332134</td>\n",
       "      <td>NaN</td>\n",
       "      <td>NaN</td>\n",
       "      <td>384.313830</td>\n",
       "      <td>42.537402</td>\n",
       "      <td>185.803634</td>\n",
       "      <td>122.041656</td>\n",
       "      <td>33.931138</td>\n",
       "    </tr>\n",
       "    <tr>\n",
       "      <th>4</th>\n",
       "      <td>Canada</td>\n",
       "      <td>2000-05-01</td>\n",
       "      <td>596.065626</td>\n",
       "      <td>355.837875</td>\n",
       "      <td>NaN</td>\n",
       "      <td>NaN</td>\n",
       "      <td>369.390836</td>\n",
       "      <td>32.269491</td>\n",
       "      <td>180.196321</td>\n",
       "      <td>121.011815</td>\n",
       "      <td>35.913209</td>\n",
       "    </tr>\n",
       "  </tbody>\n",
       "</table>\n",
       "</div>"
      ],
      "text/plain": [
       "   Region       Date  Spec. propane  Total butane  Normal butane  Iso-butane  \\\n",
       "0  Canada 2000-01-01     784.036998    362.449492            NaN         NaN   \n",
       "1  Canada 2000-02-01     356.524189    227.550475            NaN         NaN   \n",
       "2  Canada 2000-03-01     173.564615    138.456572            NaN         NaN   \n",
       "3  Canada 2000-04-01     297.382941    214.332134            NaN         NaN   \n",
       "4  Canada 2000-05-01     596.065626    355.837875            NaN         NaN   \n",
       "\n",
       "    Total mix  C2 in mix   C3 in mix   C4 in mix  Other in mix  \n",
       "0  399.786525   0.000000  194.177107  148.029764     57.579654  \n",
       "1  383.860440   0.000000  181.748400  140.397040     61.715000  \n",
       "2  321.312165   0.015462  155.674621  122.755902     42.866180  \n",
       "3  384.313830  42.537402  185.803634  122.041656     33.931138  \n",
       "4  369.390836  32.269491  180.196321  121.011815     35.913209  "
      ]
     },
     "execution_count": 188,
     "metadata": {},
     "output_type": "execute_result"
    }
   ],
   "source": [
    "df.head()"
   ]
  },
  {
   "cell_type": "code",
   "execution_count": 189,
   "metadata": {},
   "outputs": [
    {
     "data": {
      "text/html": [
       "<div>\n",
       "<style scoped>\n",
       "    .dataframe tbody tr th:only-of-type {\n",
       "        vertical-align: middle;\n",
       "    }\n",
       "\n",
       "    .dataframe tbody tr th {\n",
       "        vertical-align: top;\n",
       "    }\n",
       "\n",
       "    .dataframe thead th {\n",
       "        text-align: right;\n",
       "    }\n",
       "</style>\n",
       "<table border=\"1\" class=\"dataframe\">\n",
       "  <thead>\n",
       "    <tr style=\"text-align: right;\">\n",
       "      <th></th>\n",
       "      <th>index</th>\n",
       "      <th>Region</th>\n",
       "      <th>Date</th>\n",
       "      <th>Spec. propane</th>\n",
       "      <th>Total butane</th>\n",
       "      <th>Normal butane</th>\n",
       "      <th>Iso-butane</th>\n",
       "      <th>Total mix</th>\n",
       "      <th>C2 in mix</th>\n",
       "      <th>C3 in mix</th>\n",
       "      <th>C4 in mix</th>\n",
       "      <th>Other in mix</th>\n",
       "    </tr>\n",
       "  </thead>\n",
       "  <tbody>\n",
       "    <tr>\n",
       "      <th>0</th>\n",
       "      <td>0</td>\n",
       "      <td>Canada</td>\n",
       "      <td>2000-01-01</td>\n",
       "      <td>784.036998</td>\n",
       "      <td>362.449492</td>\n",
       "      <td>NaN</td>\n",
       "      <td>NaN</td>\n",
       "      <td>399.786525</td>\n",
       "      <td>0.000000</td>\n",
       "      <td>194.177107</td>\n",
       "      <td>148.029764</td>\n",
       "      <td>57.579654</td>\n",
       "    </tr>\n",
       "    <tr>\n",
       "      <th>1</th>\n",
       "      <td>1</td>\n",
       "      <td>Canada</td>\n",
       "      <td>2000-02-01</td>\n",
       "      <td>356.524189</td>\n",
       "      <td>227.550475</td>\n",
       "      <td>NaN</td>\n",
       "      <td>NaN</td>\n",
       "      <td>383.860440</td>\n",
       "      <td>0.000000</td>\n",
       "      <td>181.748400</td>\n",
       "      <td>140.397040</td>\n",
       "      <td>61.715000</td>\n",
       "    </tr>\n",
       "    <tr>\n",
       "      <th>2</th>\n",
       "      <td>2</td>\n",
       "      <td>Canada</td>\n",
       "      <td>2000-03-01</td>\n",
       "      <td>173.564615</td>\n",
       "      <td>138.456572</td>\n",
       "      <td>NaN</td>\n",
       "      <td>NaN</td>\n",
       "      <td>321.312165</td>\n",
       "      <td>0.015462</td>\n",
       "      <td>155.674621</td>\n",
       "      <td>122.755902</td>\n",
       "      <td>42.866180</td>\n",
       "    </tr>\n",
       "    <tr>\n",
       "      <th>3</th>\n",
       "      <td>3</td>\n",
       "      <td>Canada</td>\n",
       "      <td>2000-04-01</td>\n",
       "      <td>297.382941</td>\n",
       "      <td>214.332134</td>\n",
       "      <td>NaN</td>\n",
       "      <td>NaN</td>\n",
       "      <td>384.313830</td>\n",
       "      <td>42.537402</td>\n",
       "      <td>185.803634</td>\n",
       "      <td>122.041656</td>\n",
       "      <td>33.931138</td>\n",
       "    </tr>\n",
       "    <tr>\n",
       "      <th>4</th>\n",
       "      <td>4</td>\n",
       "      <td>Canada</td>\n",
       "      <td>2000-05-01</td>\n",
       "      <td>596.065626</td>\n",
       "      <td>355.837875</td>\n",
       "      <td>NaN</td>\n",
       "      <td>NaN</td>\n",
       "      <td>369.390836</td>\n",
       "      <td>32.269491</td>\n",
       "      <td>180.196321</td>\n",
       "      <td>121.011815</td>\n",
       "      <td>35.913209</td>\n",
       "    </tr>\n",
       "  </tbody>\n",
       "</table>\n",
       "</div>"
      ],
      "text/plain": [
       "   index  Region       Date  Spec. propane  Total butane  Normal butane  \\\n",
       "0      0  Canada 2000-01-01     784.036998    362.449492            NaN   \n",
       "1      1  Canada 2000-02-01     356.524189    227.550475            NaN   \n",
       "2      2  Canada 2000-03-01     173.564615    138.456572            NaN   \n",
       "3      3  Canada 2000-04-01     297.382941    214.332134            NaN   \n",
       "4      4  Canada 2000-05-01     596.065626    355.837875            NaN   \n",
       "\n",
       "   Iso-butane   Total mix  C2 in mix   C3 in mix   C4 in mix  Other in mix  \n",
       "0         NaN  399.786525   0.000000  194.177107  148.029764     57.579654  \n",
       "1         NaN  383.860440   0.000000  181.748400  140.397040     61.715000  \n",
       "2         NaN  321.312165   0.015462  155.674621  122.755902     42.866180  \n",
       "3         NaN  384.313830  42.537402  185.803634  122.041656     33.931138  \n",
       "4         NaN  369.390836  32.269491  180.196321  121.011815     35.913209  "
      ]
     },
     "execution_count": 189,
     "metadata": {},
     "output_type": "execute_result"
    }
   ],
   "source": [
    "df = df.reset_index()\n",
    "df.head()"
   ]
  },
  {
   "cell_type": "markdown",
   "metadata": {},
   "source": [
    "## Pandas data types"
   ]
  },
  {
   "cell_type": "code",
   "execution_count": 190,
   "metadata": {},
   "outputs": [
    {
     "data": {
      "text/plain": [
       "index                     int64\n",
       "Region                   object\n",
       "Date             datetime64[ns]\n",
       "Spec. propane           float64\n",
       "Total butane            float64\n",
       "Normal butane           float64\n",
       "Iso-butane              float64\n",
       "Total mix               float64\n",
       "C2 in mix               float64\n",
       "C3 in mix               float64\n",
       "C4 in mix               float64\n",
       "Other in mix            float64\n",
       "dtype: object"
      ]
     },
     "execution_count": 190,
     "metadata": {},
     "output_type": "execute_result"
    }
   ],
   "source": [
    "df.dtypes"
   ]
  },
  {
   "cell_type": "code",
   "execution_count": 191,
   "metadata": {},
   "outputs": [],
   "source": [
    "df['Region'] = df['Region'].astype('object') \n",
    "df['Total butane'] = df['Total butane'].astype('float64')"
   ]
  },
  {
   "cell_type": "code",
   "execution_count": 192,
   "metadata": {},
   "outputs": [],
   "source": [
    "#general type conversions\n",
    "df['Normal butane'] = pd.to_numeric(df['Normal butane'],errors='coerce')\n",
    "df['Date'] = pd.to_datetime(df['Date'],errors='ceorce')"
   ]
  },
  {
   "cell_type": "markdown",
   "metadata": {},
   "source": [
    "## Aside: Using Jupyter Notebooks\n",
    "One of the downsides of using jupyter notebooks is that the cells are usually run one at a time, if you run the same cell twice, then the operations are completed twice. Usually code is run all at once, so watch out for this when using jupyter"
   ]
  },
  {
   "cell_type": "code",
   "execution_count": 193,
   "metadata": {},
   "outputs": [],
   "source": [
    "df2 = df.copy()\n",
    "#why cant you just use: df2 = df ?"
   ]
  },
  {
   "cell_type": "code",
   "execution_count": 194,
   "metadata": {},
   "outputs": [
    {
     "data": {
      "text/html": [
       "<div>\n",
       "<style scoped>\n",
       "    .dataframe tbody tr th:only-of-type {\n",
       "        vertical-align: middle;\n",
       "    }\n",
       "\n",
       "    .dataframe tbody tr th {\n",
       "        vertical-align: top;\n",
       "    }\n",
       "\n",
       "    .dataframe thead th {\n",
       "        text-align: right;\n",
       "    }\n",
       "</style>\n",
       "<table border=\"1\" class=\"dataframe\">\n",
       "  <thead>\n",
       "    <tr style=\"text-align: right;\">\n",
       "      <th></th>\n",
       "      <th>index</th>\n",
       "      <th>Region</th>\n",
       "      <th>Date</th>\n",
       "      <th>Spec. propane</th>\n",
       "      <th>Total butane</th>\n",
       "      <th>Normal butane</th>\n",
       "      <th>Iso-butane</th>\n",
       "      <th>Total mix</th>\n",
       "      <th>C2 in mix</th>\n",
       "      <th>C3 in mix</th>\n",
       "      <th>C4 in mix</th>\n",
       "      <th>Other in mix</th>\n",
       "    </tr>\n",
       "  </thead>\n",
       "  <tbody>\n",
       "    <tr>\n",
       "      <th>0</th>\n",
       "      <td>0</td>\n",
       "      <td>Canada</td>\n",
       "      <td>2000-01-01</td>\n",
       "      <td>1568.073996</td>\n",
       "      <td>362.449492</td>\n",
       "      <td>NaN</td>\n",
       "      <td>NaN</td>\n",
       "      <td>399.786525</td>\n",
       "      <td>0.000000</td>\n",
       "      <td>194.177107</td>\n",
       "      <td>148.029764</td>\n",
       "      <td>57.579654</td>\n",
       "    </tr>\n",
       "    <tr>\n",
       "      <th>1</th>\n",
       "      <td>1</td>\n",
       "      <td>Canada</td>\n",
       "      <td>2000-02-01</td>\n",
       "      <td>713.048378</td>\n",
       "      <td>227.550475</td>\n",
       "      <td>NaN</td>\n",
       "      <td>NaN</td>\n",
       "      <td>383.860440</td>\n",
       "      <td>0.000000</td>\n",
       "      <td>181.748400</td>\n",
       "      <td>140.397040</td>\n",
       "      <td>61.715000</td>\n",
       "    </tr>\n",
       "    <tr>\n",
       "      <th>2</th>\n",
       "      <td>2</td>\n",
       "      <td>Canada</td>\n",
       "      <td>2000-03-01</td>\n",
       "      <td>347.129230</td>\n",
       "      <td>138.456572</td>\n",
       "      <td>NaN</td>\n",
       "      <td>NaN</td>\n",
       "      <td>321.312165</td>\n",
       "      <td>0.015462</td>\n",
       "      <td>155.674621</td>\n",
       "      <td>122.755902</td>\n",
       "      <td>42.866180</td>\n",
       "    </tr>\n",
       "    <tr>\n",
       "      <th>3</th>\n",
       "      <td>3</td>\n",
       "      <td>Canada</td>\n",
       "      <td>2000-04-01</td>\n",
       "      <td>594.765882</td>\n",
       "      <td>214.332134</td>\n",
       "      <td>NaN</td>\n",
       "      <td>NaN</td>\n",
       "      <td>384.313830</td>\n",
       "      <td>42.537402</td>\n",
       "      <td>185.803634</td>\n",
       "      <td>122.041656</td>\n",
       "      <td>33.931138</td>\n",
       "    </tr>\n",
       "    <tr>\n",
       "      <th>4</th>\n",
       "      <td>4</td>\n",
       "      <td>Canada</td>\n",
       "      <td>2000-05-01</td>\n",
       "      <td>1192.131252</td>\n",
       "      <td>355.837875</td>\n",
       "      <td>NaN</td>\n",
       "      <td>NaN</td>\n",
       "      <td>369.390836</td>\n",
       "      <td>32.269491</td>\n",
       "      <td>180.196321</td>\n",
       "      <td>121.011815</td>\n",
       "      <td>35.913209</td>\n",
       "    </tr>\n",
       "  </tbody>\n",
       "</table>\n",
       "</div>"
      ],
      "text/plain": [
       "   index  Region       Date  Spec. propane  Total butane  Normal butane  \\\n",
       "0      0  Canada 2000-01-01    1568.073996    362.449492            NaN   \n",
       "1      1  Canada 2000-02-01     713.048378    227.550475            NaN   \n",
       "2      2  Canada 2000-03-01     347.129230    138.456572            NaN   \n",
       "3      3  Canada 2000-04-01     594.765882    214.332134            NaN   \n",
       "4      4  Canada 2000-05-01    1192.131252    355.837875            NaN   \n",
       "\n",
       "   Iso-butane   Total mix  C2 in mix   C3 in mix   C4 in mix  Other in mix  \n",
       "0         NaN  399.786525   0.000000  194.177107  148.029764     57.579654  \n",
       "1         NaN  383.860440   0.000000  181.748400  140.397040     61.715000  \n",
       "2         NaN  321.312165   0.015462  155.674621  122.755902     42.866180  \n",
       "3         NaN  384.313830  42.537402  185.803634  122.041656     33.931138  \n",
       "4         NaN  369.390836  32.269491  180.196321  121.011815     35.913209  "
      ]
     },
     "execution_count": 194,
     "metadata": {},
     "output_type": "execute_result"
    }
   ],
   "source": [
    "df2 = df.copy()\n",
    "df2['Spec. propane'] = df2['Spec. propane']*2\n",
    "df2.head()"
   ]
  },
  {
   "cell_type": "markdown",
   "metadata": {},
   "source": [
    "As you start writtimg more code in a Jupyter Notebook, look for ways to combine cells, and convert blocks of cells into single functions!"
   ]
  },
  {
   "cell_type": "code",
   "execution_count": 195,
   "metadata": {},
   "outputs": [
    {
     "data": {
      "text/plain": [
       "0     2000-01-01\n",
       "1     2000-02-01\n",
       "2     2000-03-01\n",
       "3     2000-04-01\n",
       "4     2000-05-01\n",
       "         ...    \n",
       "733   2020-02-01\n",
       "734   2020-03-01\n",
       "735   2020-04-01\n",
       "736   2020-05-01\n",
       "737   2020-06-01\n",
       "Name: Date, Length: 738, dtype: datetime64[ns]"
      ]
     },
     "execution_count": 195,
     "metadata": {},
     "output_type": "execute_result"
    }
   ],
   "source": [
    "#Access columns\n",
    "df['Date']\n",
    "#We can access columns through variable names\n",
    "col = 'Date'\n",
    "df[col]"
   ]
  },
  {
   "cell_type": "code",
   "execution_count": 196,
   "metadata": {},
   "outputs": [],
   "source": [
    "#add a new column\n",
    "df['LPG'] = df['Spec. propane']+df['Total butane']"
   ]
  },
  {
   "cell_type": "code",
   "execution_count": 197,
   "metadata": {},
   "outputs": [
    {
     "data": {
      "text/html": [
       "<div>\n",
       "<style scoped>\n",
       "    .dataframe tbody tr th:only-of-type {\n",
       "        vertical-align: middle;\n",
       "    }\n",
       "\n",
       "    .dataframe tbody tr th {\n",
       "        vertical-align: top;\n",
       "    }\n",
       "\n",
       "    .dataframe thead th {\n",
       "        text-align: right;\n",
       "    }\n",
       "</style>\n",
       "<table border=\"1\" class=\"dataframe\">\n",
       "  <thead>\n",
       "    <tr style=\"text-align: right;\">\n",
       "      <th></th>\n",
       "      <th>index</th>\n",
       "      <th>Region</th>\n",
       "      <th>Date</th>\n",
       "      <th>Spec. propane</th>\n",
       "      <th>Total butane</th>\n",
       "      <th>Normal butane</th>\n",
       "      <th>Iso-butane</th>\n",
       "      <th>Total mix</th>\n",
       "      <th>C2 in mix</th>\n",
       "      <th>C3 in mix</th>\n",
       "      <th>C4 in mix</th>\n",
       "      <th>Other in mix</th>\n",
       "      <th>LPG</th>\n",
       "    </tr>\n",
       "  </thead>\n",
       "  <tbody>\n",
       "    <tr>\n",
       "      <th>0</th>\n",
       "      <td>0</td>\n",
       "      <td>Canada</td>\n",
       "      <td>2000-01-01</td>\n",
       "      <td>784.036998</td>\n",
       "      <td>362.449492</td>\n",
       "      <td>NaN</td>\n",
       "      <td>NaN</td>\n",
       "      <td>399.786525</td>\n",
       "      <td>0.000000</td>\n",
       "      <td>194.177107</td>\n",
       "      <td>148.029764</td>\n",
       "      <td>57.579654</td>\n",
       "      <td>1146.486490</td>\n",
       "    </tr>\n",
       "    <tr>\n",
       "      <th>1</th>\n",
       "      <td>1</td>\n",
       "      <td>Canada</td>\n",
       "      <td>2000-02-01</td>\n",
       "      <td>356.524189</td>\n",
       "      <td>227.550475</td>\n",
       "      <td>NaN</td>\n",
       "      <td>NaN</td>\n",
       "      <td>383.860440</td>\n",
       "      <td>0.000000</td>\n",
       "      <td>181.748400</td>\n",
       "      <td>140.397040</td>\n",
       "      <td>61.715000</td>\n",
       "      <td>584.074664</td>\n",
       "    </tr>\n",
       "    <tr>\n",
       "      <th>2</th>\n",
       "      <td>2</td>\n",
       "      <td>Canada</td>\n",
       "      <td>2000-03-01</td>\n",
       "      <td>173.564615</td>\n",
       "      <td>138.456572</td>\n",
       "      <td>NaN</td>\n",
       "      <td>NaN</td>\n",
       "      <td>321.312165</td>\n",
       "      <td>0.015462</td>\n",
       "      <td>155.674621</td>\n",
       "      <td>122.755902</td>\n",
       "      <td>42.866180</td>\n",
       "      <td>312.021187</td>\n",
       "    </tr>\n",
       "    <tr>\n",
       "      <th>3</th>\n",
       "      <td>3</td>\n",
       "      <td>Canada</td>\n",
       "      <td>2000-04-01</td>\n",
       "      <td>297.382941</td>\n",
       "      <td>214.332134</td>\n",
       "      <td>NaN</td>\n",
       "      <td>NaN</td>\n",
       "      <td>384.313830</td>\n",
       "      <td>42.537402</td>\n",
       "      <td>185.803634</td>\n",
       "      <td>122.041656</td>\n",
       "      <td>33.931138</td>\n",
       "      <td>511.715075</td>\n",
       "    </tr>\n",
       "    <tr>\n",
       "      <th>4</th>\n",
       "      <td>4</td>\n",
       "      <td>Canada</td>\n",
       "      <td>2000-05-01</td>\n",
       "      <td>596.065626</td>\n",
       "      <td>355.837875</td>\n",
       "      <td>NaN</td>\n",
       "      <td>NaN</td>\n",
       "      <td>369.390836</td>\n",
       "      <td>32.269491</td>\n",
       "      <td>180.196321</td>\n",
       "      <td>121.011815</td>\n",
       "      <td>35.913209</td>\n",
       "      <td>951.903501</td>\n",
       "    </tr>\n",
       "  </tbody>\n",
       "</table>\n",
       "</div>"
      ],
      "text/plain": [
       "   index  Region       Date  Spec. propane  Total butane  Normal butane  \\\n",
       "0      0  Canada 2000-01-01     784.036998    362.449492            NaN   \n",
       "1      1  Canada 2000-02-01     356.524189    227.550475            NaN   \n",
       "2      2  Canada 2000-03-01     173.564615    138.456572            NaN   \n",
       "3      3  Canada 2000-04-01     297.382941    214.332134            NaN   \n",
       "4      4  Canada 2000-05-01     596.065626    355.837875            NaN   \n",
       "\n",
       "   Iso-butane   Total mix  C2 in mix   C3 in mix   C4 in mix  Other in mix  \\\n",
       "0         NaN  399.786525   0.000000  194.177107  148.029764     57.579654   \n",
       "1         NaN  383.860440   0.000000  181.748400  140.397040     61.715000   \n",
       "2         NaN  321.312165   0.015462  155.674621  122.755902     42.866180   \n",
       "3         NaN  384.313830  42.537402  185.803634  122.041656     33.931138   \n",
       "4         NaN  369.390836  32.269491  180.196321  121.011815     35.913209   \n",
       "\n",
       "           LPG  \n",
       "0  1146.486490  \n",
       "1   584.074664  \n",
       "2   312.021187  \n",
       "3   511.715075  \n",
       "4   951.903501  "
      ]
     },
     "execution_count": 197,
     "metadata": {},
     "output_type": "execute_result"
    }
   ],
   "source": [
    "df.head()"
   ]
  },
  {
   "cell_type": "code",
   "execution_count": 198,
   "metadata": {},
   "outputs": [],
   "source": [
    "del df['LPG']"
   ]
  },
  {
   "cell_type": "code",
   "execution_count": 199,
   "metadata": {},
   "outputs": [],
   "source": [
    "def change_units(df):\n",
    "    for col in df:\n",
    "        if col not in ['Region','Date']:\n",
    "            df[col] = (df[col]*1000)*6.2898 #note, we are accessing the column with a variable name\n",
    "    return df"
   ]
  },
  {
   "cell_type": "code",
   "execution_count": 200,
   "metadata": {},
   "outputs": [],
   "source": [
    "df_bbl = change_units(df)"
   ]
  },
  {
   "cell_type": "code",
   "execution_count": 201,
   "metadata": {},
   "outputs": [
    {
     "data": {
      "text/html": [
       "<div>\n",
       "<style scoped>\n",
       "    .dataframe tbody tr th:only-of-type {\n",
       "        vertical-align: middle;\n",
       "    }\n",
       "\n",
       "    .dataframe tbody tr th {\n",
       "        vertical-align: top;\n",
       "    }\n",
       "\n",
       "    .dataframe thead th {\n",
       "        text-align: right;\n",
       "    }\n",
       "</style>\n",
       "<table border=\"1\" class=\"dataframe\">\n",
       "  <thead>\n",
       "    <tr style=\"text-align: right;\">\n",
       "      <th></th>\n",
       "      <th>index</th>\n",
       "      <th>Region</th>\n",
       "      <th>Date</th>\n",
       "      <th>Spec. propane</th>\n",
       "      <th>Total butane</th>\n",
       "      <th>Normal butane</th>\n",
       "      <th>Iso-butane</th>\n",
       "      <th>Total mix</th>\n",
       "      <th>C2 in mix</th>\n",
       "      <th>C3 in mix</th>\n",
       "      <th>C4 in mix</th>\n",
       "      <th>Other in mix</th>\n",
       "    </tr>\n",
       "  </thead>\n",
       "  <tbody>\n",
       "    <tr>\n",
       "      <th>0</th>\n",
       "      <td>0.0</td>\n",
       "      <td>Canada</td>\n",
       "      <td>2000-01-01</td>\n",
       "      <td>4.931436e+06</td>\n",
       "      <td>2.279735e+06</td>\n",
       "      <td>NaN</td>\n",
       "      <td>NaN</td>\n",
       "      <td>2.514577e+06</td>\n",
       "      <td>0.000000</td>\n",
       "      <td>1.221335e+06</td>\n",
       "      <td>931077.606777</td>\n",
       "      <td>362164.508358</td>\n",
       "    </tr>\n",
       "    <tr>\n",
       "      <th>1</th>\n",
       "      <td>6289.8</td>\n",
       "      <td>Canada</td>\n",
       "      <td>2000-02-01</td>\n",
       "      <td>2.242466e+06</td>\n",
       "      <td>1.431247e+06</td>\n",
       "      <td>NaN</td>\n",
       "      <td>NaN</td>\n",
       "      <td>2.414405e+06</td>\n",
       "      <td>0.000000</td>\n",
       "      <td>1.143161e+06</td>\n",
       "      <td>883069.302192</td>\n",
       "      <td>388175.007000</td>\n",
       "    </tr>\n",
       "    <tr>\n",
       "      <th>2</th>\n",
       "      <td>12579.6</td>\n",
       "      <td>Canada</td>\n",
       "      <td>2000-03-01</td>\n",
       "      <td>1.091687e+06</td>\n",
       "      <td>8.708641e+05</td>\n",
       "      <td>NaN</td>\n",
       "      <td>NaN</td>\n",
       "      <td>2.020989e+06</td>\n",
       "      <td>97.252888</td>\n",
       "      <td>9.791622e+05</td>\n",
       "      <td>772110.075230</td>\n",
       "      <td>269619.698335</td>\n",
       "    </tr>\n",
       "    <tr>\n",
       "      <th>3</th>\n",
       "      <td>18869.4</td>\n",
       "      <td>Canada</td>\n",
       "      <td>2000-04-01</td>\n",
       "      <td>1.870479e+06</td>\n",
       "      <td>1.348106e+06</td>\n",
       "      <td>NaN</td>\n",
       "      <td>NaN</td>\n",
       "      <td>2.417257e+06</td>\n",
       "      <td>267551.748584</td>\n",
       "      <td>1.168668e+06</td>\n",
       "      <td>767617.610425</td>\n",
       "      <td>213420.074623</td>\n",
       "    </tr>\n",
       "    <tr>\n",
       "      <th>4</th>\n",
       "      <td>25159.2</td>\n",
       "      <td>Canada</td>\n",
       "      <td>2000-05-01</td>\n",
       "      <td>3.749134e+06</td>\n",
       "      <td>2.238149e+06</td>\n",
       "      <td>NaN</td>\n",
       "      <td>NaN</td>\n",
       "      <td>2.323394e+06</td>\n",
       "      <td>202968.642731</td>\n",
       "      <td>1.133399e+06</td>\n",
       "      <td>761140.115748</td>\n",
       "      <td>225886.900333</td>\n",
       "    </tr>\n",
       "  </tbody>\n",
       "</table>\n",
       "</div>"
      ],
      "text/plain": [
       "     index  Region       Date  Spec. propane  Total butane  Normal butane  \\\n",
       "0      0.0  Canada 2000-01-01   4.931436e+06  2.279735e+06            NaN   \n",
       "1   6289.8  Canada 2000-02-01   2.242466e+06  1.431247e+06            NaN   \n",
       "2  12579.6  Canada 2000-03-01   1.091687e+06  8.708641e+05            NaN   \n",
       "3  18869.4  Canada 2000-04-01   1.870479e+06  1.348106e+06            NaN   \n",
       "4  25159.2  Canada 2000-05-01   3.749134e+06  2.238149e+06            NaN   \n",
       "\n",
       "   Iso-butane     Total mix      C2 in mix     C3 in mix      C4 in mix  \\\n",
       "0         NaN  2.514577e+06       0.000000  1.221335e+06  931077.606777   \n",
       "1         NaN  2.414405e+06       0.000000  1.143161e+06  883069.302192   \n",
       "2         NaN  2.020989e+06      97.252888  9.791622e+05  772110.075230   \n",
       "3         NaN  2.417257e+06  267551.748584  1.168668e+06  767617.610425   \n",
       "4         NaN  2.323394e+06  202968.642731  1.133399e+06  761140.115748   \n",
       "\n",
       "    Other in mix  \n",
       "0  362164.508358  \n",
       "1  388175.007000  \n",
       "2  269619.698335  \n",
       "3  213420.074623  \n",
       "4  225886.900333  "
      ]
     },
     "execution_count": 201,
     "metadata": {},
     "output_type": "execute_result"
    }
   ],
   "source": [
    "df_bbl.head()"
   ]
  },
  {
   "cell_type": "markdown",
   "metadata": {},
   "source": [
    "## Filter dataframes"
   ]
  },
  {
   "cell_type": "code",
   "execution_count": 202,
   "metadata": {},
   "outputs": [],
   "source": [
    "df_large = df[df['Spec. propane']>10000]"
   ]
  },
  {
   "cell_type": "code",
   "execution_count": 203,
   "metadata": {},
   "outputs": [
    {
     "data": {
      "text/html": [
       "<div>\n",
       "<style scoped>\n",
       "    .dataframe tbody tr th:only-of-type {\n",
       "        vertical-align: middle;\n",
       "    }\n",
       "\n",
       "    .dataframe tbody tr th {\n",
       "        vertical-align: top;\n",
       "    }\n",
       "\n",
       "    .dataframe thead th {\n",
       "        text-align: right;\n",
       "    }\n",
       "</style>\n",
       "<table border=\"1\" class=\"dataframe\">\n",
       "  <thead>\n",
       "    <tr style=\"text-align: right;\">\n",
       "      <th></th>\n",
       "      <th>index</th>\n",
       "      <th>Region</th>\n",
       "      <th>Date</th>\n",
       "      <th>Spec. propane</th>\n",
       "      <th>Total butane</th>\n",
       "      <th>Normal butane</th>\n",
       "      <th>Iso-butane</th>\n",
       "      <th>Total mix</th>\n",
       "      <th>C2 in mix</th>\n",
       "      <th>C3 in mix</th>\n",
       "      <th>C4 in mix</th>\n",
       "      <th>Other in mix</th>\n",
       "    </tr>\n",
       "  </thead>\n",
       "  <tbody>\n",
       "    <tr>\n",
       "      <th>0</th>\n",
       "      <td>0.0</td>\n",
       "      <td>Canada</td>\n",
       "      <td>2000-01-01</td>\n",
       "      <td>4.931436e+06</td>\n",
       "      <td>2.279735e+06</td>\n",
       "      <td>NaN</td>\n",
       "      <td>NaN</td>\n",
       "      <td>2.514577e+06</td>\n",
       "      <td>0.000000</td>\n",
       "      <td>1.221335e+06</td>\n",
       "      <td>931077.606777</td>\n",
       "      <td>362164.508358</td>\n",
       "    </tr>\n",
       "    <tr>\n",
       "      <th>1</th>\n",
       "      <td>6289.8</td>\n",
       "      <td>Canada</td>\n",
       "      <td>2000-02-01</td>\n",
       "      <td>2.242466e+06</td>\n",
       "      <td>1.431247e+06</td>\n",
       "      <td>NaN</td>\n",
       "      <td>NaN</td>\n",
       "      <td>2.414405e+06</td>\n",
       "      <td>0.000000</td>\n",
       "      <td>1.143161e+06</td>\n",
       "      <td>883069.302192</td>\n",
       "      <td>388175.007000</td>\n",
       "    </tr>\n",
       "    <tr>\n",
       "      <th>2</th>\n",
       "      <td>12579.6</td>\n",
       "      <td>Canada</td>\n",
       "      <td>2000-03-01</td>\n",
       "      <td>1.091687e+06</td>\n",
       "      <td>8.708641e+05</td>\n",
       "      <td>NaN</td>\n",
       "      <td>NaN</td>\n",
       "      <td>2.020989e+06</td>\n",
       "      <td>97.252888</td>\n",
       "      <td>9.791622e+05</td>\n",
       "      <td>772110.075230</td>\n",
       "      <td>269619.698335</td>\n",
       "    </tr>\n",
       "    <tr>\n",
       "      <th>3</th>\n",
       "      <td>18869.4</td>\n",
       "      <td>Canada</td>\n",
       "      <td>2000-04-01</td>\n",
       "      <td>1.870479e+06</td>\n",
       "      <td>1.348106e+06</td>\n",
       "      <td>NaN</td>\n",
       "      <td>NaN</td>\n",
       "      <td>2.417257e+06</td>\n",
       "      <td>267551.748584</td>\n",
       "      <td>1.168668e+06</td>\n",
       "      <td>767617.610425</td>\n",
       "      <td>213420.074623</td>\n",
       "    </tr>\n",
       "    <tr>\n",
       "      <th>4</th>\n",
       "      <td>25159.2</td>\n",
       "      <td>Canada</td>\n",
       "      <td>2000-05-01</td>\n",
       "      <td>3.749134e+06</td>\n",
       "      <td>2.238149e+06</td>\n",
       "      <td>NaN</td>\n",
       "      <td>NaN</td>\n",
       "      <td>2.323394e+06</td>\n",
       "      <td>202968.642731</td>\n",
       "      <td>1.133399e+06</td>\n",
       "      <td>761140.115748</td>\n",
       "      <td>225886.900333</td>\n",
       "    </tr>\n",
       "  </tbody>\n",
       "</table>\n",
       "</div>"
      ],
      "text/plain": [
       "     index  Region       Date  Spec. propane  Total butane  Normal butane  \\\n",
       "0      0.0  Canada 2000-01-01   4.931436e+06  2.279735e+06            NaN   \n",
       "1   6289.8  Canada 2000-02-01   2.242466e+06  1.431247e+06            NaN   \n",
       "2  12579.6  Canada 2000-03-01   1.091687e+06  8.708641e+05            NaN   \n",
       "3  18869.4  Canada 2000-04-01   1.870479e+06  1.348106e+06            NaN   \n",
       "4  25159.2  Canada 2000-05-01   3.749134e+06  2.238149e+06            NaN   \n",
       "\n",
       "   Iso-butane     Total mix      C2 in mix     C3 in mix      C4 in mix  \\\n",
       "0         NaN  2.514577e+06       0.000000  1.221335e+06  931077.606777   \n",
       "1         NaN  2.414405e+06       0.000000  1.143161e+06  883069.302192   \n",
       "2         NaN  2.020989e+06      97.252888  9.791622e+05  772110.075230   \n",
       "3         NaN  2.417257e+06  267551.748584  1.168668e+06  767617.610425   \n",
       "4         NaN  2.323394e+06  202968.642731  1.133399e+06  761140.115748   \n",
       "\n",
       "    Other in mix  \n",
       "0  362164.508358  \n",
       "1  388175.007000  \n",
       "2  269619.698335  \n",
       "3  213420.074623  \n",
       "4  225886.900333  "
      ]
     },
     "execution_count": 203,
     "metadata": {},
     "output_type": "execute_result"
    }
   ],
   "source": [
    "df_large.head()"
   ]
  },
  {
   "cell_type": "markdown",
   "metadata": {},
   "source": [
    "## Flat data"
   ]
  },
  {
   "cell_type": "code",
   "execution_count": 204,
   "metadata": {},
   "outputs": [
    {
     "data": {
      "text/plain": [
       "array(['Canada', 'Eastern Canada / Est Canadien',\n",
       "       'Western Canada / Ouest Canadien'], dtype=object)"
      ]
     },
     "execution_count": 204,
     "metadata": {},
     "output_type": "execute_result"
    }
   ],
   "source": [
    "region_names = df['Region'].unique() #same as select distinct in SQL\n",
    "region_names"
   ]
  },
  {
   "cell_type": "code",
   "execution_count": 205,
   "metadata": {},
   "outputs": [
    {
     "data": {
      "text/plain": [
       "{'Canada': 'Canada',\n",
       " 'Eastern Canada / Est Canadien': 'Eastern Canada',\n",
       " 'Western Canada / Ouest Canadien': 'Western Canada'}"
      ]
     },
     "execution_count": 205,
     "metadata": {},
     "output_type": "execute_result"
    }
   ],
   "source": [
    "new_regions = english_only(region_names)\n",
    "new_regions"
   ]
  },
  {
   "cell_type": "code",
   "execution_count": 206,
   "metadata": {},
   "outputs": [
    {
     "data": {
      "text/plain": [
       "array(['Canada', 'Eastern Canada', 'Western Canada'], dtype=object)"
      ]
     },
     "execution_count": 206,
     "metadata": {},
     "output_type": "execute_result"
    }
   ],
   "source": [
    "df['Region'] = df['Region'].replace(new_regions)\n",
    "#could also do the following: df['Region'] = [x.split('/')[0].strip() for x in df['Region']]\n",
    "df['Region'].unique()"
   ]
  },
  {
   "cell_type": "code",
   "execution_count": 207,
   "metadata": {},
   "outputs": [
    {
     "name": "stdout",
     "output_type": "stream",
     "text": [
      "(246, 12)\n",
      "(246, 12)\n",
      "(246, 12)\n"
     ]
    }
   ],
   "source": [
    "for r in df['Region'].unique():\n",
    "    df_region = df[df['Region']==r]\n",
    "    print(df_region.shape)\n",
    "\n",
    "#three seperate datasets, one on top of the other. Pandas can handle this easily. Excel cant..."
   ]
  },
  {
   "cell_type": "code",
   "execution_count": 208,
   "metadata": {},
   "outputs": [],
   "source": [
    "#why would we want to do this? We probably dont. There are better ways to access data groups, see below...\n",
    "regions = {region_name:df[df['Region']==region_name].copy() for region_name in df['Region'].unique()}"
   ]
  },
  {
   "cell_type": "code",
   "execution_count": 209,
   "metadata": {},
   "outputs": [],
   "source": [
    "for key, value in regions.items():\n",
    "    value = value.set_index('Date')"
   ]
  },
  {
   "cell_type": "code",
   "execution_count": 210,
   "metadata": {},
   "outputs": [
    {
     "data": {
      "text/html": [
       "<div>\n",
       "<style scoped>\n",
       "    .dataframe tbody tr th:only-of-type {\n",
       "        vertical-align: middle;\n",
       "    }\n",
       "\n",
       "    .dataframe tbody tr th {\n",
       "        vertical-align: top;\n",
       "    }\n",
       "\n",
       "    .dataframe thead th {\n",
       "        text-align: right;\n",
       "    }\n",
       "</style>\n",
       "<table border=\"1\" class=\"dataframe\">\n",
       "  <thead>\n",
       "    <tr style=\"text-align: right;\">\n",
       "      <th></th>\n",
       "      <th>index</th>\n",
       "      <th>Region</th>\n",
       "      <th>Date</th>\n",
       "      <th>Spec. propane</th>\n",
       "      <th>Total butane</th>\n",
       "      <th>Normal butane</th>\n",
       "      <th>Iso-butane</th>\n",
       "      <th>Total mix</th>\n",
       "      <th>C2 in mix</th>\n",
       "      <th>C3 in mix</th>\n",
       "      <th>C4 in mix</th>\n",
       "      <th>Other in mix</th>\n",
       "    </tr>\n",
       "  </thead>\n",
       "  <tbody>\n",
       "    <tr>\n",
       "      <th>0</th>\n",
       "      <td>0.0</td>\n",
       "      <td>Canada</td>\n",
       "      <td>2000-01-01</td>\n",
       "      <td>4.931436e+06</td>\n",
       "      <td>2.279735e+06</td>\n",
       "      <td>NaN</td>\n",
       "      <td>NaN</td>\n",
       "      <td>2.514577e+06</td>\n",
       "      <td>0.000000</td>\n",
       "      <td>1.221335e+06</td>\n",
       "      <td>931077.606777</td>\n",
       "      <td>362164.508358</td>\n",
       "    </tr>\n",
       "    <tr>\n",
       "      <th>1</th>\n",
       "      <td>6289.8</td>\n",
       "      <td>Canada</td>\n",
       "      <td>2000-02-01</td>\n",
       "      <td>2.242466e+06</td>\n",
       "      <td>1.431247e+06</td>\n",
       "      <td>NaN</td>\n",
       "      <td>NaN</td>\n",
       "      <td>2.414405e+06</td>\n",
       "      <td>0.000000</td>\n",
       "      <td>1.143161e+06</td>\n",
       "      <td>883069.302192</td>\n",
       "      <td>388175.007000</td>\n",
       "    </tr>\n",
       "    <tr>\n",
       "      <th>2</th>\n",
       "      <td>12579.6</td>\n",
       "      <td>Canada</td>\n",
       "      <td>2000-03-01</td>\n",
       "      <td>1.091687e+06</td>\n",
       "      <td>8.708641e+05</td>\n",
       "      <td>NaN</td>\n",
       "      <td>NaN</td>\n",
       "      <td>2.020989e+06</td>\n",
       "      <td>97.252888</td>\n",
       "      <td>9.791622e+05</td>\n",
       "      <td>772110.075230</td>\n",
       "      <td>269619.698335</td>\n",
       "    </tr>\n",
       "    <tr>\n",
       "      <th>3</th>\n",
       "      <td>18869.4</td>\n",
       "      <td>Canada</td>\n",
       "      <td>2000-04-01</td>\n",
       "      <td>1.870479e+06</td>\n",
       "      <td>1.348106e+06</td>\n",
       "      <td>NaN</td>\n",
       "      <td>NaN</td>\n",
       "      <td>2.417257e+06</td>\n",
       "      <td>267551.748584</td>\n",
       "      <td>1.168668e+06</td>\n",
       "      <td>767617.610425</td>\n",
       "      <td>213420.074623</td>\n",
       "    </tr>\n",
       "    <tr>\n",
       "      <th>4</th>\n",
       "      <td>25159.2</td>\n",
       "      <td>Canada</td>\n",
       "      <td>2000-05-01</td>\n",
       "      <td>3.749134e+06</td>\n",
       "      <td>2.238149e+06</td>\n",
       "      <td>NaN</td>\n",
       "      <td>NaN</td>\n",
       "      <td>2.323394e+06</td>\n",
       "      <td>202968.642731</td>\n",
       "      <td>1.133399e+06</td>\n",
       "      <td>761140.115748</td>\n",
       "      <td>225886.900333</td>\n",
       "    </tr>\n",
       "  </tbody>\n",
       "</table>\n",
       "</div>"
      ],
      "text/plain": [
       "     index  Region       Date  Spec. propane  Total butane  Normal butane  \\\n",
       "0      0.0  Canada 2000-01-01   4.931436e+06  2.279735e+06            NaN   \n",
       "1   6289.8  Canada 2000-02-01   2.242466e+06  1.431247e+06            NaN   \n",
       "2  12579.6  Canada 2000-03-01   1.091687e+06  8.708641e+05            NaN   \n",
       "3  18869.4  Canada 2000-04-01   1.870479e+06  1.348106e+06            NaN   \n",
       "4  25159.2  Canada 2000-05-01   3.749134e+06  2.238149e+06            NaN   \n",
       "\n",
       "   Iso-butane     Total mix      C2 in mix     C3 in mix      C4 in mix  \\\n",
       "0         NaN  2.514577e+06       0.000000  1.221335e+06  931077.606777   \n",
       "1         NaN  2.414405e+06       0.000000  1.143161e+06  883069.302192   \n",
       "2         NaN  2.020989e+06      97.252888  9.791622e+05  772110.075230   \n",
       "3         NaN  2.417257e+06  267551.748584  1.168668e+06  767617.610425   \n",
       "4         NaN  2.323394e+06  202968.642731  1.133399e+06  761140.115748   \n",
       "\n",
       "    Other in mix  \n",
       "0  362164.508358  \n",
       "1  388175.007000  \n",
       "2  269619.698335  \n",
       "3  213420.074623  \n",
       "4  225886.900333  "
      ]
     },
     "execution_count": 210,
     "metadata": {},
     "output_type": "execute_result"
    }
   ],
   "source": [
    "regions['Canada'].head()"
   ]
  },
  {
   "cell_type": "code",
   "execution_count": 211,
   "metadata": {},
   "outputs": [],
   "source": [
    "#regions\n",
    "#DataFrames can be contained inside any other data structure. Try to use this to your advantage"
   ]
  },
  {
   "cell_type": "markdown",
   "metadata": {},
   "source": [
    "## Split apply combine\n",
    "https://pandas.pydata.org/pandas-docs/stable/user_guide/groupby.html\n",
    "\n",
    "1) Splitting the data into groups based on some criteria.\n",
    "\n",
    "2) Applying a function to each group independently.\n",
    "\n",
    "3) Combining the results into a data structure."
   ]
  },
  {
   "cell_type": "code",
   "execution_count": 212,
   "metadata": {},
   "outputs": [],
   "source": [
    "grouped = df.groupby('Region') \n",
    "grouped_sum = df.groupby('Region').sum() #split: Region, Apply: Sum, Combine: Region\n",
    "#grouped_avg = df.groupby('Region').avg()"
   ]
  },
  {
   "cell_type": "code",
   "execution_count": 213,
   "metadata": {},
   "outputs": [
    {
     "data": {
      "text/html": [
       "<div>\n",
       "<style scoped>\n",
       "    .dataframe tbody tr th:only-of-type {\n",
       "        vertical-align: middle;\n",
       "    }\n",
       "\n",
       "    .dataframe tbody tr th {\n",
       "        vertical-align: top;\n",
       "    }\n",
       "\n",
       "    .dataframe thead th {\n",
       "        text-align: right;\n",
       "    }\n",
       "</style>\n",
       "<table border=\"1\" class=\"dataframe\">\n",
       "  <thead>\n",
       "    <tr style=\"text-align: right;\">\n",
       "      <th></th>\n",
       "      <th>index</th>\n",
       "      <th>Spec. propane</th>\n",
       "      <th>Total butane</th>\n",
       "      <th>Normal butane</th>\n",
       "      <th>Iso-butane</th>\n",
       "      <th>Total mix</th>\n",
       "      <th>C2 in mix</th>\n",
       "      <th>C3 in mix</th>\n",
       "      <th>C4 in mix</th>\n",
       "      <th>Other in mix</th>\n",
       "    </tr>\n",
       "    <tr>\n",
       "      <th>Region</th>\n",
       "      <th></th>\n",
       "      <th></th>\n",
       "      <th></th>\n",
       "      <th></th>\n",
       "      <th></th>\n",
       "      <th></th>\n",
       "      <th></th>\n",
       "      <th></th>\n",
       "      <th></th>\n",
       "      <th></th>\n",
       "    </tr>\n",
       "  </thead>\n",
       "  <tbody>\n",
       "    <tr>\n",
       "      <th>Canada</th>\n",
       "      <td>189543123.0</td>\n",
       "      <td>1.608591e+09</td>\n",
       "      <td>1.014522e+09</td>\n",
       "      <td>0.000000e+00</td>\n",
       "      <td>0.000000e+00</td>\n",
       "      <td>1.030642e+09</td>\n",
       "      <td>1.110643e+08</td>\n",
       "      <td>4.907900e+08</td>\n",
       "      <td>3.214580e+08</td>\n",
       "      <td>1.073295e+08</td>\n",
       "    </tr>\n",
       "    <tr>\n",
       "      <th>Eastern Canada</th>\n",
       "      <td>570176659.8</td>\n",
       "      <td>6.830610e+08</td>\n",
       "      <td>3.841216e+08</td>\n",
       "      <td>3.318509e+08</td>\n",
       "      <td>5.227069e+07</td>\n",
       "      <td>3.397393e+08</td>\n",
       "      <td>2.510784e+07</td>\n",
       "      <td>1.663478e+08</td>\n",
       "      <td>1.148196e+08</td>\n",
       "      <td>3.346402e+07</td>\n",
       "    </tr>\n",
       "    <tr>\n",
       "      <th>Western Canada</th>\n",
       "      <td>950810196.6</td>\n",
       "      <td>9.255298e+08</td>\n",
       "      <td>6.304002e+08</td>\n",
       "      <td>0.000000e+00</td>\n",
       "      <td>0.000000e+00</td>\n",
       "      <td>6.909024e+08</td>\n",
       "      <td>8.595642e+07</td>\n",
       "      <td>3.244422e+08</td>\n",
       "      <td>2.066383e+08</td>\n",
       "      <td>7.386543e+07</td>\n",
       "    </tr>\n",
       "  </tbody>\n",
       "</table>\n",
       "</div>"
      ],
      "text/plain": [
       "                      index  Spec. propane  Total butane  Normal butane  \\\n",
       "Region                                                                    \n",
       "Canada          189543123.0   1.608591e+09  1.014522e+09   0.000000e+00   \n",
       "Eastern Canada  570176659.8   6.830610e+08  3.841216e+08   3.318509e+08   \n",
       "Western Canada  950810196.6   9.255298e+08  6.304002e+08   0.000000e+00   \n",
       "\n",
       "                  Iso-butane     Total mix     C2 in mix     C3 in mix  \\\n",
       "Region                                                                   \n",
       "Canada          0.000000e+00  1.030642e+09  1.110643e+08  4.907900e+08   \n",
       "Eastern Canada  5.227069e+07  3.397393e+08  2.510784e+07  1.663478e+08   \n",
       "Western Canada  0.000000e+00  6.909024e+08  8.595642e+07  3.244422e+08   \n",
       "\n",
       "                   C4 in mix  Other in mix  \n",
       "Region                                      \n",
       "Canada          3.214580e+08  1.073295e+08  \n",
       "Eastern Canada  1.148196e+08  3.346402e+07  \n",
       "Western Canada  2.066383e+08  7.386543e+07  "
      ]
     },
     "execution_count": 213,
     "metadata": {},
     "output_type": "execute_result"
    }
   ],
   "source": [
    "grouped_sum"
   ]
  },
  {
   "cell_type": "code",
   "execution_count": 214,
   "metadata": {},
   "outputs": [
    {
     "data": {
      "text/html": [
       "<div>\n",
       "<style scoped>\n",
       "    .dataframe tbody tr th:only-of-type {\n",
       "        vertical-align: middle;\n",
       "    }\n",
       "\n",
       "    .dataframe tbody tr th {\n",
       "        vertical-align: top;\n",
       "    }\n",
       "\n",
       "    .dataframe thead th {\n",
       "        text-align: right;\n",
       "    }\n",
       "</style>\n",
       "<table border=\"1\" class=\"dataframe\">\n",
       "  <thead>\n",
       "    <tr style=\"text-align: right;\">\n",
       "      <th></th>\n",
       "      <th>index</th>\n",
       "      <th>Region</th>\n",
       "      <th>Date</th>\n",
       "      <th>Spec. propane</th>\n",
       "      <th>Total butane</th>\n",
       "      <th>Normal butane</th>\n",
       "      <th>Iso-butane</th>\n",
       "      <th>Total mix</th>\n",
       "      <th>C2 in mix</th>\n",
       "      <th>C3 in mix</th>\n",
       "      <th>C4 in mix</th>\n",
       "      <th>Other in mix</th>\n",
       "    </tr>\n",
       "  </thead>\n",
       "  <tbody>\n",
       "    <tr>\n",
       "      <th>0</th>\n",
       "      <td>0.0</td>\n",
       "      <td>Canada</td>\n",
       "      <td>2000-01-01</td>\n",
       "      <td>4.931436e+06</td>\n",
       "      <td>2.279735e+06</td>\n",
       "      <td>NaN</td>\n",
       "      <td>NaN</td>\n",
       "      <td>2.514577e+06</td>\n",
       "      <td>0.000000</td>\n",
       "      <td>1.221335e+06</td>\n",
       "      <td>9.310776e+05</td>\n",
       "      <td>362164.508358</td>\n",
       "    </tr>\n",
       "    <tr>\n",
       "      <th>1</th>\n",
       "      <td>6289.8</td>\n",
       "      <td>Canada</td>\n",
       "      <td>2000-02-01</td>\n",
       "      <td>2.242466e+06</td>\n",
       "      <td>1.431247e+06</td>\n",
       "      <td>NaN</td>\n",
       "      <td>NaN</td>\n",
       "      <td>2.414405e+06</td>\n",
       "      <td>0.000000</td>\n",
       "      <td>1.143161e+06</td>\n",
       "      <td>8.830693e+05</td>\n",
       "      <td>388175.007000</td>\n",
       "    </tr>\n",
       "    <tr>\n",
       "      <th>2</th>\n",
       "      <td>12579.6</td>\n",
       "      <td>Canada</td>\n",
       "      <td>2000-03-01</td>\n",
       "      <td>1.091687e+06</td>\n",
       "      <td>8.708641e+05</td>\n",
       "      <td>NaN</td>\n",
       "      <td>NaN</td>\n",
       "      <td>2.020989e+06</td>\n",
       "      <td>97.252888</td>\n",
       "      <td>9.791622e+05</td>\n",
       "      <td>7.721101e+05</td>\n",
       "      <td>269619.698335</td>\n",
       "    </tr>\n",
       "    <tr>\n",
       "      <th>3</th>\n",
       "      <td>18869.4</td>\n",
       "      <td>Canada</td>\n",
       "      <td>2000-04-01</td>\n",
       "      <td>1.870479e+06</td>\n",
       "      <td>1.348106e+06</td>\n",
       "      <td>NaN</td>\n",
       "      <td>NaN</td>\n",
       "      <td>2.417257e+06</td>\n",
       "      <td>267551.748584</td>\n",
       "      <td>1.168668e+06</td>\n",
       "      <td>7.676176e+05</td>\n",
       "      <td>213420.074623</td>\n",
       "    </tr>\n",
       "    <tr>\n",
       "      <th>4</th>\n",
       "      <td>25159.2</td>\n",
       "      <td>Canada</td>\n",
       "      <td>2000-05-01</td>\n",
       "      <td>3.749134e+06</td>\n",
       "      <td>2.238149e+06</td>\n",
       "      <td>NaN</td>\n",
       "      <td>NaN</td>\n",
       "      <td>2.323394e+06</td>\n",
       "      <td>202968.642731</td>\n",
       "      <td>1.133399e+06</td>\n",
       "      <td>7.611401e+05</td>\n",
       "      <td>225886.900333</td>\n",
       "    </tr>\n",
       "    <tr>\n",
       "      <th>...</th>\n",
       "      <td>...</td>\n",
       "      <td>...</td>\n",
       "      <td>...</td>\n",
       "      <td>...</td>\n",
       "      <td>...</td>\n",
       "      <td>...</td>\n",
       "      <td>...</td>\n",
       "      <td>...</td>\n",
       "      <td>...</td>\n",
       "      <td>...</td>\n",
       "      <td>...</td>\n",
       "      <td>...</td>\n",
       "    </tr>\n",
       "    <tr>\n",
       "      <th>241</th>\n",
       "      <td>1515841.8</td>\n",
       "      <td>Canada</td>\n",
       "      <td>2020-02-01</td>\n",
       "      <td>2.859761e+06</td>\n",
       "      <td>1.872114e+06</td>\n",
       "      <td>NaN</td>\n",
       "      <td>NaN</td>\n",
       "      <td>4.065850e+06</td>\n",
       "      <td>770519.177687</td>\n",
       "      <td>1.625785e+06</td>\n",
       "      <td>1.120423e+06</td>\n",
       "      <td>549122.907173</td>\n",
       "    </tr>\n",
       "    <tr>\n",
       "      <th>242</th>\n",
       "      <td>1522131.6</td>\n",
       "      <td>Canada</td>\n",
       "      <td>2020-03-01</td>\n",
       "      <td>2.487150e+06</td>\n",
       "      <td>1.776794e+06</td>\n",
       "      <td>NaN</td>\n",
       "      <td>NaN</td>\n",
       "      <td>3.471635e+06</td>\n",
       "      <td>493531.936463</td>\n",
       "      <td>1.533361e+06</td>\n",
       "      <td>1.026061e+06</td>\n",
       "      <td>418681.608939</td>\n",
       "    </tr>\n",
       "    <tr>\n",
       "      <th>243</th>\n",
       "      <td>1528421.4</td>\n",
       "      <td>Canada</td>\n",
       "      <td>2020-04-01</td>\n",
       "      <td>2.593480e+06</td>\n",
       "      <td>2.226965e+06</td>\n",
       "      <td>NaN</td>\n",
       "      <td>NaN</td>\n",
       "      <td>3.703944e+06</td>\n",
       "      <td>589901.928485</td>\n",
       "      <td>1.598192e+06</td>\n",
       "      <td>1.061124e+06</td>\n",
       "      <td>454726.414750</td>\n",
       "    </tr>\n",
       "    <tr>\n",
       "      <th>244</th>\n",
       "      <td>1534711.2</td>\n",
       "      <td>Canada</td>\n",
       "      <td>2020-05-01</td>\n",
       "      <td>4.147479e+06</td>\n",
       "      <td>4.089418e+06</td>\n",
       "      <td>NaN</td>\n",
       "      <td>NaN</td>\n",
       "      <td>4.505108e+06</td>\n",
       "      <td>798749.724011</td>\n",
       "      <td>1.851259e+06</td>\n",
       "      <td>1.241534e+06</td>\n",
       "      <td>613565.346870</td>\n",
       "    </tr>\n",
       "    <tr>\n",
       "      <th>245</th>\n",
       "      <td>1541001.0</td>\n",
       "      <td>Canada</td>\n",
       "      <td>2020-06-01</td>\n",
       "      <td>6.668965e+06</td>\n",
       "      <td>5.392711e+06</td>\n",
       "      <td>NaN</td>\n",
       "      <td>NaN</td>\n",
       "      <td>4.221580e+06</td>\n",
       "      <td>553813.966375</td>\n",
       "      <td>1.819747e+06</td>\n",
       "      <td>1.262461e+06</td>\n",
       "      <td>585558.085395</td>\n",
       "    </tr>\n",
       "  </tbody>\n",
       "</table>\n",
       "<p>246 rows × 12 columns</p>\n",
       "</div>"
      ],
      "text/plain": [
       "         index  Region       Date  Spec. propane  Total butane  Normal butane  \\\n",
       "0          0.0  Canada 2000-01-01   4.931436e+06  2.279735e+06            NaN   \n",
       "1       6289.8  Canada 2000-02-01   2.242466e+06  1.431247e+06            NaN   \n",
       "2      12579.6  Canada 2000-03-01   1.091687e+06  8.708641e+05            NaN   \n",
       "3      18869.4  Canada 2000-04-01   1.870479e+06  1.348106e+06            NaN   \n",
       "4      25159.2  Canada 2000-05-01   3.749134e+06  2.238149e+06            NaN   \n",
       "..         ...     ...        ...            ...           ...            ...   \n",
       "241  1515841.8  Canada 2020-02-01   2.859761e+06  1.872114e+06            NaN   \n",
       "242  1522131.6  Canada 2020-03-01   2.487150e+06  1.776794e+06            NaN   \n",
       "243  1528421.4  Canada 2020-04-01   2.593480e+06  2.226965e+06            NaN   \n",
       "244  1534711.2  Canada 2020-05-01   4.147479e+06  4.089418e+06            NaN   \n",
       "245  1541001.0  Canada 2020-06-01   6.668965e+06  5.392711e+06            NaN   \n",
       "\n",
       "     Iso-butane     Total mix      C2 in mix     C3 in mix     C4 in mix  \\\n",
       "0           NaN  2.514577e+06       0.000000  1.221335e+06  9.310776e+05   \n",
       "1           NaN  2.414405e+06       0.000000  1.143161e+06  8.830693e+05   \n",
       "2           NaN  2.020989e+06      97.252888  9.791622e+05  7.721101e+05   \n",
       "3           NaN  2.417257e+06  267551.748584  1.168668e+06  7.676176e+05   \n",
       "4           NaN  2.323394e+06  202968.642731  1.133399e+06  7.611401e+05   \n",
       "..          ...           ...            ...           ...           ...   \n",
       "241         NaN  4.065850e+06  770519.177687  1.625785e+06  1.120423e+06   \n",
       "242         NaN  3.471635e+06  493531.936463  1.533361e+06  1.026061e+06   \n",
       "243         NaN  3.703944e+06  589901.928485  1.598192e+06  1.061124e+06   \n",
       "244         NaN  4.505108e+06  798749.724011  1.851259e+06  1.241534e+06   \n",
       "245         NaN  4.221580e+06  553813.966375  1.819747e+06  1.262461e+06   \n",
       "\n",
       "      Other in mix  \n",
       "0    362164.508358  \n",
       "1    388175.007000  \n",
       "2    269619.698335  \n",
       "3    213420.074623  \n",
       "4    225886.900333  \n",
       "..             ...  \n",
       "241  549122.907173  \n",
       "242  418681.608939  \n",
       "243  454726.414750  \n",
       "244  613565.346870  \n",
       "245  585558.085395  \n",
       "\n",
       "[246 rows x 12 columns]"
      ]
     },
     "execution_count": 214,
     "metadata": {},
     "output_type": "execute_result"
    }
   ],
   "source": [
    "grouped.get_group('Canada')"
   ]
  },
  {
   "cell_type": "code",
   "execution_count": 215,
   "metadata": {},
   "outputs": [],
   "source": [
    "new_group = []\n",
    "for name,group in grouped:\n",
    "    #print(name)\n",
    "    #print(group)\n",
    "    group = group.copy()\n",
    "    group['propane injection'] = group['Spec. propane'] - group['Spec. propane'].shift(1)\n",
    "    new_group.append(group)\n",
    "df = pd.concat(new_group, ignore_index=True)"
   ]
  },
  {
   "cell_type": "code",
   "execution_count": 216,
   "metadata": {},
   "outputs": [
    {
     "data": {
      "text/html": [
       "<div>\n",
       "<style scoped>\n",
       "    .dataframe tbody tr th:only-of-type {\n",
       "        vertical-align: middle;\n",
       "    }\n",
       "\n",
       "    .dataframe tbody tr th {\n",
       "        vertical-align: top;\n",
       "    }\n",
       "\n",
       "    .dataframe thead th {\n",
       "        text-align: right;\n",
       "    }\n",
       "</style>\n",
       "<table border=\"1\" class=\"dataframe\">\n",
       "  <thead>\n",
       "    <tr style=\"text-align: right;\">\n",
       "      <th></th>\n",
       "      <th>index</th>\n",
       "      <th>Region</th>\n",
       "      <th>Date</th>\n",
       "      <th>Spec. propane</th>\n",
       "      <th>Total butane</th>\n",
       "      <th>Normal butane</th>\n",
       "      <th>Iso-butane</th>\n",
       "      <th>Total mix</th>\n",
       "      <th>C2 in mix</th>\n",
       "      <th>C3 in mix</th>\n",
       "      <th>C4 in mix</th>\n",
       "      <th>Other in mix</th>\n",
       "      <th>propane injection</th>\n",
       "    </tr>\n",
       "  </thead>\n",
       "  <tbody>\n",
       "    <tr>\n",
       "      <th>0</th>\n",
       "      <td>0.0</td>\n",
       "      <td>Canada</td>\n",
       "      <td>2000-01-01</td>\n",
       "      <td>4.931436e+06</td>\n",
       "      <td>2.279735e+06</td>\n",
       "      <td>NaN</td>\n",
       "      <td>NaN</td>\n",
       "      <td>2.514577e+06</td>\n",
       "      <td>0.000000</td>\n",
       "      <td>1.221335e+06</td>\n",
       "      <td>931077.606777</td>\n",
       "      <td>362164.508358</td>\n",
       "      <td>NaN</td>\n",
       "    </tr>\n",
       "    <tr>\n",
       "      <th>1</th>\n",
       "      <td>6289.8</td>\n",
       "      <td>Canada</td>\n",
       "      <td>2000-02-01</td>\n",
       "      <td>2.242466e+06</td>\n",
       "      <td>1.431247e+06</td>\n",
       "      <td>NaN</td>\n",
       "      <td>NaN</td>\n",
       "      <td>2.414405e+06</td>\n",
       "      <td>0.000000</td>\n",
       "      <td>1.143161e+06</td>\n",
       "      <td>883069.302192</td>\n",
       "      <td>388175.007000</td>\n",
       "      <td>-2.688970e+06</td>\n",
       "    </tr>\n",
       "    <tr>\n",
       "      <th>2</th>\n",
       "      <td>12579.6</td>\n",
       "      <td>Canada</td>\n",
       "      <td>2000-03-01</td>\n",
       "      <td>1.091687e+06</td>\n",
       "      <td>8.708641e+05</td>\n",
       "      <td>NaN</td>\n",
       "      <td>NaN</td>\n",
       "      <td>2.020989e+06</td>\n",
       "      <td>97.252888</td>\n",
       "      <td>9.791622e+05</td>\n",
       "      <td>772110.075230</td>\n",
       "      <td>269619.698335</td>\n",
       "      <td>-1.150779e+06</td>\n",
       "    </tr>\n",
       "    <tr>\n",
       "      <th>3</th>\n",
       "      <td>18869.4</td>\n",
       "      <td>Canada</td>\n",
       "      <td>2000-04-01</td>\n",
       "      <td>1.870479e+06</td>\n",
       "      <td>1.348106e+06</td>\n",
       "      <td>NaN</td>\n",
       "      <td>NaN</td>\n",
       "      <td>2.417257e+06</td>\n",
       "      <td>267551.748584</td>\n",
       "      <td>1.168668e+06</td>\n",
       "      <td>767617.610425</td>\n",
       "      <td>213420.074623</td>\n",
       "      <td>7.787925e+05</td>\n",
       "    </tr>\n",
       "    <tr>\n",
       "      <th>4</th>\n",
       "      <td>25159.2</td>\n",
       "      <td>Canada</td>\n",
       "      <td>2000-05-01</td>\n",
       "      <td>3.749134e+06</td>\n",
       "      <td>2.238149e+06</td>\n",
       "      <td>NaN</td>\n",
       "      <td>NaN</td>\n",
       "      <td>2.323394e+06</td>\n",
       "      <td>202968.642731</td>\n",
       "      <td>1.133399e+06</td>\n",
       "      <td>761140.115748</td>\n",
       "      <td>225886.900333</td>\n",
       "      <td>1.878654e+06</td>\n",
       "    </tr>\n",
       "  </tbody>\n",
       "</table>\n",
       "</div>"
      ],
      "text/plain": [
       "     index  Region       Date  Spec. propane  Total butane  Normal butane  \\\n",
       "0      0.0  Canada 2000-01-01   4.931436e+06  2.279735e+06            NaN   \n",
       "1   6289.8  Canada 2000-02-01   2.242466e+06  1.431247e+06            NaN   \n",
       "2  12579.6  Canada 2000-03-01   1.091687e+06  8.708641e+05            NaN   \n",
       "3  18869.4  Canada 2000-04-01   1.870479e+06  1.348106e+06            NaN   \n",
       "4  25159.2  Canada 2000-05-01   3.749134e+06  2.238149e+06            NaN   \n",
       "\n",
       "   Iso-butane     Total mix      C2 in mix     C3 in mix      C4 in mix  \\\n",
       "0         NaN  2.514577e+06       0.000000  1.221335e+06  931077.606777   \n",
       "1         NaN  2.414405e+06       0.000000  1.143161e+06  883069.302192   \n",
       "2         NaN  2.020989e+06      97.252888  9.791622e+05  772110.075230   \n",
       "3         NaN  2.417257e+06  267551.748584  1.168668e+06  767617.610425   \n",
       "4         NaN  2.323394e+06  202968.642731  1.133399e+06  761140.115748   \n",
       "\n",
       "    Other in mix  propane injection  \n",
       "0  362164.508358                NaN  \n",
       "1  388175.007000      -2.688970e+06  \n",
       "2  269619.698335      -1.150779e+06  \n",
       "3  213420.074623       7.787925e+05  \n",
       "4  225886.900333       1.878654e+06  "
      ]
     },
     "execution_count": 216,
     "metadata": {},
     "output_type": "execute_result"
    }
   ],
   "source": [
    "df.head()"
   ]
  },
  {
   "cell_type": "code",
   "execution_count": 217,
   "metadata": {},
   "outputs": [],
   "source": [
    "#another way\n",
    "new_group = []\n",
    "for r in df['Region'].unique():\n",
    "    df_r = df[df['Region']==r].copy()\n",
    "    #df_r.to_csv(r+'.csv',index=False)\n",
    "    df_r['propane injection'] = df_r['Spec. propane'] - df_r['Spec. propane'].shift(1)\n",
    "    new_group.append(df_r)\n",
    "df = pd.concat(new_group, ignore_index=True)"
   ]
  },
  {
   "cell_type": "code",
   "execution_count": 218,
   "metadata": {},
   "outputs": [
    {
     "data": {
      "text/html": [
       "<div>\n",
       "<style scoped>\n",
       "    .dataframe tbody tr th:only-of-type {\n",
       "        vertical-align: middle;\n",
       "    }\n",
       "\n",
       "    .dataframe tbody tr th {\n",
       "        vertical-align: top;\n",
       "    }\n",
       "\n",
       "    .dataframe thead th {\n",
       "        text-align: right;\n",
       "    }\n",
       "</style>\n",
       "<table border=\"1\" class=\"dataframe\">\n",
       "  <thead>\n",
       "    <tr style=\"text-align: right;\">\n",
       "      <th></th>\n",
       "      <th>index</th>\n",
       "      <th>Region</th>\n",
       "      <th>Date</th>\n",
       "      <th>Spec. propane</th>\n",
       "      <th>Total butane</th>\n",
       "      <th>Normal butane</th>\n",
       "      <th>Iso-butane</th>\n",
       "      <th>Total mix</th>\n",
       "      <th>C2 in mix</th>\n",
       "      <th>C3 in mix</th>\n",
       "      <th>C4 in mix</th>\n",
       "      <th>Other in mix</th>\n",
       "      <th>propane injection</th>\n",
       "    </tr>\n",
       "  </thead>\n",
       "  <tbody>\n",
       "    <tr>\n",
       "      <th>0</th>\n",
       "      <td>0.0</td>\n",
       "      <td>Canada</td>\n",
       "      <td>2000-01-01</td>\n",
       "      <td>4.931436e+06</td>\n",
       "      <td>2.279735e+06</td>\n",
       "      <td>NaN</td>\n",
       "      <td>NaN</td>\n",
       "      <td>2.514577e+06</td>\n",
       "      <td>0.000000</td>\n",
       "      <td>1.221335e+06</td>\n",
       "      <td>931077.606777</td>\n",
       "      <td>362164.508358</td>\n",
       "      <td>NaN</td>\n",
       "    </tr>\n",
       "    <tr>\n",
       "      <th>1</th>\n",
       "      <td>6289.8</td>\n",
       "      <td>Canada</td>\n",
       "      <td>2000-02-01</td>\n",
       "      <td>2.242466e+06</td>\n",
       "      <td>1.431247e+06</td>\n",
       "      <td>NaN</td>\n",
       "      <td>NaN</td>\n",
       "      <td>2.414405e+06</td>\n",
       "      <td>0.000000</td>\n",
       "      <td>1.143161e+06</td>\n",
       "      <td>883069.302192</td>\n",
       "      <td>388175.007000</td>\n",
       "      <td>-2.688970e+06</td>\n",
       "    </tr>\n",
       "    <tr>\n",
       "      <th>2</th>\n",
       "      <td>12579.6</td>\n",
       "      <td>Canada</td>\n",
       "      <td>2000-03-01</td>\n",
       "      <td>1.091687e+06</td>\n",
       "      <td>8.708641e+05</td>\n",
       "      <td>NaN</td>\n",
       "      <td>NaN</td>\n",
       "      <td>2.020989e+06</td>\n",
       "      <td>97.252888</td>\n",
       "      <td>9.791622e+05</td>\n",
       "      <td>772110.075230</td>\n",
       "      <td>269619.698335</td>\n",
       "      <td>-1.150779e+06</td>\n",
       "    </tr>\n",
       "    <tr>\n",
       "      <th>3</th>\n",
       "      <td>18869.4</td>\n",
       "      <td>Canada</td>\n",
       "      <td>2000-04-01</td>\n",
       "      <td>1.870479e+06</td>\n",
       "      <td>1.348106e+06</td>\n",
       "      <td>NaN</td>\n",
       "      <td>NaN</td>\n",
       "      <td>2.417257e+06</td>\n",
       "      <td>267551.748584</td>\n",
       "      <td>1.168668e+06</td>\n",
       "      <td>767617.610425</td>\n",
       "      <td>213420.074623</td>\n",
       "      <td>7.787925e+05</td>\n",
       "    </tr>\n",
       "    <tr>\n",
       "      <th>4</th>\n",
       "      <td>25159.2</td>\n",
       "      <td>Canada</td>\n",
       "      <td>2000-05-01</td>\n",
       "      <td>3.749134e+06</td>\n",
       "      <td>2.238149e+06</td>\n",
       "      <td>NaN</td>\n",
       "      <td>NaN</td>\n",
       "      <td>2.323394e+06</td>\n",
       "      <td>202968.642731</td>\n",
       "      <td>1.133399e+06</td>\n",
       "      <td>761140.115748</td>\n",
       "      <td>225886.900333</td>\n",
       "      <td>1.878654e+06</td>\n",
       "    </tr>\n",
       "  </tbody>\n",
       "</table>\n",
       "</div>"
      ],
      "text/plain": [
       "     index  Region       Date  Spec. propane  Total butane  Normal butane  \\\n",
       "0      0.0  Canada 2000-01-01   4.931436e+06  2.279735e+06            NaN   \n",
       "1   6289.8  Canada 2000-02-01   2.242466e+06  1.431247e+06            NaN   \n",
       "2  12579.6  Canada 2000-03-01   1.091687e+06  8.708641e+05            NaN   \n",
       "3  18869.4  Canada 2000-04-01   1.870479e+06  1.348106e+06            NaN   \n",
       "4  25159.2  Canada 2000-05-01   3.749134e+06  2.238149e+06            NaN   \n",
       "\n",
       "   Iso-butane     Total mix      C2 in mix     C3 in mix      C4 in mix  \\\n",
       "0         NaN  2.514577e+06       0.000000  1.221335e+06  931077.606777   \n",
       "1         NaN  2.414405e+06       0.000000  1.143161e+06  883069.302192   \n",
       "2         NaN  2.020989e+06      97.252888  9.791622e+05  772110.075230   \n",
       "3         NaN  2.417257e+06  267551.748584  1.168668e+06  767617.610425   \n",
       "4         NaN  2.323394e+06  202968.642731  1.133399e+06  761140.115748   \n",
       "\n",
       "    Other in mix  propane injection  \n",
       "0  362164.508358                NaN  \n",
       "1  388175.007000      -2.688970e+06  \n",
       "2  269619.698335      -1.150779e+06  \n",
       "3  213420.074623       7.787925e+05  \n",
       "4  225886.900333       1.878654e+06  "
      ]
     },
     "execution_count": 218,
     "metadata": {},
     "output_type": "execute_result"
    }
   ],
   "source": [
    "df.head()"
   ]
  },
  {
   "cell_type": "markdown",
   "metadata": {},
   "source": [
    "## Pandas: Data output"
   ]
  },
  {
   "cell_type": "code",
   "execution_count": 219,
   "metadata": {},
   "outputs": [],
   "source": [
    "#Pandas dataframes can be spit out into common data file formats:\n",
    "\n",
    "for r in df['Region'].unique():\n",
    "    df_r = df[df['Region']==r].copy()\n",
    "    df_r.to_csv(r+'.csv',index=False)"
   ]
  },
  {
   "cell_type": "markdown",
   "metadata": {},
   "source": [
    "## Data Manipulation - Merging & Melting\n",
    "\n",
    "Think about our data for a second. How can we compare eastern Canada and western Canada values?"
   ]
  },
  {
   "cell_type": "code",
   "execution_count": 220,
   "metadata": {},
   "outputs": [],
   "source": [
    "east,west = df[df['Region']=='Eastern Canada'].copy(),df[df['Region']=='Western Canada'].copy()\n",
    "#same as:\n",
    "#east = df[df['Region']=='Eastern Canada'].copy()\n",
    "#west = df[df['Region']=='Western Canada'].copy()"
   ]
  },
  {
   "cell_type": "code",
   "execution_count": 221,
   "metadata": {},
   "outputs": [
    {
     "data": {
      "text/html": [
       "<div>\n",
       "<style scoped>\n",
       "    .dataframe tbody tr th:only-of-type {\n",
       "        vertical-align: middle;\n",
       "    }\n",
       "\n",
       "    .dataframe tbody tr th {\n",
       "        vertical-align: top;\n",
       "    }\n",
       "\n",
       "    .dataframe thead th {\n",
       "        text-align: right;\n",
       "    }\n",
       "</style>\n",
       "<table border=\"1\" class=\"dataframe\">\n",
       "  <thead>\n",
       "    <tr style=\"text-align: right;\">\n",
       "      <th></th>\n",
       "      <th>index</th>\n",
       "      <th>Region</th>\n",
       "      <th>Date</th>\n",
       "      <th>Spec. propane</th>\n",
       "      <th>Total butane</th>\n",
       "      <th>Normal butane</th>\n",
       "      <th>Iso-butane</th>\n",
       "      <th>Total mix</th>\n",
       "      <th>C2 in mix</th>\n",
       "      <th>C3 in mix</th>\n",
       "      <th>C4 in mix</th>\n",
       "      <th>Other in mix</th>\n",
       "      <th>propane injection</th>\n",
       "    </tr>\n",
       "  </thead>\n",
       "  <tbody>\n",
       "    <tr>\n",
       "      <th>246</th>\n",
       "      <td>1547290.8</td>\n",
       "      <td>Eastern Canada</td>\n",
       "      <td>2000-01-01</td>\n",
       "      <td>2.871685e+06</td>\n",
       "      <td>1.302332e+06</td>\n",
       "      <td>981753.49039</td>\n",
       "      <td>320578.5264</td>\n",
       "      <td>1.153386e+06</td>\n",
       "      <td>0.000000</td>\n",
       "      <td>529348.985250</td>\n",
       "      <td>464984.230307</td>\n",
       "      <td>159052.701729</td>\n",
       "      <td>NaN</td>\n",
       "    </tr>\n",
       "    <tr>\n",
       "      <th>247</th>\n",
       "      <td>1553580.6</td>\n",
       "      <td>Eastern Canada</td>\n",
       "      <td>2000-02-01</td>\n",
       "      <td>1.283278e+06</td>\n",
       "      <td>1.069435e+06</td>\n",
       "      <td>786274.06044</td>\n",
       "      <td>283160.5062</td>\n",
       "      <td>1.073156e+06</td>\n",
       "      <td>0.000000</td>\n",
       "      <td>492538.136112</td>\n",
       "      <td>430826.895576</td>\n",
       "      <td>149790.580632</td>\n",
       "      <td>-1.588407e+06</td>\n",
       "    </tr>\n",
       "    <tr>\n",
       "      <th>248</th>\n",
       "      <td>1559870.4</td>\n",
       "      <td>Eastern Canada</td>\n",
       "      <td>2000-03-01</td>\n",
       "      <td>5.108204e+05</td>\n",
       "      <td>5.521142e+05</td>\n",
       "      <td>384327.53634</td>\n",
       "      <td>167786.7048</td>\n",
       "      <td>1.197596e+06</td>\n",
       "      <td>0.000000</td>\n",
       "      <td>549084.675001</td>\n",
       "      <td>475905.140230</td>\n",
       "      <td>172605.835715</td>\n",
       "      <td>-7.724573e+05</td>\n",
       "    </tr>\n",
       "    <tr>\n",
       "      <th>249</th>\n",
       "      <td>1566160.2</td>\n",
       "      <td>Eastern Canada</td>\n",
       "      <td>2000-04-01</td>\n",
       "      <td>6.373913e+05</td>\n",
       "      <td>7.857728e+05</td>\n",
       "      <td>496121.18358</td>\n",
       "      <td>289651.5798</td>\n",
       "      <td>1.308955e+06</td>\n",
       "      <td>103568.794044</td>\n",
       "      <td>631972.457577</td>\n",
       "      <td>450554.818053</td>\n",
       "      <td>122858.672520</td>\n",
       "      <td>1.265709e+05</td>\n",
       "    </tr>\n",
       "    <tr>\n",
       "      <th>250</th>\n",
       "      <td>1572450.0</td>\n",
       "      <td>Eastern Canada</td>\n",
       "      <td>2000-05-01</td>\n",
       "      <td>1.879963e+06</td>\n",
       "      <td>1.357250e+06</td>\n",
       "      <td>976937.39682</td>\n",
       "      <td>380312.7570</td>\n",
       "      <td>1.147013e+06</td>\n",
       "      <td>97956.695589</td>\n",
       "      <td>550238.429432</td>\n",
       "      <td>395317.208747</td>\n",
       "      <td>103500.852505</td>\n",
       "      <td>1.242572e+06</td>\n",
       "    </tr>\n",
       "  </tbody>\n",
       "</table>\n",
       "</div>"
      ],
      "text/plain": [
       "         index          Region       Date  Spec. propane  Total butane  \\\n",
       "246  1547290.8  Eastern Canada 2000-01-01   2.871685e+06  1.302332e+06   \n",
       "247  1553580.6  Eastern Canada 2000-02-01   1.283278e+06  1.069435e+06   \n",
       "248  1559870.4  Eastern Canada 2000-03-01   5.108204e+05  5.521142e+05   \n",
       "249  1566160.2  Eastern Canada 2000-04-01   6.373913e+05  7.857728e+05   \n",
       "250  1572450.0  Eastern Canada 2000-05-01   1.879963e+06  1.357250e+06   \n",
       "\n",
       "     Normal butane   Iso-butane     Total mix      C2 in mix      C3 in mix  \\\n",
       "246   981753.49039  320578.5264  1.153386e+06       0.000000  529348.985250   \n",
       "247   786274.06044  283160.5062  1.073156e+06       0.000000  492538.136112   \n",
       "248   384327.53634  167786.7048  1.197596e+06       0.000000  549084.675001   \n",
       "249   496121.18358  289651.5798  1.308955e+06  103568.794044  631972.457577   \n",
       "250   976937.39682  380312.7570  1.147013e+06   97956.695589  550238.429432   \n",
       "\n",
       "         C4 in mix   Other in mix  propane injection  \n",
       "246  464984.230307  159052.701729                NaN  \n",
       "247  430826.895576  149790.580632      -1.588407e+06  \n",
       "248  475905.140230  172605.835715      -7.724573e+05  \n",
       "249  450554.818053  122858.672520       1.265709e+05  \n",
       "250  395317.208747  103500.852505       1.242572e+06  "
      ]
     },
     "execution_count": 221,
     "metadata": {},
     "output_type": "execute_result"
    }
   ],
   "source": [
    "east.head()"
   ]
  },
  {
   "cell_type": "code",
   "execution_count": 222,
   "metadata": {},
   "outputs": [],
   "source": [
    "# use pd.melt to create flat data\n",
    "# this data transformation can be better for certain types of vizualization and is better for databases\n",
    "east = pd.melt(east,id_vars=['Date','Region'])\n",
    "west = pd.melt(west,id_vars=['Date','Region'])"
   ]
  },
  {
   "cell_type": "code",
   "execution_count": 223,
   "metadata": {},
   "outputs": [
    {
     "data": {
      "text/plain": [
       "array(['index', 'Spec. propane', 'Total butane', 'Normal butane',\n",
       "       'Iso-butane', 'Total mix', 'C2 in mix', 'C3 in mix', 'C4 in mix',\n",
       "       'Other in mix', 'propane injection'], dtype=object)"
      ]
     },
     "execution_count": 223,
     "metadata": {},
     "output_type": "execute_result"
    }
   ],
   "source": [
    "# Now we can create columns/analysis that applies to all the LPG products, not just one at a time\n",
    "east.head()\n",
    "east['variable'].unique()"
   ]
  },
  {
   "cell_type": "code",
   "execution_count": 224,
   "metadata": {},
   "outputs": [
    {
     "data": {
      "text/html": [
       "<div>\n",
       "<style scoped>\n",
       "    .dataframe tbody tr th:only-of-type {\n",
       "        vertical-align: middle;\n",
       "    }\n",
       "\n",
       "    .dataframe tbody tr th {\n",
       "        vertical-align: top;\n",
       "    }\n",
       "\n",
       "    .dataframe thead th {\n",
       "        text-align: right;\n",
       "    }\n",
       "</style>\n",
       "<table border=\"1\" class=\"dataframe\">\n",
       "  <thead>\n",
       "    <tr style=\"text-align: right;\">\n",
       "      <th></th>\n",
       "      <th>Date</th>\n",
       "      <th>Region_east</th>\n",
       "      <th>variable</th>\n",
       "      <th>value_east</th>\n",
       "      <th>Region_west</th>\n",
       "      <th>value_west</th>\n",
       "      <th>West - East</th>\n",
       "    </tr>\n",
       "  </thead>\n",
       "  <tbody>\n",
       "    <tr>\n",
       "      <th>0</th>\n",
       "      <td>2000-01-01</td>\n",
       "      <td>Eastern Canada</td>\n",
       "      <td>index</td>\n",
       "      <td>1547290.8</td>\n",
       "      <td>Western Canada</td>\n",
       "      <td>3094581.6</td>\n",
       "      <td>1547290.8</td>\n",
       "    </tr>\n",
       "    <tr>\n",
       "      <th>1</th>\n",
       "      <td>2000-02-01</td>\n",
       "      <td>Eastern Canada</td>\n",
       "      <td>index</td>\n",
       "      <td>1553580.6</td>\n",
       "      <td>Western Canada</td>\n",
       "      <td>3100871.4</td>\n",
       "      <td>1547290.8</td>\n",
       "    </tr>\n",
       "    <tr>\n",
       "      <th>2</th>\n",
       "      <td>2000-03-01</td>\n",
       "      <td>Eastern Canada</td>\n",
       "      <td>index</td>\n",
       "      <td>1559870.4</td>\n",
       "      <td>Western Canada</td>\n",
       "      <td>3107161.2</td>\n",
       "      <td>1547290.8</td>\n",
       "    </tr>\n",
       "    <tr>\n",
       "      <th>3</th>\n",
       "      <td>2000-04-01</td>\n",
       "      <td>Eastern Canada</td>\n",
       "      <td>index</td>\n",
       "      <td>1566160.2</td>\n",
       "      <td>Western Canada</td>\n",
       "      <td>3113451.0</td>\n",
       "      <td>1547290.8</td>\n",
       "    </tr>\n",
       "    <tr>\n",
       "      <th>4</th>\n",
       "      <td>2000-05-01</td>\n",
       "      <td>Eastern Canada</td>\n",
       "      <td>index</td>\n",
       "      <td>1572450.0</td>\n",
       "      <td>Western Canada</td>\n",
       "      <td>3119740.8</td>\n",
       "      <td>1547290.8</td>\n",
       "    </tr>\n",
       "  </tbody>\n",
       "</table>\n",
       "</div>"
      ],
      "text/plain": [
       "        Date     Region_east variable  value_east     Region_west  value_west  \\\n",
       "0 2000-01-01  Eastern Canada    index   1547290.8  Western Canada   3094581.6   \n",
       "1 2000-02-01  Eastern Canada    index   1553580.6  Western Canada   3100871.4   \n",
       "2 2000-03-01  Eastern Canada    index   1559870.4  Western Canada   3107161.2   \n",
       "3 2000-04-01  Eastern Canada    index   1566160.2  Western Canada   3113451.0   \n",
       "4 2000-05-01  Eastern Canada    index   1572450.0  Western Canada   3119740.8   \n",
       "\n",
       "   West - East  \n",
       "0    1547290.8  \n",
       "1    1547290.8  \n",
       "2    1547290.8  \n",
       "3    1547290.8  \n",
       "4    1547290.8  "
      ]
     },
     "execution_count": 224,
     "metadata": {},
     "output_type": "execute_result"
    }
   ],
   "source": [
    "#use merge to line up data. Same as a join in sql server\n",
    "merged = east.merge(west,left_on=['Date','variable'],right_on=['Date','variable'],suffixes=('_east', '_west'))\n",
    "merged['West - East'] = merged['value_west'] - merged['value_east']\n",
    "merged.head()"
   ]
  },
  {
   "cell_type": "markdown",
   "metadata": {},
   "source": [
    "### Aside: Tidy data\n",
    "https://vita.had.co.nz/papers/tidy-data.pdf\n",
    "\n",
    "1. Each variable forms a column.\n",
    "2. Each observation forms a row.\n",
    "3. Each type of observational unit forms a table.\n",
    "\n",
    "\n",
    "This paper will save you years of work"
   ]
  },
  {
   "cell_type": "markdown",
   "metadata": {},
   "source": [
    "## Matplotlib / Exploratory data analysis"
   ]
  },
  {
   "cell_type": "code",
   "execution_count": 225,
   "metadata": {},
   "outputs": [
    {
     "data": {
      "text/plain": [
       "index                False\n",
       "Region               False\n",
       "Date                 False\n",
       "Spec. propane        False\n",
       "Total butane         False\n",
       "Normal butane         True\n",
       "Iso-butane            True\n",
       "Total mix            False\n",
       "C2 in mix            False\n",
       "C3 in mix            False\n",
       "C4 in mix            False\n",
       "Other in mix         False\n",
       "propane injection     True\n",
       "dtype: bool"
      ]
     },
     "execution_count": 225,
     "metadata": {},
     "output_type": "execute_result"
    }
   ],
   "source": [
    "# which columns have missing data\n",
    "df[df['Region']=='Canada'].isnull().any(axis=0) #any missing columnwise"
   ]
  },
  {
   "cell_type": "code",
   "execution_count": 226,
   "metadata": {},
   "outputs": [
    {
     "data": {
      "text/plain": [
       "index                  0\n",
       "Region                 0\n",
       "Date                   0\n",
       "Spec. propane          0\n",
       "Total butane           0\n",
       "Normal butane        246\n",
       "Iso-butane           246\n",
       "Total mix              0\n",
       "C2 in mix              0\n",
       "C3 in mix              0\n",
       "C4 in mix              0\n",
       "Other in mix           0\n",
       "propane injection      1\n",
       "dtype: int64"
      ]
     },
     "execution_count": 226,
     "metadata": {},
     "output_type": "execute_result"
    }
   ],
   "source": [
    "# How many missing per column?\n",
    "df[df['Region']=='Canada'].isnull().sum(axis=0)"
   ]
  },
  {
   "cell_type": "code",
   "execution_count": 227,
   "metadata": {},
   "outputs": [],
   "source": [
    "# Drop rows with missing data\n",
    "# df_patient.dropna(axis=0)"
   ]
  },
  {
   "cell_type": "code",
   "execution_count": 228,
   "metadata": {},
   "outputs": [
    {
     "name": "stdout",
     "output_type": "stream",
     "text": [
      "Canada\n"
     ]
    },
    {
     "data": {
      "image/png": "[encoded data removed]",
      "text/plain": [
       "<Figure size 432x288 with 1 Axes>"
      ]
     },
     "metadata": {
      "needs_background": "light"
     },
     "output_type": "display_data"
    }
   ],
   "source": [
    "#pandas has some basic graphing built in\n",
    "def histogram_region(region):\n",
    "    df[df['Region']==region]['propane injection'].hist()\n",
    "    print(region)\n",
    "\n",
    "histogram_region('Canada')"
   ]
  },
  {
   "cell_type": "code",
   "execution_count": 229,
   "metadata": {},
   "outputs": [
    {
     "data": {
      "text/html": [
       "<div>\n",
       "<style scoped>\n",
       "    .dataframe tbody tr th:only-of-type {\n",
       "        vertical-align: middle;\n",
       "    }\n",
       "\n",
       "    .dataframe tbody tr th {\n",
       "        vertical-align: top;\n",
       "    }\n",
       "\n",
       "    .dataframe thead th {\n",
       "        text-align: right;\n",
       "    }\n",
       "</style>\n",
       "<table border=\"1\" class=\"dataframe\">\n",
       "  <thead>\n",
       "    <tr style=\"text-align: right;\">\n",
       "      <th></th>\n",
       "      <th>index</th>\n",
       "      <th>Spec. propane</th>\n",
       "      <th>Total butane</th>\n",
       "      <th>Normal butane</th>\n",
       "      <th>Iso-butane</th>\n",
       "      <th>Total mix</th>\n",
       "      <th>C2 in mix</th>\n",
       "      <th>C3 in mix</th>\n",
       "      <th>C4 in mix</th>\n",
       "      <th>Other in mix</th>\n",
       "      <th>propane injection</th>\n",
       "    </tr>\n",
       "  </thead>\n",
       "  <tbody>\n",
       "    <tr>\n",
       "      <th>count</th>\n",
       "      <td>2.460000e+02</td>\n",
       "      <td>2.460000e+02</td>\n",
       "      <td>2.460000e+02</td>\n",
       "      <td>0.0</td>\n",
       "      <td>0.0</td>\n",
       "      <td>2.460000e+02</td>\n",
       "      <td>2.460000e+02</td>\n",
       "      <td>2.460000e+02</td>\n",
       "      <td>2.460000e+02</td>\n",
       "      <td>246.000000</td>\n",
       "      <td>2.450000e+02</td>\n",
       "    </tr>\n",
       "    <tr>\n",
       "      <th>mean</th>\n",
       "      <td>7.705005e+05</td>\n",
       "      <td>6.538987e+06</td>\n",
       "      <td>4.124072e+06</td>\n",
       "      <td>NaN</td>\n",
       "      <td>NaN</td>\n",
       "      <td>4.189600e+06</td>\n",
       "      <td>4.514807e+05</td>\n",
       "      <td>1.995081e+06</td>\n",
       "      <td>1.306740e+06</td>\n",
       "      <td>436298.589953</td>\n",
       "      <td>7.091957e+03</td>\n",
       "    </tr>\n",
       "    <tr>\n",
       "      <th>std</th>\n",
       "      <td>4.475713e+05</td>\n",
       "      <td>2.990115e+06</td>\n",
       "      <td>1.632511e+06</td>\n",
       "      <td>NaN</td>\n",
       "      <td>NaN</td>\n",
       "      <td>1.119407e+06</td>\n",
       "      <td>1.695562e+05</td>\n",
       "      <td>5.601395e+05</td>\n",
       "      <td>3.793950e+05</td>\n",
       "      <td>122830.640323</td>\n",
       "      <td>1.524949e+06</td>\n",
       "    </tr>\n",
       "    <tr>\n",
       "      <th>min</th>\n",
       "      <td>0.000000e+00</td>\n",
       "      <td>7.830424e+05</td>\n",
       "      <td>8.708641e+05</td>\n",
       "      <td>NaN</td>\n",
       "      <td>NaN</td>\n",
       "      <td>2.020989e+06</td>\n",
       "      <td>0.000000e+00</td>\n",
       "      <td>9.791622e+05</td>\n",
       "      <td>6.553771e+05</td>\n",
       "      <td>181569.797098</td>\n",
       "      <td>-3.506738e+06</td>\n",
       "    </tr>\n",
       "    <tr>\n",
       "      <th>25%</th>\n",
       "      <td>3.852502e+05</td>\n",
       "      <td>4.108757e+06</td>\n",
       "      <td>2.962156e+06</td>\n",
       "      <td>NaN</td>\n",
       "      <td>NaN</td>\n",
       "      <td>3.366134e+06</td>\n",
       "      <td>3.329656e+05</td>\n",
       "      <td>1.554303e+06</td>\n",
       "      <td>1.014076e+06</td>\n",
       "      <td>343903.610644</td>\n",
       "      <td>-1.188275e+06</td>\n",
       "    </tr>\n",
       "    <tr>\n",
       "      <th>50%</th>\n",
       "      <td>7.705005e+05</td>\n",
       "      <td>6.577026e+06</td>\n",
       "      <td>4.028230e+06</td>\n",
       "      <td>NaN</td>\n",
       "      <td>NaN</td>\n",
       "      <td>4.099133e+06</td>\n",
       "      <td>4.434201e+05</td>\n",
       "      <td>1.935704e+06</td>\n",
       "      <td>1.261215e+06</td>\n",
       "      <td>429579.003471</td>\n",
       "      <td>3.129553e+05</td>\n",
       "    </tr>\n",
       "    <tr>\n",
       "      <th>75%</th>\n",
       "      <td>1.155751e+06</td>\n",
       "      <td>9.038121e+06</td>\n",
       "      <td>5.120460e+06</td>\n",
       "      <td>NaN</td>\n",
       "      <td>NaN</td>\n",
       "      <td>4.876605e+06</td>\n",
       "      <td>5.515298e+05</td>\n",
       "      <td>2.358861e+06</td>\n",
       "      <td>1.544354e+06</td>\n",
       "      <td>520149.922873</td>\n",
       "      <td>1.205024e+06</td>\n",
       "    </tr>\n",
       "    <tr>\n",
       "      <th>max</th>\n",
       "      <td>1.541001e+06</td>\n",
       "      <td>1.210208e+07</td>\n",
       "      <td>9.571377e+06</td>\n",
       "      <td>NaN</td>\n",
       "      <td>NaN</td>\n",
       "      <td>7.530774e+06</td>\n",
       "      <td>1.174764e+06</td>\n",
       "      <td>3.752394e+06</td>\n",
       "      <td>2.488855e+06</td>\n",
       "      <td>750052.548894</td>\n",
       "      <td>2.881569e+06</td>\n",
       "    </tr>\n",
       "  </tbody>\n",
       "</table>\n",
       "</div>"
      ],
      "text/plain": [
       "              index  Spec. propane  Total butane  Normal butane  Iso-butane  \\\n",
       "count  2.460000e+02   2.460000e+02  2.460000e+02            0.0         0.0   \n",
       "mean   7.705005e+05   6.538987e+06  4.124072e+06            NaN         NaN   \n",
       "std    4.475713e+05   2.990115e+06  1.632511e+06            NaN         NaN   \n",
       "min    0.000000e+00   7.830424e+05  8.708641e+05            NaN         NaN   \n",
       "25%    3.852502e+05   4.108757e+06  2.962156e+06            NaN         NaN   \n",
       "50%    7.705005e+05   6.577026e+06  4.028230e+06            NaN         NaN   \n",
       "75%    1.155751e+06   9.038121e+06  5.120460e+06            NaN         NaN   \n",
       "max    1.541001e+06   1.210208e+07  9.571377e+06            NaN         NaN   \n",
       "\n",
       "          Total mix     C2 in mix     C3 in mix     C4 in mix   Other in mix  \\\n",
       "count  2.460000e+02  2.460000e+02  2.460000e+02  2.460000e+02     246.000000   \n",
       "mean   4.189600e+06  4.514807e+05  1.995081e+06  1.306740e+06  436298.589953   \n",
       "std    1.119407e+06  1.695562e+05  5.601395e+05  3.793950e+05  122830.640323   \n",
       "min    2.020989e+06  0.000000e+00  9.791622e+05  6.553771e+05  181569.797098   \n",
       "25%    3.366134e+06  3.329656e+05  1.554303e+06  1.014076e+06  343903.610644   \n",
       "50%    4.099133e+06  4.434201e+05  1.935704e+06  1.261215e+06  429579.003471   \n",
       "75%    4.876605e+06  5.515298e+05  2.358861e+06  1.544354e+06  520149.922873   \n",
       "max    7.530774e+06  1.174764e+06  3.752394e+06  2.488855e+06  750052.548894   \n",
       "\n",
       "       propane injection  \n",
       "count       2.450000e+02  \n",
       "mean        7.091957e+03  \n",
       "std         1.524949e+06  \n",
       "min        -3.506738e+06  \n",
       "25%        -1.188275e+06  \n",
       "50%         3.129553e+05  \n",
       "75%         1.205024e+06  \n",
       "max         2.881569e+06  "
      ]
     },
     "execution_count": 229,
     "metadata": {},
     "output_type": "execute_result"
    }
   ],
   "source": [
    "#describe: Can be used on one column or the entire dataset\n",
    "df[df['Region']=='Canada']['propane injection'].describe()\n",
    "df[df['Region']=='Canada'].describe()"
   ]
  },
  {
   "cell_type": "code",
   "execution_count": 230,
   "metadata": {},
   "outputs": [],
   "source": [
    "#matplotlib offers better customization compared to basic pandas charts\n",
    "import matplotlib.pyplot as plt\n",
    "from pandas.plotting import register_matplotlib_converters\n",
    "register_matplotlib_converters()"
   ]
  },
  {
   "cell_type": "code",
   "execution_count": 231,
   "metadata": {},
   "outputs": [
    {
     "data": {
      "text/plain": [
       "<matplotlib.legend.Legend at 0x7f896c7bd940>"
      ]
     },
     "execution_count": 231,
     "metadata": {},
     "output_type": "execute_result"
    },
    {
     "data": {
      "image/png": "[encoded data removed]",
      "text/plain": [
       "<Figure size 1080x360 with 1 Axes>"
      ]
     },
     "metadata": {
      "needs_background": "light"
     },
     "output_type": "display_data"
    }
   ],
   "source": [
    "fig, ax = plt.subplots(figsize=(15, 5))\n",
    "df_plot = df[df['Region']=='Canada'].copy().set_index('Date')\n",
    "del df_plot['Region']\n",
    "ax.plot(df_plot)\n",
    "ax.legend(df_plot.columns)"
   ]
  },
  {
   "cell_type": "code",
   "execution_count": 232,
   "metadata": {},
   "outputs": [
    {
     "name": "stderr",
     "output_type": "stream",
     "text": [
      "No handles with labels found to put in legend.\n"
     ]
    },
    {
     "data": {
      "text/plain": [
       "<matplotlib.legend.Legend at 0x7f896acd55e0>"
      ]
     },
     "execution_count": 232,
     "metadata": {},
     "output_type": "execute_result"
    },
    {
     "data": {
      "image/png": "[encoded data removed]",
      "text/plain": [
       "<Figure size 1080x360 with 1 Axes>"
      ]
     },
     "metadata": {
      "needs_background": "light"
     },
     "output_type": "display_data"
    }
   ],
   "source": [
    "## Iterate through the columns to draw each\n",
    "fig, ax = plt.subplots(figsize=(15, 5))\n",
    "for i in range(df_plot.shape[1]):\n",
    "    #if...\n",
    "    ax.plot(df_plot.iloc[:,i])\n",
    "ax.legend()"
   ]
  },
  {
   "cell_type": "code",
   "execution_count": 233,
   "metadata": {},
   "outputs": [
    {
     "data": {
      "text/plain": [
       "<matplotlib.legend.Legend at 0x7f896a98ddc0>"
      ]
     },
     "execution_count": 233,
     "metadata": {},
     "output_type": "execute_result"
    },
    {
     "data": {
      "image/png": "[encoded data removed]",
      "text/plain": [
       "<Figure size 1080x432 with 1 Axes>"
      ]
     },
     "metadata": {
      "needs_background": "light"
     },
     "output_type": "display_data"
    }
   ],
   "source": [
    "CER = ['#054169','#FFBE4B','#5FBEE6','#559B37','#FF821E','#871455','#FFFFFF','#8c8c96','#42464B']\n",
    "\n",
    "fig, ax = plt.subplots(figsize=(15, 6))\n",
    "\n",
    "i = 0\n",
    "for r in df['Region'].unique():\n",
    "    if r != 'Canada':\n",
    "        ax.plot(df[df['Region']==r]['Date'], df[df['Region']==r]['Spec. propane'],label=r+' Spec. propane',color=CER[i])\n",
    "    i = i+1\n",
    "ax.legend()\n",
    "\n",
    "#Note, we didnt need to merge eastern and western canada spec propane columns to make this happen (but this would work as well)"
   ]
  },
  {
   "cell_type": "markdown",
   "metadata": {},
   "source": [
    "## Data Analysis Example: How can you get the five year average propane injections for a given region (Eastern Canada) ?\n",
    "\n",
    "Note - with heating commodities, the five year average is used to compare the current years statistics with the previous five years. So the current five year average would include 2015 - 2019 (inclusive)\n",
    "\n",
    "\n",
    "If you cant remember the exact code/functions to use, start writing down the steps that could make this happen."
   ]
  },
  {
   "cell_type": "code",
   "execution_count": 234,
   "metadata": {},
   "outputs": [],
   "source": [
    "region = 'Eastern Canada'"
   ]
  },
  {
   "cell_type": "code",
   "execution_count": 235,
   "metadata": {},
   "outputs": [
    {
     "data": {
      "text/plain": [
       "Timestamp('2020-06-01 00:00:00')"
      ]
     },
     "execution_count": 235,
     "metadata": {},
     "output_type": "execute_result"
    }
   ],
   "source": [
    "df5 = df[df['Region']==region][['Date','propane injection']]\n",
    "#df5['Year'] = [x.year for x in df5['Date']]\n",
    "max_date = df5['Date'].max() \n",
    "max_date"
   ]
  },
  {
   "cell_type": "code",
   "execution_count": 236,
   "metadata": {},
   "outputs": [
    {
     "data": {
      "text/plain": [
       "2019"
      ]
     },
     "execution_count": 236,
     "metadata": {},
     "output_type": "execute_result"
    }
   ],
   "source": [
    "max_year = max_date - relativedelta.relativedelta(years = 1)\n",
    "max_year = max_year.year\n",
    "max_year"
   ]
  },
  {
   "cell_type": "code",
   "execution_count": 237,
   "metadata": {},
   "outputs": [
    {
     "data": {
      "text/plain": [
       "2015"
      ]
     },
     "execution_count": 237,
     "metadata": {},
     "output_type": "execute_result"
    }
   ],
   "source": [
    "min_year = max_year - 4\n",
    "min_year"
   ]
  },
  {
   "cell_type": "code",
   "execution_count": 238,
   "metadata": {},
   "outputs": [],
   "source": [
    "df5 = df5[(df5['Date'].dt.year <= max_year) & (df5['Date'].dt.year >= min_year)]"
   ]
  },
  {
   "cell_type": "code",
   "execution_count": 239,
   "metadata": {},
   "outputs": [
    {
     "data": {
      "text/html": [
       "<div>\n",
       "<style scoped>\n",
       "    .dataframe tbody tr th:only-of-type {\n",
       "        vertical-align: middle;\n",
       "    }\n",
       "\n",
       "    .dataframe tbody tr th {\n",
       "        vertical-align: top;\n",
       "    }\n",
       "\n",
       "    .dataframe thead th {\n",
       "        text-align: right;\n",
       "    }\n",
       "</style>\n",
       "<table border=\"1\" class=\"dataframe\">\n",
       "  <thead>\n",
       "    <tr style=\"text-align: right;\">\n",
       "      <th></th>\n",
       "      <th>Date</th>\n",
       "      <th>propane injection</th>\n",
       "    </tr>\n",
       "  </thead>\n",
       "  <tbody>\n",
       "    <tr>\n",
       "      <th>481</th>\n",
       "      <td>2019-08-01</td>\n",
       "      <td>841944.45126</td>\n",
       "    </tr>\n",
       "    <tr>\n",
       "      <th>482</th>\n",
       "      <td>2019-09-01</td>\n",
       "      <td>569740.14768</td>\n",
       "    </tr>\n",
       "    <tr>\n",
       "      <th>483</th>\n",
       "      <td>2019-10-01</td>\n",
       "      <td>341411.60196</td>\n",
       "    </tr>\n",
       "    <tr>\n",
       "      <th>484</th>\n",
       "      <td>2019-11-01</td>\n",
       "      <td>-354374.25078</td>\n",
       "    </tr>\n",
       "    <tr>\n",
       "      <th>485</th>\n",
       "      <td>2019-12-01</td>\n",
       "      <td>-425030.71908</td>\n",
       "    </tr>\n",
       "  </tbody>\n",
       "</table>\n",
       "</div>"
      ],
      "text/plain": [
       "          Date  propane injection\n",
       "481 2019-08-01       841944.45126\n",
       "482 2019-09-01       569740.14768\n",
       "483 2019-10-01       341411.60196\n",
       "484 2019-11-01      -354374.25078\n",
       "485 2019-12-01      -425030.71908"
      ]
     },
     "execution_count": 239,
     "metadata": {},
     "output_type": "execute_result"
    }
   ],
   "source": [
    "df5.head()\n",
    "df5.tail()"
   ]
  },
  {
   "cell_type": "code",
   "execution_count": 240,
   "metadata": {},
   "outputs": [
    {
     "data": {
      "text/html": [
       "<div>\n",
       "<style scoped>\n",
       "    .dataframe tbody tr th:only-of-type {\n",
       "        vertical-align: middle;\n",
       "    }\n",
       "\n",
       "    .dataframe tbody tr th {\n",
       "        vertical-align: top;\n",
       "    }\n",
       "\n",
       "    .dataframe thead th {\n",
       "        text-align: right;\n",
       "    }\n",
       "</style>\n",
       "<table border=\"1\" class=\"dataframe\">\n",
       "  <thead>\n",
       "    <tr style=\"text-align: right;\">\n",
       "      <th></th>\n",
       "      <th>propane injection</th>\n",
       "    </tr>\n",
       "    <tr>\n",
       "      <th>Date</th>\n",
       "      <th></th>\n",
       "    </tr>\n",
       "  </thead>\n",
       "  <tbody>\n",
       "    <tr>\n",
       "      <th>1</th>\n",
       "      <td>-8.370005e+05</td>\n",
       "    </tr>\n",
       "    <tr>\n",
       "      <th>2</th>\n",
       "      <td>-1.157486e+06</td>\n",
       "    </tr>\n",
       "    <tr>\n",
       "      <th>3</th>\n",
       "      <td>-8.716660e+05</td>\n",
       "    </tr>\n",
       "    <tr>\n",
       "      <th>4</th>\n",
       "      <td>-2.075801e+05</td>\n",
       "    </tr>\n",
       "    <tr>\n",
       "      <th>5</th>\n",
       "      <td>3.723268e+05</td>\n",
       "    </tr>\n",
       "    <tr>\n",
       "      <th>6</th>\n",
       "      <td>5.875379e+05</td>\n",
       "    </tr>\n",
       "    <tr>\n",
       "      <th>7</th>\n",
       "      <td>5.149443e+05</td>\n",
       "    </tr>\n",
       "    <tr>\n",
       "      <th>8</th>\n",
       "      <td>7.396664e+05</td>\n",
       "    </tr>\n",
       "    <tr>\n",
       "      <th>9</th>\n",
       "      <td>4.232434e+05</td>\n",
       "    </tr>\n",
       "    <tr>\n",
       "      <th>10</th>\n",
       "      <td>2.904851e+05</td>\n",
       "    </tr>\n",
       "    <tr>\n",
       "      <th>11</th>\n",
       "      <td>1.047359e+05</td>\n",
       "    </tr>\n",
       "    <tr>\n",
       "      <th>12</th>\n",
       "      <td>-5.109353e+05</td>\n",
       "    </tr>\n",
       "  </tbody>\n",
       "</table>\n",
       "</div>"
      ],
      "text/plain": [
       "      propane injection\n",
       "Date                   \n",
       "1         -8.370005e+05\n",
       "2         -1.157486e+06\n",
       "3         -8.716660e+05\n",
       "4         -2.075801e+05\n",
       "5          3.723268e+05\n",
       "6          5.875379e+05\n",
       "7          5.149443e+05\n",
       "8          7.396664e+05\n",
       "9          4.232434e+05\n",
       "10         2.904851e+05\n",
       "11         1.047359e+05\n",
       "12        -5.109353e+05"
      ]
     },
     "execution_count": 240,
     "metadata": {},
     "output_type": "execute_result"
    }
   ],
   "source": [
    "df5 = df5.groupby(df['Date'].dt.month).mean()\n",
    "df5"
   ]
  },
  {
   "cell_type": "code",
   "execution_count": 241,
   "metadata": {},
   "outputs": [],
   "source": [
    "import os.path\n",
    "def five_year_avg(df, region='Eastern Canada', save=True):\n",
    "    \n",
    "    #isolate the data for the given region\n",
    "    df5 = df[df['Region']==region][['Date','propane injection']]\n",
    "    #get the max and min years for the analysis\n",
    "    max_date = df5['Date'].max()\n",
    "    max_year = max_date - relativedelta.relativedelta(years = 1)\n",
    "    max_year = max_year.year\n",
    "    min_year = max_year - 5\n",
    "    #filter the dataframe on two conditions using the \"AND\" operator\n",
    "    df5 = df5[(df5['Date'].dt.year <= max_year) & (df5['Date'].dt.year > min_year)]\n",
    "    df5 = df5.groupby(df['Date'].dt.month).mean()\n",
    "    #new code to compare the 2020 injections/withdrawls from the average\n",
    "    \n",
    "    current_year = max(df[df['Region']==region]['Date'].dt.year)\n",
    "    df_now = df[(df['Region']==region) & (df['Date'].dt.year == current_year)].copy()\n",
    "    df_now['Month'] = df_now['Date'].dt.month\n",
    "    df_now = df_now[['Month','propane injection']]\n",
    "    \n",
    "    df5 = df5.merge(df_now,how='left',left_on='Date',right_on='Month',suffixes=('_avg','_now'))\n",
    "    del df5['Month']\n",
    "    \n",
    "    if save and not os.path.isfile(region+'.csv'):\n",
    "        df5.to_csv(region+'.csv')\n",
    "    \n",
    "    print(region)\n",
    "    df5.plot()\n",
    "    return df5"
   ]
  },
  {
   "cell_type": "code",
   "execution_count": 242,
   "metadata": {},
   "outputs": [
    {
     "name": "stdout",
     "output_type": "stream",
     "text": [
      "Eastern Canada\n"
     ]
    },
    {
     "data": {
      "image/png": "[encoded data removed]",
      "text/plain": [
       "<Figure size 432x288 with 1 Axes>"
      ]
     },
     "metadata": {
      "needs_background": "light"
     },
     "output_type": "display_data"
    }
   ],
   "source": [
    "df5 = five_year_avg(df,region = 'Eastern Canada')"
   ]
  },
  {
   "cell_type": "markdown",
   "metadata": {},
   "source": [
    "## Appendix: data scraping\n",
    "\n",
    "We do alot of data scraping at the CER. This is how we populate the CERSEI database.\n",
    "\n",
    "Some websites are easier to scrape than others...\n",
    "\n",
    "How can we scape the LPG data?"
   ]
  },
  {
   "cell_type": "code",
   "execution_count": 243,
   "metadata": {},
   "outputs": [],
   "source": [
    "import ssl\n",
    "ssl._create_default_https_context = ssl._create_unverified_context"
   ]
  },
  {
   "cell_type": "code",
   "execution_count": 244,
   "metadata": {},
   "outputs": [
    {
     "ename": "ValueError",
     "evalue": "File is not a recognized excel file",
     "output_type": "error",
     "traceback": [
      "\u001b[0;31m---------------------------------------------------------------------------\u001b[0m",
      "\u001b[0;31mValueError\u001b[0m                                Traceback (most recent call last)",
      "\u001b[0;32m<ipython-input-244-a67b0afb0da0>\u001b[0m in \u001b[0;36m<module>\u001b[0;34m\u001b[0m\n\u001b[1;32m      1\u001b[0m \u001b[0mlink\u001b[0m \u001b[0;34m=\u001b[0m \u001b[0;34m'https://www.cer-rec.gc.ca/nrg/sttstc/ntrlgslqds/stt/2020lqdptrlmgs.xlsx'\u001b[0m\u001b[0;34m\u001b[0m\u001b[0;34m\u001b[0m\u001b[0m\n\u001b[0;32m----> 2\u001b[0;31m \u001b[0mdf_scrape\u001b[0m \u001b[0;34m=\u001b[0m \u001b[0mpd\u001b[0m\u001b[0;34m.\u001b[0m\u001b[0mread_excel\u001b[0m\u001b[0;34m(\u001b[0m\u001b[0mlink\u001b[0m\u001b[0;34m,\u001b[0m\u001b[0msheet_name\u001b[0m\u001b[0;34m=\u001b[0m\u001b[0;34m'Data'\u001b[0m\u001b[0;34m)\u001b[0m\u001b[0;34m\u001b[0m\u001b[0;34m\u001b[0m\u001b[0m\n\u001b[0m\u001b[1;32m      3\u001b[0m \u001b[0;31m#can anyone see an issue with this link?\u001b[0m\u001b[0;34m\u001b[0m\u001b[0;34m\u001b[0m\u001b[0;34m\u001b[0m\u001b[0m\n",
      "\u001b[0;32m~/anaconda3/lib/python3.8/site-packages/pandas/util/_decorators.py\u001b[0m in \u001b[0;36mwrapper\u001b[0;34m(*args, **kwargs)\u001b[0m\n\u001b[1;32m    297\u001b[0m                 )\n\u001b[1;32m    298\u001b[0m                 \u001b[0mwarnings\u001b[0m\u001b[0;34m.\u001b[0m\u001b[0mwarn\u001b[0m\u001b[0;34m(\u001b[0m\u001b[0mmsg\u001b[0m\u001b[0;34m,\u001b[0m \u001b[0mFutureWarning\u001b[0m\u001b[0;34m,\u001b[0m \u001b[0mstacklevel\u001b[0m\u001b[0;34m=\u001b[0m\u001b[0mstacklevel\u001b[0m\u001b[0;34m)\u001b[0m\u001b[0;34m\u001b[0m\u001b[0;34m\u001b[0m\u001b[0m\n\u001b[0;32m--> 299\u001b[0;31m             \u001b[0;32mreturn\u001b[0m \u001b[0mfunc\u001b[0m\u001b[0;34m(\u001b[0m\u001b[0;34m*\u001b[0m\u001b[0margs\u001b[0m\u001b[0;34m,\u001b[0m \u001b[0;34m**\u001b[0m\u001b[0mkwargs\u001b[0m\u001b[0;34m)\u001b[0m\u001b[0;34m\u001b[0m\u001b[0;34m\u001b[0m\u001b[0m\n\u001b[0m\u001b[1;32m    300\u001b[0m \u001b[0;34m\u001b[0m\u001b[0m\n\u001b[1;32m    301\u001b[0m         \u001b[0;32mreturn\u001b[0m \u001b[0mwrapper\u001b[0m\u001b[0;34m\u001b[0m\u001b[0;34m\u001b[0m\u001b[0m\n",
      "\u001b[0;32m~/anaconda3/lib/python3.8/site-packages/pandas/io/excel/_base.py\u001b[0m in \u001b[0;36mread_excel\u001b[0;34m(io, sheet_name, header, names, index_col, usecols, squeeze, dtype, engine, converters, true_values, false_values, skiprows, nrows, na_values, keep_default_na, na_filter, verbose, parse_dates, date_parser, thousands, comment, skipfooter, convert_float, mangle_dupe_cols, storage_options)\u001b[0m\n\u001b[1;32m    334\u001b[0m     \u001b[0;32mif\u001b[0m \u001b[0;32mnot\u001b[0m \u001b[0misinstance\u001b[0m\u001b[0;34m(\u001b[0m\u001b[0mio\u001b[0m\u001b[0;34m,\u001b[0m \u001b[0mExcelFile\u001b[0m\u001b[0;34m)\u001b[0m\u001b[0;34m:\u001b[0m\u001b[0;34m\u001b[0m\u001b[0;34m\u001b[0m\u001b[0m\n\u001b[1;32m    335\u001b[0m         \u001b[0mshould_close\u001b[0m \u001b[0;34m=\u001b[0m \u001b[0;32mTrue\u001b[0m\u001b[0;34m\u001b[0m\u001b[0;34m\u001b[0m\u001b[0m\n\u001b[0;32m--> 336\u001b[0;31m         \u001b[0mio\u001b[0m \u001b[0;34m=\u001b[0m \u001b[0mExcelFile\u001b[0m\u001b[0;34m(\u001b[0m\u001b[0mio\u001b[0m\u001b[0;34m,\u001b[0m \u001b[0mstorage_options\u001b[0m\u001b[0;34m=\u001b[0m\u001b[0mstorage_options\u001b[0m\u001b[0;34m,\u001b[0m \u001b[0mengine\u001b[0m\u001b[0;34m=\u001b[0m\u001b[0mengine\u001b[0m\u001b[0;34m)\u001b[0m\u001b[0;34m\u001b[0m\u001b[0;34m\u001b[0m\u001b[0m\n\u001b[0m\u001b[1;32m    337\u001b[0m     \u001b[0;32melif\u001b[0m \u001b[0mengine\u001b[0m \u001b[0;32mand\u001b[0m \u001b[0mengine\u001b[0m \u001b[0;34m!=\u001b[0m \u001b[0mio\u001b[0m\u001b[0;34m.\u001b[0m\u001b[0mengine\u001b[0m\u001b[0;34m:\u001b[0m\u001b[0;34m\u001b[0m\u001b[0;34m\u001b[0m\u001b[0m\n\u001b[1;32m    338\u001b[0m         raise ValueError(\n",
      "\u001b[0;32m~/anaconda3/lib/python3.8/site-packages/pandas/io/excel/_base.py\u001b[0m in \u001b[0;36m__init__\u001b[0;34m(self, path_or_buffer, engine, storage_options)\u001b[0m\n\u001b[1;32m   1055\u001b[0m             \u001b[0mext\u001b[0m \u001b[0;34m=\u001b[0m \u001b[0;34m\"xls\"\u001b[0m\u001b[0;34m\u001b[0m\u001b[0;34m\u001b[0m\u001b[0m\n\u001b[1;32m   1056\u001b[0m         \u001b[0;32melse\u001b[0m\u001b[0;34m:\u001b[0m\u001b[0;34m\u001b[0m\u001b[0;34m\u001b[0m\u001b[0m\n\u001b[0;32m-> 1057\u001b[0;31m             ext = inspect_excel_format(\n\u001b[0m\u001b[1;32m   1058\u001b[0m                 \u001b[0mcontent\u001b[0m\u001b[0;34m=\u001b[0m\u001b[0mpath_or_buffer\u001b[0m\u001b[0;34m,\u001b[0m \u001b[0mstorage_options\u001b[0m\u001b[0;34m=\u001b[0m\u001b[0mstorage_options\u001b[0m\u001b[0;34m\u001b[0m\u001b[0;34m\u001b[0m\u001b[0m\n\u001b[1;32m   1059\u001b[0m             )\n",
      "\u001b[0;32m~/anaconda3/lib/python3.8/site-packages/pandas/io/excel/_base.py\u001b[0m in \u001b[0;36minspect_excel_format\u001b[0;34m(path, content, storage_options)\u001b[0m\n\u001b[1;32m    952\u001b[0m             \u001b[0;32mreturn\u001b[0m \u001b[0;34m\"xls\"\u001b[0m\u001b[0;34m\u001b[0m\u001b[0;34m\u001b[0m\u001b[0m\n\u001b[1;32m    953\u001b[0m         \u001b[0;32melif\u001b[0m \u001b[0;32mnot\u001b[0m \u001b[0mpeek\u001b[0m\u001b[0;34m.\u001b[0m\u001b[0mstartswith\u001b[0m\u001b[0;34m(\u001b[0m\u001b[0mZIP_SIGNATURE\u001b[0m\u001b[0;34m)\u001b[0m\u001b[0;34m:\u001b[0m\u001b[0;34m\u001b[0m\u001b[0;34m\u001b[0m\u001b[0m\n\u001b[0;32m--> 954\u001b[0;31m             \u001b[0;32mraise\u001b[0m \u001b[0mValueError\u001b[0m\u001b[0;34m(\u001b[0m\u001b[0;34m\"File is not a recognized excel file\"\u001b[0m\u001b[0;34m)\u001b[0m\u001b[0;34m\u001b[0m\u001b[0;34m\u001b[0m\u001b[0m\n\u001b[0m\u001b[1;32m    955\u001b[0m \u001b[0;34m\u001b[0m\u001b[0m\n\u001b[1;32m    956\u001b[0m         \u001b[0;31m# ZipFile typing is overly-strict\u001b[0m\u001b[0;34m\u001b[0m\u001b[0;34m\u001b[0m\u001b[0;34m\u001b[0m\u001b[0m\n",
      "\u001b[0;31mValueError\u001b[0m: File is not a recognized excel file"
     ]
    }
   ],
   "source": [
    "link = 'https://www.cer-rec.gc.ca/nrg/sttstc/ntrlgslqds/stt/2020lqdptrlmgs.xlsx'\n",
    "df_scrape = pd.read_excel(link,sheet_name='Data')\n",
    "#can anyone see an issue with this link?"
   ]
  },
  {
   "cell_type": "code",
   "execution_count": null,
   "metadata": {},
   "outputs": [],
   "source": [
    "df_scrape.head()"
   ]
  },
  {
   "cell_type": "code",
   "execution_count": null,
   "metadata": {},
   "outputs": [],
   "source": [
    "dynamic_link = link.split('/')\n",
    "dynamic_link[-1][4:]\n",
    "\n",
    "now = datetime.date.today()\n",
    "now.year\n",
    "\n",
    "dynamic_link[-1] = str(now.year)+dynamic_link[-1][4:]\n",
    "dynamic_link = '/'.join(dynamic_link)\n",
    "dynamic_link"
   ]
  },
  {
   "cell_type": "code",
   "execution_count": null,
   "metadata": {},
   "outputs": [],
   "source": [
    "#other modules used for webscraping\n",
    "import selenium\n",
    "from bs4 import BeautifulSoup\n",
    "import requests"
   ]
  },
  {
   "cell_type": "markdown",
   "metadata": {},
   "source": [
    "# How can we consolidate this data analysis example?\n",
    "\n",
    "Modular code..."
   ]
  },
  {
   "cell_type": "code",
   "execution_count": null,
   "metadata": {},
   "outputs": [],
   "source": [
    "def english_only(arr):\n",
    "    return {x:x.split('/')[0].strip() for x in arr}\n",
    "    \n",
    "    \n",
    "def scrape_data(link='https://www.cer-rec.gc.ca/nrg/sttstc/ntrlgslqds/stt/2020lqdptrlmgs.xlsx'):\n",
    "    dynamic_link = link.split('/')\n",
    "    dynamic_link[-1][4:]\n",
    "\n",
    "    now = datetime.date.today()\n",
    "    now.year\n",
    "    dynamic_link[-1] = str(now.year)+dynamic_link[-1][4:]\n",
    "    dynamic_link = '/'.join(dynamic_link)\n",
    "    df = pd.read_excel(link,sheet_name='Data')\n",
    "    \n",
    "    return df\n",
    "\n",
    "\n",
    "def process_data(df = scrape_data()):\n",
    "    \n",
    "    new_columns = english_only(df.columns)\n",
    "    df = df.rename(columns=new_columns)\n",
    "    \n",
    "    new_regions = english_only(df['Region'].unique())\n",
    "    df['Region'] = df['Region'].replace(new_regions)\n",
    "    \n",
    "    return df\n",
    "    \n",
    "\n",
    "def calculate_injections(df):\n",
    "    \n",
    "    new_group = []\n",
    "    for r in df['Region'].unique():\n",
    "        df_r = df[df['Region']==r].copy()\n",
    "        df_r = df_r.sort_values(by=['Date'])\n",
    "        df_r['propane injection'] = df_r['Spec. propane'] - df_r['Spec. propane'].shift(1)\n",
    "        new_group.append(df_r)\n",
    "    df = pd.concat(new_group, ignore_index=True)\n",
    "    \n",
    "    return df\n",
    "\n",
    "\n",
    "def five_year_avg(region='Eastern Canada', save=True):\n",
    "    df = process_data()\n",
    "    df = calculate_injections(df)\n",
    "    #isolate the data for the given region\n",
    "    df5 = df[df['Region']==region][['Date','propane injection']].copy()\n",
    "    #get the max and min years for the analysis\n",
    "    max_date = df5['Date'].max()\n",
    "    max_year = max_date - relativedelta.relativedelta(years = 1)\n",
    "    max_year = max_year.year\n",
    "    min_year = max_year - 4\n",
    "    #filter the dataframe on two conditions using the \"AND\" operator\n",
    "    df5 = df5[(df5['Date'].dt.year <= max_year) & (df5['Date'].dt.year >= min_year)]\n",
    "    df5 = df5.groupby(df['Date'].dt.month).mean()\n",
    "    #new code to compare the 2020 injections/withdrawls from the average\n",
    "    \n",
    "    current_year = max(df[df['Region']==region]['Date'].dt.year)\n",
    "    df_now = df[(df['Region']==region) & (df['Date'].dt.year == current_year)].copy()\n",
    "    df_now['Month'] = df_now['Date'].dt.month\n",
    "    df_now = df_now[['Month','propane injection']]\n",
    "    \n",
    "    df5 = df5.merge(df_now,how='left',left_on='Date',right_on='Month',suffixes=('_avg','_now'))\n",
    "    del df5['Month']\n",
    "    \n",
    "    if save and not os.path.isfile(region+'.csv'):\n",
    "        df5.to_csv(region+'.csv')\n",
    "    \n",
    "    print(region+' '+str(current_year))\n",
    "    df5.plot()"
   ]
  },
  {
   "cell_type": "code",
   "execution_count": null,
   "metadata": {},
   "outputs": [],
   "source": [
    "five_year_avg(region='Eastern Canada',save=False)"
   ]
  },
  {
   "cell_type": "markdown",
   "metadata": {},
   "source": [
    "### Homework...\n",
    "\n",
    "How can we modify the code so that the product (Spec. propane, total butane) can be passed into the functions to change which product is displayed in the graph?"
   ]
  },
  {
   "cell_type": "markdown",
   "metadata": {},
   "source": [
    "### Final Notes:\n",
    "\n",
    "1) This is a process. Once you get over the \"hump\" you'll start to find that writing python for your job is easier and faster than using excell for complicated problems.\n",
    "\n",
    "2) Even if you aern't comfortable with the basics yet, start forcing yourself to do projects in python as opposed to excel.\n",
    "\n",
    "3) If you feel like putting your fist through the computer screen, that means you are learning..."
   ]
  },
  {
   "cell_type": "code",
   "execution_count": null,
   "metadata": {},
   "outputs": [],
   "source": []
  }
 ],
 "metadata": {
  "kernelspec": {
   "display_name": "Python 3",
   "language": "python",
   "name": "python3"
  },
  "language_info": {
   "codemirror_mode": {
    "name": "ipython",
    "version": 3
   },
   "file_extension": ".py",
   "mimetype": "text/x-python",
   "name": "python",
   "nbconvert_exporter": "python",
   "pygments_lexer": "ipython3",
   "version": "3.8.5"
  }
 },
 "nbformat": 4,
 "nbformat_minor": 4
}
