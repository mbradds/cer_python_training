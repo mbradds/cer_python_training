{
 "cells": [
  {
   "cell_type": "markdown",
   "metadata": {},
   "source": [
    "# Python Data Analysis\n",
    "\n",
    "\n",
    "Agenda:\n",
    "\n",
    "1) Anaconda/Jupyter environment set up\n",
    "\n",
    "2) Basic python syntax\n",
    "\n",
    "3) Pandas\n",
    "\n",
    "4) Data analysis example using CER data"
   ]
  },
  {
   "cell_type": "markdown",
   "metadata": {},
   "source": [
    "Download Anaconda if you dont alreay have it installed. Anaconda is a distibution of python that contains python itself and all of the data analysis packages that we need. We could download base python and all the packages we need seperately, but anaconda just makes it easier.\n",
    " - https://www.anaconda.com/"
   ]
  },
  {
   "cell_type": "markdown",
   "metadata": {},
   "source": [
    "### Why use python? How does it fit into our tech stack?\n",
    "\n",
    "\n",
    "Python is very good for doing more advanced data analysis. Most of the work you will see today can be done in excel, or other data analysis tools. However python allows for the automation of common analysis operations we do everyday at the CER.\n",
    "\n",
    "\n",
    "\n",
    "* SQL: Used at the CER for data management (creating databases, tables, views, queries, etc), and data analysis with queries/joins. SQL is good to know because we are moving alot of our data infrastructure to relational databases in the cloud. Tableau also plays nicely with SQL compared to Python.\n",
    "\n",
    "* Python: Used at the CER for more advanced/reproducible data analysis, modelling, web scraping, process automation, and visualizations. Python is general purpose, unlike SQL\n",
    "\n",
    "* R: I have never used R, but alot of people at the CER use it. Pretty much anything that can be done in Python can also be done in R, but I think there are some benefits to Python that make it better.\n",
    "\n",
    "* Power Query: used for quick and easy (and reproducable) data analysis without any code.\n",
    "\n",
    "* Tableau: used to visualize the outputs from SQL, python, and power query.\n",
    "\n",
    "\n",
    "\n",
    "What cool things can be done in python that cant be done using other technology?\n",
    "\n",
    "* web scraping\n",
    "\n",
    "* Task scheduling, automating emails, file systems, and database inserts/updates\n",
    "\n",
    "* Modelling, machine learning, econometrics\n",
    "\n",
    "* Algorithms, advanced data structures, optimization\n",
    "\n",
    "* Preparing data for use in other programs (tableau, highcharts, etc)\n",
    "\n",
    "* RegP: Sections of the CER act/regulations contain \"rules\" that can be written into a custom algorithm for scenario testing."
   ]
  },
  {
   "cell_type": "markdown",
   "metadata": {},
   "source": [
    "### Pandas\n",
    "\n",
    "Why Pandas? Pandas is the foundation of Python's data ecosystem. If you want to do modelling, machine learning, data viz, or anything more advanced, you need to know Pandas first!"
   ]
  },
  {
   "cell_type": "markdown",
   "metadata": {},
   "source": [
    "## Jupyter Notebooks\n",
    "\n",
    "\n",
    "\n",
    "Jupyter notebooks is a code environment that can both python and r (not in the same notebook). It is good for learning because we can isolate code into individual cells, and see what happens after each block of code is run. \n",
    "\n",
    "You can write all your code in Jupyter Notebooks no problem, but more advanced coding and algorithms may require a more sophisticated integrated development environment (IDE). Common IDE's used at the CER include: Sypder, PyCharm, and visual studio code."
   ]
  },
  {
   "cell_type": "markdown",
   "metadata": {},
   "source": [
    "## Packages"
   ]
  },
  {
   "cell_type": "markdown",
   "metadata": {},
   "source": [
    "When we start Python, there are only a few base function and objects loaded. We almost always need to load some extra functionality into Python by loading packages. I like to start off each script by importing the needed packages (sometimes called modules or libraries) at the top of the script. \n",
    "\n",
    "The main package that we use at the CER, and the main package for all data analysis is called Pandas. This package comes standard with the Anaconda districution of Python.\n",
    "\n",
    "Pandas extends the functionality of base python. Pandas is the foundation for pretty much all tabular data work in python, including medelling, econometrics, and machine learning."
   ]
  },
  {
   "cell_type": "code",
   "execution_count": 116,
   "metadata": {},
   "outputs": [
    {
     "data": {
      "text/plain": [
       "'1.2.1'"
      ]
     },
     "execution_count": 116,
     "metadata": {},
     "output_type": "execute_result"
    }
   ],
   "source": [
    "import pandas as pd #packages can be renamed by the user on import. We will talk about pandas later!\n",
    "pd.__version__\n",
    "#if we werent using anaconda, this block of code would give an import error, because pandas is not part of vanilla python"
   ]
  },
  {
   "cell_type": "code",
   "execution_count": 117,
   "metadata": {},
   "outputs": [
    {
     "data": {
      "text/plain": [
       "'3.8.5 (default, Sep  4 2020, 07:30:14) \\n[GCC 7.3.0]'"
      ]
     },
     "execution_count": 117,
     "metadata": {},
     "output_type": "execute_result"
    }
   ],
   "source": [
    "import sys\n",
    "import os\n",
    "# these packages are part of python's standard library. We dont need anaconda to use these \"modules\"\n",
    "sys.version"
   ]
  },
  {
   "cell_type": "code",
   "execution_count": 118,
   "metadata": {},
   "outputs": [],
   "source": [
    "## So all output comes through from Ipython. Dont add this cell to your actual projects.\n",
    "from IPython.core.interactiveshell import InteractiveShell\n",
    "InteractiveShell.ast_node_interactivity = \"all\""
   ]
  },
  {
   "cell_type": "markdown",
   "metadata": {},
   "source": [
    "## Check your Working Directory"
   ]
  },
  {
   "cell_type": "markdown",
   "metadata": {},
   "source": [
    "Python uses the concept of a working directory (exactly like many other programs). Everytime we start Python, it is started 'somewhere' on our computer (filesystem). Where python is started depends on environment variables in your operating system and how you started Python. I like to set the working directory for my session to be wherever my project files are. I will typically organize a directory like the structure below, then set the working directory to the top level:\n",
    "\n",
    "`python_cer --->\n",
    "        --> 2020lqdptrlmgs.xlsx\n",
    "        --> connection.json\n",
    "        --> Python Data Analysis.ipynb\n",
    "        --> Etc...`\n",
    "        \n",
    "So in this case, I would set my working directory to be the file location for python_cer. There should be one jupyter notebook, and one data file for this session. You need to modify the working directory to be wherever you have downloaded the files to on your computer (on your filesystem). If you downloaded them to your 'documents' folder and named the folder 'python_session' (and your name is Grant), the file path might be this:\n",
    "\n",
    "`c:\\users\\grant\\documents\\python_cer`\n",
    "\n",
    "Figure out where you have downloaded the folder to, and change the code below to assign the correct working directory. We use the os package to change the working directory.\n",
    "\n",
    "\n",
    "The working directory is important, and a common source of errors. Having the wrong working directory is like selecting the wrong table in SQL...\n"
   ]
  },
  {
   "cell_type": "code",
   "execution_count": 119,
   "metadata": {},
   "outputs": [
    {
     "name": "stdout",
     "output_type": "stream",
     "text": [
      "The current working direcotry is: /home/grant/Documents/cer_python_training\n"
     ]
    }
   ],
   "source": [
    "print('The current working direcotry is: '+os.getcwd())\n",
    "#os.chdir(r'C:\\Users\\mossgran\\Documents')\n",
    "#print('The new working directory is: '+os.getcwd())\n",
    "#os.chdir(r'C:\\Users\\mossgran\\Documents\\python_cer')\n",
    "#print('Working directory is changed back to: '+os.getcwd())"
   ]
  },
  {
   "cell_type": "code",
   "execution_count": 120,
   "metadata": {},
   "outputs": [
    {
     "data": {
      "text/plain": [
       "['new notebook.ipynb',\n",
       " 'Part 1 - Python syntax and programming.ipynb',\n",
       " 'readme.md',\n",
       " '.ipynb_checkpoints',\n",
       " 'Part 2 - Pandas.ipynb',\n",
       " '2020lqdptrlmgs.xlsx',\n",
       " '.gitignore',\n",
       " 'connection.json',\n",
       " '.git']"
      ]
     },
     "execution_count": 120,
     "metadata": {},
     "output_type": "execute_result"
    }
   ],
   "source": [
    "os.listdir()"
   ]
  },
  {
   "cell_type": "markdown",
   "metadata": {},
   "source": [
    "## Aside: Python comments \"#\"\n",
    "\n",
    "The hashtag is used to create a python comment. Coments are ignored by Python when you run your code. Comments serve two purposes, they can be used to explain how certain sections of your code function, and your code design pattern rationale. This is critical when others need to use/improve your code, but is also super usefull for yourself.\n",
    "\n",
    "When returning to code that you wrote in the past, your own comments can save you alot of pain...\n",
    "\n",
    "You can also \"comment out\" lines of code when you want to temporarily \"delete\" code. This is a really good best practice that programmers use all the time. Dont ever delete code unless you are absolutely certain that you dont need it."
   ]
  },
  {
   "cell_type": "markdown",
   "metadata": {},
   "source": [
    "## OS package & File Control\n",
    "\n",
    "The os package comes with python not anaconda. Why do we need to import this package? Why doesnt python just include all the os stuff to begin with?"
   ]
  },
  {
   "cell_type": "code",
   "execution_count": 121,
   "metadata": {},
   "outputs": [],
   "source": [
    "# make sure that you are in the right working directory...\n",
    "# os.mkdir(\"/excel_files\") # this is a relative path\n",
    "\n",
    "# we can also specify a full path\n",
    "# os.mkdir(os.path.join(os.getcwd(),\"/excel_files\"))"
   ]
  },
  {
   "cell_type": "markdown",
   "metadata": {},
   "source": [
    "## Base Python Objects"
   ]
  },
  {
   "cell_type": "markdown",
   "metadata": {},
   "source": [
    "Python is object oriented. What does this mean? Everything in python is an object, and each object has different properties/methods. For example, someones name would be a string object in python \"grant moss\" and a specific function (method) can be called on that object to capitalize the name: \"Grant Moss\"."
   ]
  },
  {
   "cell_type": "markdown",
   "metadata": {},
   "source": [
    "Base Python includes such computer language fundamentals as strings, numbers (both integer and floating point), and boolean types (True, False). \n",
    "\n",
    "Because Python is object oriented, each instance of a base Python class (like a variable that references a string) inherits the methods of that class. In the case of strings, these include case and search methods.\n",
    "\n",
    "For an in-depth review of Python's object-orientation, read the chapter of the excellent free online book *A Byte of Python* here: https://python.swaroopch.com/oop.html\n",
    "\n",
    "We will go over a few basic data types that are used in essentially all programming languages, including excel.\n",
    "\n",
    "\n",
    "From now on, always be thinking about types. This is no different than excel!"
   ]
  },
  {
   "cell_type": "markdown",
   "metadata": {},
   "source": [
    "### Most basic types: Numeric values & Strings"
   ]
  },
  {
   "cell_type": "code",
   "execution_count": 122,
   "metadata": {},
   "outputs": [
    {
     "name": "stdout",
     "output_type": "stream",
     "text": [
      "x is: <class 'int'>\n",
      "y is: <class 'float'>\n",
      "x is now: <class 'str'>\n"
     ]
    }
   ],
   "source": [
    "#numeric values\n",
    "x = 4 #everything to the right of the assignment \"=\" is evaluated first, and then assigned to the variable on the left\n",
    "y = 4.4\n",
    "print('x is: '+str(type(x)))\n",
    "print('y is: '+str(type(y)))\n",
    "\n",
    "#types can be changed. This changes the properties of the data\n",
    "x = str(x)\n",
    "print('x is now: '+str(type(x)))\n",
    "\n",
    "#python automatically determines the data type of a variable. This makes python easy to write, but we need to be careful.."
   ]
  },
  {
   "cell_type": "markdown",
   "metadata": {},
   "source": [
    "### Assignment verses conditionals\n",
    "\n",
    "first python \"gotcha\""
   ]
  },
  {
   "cell_type": "code",
   "execution_count": 123,
   "metadata": {},
   "outputs": [
    {
     "data": {
      "text/plain": [
       "False"
      ]
     },
     "execution_count": 123,
     "metadata": {},
     "output_type": "execute_result"
    }
   ],
   "source": [
    "x = 4 # The assignment operator \"=\" creates a variable\n",
    "x == 5 # The comparison operarator \"==\" is a type of conditional."
   ]
  },
  {
   "cell_type": "markdown",
   "metadata": {},
   "source": [
    "### Assignment & re-assignment"
   ]
  },
  {
   "cell_type": "code",
   "execution_count": 124,
   "metadata": {},
   "outputs": [
    {
     "name": "stdout",
     "output_type": "stream",
     "text": [
      "6\n",
      "6 11\n"
     ]
    }
   ],
   "source": [
    "# re assign an existing variable\n",
    "r = 1\n",
    "r = r+5\n",
    "print(r)\n",
    "\n",
    "r2 = r\n",
    "r2 = r2+5\n",
    "print(r,r2)\n",
    "# the original variable \"r\" stays the same. This doesnt happen with some python objects (DataFrame)"
   ]
  },
  {
   "cell_type": "markdown",
   "metadata": {},
   "source": [
    "A variable must be assigned before it can be used for anything. Python runs as a script from top to bottom. Variables are case sensitive. This notebook uses extremely bad practices for variable names. Try to give variables descriptive names that give other programmers an indication of what the variable containes/is used for."
   ]
  },
  {
   "cell_type": "markdown",
   "metadata": {},
   "source": [
    "### Other conditionals\n",
    "\n",
    "* == comparison (we've seen this)\n",
    "* != not equal to (the same as <> in SQL)\n",
    "* \">\" greater than\n",
    "* \"<\" less than\n",
    "* \">=\" greater than or equal to\n",
    "* \"<=\" less than or equal to\n",
    "\n",
    "Conditionals return (output) a boolean object (True/False)"
   ]
  },
  {
   "cell_type": "code",
   "execution_count": 125,
   "metadata": {},
   "outputs": [
    {
     "data": {
      "text/plain": [
       "False"
      ]
     },
     "execution_count": 125,
     "metadata": {},
     "output_type": "execute_result"
    },
    {
     "data": {
      "text/plain": [
       "False"
      ]
     },
     "execution_count": 125,
     "metadata": {},
     "output_type": "execute_result"
    },
    {
     "data": {
      "text/plain": [
       "False"
      ]
     },
     "execution_count": 125,
     "metadata": {},
     "output_type": "execute_result"
    },
    {
     "data": {
      "text/plain": [
       "True"
      ]
     },
     "execution_count": 125,
     "metadata": {},
     "output_type": "execute_result"
    },
    {
     "data": {
      "text/plain": [
       "True"
      ]
     },
     "execution_count": 125,
     "metadata": {},
     "output_type": "execute_result"
    }
   ],
   "source": [
    "x != 4\n",
    "x > 4\n",
    "x < 4\n",
    "x >= 4\n",
    "x <= 4"
   ]
  },
  {
   "cell_type": "code",
   "execution_count": 126,
   "metadata": {},
   "outputs": [
    {
     "name": "stdout",
     "output_type": "stream",
     "text": [
      "<class 'bool'>\n"
     ]
    }
   ],
   "source": [
    "## the result of a comparison can be stored in a variable\n",
    "z = 3 > 4\n",
    "print(type(z))\n",
    "\n",
    "## Assign references to values\n",
    "z1 = True\n",
    "z2 = False"
   ]
  },
  {
   "cell_type": "code",
   "execution_count": 127,
   "metadata": {},
   "outputs": [
    {
     "data": {
      "text/plain": [
       "True"
      ]
     },
     "execution_count": 127,
     "metadata": {},
     "output_type": "execute_result"
    }
   ],
   "source": [
    "z1"
   ]
  },
  {
   "cell_type": "code",
   "execution_count": 128,
   "metadata": {},
   "outputs": [
    {
     "data": {
      "text/plain": [
       "False"
      ]
     },
     "execution_count": 128,
     "metadata": {},
     "output_type": "execute_result"
    }
   ],
   "source": [
    "not z1"
   ]
  },
  {
   "cell_type": "markdown",
   "metadata": {},
   "source": [
    "## And/Or\n",
    "### Similiar to SQL"
   ]
  },
  {
   "cell_type": "code",
   "execution_count": 129,
   "metadata": {},
   "outputs": [
    {
     "name": "stdout",
     "output_type": "stream",
     "text": [
      "True or False:  True\n",
      "True and False:  False\n",
      "3 == 3 and 4==8:  False\n",
      "3 == 3 or 4==8:  True\n"
     ]
    }
   ],
   "source": [
    "print(\"True or False: \",True or False) #only one side needs to be true\n",
    "print(\"True and False: \",True and False) #both sides need to be true\n",
    "print(\"3 == 3 and 4==8: \", 3 == 3 and 4==8)\n",
    "print(\"3 == 3 or 4==8: \", 3 == 3 or 4==8)"
   ]
  },
  {
   "cell_type": "code",
   "execution_count": 130,
   "metadata": {},
   "outputs": [
    {
     "data": {
      "text/plain": [
       "False"
      ]
     },
     "execution_count": 130,
     "metadata": {},
     "output_type": "execute_result"
    },
    {
     "data": {
      "text/plain": [
       "True"
      ]
     },
     "execution_count": 130,
     "metadata": {},
     "output_type": "execute_result"
    }
   ],
   "source": [
    "# same as\n",
    "(3 == 3) & (4==8) #brackets can be used in python to enforce order of operations, the same as high school math...\n",
    "(3 == 3) | (4==8)"
   ]
  },
  {
   "cell_type": "markdown",
   "metadata": {},
   "source": [
    "## First Data Type: strings"
   ]
  },
  {
   "cell_type": "code",
   "execution_count": 131,
   "metadata": {},
   "outputs": [
    {
     "data": {
      "text/plain": [
       "'75064'"
      ]
     },
     "execution_count": 131,
     "metadata": {},
     "output_type": "execute_result"
    },
    {
     "data": {
      "text/plain": [
       "str"
      ]
     },
     "execution_count": 131,
     "metadata": {},
     "output_type": "execute_result"
    }
   ],
   "source": [
    "#strings\n",
    "## String conversion\n",
    "zip_code = str(75064) # making strings like this is not the way to go. Save this one for changing types.\n",
    "zip_code = '75064'\n",
    "zip_code\n",
    "type(zip_code)"
   ]
  },
  {
   "cell_type": "code",
   "execution_count": 132,
   "metadata": {},
   "outputs": [
    {
     "data": {
      "text/plain": [
       "'7'"
      ]
     },
     "execution_count": 132,
     "metadata": {},
     "output_type": "execute_result"
    },
    {
     "data": {
      "text/plain": [
       "'5'"
      ]
     },
     "execution_count": 132,
     "metadata": {},
     "output_type": "execute_result"
    }
   ],
   "source": [
    "# strings are sliceable\n",
    "# First character\n",
    "zip_code[0] #python starts counting from zero\n",
    "# Second character\n",
    "zip_code[1]"
   ]
  },
  {
   "cell_type": "markdown",
   "metadata": {},
   "source": [
    "Zero based indexing\n",
    "\n",
    "[0,1,2,3,4]\\\n",
    "[7,5,0,6,4]"
   ]
  },
  {
   "cell_type": "code",
   "execution_count": 133,
   "metadata": {},
   "outputs": [
    {
     "data": {
      "text/plain": [
       "'Jo'"
      ]
     },
     "execution_count": 133,
     "metadata": {},
     "output_type": "execute_result"
    },
    {
     "data": {
      "text/plain": [
       "'th'"
      ]
     },
     "execution_count": 133,
     "metadata": {},
     "output_type": "execute_result"
    },
    {
     "data": {
      "text/plain": [
       "'john smith'"
      ]
     },
     "execution_count": 133,
     "metadata": {},
     "output_type": "execute_result"
    }
   ],
   "source": [
    "fname = 'John Smith'\n",
    "\n",
    "fname[0:2] # First two letters\n",
    "fname[-2:] # Last two letters\n",
    "\n",
    "fname.lower()"
   ]
  },
  {
   "cell_type": "code",
   "execution_count": 134,
   "metadata": {},
   "outputs": [
    {
     "name": "stdout",
     "output_type": "stream",
     "text": [
      "this wont work!\n"
     ]
    }
   ],
   "source": [
    "try:\n",
    "    zip_code[0] = '0'\n",
    "except:\n",
    "    # raise\n",
    "    print('this wont work!')\n",
    "#this wont work! Strings are immutable and cant be modified in place.\n",
    "#immutable python objects mean that they cant be changed after they are created."
   ]
  },
  {
   "cell_type": "markdown",
   "metadata": {},
   "source": [
    "## Aside: try/except\n",
    "The try/except error catching pattern is super important. We will probably talk about it a bit later, but its not critical for learning. Keep this pattern in mind when writing your own programs, especially when you are working with \"unpredicatable\" data or user input."
   ]
  },
  {
   "cell_type": "code",
   "execution_count": 135,
   "metadata": {},
   "outputs": [],
   "source": [
    "try:\n",
    "    # the code here will be run\n",
    "    None\n",
    "except:\n",
    "    # if the code above fails, then this code will be run\n",
    "    None"
   ]
  },
  {
   "cell_type": "code",
   "execution_count": 136,
   "metadata": {},
   "outputs": [
    {
     "name": "stdout",
     "output_type": "stream",
     "text": [
      "7\n",
      "5\n",
      "0\n",
      "6\n",
      "4\n"
     ]
    }
   ],
   "source": [
    "## String literals are iterable. We havent talked about loops yet.\n",
    "for t in zip_code:\n",
    "    print(t)"
   ]
  },
  {
   "cell_type": "code",
   "execution_count": 137,
   "metadata": {},
   "outputs": [
    {
     "data": {
      "text/plain": [
       "'CRUDE OIL EXPORTS -> 100,000 -> B/D -> 6/23/2020'"
      ]
     },
     "execution_count": 137,
     "metadata": {},
     "output_type": "execute_result"
    },
    {
     "data": {
      "text/plain": [
       "'Crude oil exports -> 100,000 -> b/d -> 6/23/2020'"
      ]
     },
     "execution_count": 137,
     "metadata": {},
     "output_type": "execute_result"
    },
    {
     "data": {
      "text/plain": [
       "'crude oil exports -> 100,000 -> b/d -> 6/23/2020'"
      ]
     },
     "execution_count": 137,
     "metadata": {},
     "output_type": "execute_result"
    },
    {
     "data": {
      "text/plain": [
       "'Crude Oil Exports -> 100,000 -> B/D -> 6/23/2020'"
      ]
     },
     "execution_count": 137,
     "metadata": {},
     "output_type": "execute_result"
    }
   ],
   "source": [
    "## Modifying Strings\n",
    "string1 = 'Crude oil exports -> 100,000 -> b/d -> 6/23/2020'\n",
    "string1.upper()\n",
    "string1.capitalize()\n",
    "string1.lower()\n",
    "string1.title()"
   ]
  },
  {
   "cell_type": "code",
   "execution_count": 138,
   "metadata": {},
   "outputs": [
    {
     "data": {
      "text/plain": [
       "6"
      ]
     },
     "execution_count": 138,
     "metadata": {},
     "output_type": "execute_result"
    },
    {
     "data": {
      "text/plain": [
       "True"
      ]
     },
     "execution_count": 138,
     "metadata": {},
     "output_type": "execute_result"
    },
    {
     "data": {
      "text/plain": [
       "False"
      ]
     },
     "execution_count": 138,
     "metadata": {},
     "output_type": "execute_result"
    }
   ],
   "source": [
    "string1.find('oil')\n",
    "string1.startswith('Crude')\n",
    "string1.endswith('Crude')"
   ]
  },
  {
   "cell_type": "markdown",
   "metadata": {},
   "source": [
    "## Aside: Data Types\n",
    "\n",
    "All the function we just used:\n",
    "\n",
    "- upper()\n",
    "- capitalize()\n",
    "- lower()\n",
    "- title()\n",
    "- find()\n",
    "- startswith()\n",
    "- endswith()\n",
    "\n",
    "Are specific to strings! All \"instances\" of strings have these \"methods\" attached to them by default. This may seem obvious and trivial but its the way we need to think of things from now on."
   ]
  },
  {
   "cell_type": "code",
   "execution_count": 139,
   "metadata": {},
   "outputs": [
    {
     "name": "stdout",
     "output_type": "stream",
     "text": [
      "this wont work!\n"
     ]
    }
   ],
   "source": [
    "# what happens when we dont think about types.\n",
    "thisisaNumber = 5\n",
    "try:\n",
    "    thisisaNumber.capitalize()\n",
    "except:\n",
    "    # raise\n",
    "    print('this wont work!')"
   ]
  },
  {
   "cell_type": "code",
   "execution_count": 140,
   "metadata": {},
   "outputs": [
    {
     "data": {
      "text/plain": [
       "['__add__',\n",
       " '__class__',\n",
       " '__contains__',\n",
       " '__delattr__',\n",
       " '__dir__',\n",
       " '__doc__',\n",
       " '__eq__',\n",
       " '__format__',\n",
       " '__ge__',\n",
       " '__getattribute__',\n",
       " '__getitem__',\n",
       " '__getnewargs__',\n",
       " '__gt__',\n",
       " '__hash__',\n",
       " '__init__',\n",
       " '__init_subclass__',\n",
       " '__iter__',\n",
       " '__le__',\n",
       " '__len__',\n",
       " '__lt__',\n",
       " '__mod__',\n",
       " '__mul__',\n",
       " '__ne__',\n",
       " '__new__',\n",
       " '__reduce__',\n",
       " '__reduce_ex__',\n",
       " '__repr__',\n",
       " '__rmod__',\n",
       " '__rmul__',\n",
       " '__setattr__',\n",
       " '__sizeof__',\n",
       " '__str__',\n",
       " '__subclasshook__',\n",
       " 'capitalize',\n",
       " 'casefold',\n",
       " 'center',\n",
       " 'count',\n",
       " 'encode',\n",
       " 'endswith',\n",
       " 'expandtabs',\n",
       " 'find',\n",
       " 'format',\n",
       " 'format_map',\n",
       " 'index',\n",
       " 'isalnum',\n",
       " 'isalpha',\n",
       " 'isascii',\n",
       " 'isdecimal',\n",
       " 'isdigit',\n",
       " 'isidentifier',\n",
       " 'islower',\n",
       " 'isnumeric',\n",
       " 'isprintable',\n",
       " 'isspace',\n",
       " 'istitle',\n",
       " 'isupper',\n",
       " 'join',\n",
       " 'ljust',\n",
       " 'lower',\n",
       " 'lstrip',\n",
       " 'maketrans',\n",
       " 'partition',\n",
       " 'replace',\n",
       " 'rfind',\n",
       " 'rindex',\n",
       " 'rjust',\n",
       " 'rpartition',\n",
       " 'rsplit',\n",
       " 'rstrip',\n",
       " 'split',\n",
       " 'splitlines',\n",
       " 'startswith',\n",
       " 'strip',\n",
       " 'swapcase',\n",
       " 'title',\n",
       " 'translate',\n",
       " 'upper',\n",
       " 'zfill']"
      ]
     },
     "execution_count": 140,
     "metadata": {},
     "output_type": "execute_result"
    }
   ],
   "source": [
    "dir(string1) # dont do this, just google \"how to capitalize a string in python\""
   ]
  },
  {
   "cell_type": "code",
   "execution_count": 141,
   "metadata": {},
   "outputs": [
    {
     "data": {
      "text/plain": [
       "['Crude oil exports ', ' 100,000 ', ' b/d ', ' 6/23/2020']"
      ]
     },
     "execution_count": 141,
     "metadata": {},
     "output_type": "execute_result"
    }
   ],
   "source": [
    "## Split based on spaces\n",
    "string1_list = string1.split(\"->\")\n",
    "string1_list"
   ]
  },
  {
   "cell_type": "code",
   "execution_count": 142,
   "metadata": {},
   "outputs": [
    {
     "data": {
      "text/plain": [
       "['Crude oil exports', '100,000', 'b/d', '6/23/2020']"
      ]
     },
     "execution_count": 142,
     "metadata": {},
     "output_type": "execute_result"
    }
   ],
   "source": [
    "#list comprehension, we'll talk about this later\n",
    "string1_list = [x.strip() for x in string1_list]\n",
    "string1_list"
   ]
  },
  {
   "cell_type": "code",
   "execution_count": 143,
   "metadata": {},
   "outputs": [
    {
     "data": {
      "text/plain": [
       "'Crude oil exports_100,000_b/d_6/23/2020'"
      ]
     },
     "execution_count": 143,
     "metadata": {},
     "output_type": "execute_result"
    }
   ],
   "source": [
    "## Join with a new separator\n",
    "\"_\".join(string1_list)"
   ]
  },
  {
   "cell_type": "markdown",
   "metadata": {},
   "source": [
    "## Dates and Times"
   ]
  },
  {
   "cell_type": "code",
   "execution_count": 144,
   "metadata": {},
   "outputs": [
    {
     "data": {
      "text/plain": [
       "datetime.date(2021, 2, 16)"
      ]
     },
     "execution_count": 144,
     "metadata": {},
     "output_type": "execute_result"
    },
    {
     "data": {
      "text/plain": [
       "datetime.date"
      ]
     },
     "execution_count": 144,
     "metadata": {},
     "output_type": "execute_result"
    }
   ],
   "source": [
    "## Get todays date\n",
    "import datetime\n",
    "date_today = datetime.date.today()\n",
    "date_today\n",
    "type(date_today)"
   ]
  },
  {
   "cell_type": "code",
   "execution_count": 145,
   "metadata": {},
   "outputs": [
    {
     "data": {
      "text/plain": [
       "2021"
      ]
     },
     "execution_count": 145,
     "metadata": {},
     "output_type": "execute_result"
    },
    {
     "data": {
      "text/plain": [
       "2"
      ]
     },
     "execution_count": 145,
     "metadata": {},
     "output_type": "execute_result"
    },
    {
     "data": {
      "text/plain": [
       "16"
      ]
     },
     "execution_count": 145,
     "metadata": {},
     "output_type": "execute_result"
    }
   ],
   "source": [
    "date_today.year\n",
    "date_today.month\n",
    "date_today.day"
   ]
  },
  {
   "cell_type": "markdown",
   "metadata": {},
   "source": [
    "### strftime and strptime\n",
    "\n",
    "Convert strings to dates and dates to string"
   ]
  },
  {
   "cell_type": "code",
   "execution_count": 146,
   "metadata": {},
   "outputs": [
    {
     "data": {
      "text/plain": [
       "datetime.datetime(2016, 5, 16, 0, 0)"
      ]
     },
     "execution_count": 146,
     "metadata": {},
     "output_type": "execute_result"
    }
   ],
   "source": [
    "string_date = '2016-05-16'\n",
    "date = datetime.datetime.strptime(string_date,'%Y-%m-%d')\n",
    "date"
   ]
  },
  {
   "cell_type": "code",
   "execution_count": 147,
   "metadata": {},
   "outputs": [],
   "source": [
    "#https://strftime.org/"
   ]
  },
  {
   "cell_type": "code",
   "execution_count": 148,
   "metadata": {},
   "outputs": [
    {
     "data": {
      "text/plain": [
       "datetime.datetime(2016, 5, 16, 0, 0)"
      ]
     },
     "execution_count": 148,
     "metadata": {},
     "output_type": "execute_result"
    }
   ],
   "source": [
    "#dateutil extends the functionality of python's date object\n",
    "#relativedelta allows for adding and subtracting time from a python date\n",
    "import dateutil.relativedelta as relativedelta\n",
    "date"
   ]
  },
  {
   "cell_type": "code",
   "execution_count": 149,
   "metadata": {},
   "outputs": [
    {
     "data": {
      "text/plain": [
       "datetime.datetime(2016, 5, 17, 0, 0)"
      ]
     },
     "execution_count": 149,
     "metadata": {},
     "output_type": "execute_result"
    },
    {
     "data": {
      "text/plain": [
       "datetime.datetime(2016, 6, 16, 0, 0)"
      ]
     },
     "execution_count": 149,
     "metadata": {},
     "output_type": "execute_result"
    },
    {
     "data": {
      "text/plain": [
       "datetime.datetime(2017, 5, 16, 0, 0)"
      ]
     },
     "execution_count": 149,
     "metadata": {},
     "output_type": "execute_result"
    }
   ],
   "source": [
    "# relativedelta is one of many python date utility modules\n",
    "date_plus1day = date + relativedelta.relativedelta(days=1)\n",
    "date_plus1month = date + relativedelta.relativedelta(months=1)\n",
    "date_plus1year = date + relativedelta.relativedelta(years=1)\n",
    "date_plus1day\n",
    "date_plus1month\n",
    "date_plus1year"
   ]
  },
  {
   "cell_type": "markdown",
   "metadata": {},
   "source": [
    "## Data Structures (containers or collections) & Basic Programming"
   ]
  },
  {
   "cell_type": "markdown",
   "metadata": {},
   "source": [
    "What if we want to organize multiple python objects into a single object? We call this a 'collection' of objects. An example might be a list of customer_ids, or a list of addresses...  \n",
    "There are multiple collections (or containers) in Python we can use. We will go over the basics here:\n",
    "\n",
    "* Tuple\n",
    " * Immutable, fixed length sequence\n",
    "* Lists\n",
    " * Mutable sequence of objects\n",
    "* Sets\n",
    " * Unique collection of objects\n",
    "* Dicts (dictionaries)\n",
    " * List of objects with a \"key\". The foundational data structure in JavaScript.\n",
    "* DataFrame\n",
    " * Introduced in Pandas. We will talk about this one later."
   ]
  },
  {
   "cell_type": "markdown",
   "metadata": {},
   "source": [
    "## Aside: Data Structure gotcha\n",
    "\n",
    "1) A common mistake that most new programmers make (including myself) is to use the list data structure for everything. Try to use the data structure that is most appropriate for the task.\n",
    "\n",
    "2) Let your data structures do the heavy lifting. This will become more obvious, but when you take advantage of the unique properties that each data structure has to offer, your programs will become more powerful, flexible, and require alot less code.\n",
    "\n",
    "3) Data structures are objects the same way that strings and number variables are objects. This means that data structures have methods attached to them that you can use! Dont re-invent the wheel. The list object has a sort method. Dont write your own code to sort a list because it has already been done for you!!\n",
    "\n",
    "4) Pandas. Once we start talking about pandas and dataframes, dont ignore these data structures!"
   ]
  },
  {
   "cell_type": "code",
   "execution_count": 150,
   "metadata": {},
   "outputs": [],
   "source": [
    "# there are two ways to make a new data structure\n",
    "newDataStructure = []\n",
    "newDataStructure = list()"
   ]
  },
  {
   "cell_type": "markdown",
   "metadata": {},
   "source": [
    "### lists"
   ]
  },
  {
   "cell_type": "code",
   "execution_count": 151,
   "metadata": {},
   "outputs": [
    {
     "data": {
      "text/plain": [
       "['red', 'orange', 'yellow']"
      ]
     },
     "execution_count": 151,
     "metadata": {},
     "output_type": "execute_result"
    },
    {
     "data": {
      "text/plain": [
       "list"
      ]
     },
     "execution_count": 151,
     "metadata": {},
     "output_type": "execute_result"
    }
   ],
   "source": [
    "# make a new list\n",
    "colList = [\"red\",\"orange\",\"yellow\"]\n",
    "colList\n",
    "type(colList)"
   ]
  },
  {
   "cell_type": "code",
   "execution_count": 152,
   "metadata": {},
   "outputs": [
    {
     "name": "stdout",
     "output_type": "stream",
     "text": [
      "['orange', 'red', 'yellow']\n"
     ]
    }
   ],
   "source": [
    "colList.sort() # every list, no matter what it contains, has the .sort() method\n",
    "print(colList)"
   ]
  },
  {
   "cell_type": "code",
   "execution_count": 153,
   "metadata": {},
   "outputs": [
    {
     "data": {
      "text/plain": [
       "'orange'"
      ]
     },
     "execution_count": 153,
     "metadata": {},
     "output_type": "execute_result"
    },
    {
     "data": {
      "text/plain": [
       "['orange', 'red']"
      ]
     },
     "execution_count": 153,
     "metadata": {},
     "output_type": "execute_result"
    },
    {
     "data": {
      "text/plain": [
       "'yellow'"
      ]
     },
     "execution_count": 153,
     "metadata": {},
     "output_type": "execute_result"
    }
   ],
   "source": [
    "# just like strings, lists are sliceable\n",
    "# First Element\n",
    "colList[0]\n",
    "# First and Second Element\n",
    "colList[0:2]\n",
    "# Last element\n",
    "colList[-1]"
   ]
  },
  {
   "cell_type": "code",
   "execution_count": 154,
   "metadata": {},
   "outputs": [
    {
     "data": {
      "text/plain": [
       "['a', 'b', 'c', 'd', 'e']"
      ]
     },
     "execution_count": 154,
     "metadata": {},
     "output_type": "execute_result"
    }
   ],
   "source": [
    "list2 = [\"a\",\"b\",\"c\"]\n",
    "list2.extend([\"d\",\"e\"]) # add list to list\n",
    "list2"
   ]
  },
  {
   "cell_type": "code",
   "execution_count": 155,
   "metadata": {},
   "outputs": [
    {
     "data": {
      "text/plain": [
       "['a', 'b', 'c', 'd']"
      ]
     },
     "execution_count": 155,
     "metadata": {},
     "output_type": "execute_result"
    }
   ],
   "source": [
    "### List functions\n",
    "## Append an element\n",
    "list2 = [\"a\",\"b\",\"c\"]\n",
    "list2.append(\"d\")\n",
    "list2"
   ]
  },
  {
   "cell_type": "code",
   "execution_count": 156,
   "metadata": {},
   "outputs": [
    {
     "data": {
      "text/plain": [
       "[1, 2, 3, 'a', 'b', 'c', 'd']"
      ]
     },
     "execution_count": 156,
     "metadata": {},
     "output_type": "execute_result"
    }
   ],
   "source": [
    "list3 = [1,2,3]+list2 #add list to list.\n",
    "list3"
   ]
  },
  {
   "cell_type": "code",
   "execution_count": 157,
   "metadata": {},
   "outputs": [
    {
     "name": "stdout",
     "output_type": "stream",
     "text": [
      "True\n"
     ]
    }
   ],
   "source": [
    "# check if a list contains an element\n",
    "print(\"a\" in list3)"
   ]
  },
  {
   "cell_type": "markdown",
   "metadata": {},
   "source": [
    "## Before we move on to other data structures, lets talk about loops\n",
    "\n",
    "The loop is a foundational component of every programming language. As a general rule: more that 1, use a for."
   ]
  },
  {
   "cell_type": "code",
   "execution_count": 158,
   "metadata": {},
   "outputs": [
    {
     "name": "stdout",
     "output_type": "stream",
     "text": [
      "Current value in loop:  1 <class 'int'>\n",
      "Current value in loop:  2 <class 'int'>\n",
      "Current value in loop:  3 <class 'int'>\n"
     ]
    }
   ],
   "source": [
    "# for loop. Most common loop in python. Your code should be riddled with for loops\n",
    "loopList = [1, 2, 3]\n",
    "for listElement in loopList: # \"listElement\" becomes a variable. You can name it whatever you want!\n",
    "    print(\"Current value in loop: \", listElement, type(listElement))"
   ]
  },
  {
   "cell_type": "code",
   "execution_count": 159,
   "metadata": {},
   "outputs": [
    {
     "name": "stdout",
     "output_type": "stream",
     "text": [
      "[2, 4, 6]\n"
     ]
    }
   ],
   "source": [
    "# Task: multiply each list element by 2\n",
    "# wrong way to do this:\n",
    "loopList[0] = loopList[0] * 2\n",
    "loopList[1] = loopList[1] * 2\n",
    "loopList[2] = loopList[2] * 2\n",
    "print(loopList)"
   ]
  },
  {
   "cell_type": "code",
   "execution_count": 160,
   "metadata": {},
   "outputs": [
    {
     "name": "stdout",
     "output_type": "stream",
     "text": [
      "[1, 2, 3]\n"
     ]
    }
   ],
   "source": [
    "# This task is the perfect candidate for a loop!\n",
    "# why doesnt this work? The \"l\" variable becomes seperate from the list\n",
    "loopList = [1, 2, 3]\n",
    "for l in loopList: # l is not a good variable name\n",
    "    l = l * 2 # l becomes is own variable, and does not connect back to our original list!\n",
    "print(loopList)"
   ]
  },
  {
   "cell_type": "code",
   "execution_count": 161,
   "metadata": {},
   "outputs": [
    {
     "name": "stdout",
     "output_type": "stream",
     "text": [
      "Counter pattern:  [2, 4, 6]\n",
      "new list pattern:  [2, 4, 6]\n"
     ]
    }
   ],
   "source": [
    "#There are two ways to do this properly\n",
    "\n",
    "# use a counter. The counter \"pattern\" is extremely common in most programming languages\n",
    "counter = 0\n",
    "for l in loopList:\n",
    "    loopList[counter] = l * 2\n",
    "    counter = counter + 1\n",
    "print(\"Counter pattern: \",loopList)\n",
    "\n",
    "# use a new list\n",
    "loopList = [1, 2, 3]\n",
    "newList = []\n",
    "for l in loopList:\n",
    "    newList.append(l * 2)\n",
    "print(\"new list pattern: \", newList)"
   ]
  },
  {
   "cell_type": "code",
   "execution_count": 162,
   "metadata": {},
   "outputs": [
    {
     "name": "stdout",
     "output_type": "stream",
     "text": [
      "[2, 4, 6]\n"
     ]
    }
   ],
   "source": [
    "# an even better way. Enumerate works on \"iterable\" objects, like the list.\n",
    "# less varaibles are better than more!\n",
    "loopList = [1, 2, 3]\n",
    "for counter,l in enumerate(loopList):\n",
    "    loopList[counter] = l * 2\n",
    "print(loopList)"
   ]
  },
  {
   "cell_type": "markdown",
   "metadata": {},
   "source": [
    "### Aside: why start with python?"
   ]
  },
  {
   "cell_type": "code",
   "execution_count": 163,
   "metadata": {},
   "outputs": [],
   "source": [
    "# this is a for loop in Javascript\n",
    "# var i;\n",
    "# for (i = 0; i < list.length; i++) {\n",
    "#   text += list[i] + \"<br>\";\n",
    "# }"
   ]
  },
  {
   "cell_type": "markdown",
   "metadata": {},
   "source": [
    "### list comprehension. A pythonic take on the for loop"
   ]
  },
  {
   "cell_type": "code",
   "execution_count": 164,
   "metadata": {},
   "outputs": [
    {
     "name": "stdout",
     "output_type": "stream",
     "text": [
      "[2, 4, 6]\n"
     ]
    }
   ],
   "source": [
    "# pythonic way to do this. Less lines are better than more lines!\n",
    "loopList = [1, 2, 3]\n",
    "newList = [l * 2 for l in loopList]\n",
    "print(newList)\n",
    "# this pattern is worth knowing!"
   ]
  },
  {
   "cell_type": "code",
   "execution_count": 165,
   "metadata": {},
   "outputs": [
    {
     "data": {
      "text/plain": [
       "[36, 49, 64, 81]"
      ]
     },
     "execution_count": 165,
     "metadata": {},
     "output_type": "execute_result"
    },
    {
     "name": "stdout",
     "output_type": "stream",
     "text": [
      "[36, 49, 64, 81]\n"
     ]
    }
   ],
   "source": [
    "# more complicated list comprehension\n",
    "[i*i for i in range(10) if i > 5]\n",
    "\n",
    "# same as:\n",
    "greaterThan5 = []\n",
    "for i in range(10):\n",
    "    if i > 5:\n",
    "        greaterThan5.append(i*i)\n",
    "print(greaterThan5)       "
   ]
  },
  {
   "cell_type": "code",
   "execution_count": 166,
   "metadata": {},
   "outputs": [
    {
     "name": "stdout",
     "output_type": "stream",
     "text": [
      "range(0, 10)\n"
     ]
    }
   ],
   "source": [
    "# what is range? It just creates an itterable object, similiar to a list. I rarely use range\n",
    "print(range(10))"
   ]
  },
  {
   "cell_type": "markdown",
   "metadata": {},
   "source": [
    "### Dictionaries\n",
    "\n",
    "A dictionary, or dict, is a collection of objects that have been mapped to a key (a collection of key-value pairs). Dicts are inherently unordered, so we subset using the key.\n",
    "\n",
    "Dictionaries are underutilized by alot of programmers. Use them!"
   ]
  },
  {
   "cell_type": "code",
   "execution_count": 167,
   "metadata": {},
   "outputs": [],
   "source": [
    "prices = {'henry hub':[2.5, 2, 2.3 ,3.2],\n",
    "          'aeco':[1.1, 0.9, 1.4, 1.6]}"
   ]
  },
  {
   "cell_type": "code",
   "execution_count": 168,
   "metadata": {},
   "outputs": [
    {
     "name": "stdout",
     "output_type": "stream",
     "text": [
      "aeco prices:  [1.1, 0.9, 1.4, 1.6]\n"
     ]
    }
   ],
   "source": [
    "print('aeco prices: ',prices['aeco']) # dictionaries use \"key\" based indexing"
   ]
  },
  {
   "cell_type": "code",
   "execution_count": 169,
   "metadata": {},
   "outputs": [
    {
     "name": "stdout",
     "output_type": "stream",
     "text": [
      "aeco prices:  [1.1, 0.9, 1.4, 1.6]\n"
     ]
    }
   ],
   "source": [
    "# why use a dictionary? I can do the same thing with a list of lists\n",
    "pricesList = [\n",
    "    ['henry hub',[2.5, 2, 2.3 ,3.2]],\n",
    "    ['aeco',[1.1, 0.9, 1.4, 1.6]]\n",
    "]\n",
    "aecoPrices = pricesList[1][1]\n",
    "print('aeco prices: ',aecoPrices)\n",
    "# but now i need to remember that crude prices are the first element in the list! \n",
    "# This is what programmers would call unsafe. It could lead to errors in my program later on."
   ]
  },
  {
   "cell_type": "code",
   "execution_count": 170,
   "metadata": {},
   "outputs": [
    {
     "data": {
      "text/plain": [
       "dict_keys(['henry hub', 'aeco'])"
      ]
     },
     "execution_count": 170,
     "metadata": {},
     "output_type": "execute_result"
    }
   ],
   "source": [
    "prices.keys()"
   ]
  },
  {
   "cell_type": "code",
   "execution_count": 171,
   "metadata": {},
   "outputs": [
    {
     "data": {
      "text/plain": [
       "dict_values([[2.5, 2, 2.3, 3.2], [1.1, 0.9, 1.4, 1.6]])"
      ]
     },
     "execution_count": 171,
     "metadata": {},
     "output_type": "execute_result"
    }
   ],
   "source": [
    "prices.values()"
   ]
  },
  {
   "cell_type": "code",
   "execution_count": 172,
   "metadata": {},
   "outputs": [
    {
     "name": "stdout",
     "output_type": "stream",
     "text": [
      "[2.5, 2, 2.3, 3.2]\n",
      "[1.1, 0.9, 1.4, 1.6]\n"
     ]
    }
   ],
   "source": [
    "for key,value in prices.items():\n",
    "    print(value)"
   ]
  },
  {
   "cell_type": "code",
   "execution_count": 173,
   "metadata": {},
   "outputs": [
    {
     "name": "stdout",
     "output_type": "stream",
     "text": [
      "{'henry hub': [2.5, 2, 2.3, 3.2], 'aeco': [1.1, 0.9, 1.4, 1.6], 'differential': [1.4, 1.1, 0.9, 1.6]}\n"
     ]
    }
   ],
   "source": [
    "# add to the dictionary\n",
    "differential = []\n",
    "for aeco,hh in zip(prices['aeco'],prices['henry hub']):\n",
    "    differential.append(round(hh-aeco,2))\n",
    "prices['differential'] = differential\n",
    "print(prices)"
   ]
  },
  {
   "cell_type": "markdown",
   "metadata": {},
   "source": [
    "### sets"
   ]
  },
  {
   "cell_type": "code",
   "execution_count": 174,
   "metadata": {},
   "outputs": [],
   "source": [
    "# sets can only contain unique values. Why would we ever need this?\n",
    "nonUniqueList = [1, 1, 2, 2, 3, 3]\n",
    "# knowing what we know so far, how would i create a list that contains only the unique elements of \"nonUniqueList\""
   ]
  },
  {
   "cell_type": "code",
   "execution_count": 175,
   "metadata": {},
   "outputs": [
    {
     "name": "stdout",
     "output_type": "stream",
     "text": [
      "[1, 2, 3]\n"
     ]
    }
   ],
   "source": [
    "uniqueList = []\n",
    "for l in nonUniqueList:\n",
    "    if l not in uniqueList:\n",
    "        uniqueList.append(l)\n",
    "print(uniqueList)"
   ]
  },
  {
   "cell_type": "code",
   "execution_count": 176,
   "metadata": {},
   "outputs": [
    {
     "name": "stdout",
     "output_type": "stream",
     "text": [
      "[1, 2, 3]\n"
     ]
    }
   ],
   "source": [
    "# let the data structures do the heavy lifting! Think about data structures before you dive into the code!\n",
    "print(list(set(nonUniqueList)))"
   ]
  },
  {
   "cell_type": "markdown",
   "metadata": {},
   "source": [
    "## Python logic control"
   ]
  },
  {
   "cell_type": "markdown",
   "metadata": {},
   "source": [
    "### If-Else flows\n",
    "\n",
    "The `if` statement checks a condition. If true, it executes the first code block. Additional if conditions can be checked with `elif`. If none of these are true, the `else` block is executed. "
   ]
  },
  {
   "cell_type": "code",
   "execution_count": 177,
   "metadata": {},
   "outputs": [
    {
     "name": "stdout",
     "output_type": "stream",
     "text": [
      "good job.\n"
     ]
    }
   ],
   "source": [
    "# this is the same as excel\n",
    "the_answer = 42\n",
    "\n",
    "if the_answer == 42:\n",
    "    print (\"good job.\")\n",
    "elif the_answer == 0:\n",
    "    print (\"nice try.\")\n",
    "else:\n",
    "    print (\"better luck next time.\")"
   ]
  },
  {
   "cell_type": "code",
   "execution_count": 178,
   "metadata": {},
   "outputs": [
    {
     "name": "stdout",
     "output_type": "stream",
     "text": [
      "Still Positive...i = 5\n",
      "4\n",
      "Still Positive...i = 4\n",
      "3\n",
      "Still Positive...i = 3\n",
      "2\n",
      "Still Positive...i = 2\n",
      "1\n",
      "Still Positive...i = 1\n",
      "0\n"
     ]
    }
   ],
   "source": [
    "## While Loops\n",
    "counter = 5\n",
    "while counter > 0: # is the statement true?\n",
    "    print(\"Still Positive...i = \" + str(counter))\n",
    "    counter = counter - 1\n",
    "    print(counter)"
   ]
  },
  {
   "cell_type": "markdown",
   "metadata": {},
   "source": [
    "## Functions\n",
    "\n",
    "We should avoid writing the same code many times. *Computers are good at iteration :)*  \n",
    "Thus, we can wrap code into functions for reuse.  \n",
    "\n",
    "* Functions in Python:\n",
    " * Use `def()` to start\n",
    " * We define the function name, the parameters (inputs)\n",
    " * Whitespace is significant as always\n",
    " * Use `return` statement to return values (multiple allowed)\n",
    "\n",
    "\n",
    "This is the general syntax to define a new function:\n",
    "\n",
    ">`Def new_func(par1,par2,some_other_par=\"default:\"):\n",
    "    _do_some_stuff_\n",
    "    return some_related_stuff`\n",
    "\n",
    "Functions should do one thing. Dont put all your code into one function. Custom functions can be used within other custom functions.\n",
    "\n",
    "\n",
    "Let's try a simple function!"
   ]
  },
  {
   "cell_type": "code",
   "execution_count": 179,
   "metadata": {},
   "outputs": [
    {
     "data": {
      "text/plain": [
       "12"
      ]
     },
     "execution_count": 179,
     "metadata": {},
     "output_type": "execute_result"
    },
    {
     "data": {
      "text/plain": [
       "6.0"
      ]
     },
     "execution_count": 179,
     "metadata": {},
     "output_type": "execute_result"
    },
    {
     "data": {
      "text/plain": [
       "3.0"
      ]
     },
     "execution_count": 179,
     "metadata": {},
     "output_type": "execute_result"
    }
   ],
   "source": [
    "# First Function\n",
    "def mult_by_3(x, weight=1): #required vs optional parameters\n",
    "    result = x*weight*3\n",
    "    return result\n",
    "\n",
    "mult_by_3(4)\n",
    "mult_by_3(4,0.5)\n",
    "mult_by_3(weight=0.25,x=4) #order doesnt matter if variable names are used"
   ]
  },
  {
   "cell_type": "code",
   "execution_count": 180,
   "metadata": {},
   "outputs": [],
   "source": [
    "# think about the code we have written so far, what do you think would be useful to have in a function?\n",
    "def uniqueList(nonUniqueList): #this is an example of better naming conventions\n",
    "    return list(set(nonUniqueList))"
   ]
  },
  {
   "cell_type": "markdown",
   "metadata": {},
   "source": [
    "## Aside: function gotchas\n",
    "\n",
    "1) function names should be unique. Dont create two functions in your project that have the same name. Dont create an enumerate() function because this function already exists in python and will be confusing and possibly lead to errors.\n",
    "\n",
    "2) functions shouldnt be too \"long\". Functions should do one thing, and should have a name that describes what the function does.\n",
    "\n",
    "3) variables that are created in the function are \"scoped\" to that function. This is actually a good thing! We need to start thinking about something called \"namespace\". Variables that are defined in a cell outside of a function are \"global\" and variables that are defined inside a function are \"local\". There is nothing wrong with having global variables, but the best practice is to only have have global varables if they are needed globally.\n",
    "\n",
    "4) Functions shouldnt have too many parameters. If your function start to have alot of parameters, it can get confusing for you and other programmers. Maybe the function should be split into seperate functions.\n",
    "\n",
    "5) functions should be general.\n"
   ]
  },
  {
   "cell_type": "markdown",
   "metadata": {},
   "source": [
    "## Function namespace"
   ]
  },
  {
   "cell_type": "code",
   "execution_count": 181,
   "metadata": {},
   "outputs": [
    {
     "name": "stdout",
     "output_type": "stream",
     "text": [
      "Grant moss\n"
     ]
    }
   ],
   "source": [
    "myGlobal = \"  grant moss  \"\n",
    "\n",
    "def formatGrantMoss():\n",
    "    return myGlobal.strip().capitalize() # I can access global variables inside functions!\n",
    "\n",
    "print(formatGrantMoss())\n",
    "\n",
    "# this is an example of an anti-pattern, or code that goes against best practices. What are the anti-patterns here?"
   ]
  },
  {
   "cell_type": "code",
   "execution_count": 182,
   "metadata": {},
   "outputs": [
    {
     "name": "stdout",
     "output_type": "stream",
     "text": [
      "Grant moss\n",
      "cant access this variable!\n"
     ]
    }
   ],
   "source": [
    "# lets fix the first anti-pattern\n",
    "\n",
    "def formatGrantMoss():\n",
    "    myLocal = \"  grant moss  \"\n",
    "    return myLocal.strip().capitalize() # I can access global variables inside functions!\n",
    "\n",
    "print(formatGrantMoss())\n",
    "\n",
    "try:\n",
    "    print(myLocal)\n",
    "except:\n",
    "    print('cant access this variable!')\n",
    "# this is better, because now I can use the \"myLocal\" variable name in other places"
   ]
  },
  {
   "cell_type": "code",
   "execution_count": 183,
   "metadata": {},
   "outputs": [
    {
     "name": "stdout",
     "output_type": "stream",
     "text": [
      "Grant moss\n"
     ]
    }
   ],
   "source": [
    "# lets fix the second anti-pattern\n",
    "\n",
    "def formatName(name):\n",
    "    return name.strip().capitalize()\n",
    "\n",
    "print(formatName(\"  grant moss  \"))"
   ]
  },
  {
   "cell_type": "markdown",
   "metadata": {},
   "source": [
    "### Closure. A function within a function.\n",
    "Creates a local function that has similiar benefits to a local variable.\n",
    "\n",
    "Why use closures?\n",
    "1) useful for resolving namespace problems. I can define \"processText1\" elewhere in my program without a conflict!\n",
    "2) helps to make your code even more modular and readable.\n"
   ]
  },
  {
   "cell_type": "code",
   "execution_count": 184,
   "metadata": {},
   "outputs": [
    {
     "name": "stdout",
     "output_type": "stream",
     "text": [
      "Grant moss\n"
     ]
    }
   ],
   "source": [
    "# closure. A usefull pattern for resolving namespace conflicts\n",
    "\n",
    "def processText1(text):\n",
    "    print('Running globally defined processText1')\n",
    "\n",
    "def formatName(name):\n",
    "    \n",
    "    def processText1(text):\n",
    "        return text.strip()\n",
    "    def processText2(text):\n",
    "        return text.capitalize()\n",
    "    \n",
    "    name = processText1(name)\n",
    "    name = processText2(name)\n",
    "    name = processText1(name) # make extra sure that there is no whitespace..\n",
    "    return name\n",
    "\n",
    "print(formatName(\"  grant moss  \"))"
   ]
  },
  {
   "cell_type": "markdown",
   "metadata": {},
   "source": [
    "### Data structure challenge:\n",
    "\n",
    "Given the following list, create a list of boolean values that determines if the first value is larger than or equal to the second:\n",
    "\n",
    "Try solving with both a loop ad list comprehension seperately"
   ]
  },
  {
   "cell_type": "code",
   "execution_count": 185,
   "metadata": {},
   "outputs": [],
   "source": [
    "list5 = [[1,3],[5,2],[24,5],[150,150]]"
   ]
  },
  {
   "cell_type": "code",
   "execution_count": 186,
   "metadata": {},
   "outputs": [
    {
     "data": {
      "text/plain": [
       "[False, True, True, True]"
      ]
     },
     "execution_count": 186,
     "metadata": {},
     "output_type": "execute_result"
    }
   ],
   "source": [
    "bool_list = []\n",
    "for l in list5:\n",
    "    if l[0] >= l[-1]:\n",
    "        bool_list.append(True)\n",
    "    else:\n",
    "        bool_list.append(False)       \n",
    "bool_list"
   ]
  },
  {
   "cell_type": "code",
   "execution_count": 187,
   "metadata": {},
   "outputs": [
    {
     "data": {
      "text/plain": [
       "[False, True, True, True]"
      ]
     },
     "execution_count": 187,
     "metadata": {},
     "output_type": "execute_result"
    }
   ],
   "source": [
    "[True if l[0]>=l[-1] else False for l in list5]"
   ]
  },
  {
   "cell_type": "code",
   "execution_count": 188,
   "metadata": {},
   "outputs": [],
   "source": [
    "# other useful challenges\n",
    "# https://www.practicepython.org/"
   ]
  },
  {
   "cell_type": "markdown",
   "metadata": {},
   "source": [
    "### Part 1 Notes:\n",
    "\n",
    "1) You may be wondering how all of this relates to data analysis. In the next session we will go over pandas, which is kind of like the excel of pandas. We will start to see more actual data stuff, but the patterns and syntax in this session will continue to show up."
   ]
  }
 ],
 "metadata": {
  "kernelspec": {
   "display_name": "Python 3",
   "language": "python",
   "name": "python3"
  },
  "language_info": {
   "codemirror_mode": {
    "name": "ipython",
    "version": 3
   },
   "file_extension": ".py",
   "mimetype": "text/x-python",
   "name": "python",
   "nbconvert_exporter": "python",
   "pygments_lexer": "ipython3",
   "version": "3.8.5"
  }
 },
 "nbformat": 4,
 "nbformat_minor": 4
}
